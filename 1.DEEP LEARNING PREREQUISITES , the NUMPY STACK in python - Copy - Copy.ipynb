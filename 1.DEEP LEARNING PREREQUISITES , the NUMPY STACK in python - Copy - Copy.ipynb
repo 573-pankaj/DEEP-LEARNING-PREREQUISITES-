{
 "cells": [
  {
   "cell_type": "markdown",
   "metadata": {},
   "source": [
    "# 1.DEEP LEARNING PREREQUISITES , the NUMPY STACK in python"
   ]
  },
  {
   "cell_type": "code",
   "execution_count": 1,
   "metadata": {},
   "outputs": [],
   "source": [
    "import numpy as np"
   ]
  },
  {
   "cell_type": "code",
   "execution_count": 7,
   "metadata": {},
   "outputs": [],
   "source": [
    "L =[1,2,3]"
   ]
  },
  {
   "cell_type": "code",
   "execution_count": 8,
   "metadata": {},
   "outputs": [
    {
     "data": {
      "text/plain": [
       "list"
      ]
     },
     "execution_count": 8,
     "metadata": {},
     "output_type": "execute_result"
    }
   ],
   "source": [
    "type(L)"
   ]
  },
  {
   "cell_type": "code",
   "execution_count": 9,
   "metadata": {},
   "outputs": [],
   "source": [
    "A = np.array([1,2,3])"
   ]
  },
  {
   "cell_type": "code",
   "execution_count": 10,
   "metadata": {},
   "outputs": [
    {
     "data": {
      "text/plain": [
       "numpy.ndarray"
      ]
     },
     "execution_count": 10,
     "metadata": {},
     "output_type": "execute_result"
    }
   ],
   "source": [
    "type(A)"
   ]
  },
  {
   "cell_type": "code",
   "execution_count": 11,
   "metadata": {},
   "outputs": [
    {
     "name": "stdout",
     "output_type": "stream",
     "text": [
      "1\n",
      "2\n",
      "3\n"
     ]
    }
   ],
   "source": [
    "for  l in L:\n",
    "    print(l)"
   ]
  },
  {
   "cell_type": "code",
   "execution_count": 5,
   "metadata": {},
   "outputs": [
    {
     "name": "stdout",
     "output_type": "stream",
     "text": [
      "1\n",
      "2\n",
      "3\n"
     ]
    }
   ],
   "source": [
    "for a in A:\n",
    "    print(a)"
   ]
  },
  {
   "cell_type": "code",
   "execution_count": null,
   "metadata": {},
   "outputs": [],
   "source": [
    "def fun(a):\n",
    "    a = a+1"
   ]
  },
  {
   "cell_type": "code",
   "execution_count": null,
   "metadata": {},
   "outputs": [],
   "source": [
    "print(fun(8))"
   ]
  },
  {
   "cell_type": "markdown",
   "metadata": {},
   "source": [
    "# List supports append methods"
   ]
  },
  {
   "cell_type": "code",
   "execution_count": 6,
   "metadata": {},
   "outputs": [],
   "source": [
    "L.append(7)"
   ]
  },
  {
   "cell_type": "code",
   "execution_count": 7,
   "metadata": {},
   "outputs": [
    {
     "data": {
      "text/plain": [
       "[1, 2, 3, 7]"
      ]
     },
     "execution_count": 7,
     "metadata": {},
     "output_type": "execute_result"
    }
   ],
   "source": [
    "L"
   ]
  },
  {
   "cell_type": "markdown",
   "metadata": {},
   "source": [
    "# but numpy array does not supports append methods"
   ]
  },
  {
   "cell_type": "code",
   "execution_count": 8,
   "metadata": {},
   "outputs": [
    {
     "ename": "AttributeError",
     "evalue": "'numpy.ndarray' object has no attribute 'append'",
     "output_type": "error",
     "traceback": [
      "\u001b[1;31m---------------------------------------------------------------------------\u001b[0m",
      "\u001b[1;31mAttributeError\u001b[0m                            Traceback (most recent call last)",
      "\u001b[1;32m<ipython-input-8-95a45a28954d>\u001b[0m in \u001b[0;36m<module>\u001b[1;34m\u001b[0m\n\u001b[1;32m----> 1\u001b[1;33m \u001b[0mA\u001b[0m\u001b[1;33m.\u001b[0m\u001b[0mappend\u001b[0m\u001b[1;33m(\u001b[0m\u001b[1;36m7\u001b[0m\u001b[1;33m)\u001b[0m\u001b[1;33m\u001b[0m\u001b[1;33m\u001b[0m\u001b[0m\n\u001b[0m",
      "\u001b[1;31mAttributeError\u001b[0m: 'numpy.ndarray' object has no attribute 'append'"
     ]
    }
   ],
   "source": [
    "A.append(7)"
   ]
  },
  {
   "cell_type": "code",
   "execution_count": 9,
   "metadata": {},
   "outputs": [],
   "source": [
    "L = L + [5]"
   ]
  },
  {
   "cell_type": "code",
   "execution_count": 10,
   "metadata": {},
   "outputs": [
    {
     "data": {
      "text/plain": [
       "[1, 2, 3, 7, 5]"
      ]
     },
     "execution_count": 10,
     "metadata": {},
     "output_type": "execute_result"
    }
   ],
   "source": [
    "L"
   ]
  },
  {
   "cell_type": "code",
   "execution_count": 13,
   "metadata": {},
   "outputs": [
    {
     "ename": "ValueError",
     "evalue": "operands could not be broadcast together with shapes (3,) (2,) ",
     "output_type": "error",
     "traceback": [
      "\u001b[1;31m---------------------------------------------------------------------------\u001b[0m",
      "\u001b[1;31mValueError\u001b[0m                                Traceback (most recent call last)",
      "\u001b[1;32m<ipython-input-13-6ccf893548dc>\u001b[0m in \u001b[0;36m<module>\u001b[1;34m\u001b[0m\n\u001b[1;32m----> 1\u001b[1;33m \u001b[0mA\u001b[0m \u001b[1;33m=\u001b[0m \u001b[0mA\u001b[0m \u001b[1;33m+\u001b[0m \u001b[1;33m[\u001b[0m\u001b[1;36m4\u001b[0m\u001b[1;33m,\u001b[0m\u001b[1;36m5\u001b[0m\u001b[1;33m]\u001b[0m\u001b[1;33m\u001b[0m\u001b[1;33m\u001b[0m\u001b[0m\n\u001b[0m",
      "\u001b[1;31mValueError\u001b[0m: operands could not be broadcast together with shapes (3,) (2,) "
     ]
    }
   ],
   "source": [
    "A = A + [4,5]"
   ]
  },
  {
   "cell_type": "code",
   "execution_count": 12,
   "metadata": {},
   "outputs": [
    {
     "data": {
      "text/plain": [
       "array([6, 7, 8])"
      ]
     },
     "execution_count": 12,
     "metadata": {},
     "output_type": "execute_result"
    }
   ],
   "source": [
    "A"
   ]
  },
  {
   "cell_type": "code",
   "execution_count": 14,
   "metadata": {},
   "outputs": [],
   "source": [
    "L2 = []"
   ]
  },
  {
   "cell_type": "code",
   "execution_count": 15,
   "metadata": {},
   "outputs": [],
   "source": [
    "for e in L:\n",
    "    L2.append(e+e)"
   ]
  },
  {
   "cell_type": "code",
   "execution_count": 16,
   "metadata": {},
   "outputs": [
    {
     "data": {
      "text/plain": [
       "[2, 4, 6, 14, 10]"
      ]
     },
     "execution_count": 16,
     "metadata": {},
     "output_type": "execute_result"
    }
   ],
   "source": [
    "L2"
   ]
  },
  {
   "cell_type": "markdown",
   "metadata": {},
   "source": [
    "# vector addition is supported by numpy array"
   ]
  },
  {
   "cell_type": "code",
   "execution_count": 17,
   "metadata": {},
   "outputs": [
    {
     "data": {
      "text/plain": [
       "array([12, 14, 16])"
      ]
     },
     "execution_count": 17,
     "metadata": {},
     "output_type": "execute_result"
    }
   ],
   "source": [
    "A + A # vector addition"
   ]
  },
  {
   "cell_type": "markdown",
   "metadata": {},
   "source": [
    "# scaler multiplication on numpy array"
   ]
  },
  {
   "cell_type": "code",
   "execution_count": 18,
   "metadata": {},
   "outputs": [
    {
     "data": {
      "text/plain": [
       "array([12, 14, 16])"
      ]
     },
     "execution_count": 18,
     "metadata": {},
     "output_type": "execute_result"
    }
   ],
   "source": [
    "2*A"
   ]
  },
  {
   "cell_type": "markdown",
   "metadata": {},
   "source": [
    "# scaler multiplication on List  : its repetes the number one more times"
   ]
  },
  {
   "cell_type": "code",
   "execution_count": 19,
   "metadata": {},
   "outputs": [
    {
     "data": {
      "text/plain": [
       "[1, 2, 3, 7, 5, 1, 2, 3, 7, 5]"
      ]
     },
     "execution_count": 19,
     "metadata": {},
     "output_type": "execute_result"
    }
   ],
   "source": [
    "2*L"
   ]
  },
  {
   "cell_type": "markdown",
   "metadata": {},
   "source": [
    "# unsupported operand type(s) for ** or pow(): 'list' and 'int'"
   ]
  },
  {
   "cell_type": "code",
   "execution_count": 20,
   "metadata": {},
   "outputs": [
    {
     "ename": "TypeError",
     "evalue": "unsupported operand type(s) for ** or pow(): 'list' and 'int'",
     "output_type": "error",
     "traceback": [
      "\u001b[1;31m---------------------------------------------------------------------------\u001b[0m",
      "\u001b[1;31mTypeError\u001b[0m                                 Traceback (most recent call last)",
      "\u001b[1;32m<ipython-input-20-99008242ace2>\u001b[0m in \u001b[0;36m<module>\u001b[1;34m\u001b[0m\n\u001b[1;32m----> 1\u001b[1;33m \u001b[0mL\u001b[0m\u001b[1;33m**\u001b[0m\u001b[1;36m2\u001b[0m\u001b[1;33m\u001b[0m\u001b[1;33m\u001b[0m\u001b[0m\n\u001b[0m",
      "\u001b[1;31mTypeError\u001b[0m: unsupported operand type(s) for ** or pow(): 'list' and 'int'"
     ]
    }
   ],
   "source": [
    "L**2"
   ]
  },
  {
   "cell_type": "code",
   "execution_count": 22,
   "metadata": {},
   "outputs": [
    {
     "name": "stdout",
     "output_type": "stream",
     "text": [
      "[1, 4, 9, 49, 25]\n"
     ]
    }
   ],
   "source": [
    "L2 = []\n",
    "for e in L:\n",
    "    L2.append(e*e)\n",
    "print(L2)    "
   ]
  },
  {
   "cell_type": "markdown",
   "metadata": {},
   "source": [
    "# element wise pow() is supported in numpy array"
   ]
  },
  {
   "cell_type": "code",
   "execution_count": 23,
   "metadata": {},
   "outputs": [
    {
     "data": {
      "text/plain": [
       "array([36, 49, 64], dtype=int32)"
      ]
     },
     "execution_count": 23,
     "metadata": {},
     "output_type": "execute_result"
    }
   ],
   "source": [
    "A**2"
   ]
  },
  {
   "cell_type": "markdown",
   "metadata": {},
   "source": [
    "# np.sqrt(array_name) "
   ]
  },
  {
   "cell_type": "code",
   "execution_count": 25,
   "metadata": {},
   "outputs": [
    {
     "name": "stdout",
     "output_type": "stream",
     "text": [
      "[2.44948974 2.64575131 2.82842712]\n"
     ]
    }
   ],
   "source": [
    "D = np.sqrt(A)\n",
    "print(D)"
   ]
  },
  {
   "cell_type": "markdown",
   "metadata": {},
   "source": [
    "# np.log(array_name)"
   ]
  },
  {
   "cell_type": "code",
   "execution_count": 27,
   "metadata": {},
   "outputs": [
    {
     "name": "stdout",
     "output_type": "stream",
     "text": [
      "[1.79175947 1.94591015 2.07944154]\n"
     ]
    }
   ],
   "source": [
    "D1 = np.log(A)\n",
    "print(D1)"
   ]
  },
  {
   "cell_type": "markdown",
   "metadata": {},
   "source": [
    "# exp(array_name)   : fro exponentiol values"
   ]
  },
  {
   "cell_type": "code",
   "execution_count": 28,
   "metadata": {},
   "outputs": [
    {
     "data": {
      "text/plain": [
       "array([ 403.42879349, 1096.63315843, 2980.95798704])"
      ]
     },
     "execution_count": 28,
     "metadata": {},
     "output_type": "execute_result"
    }
   ],
   "source": [
    "np.exp(A)"
   ]
  },
  {
   "cell_type": "markdown",
   "metadata": {},
   "source": [
    "#                                     # dot product in vectors"
   ]
  },
  {
   "cell_type": "code",
   "execution_count": 44,
   "metadata": {},
   "outputs": [],
   "source": [
    "a = np.array([1,2])"
   ]
  },
  {
   "cell_type": "code",
   "execution_count": 45,
   "metadata": {},
   "outputs": [],
   "source": [
    "b = np.array([2,1])"
   ]
  },
  {
   "cell_type": "markdown",
   "metadata": {},
   "source": [
    "# use of zip() function"
   ]
  },
  {
   "cell_type": "code",
   "execution_count": 46,
   "metadata": {},
   "outputs": [],
   "source": [
    "dot = 0\n",
    "for e,f in zip(a,b):\n",
    "    dot += e*f     "
   ]
  },
  {
   "cell_type": "code",
   "execution_count": 47,
   "metadata": {},
   "outputs": [
    {
     "name": "stdout",
     "output_type": "stream",
     "text": [
      "4\n"
     ]
    }
   ],
   "source": [
    "print(dot)"
   ]
  },
  {
   "cell_type": "markdown",
   "metadata": {},
   "source": [
    "# element wise multiplication"
   ]
  },
  {
   "cell_type": "code",
   "execution_count": 49,
   "metadata": {},
   "outputs": [
    {
     "data": {
      "text/plain": [
       "array([2, 2])"
      ]
     },
     "execution_count": 49,
     "metadata": {},
     "output_type": "execute_result"
    }
   ],
   "source": [
    "a*b # element wise multiplication"
   ]
  },
  {
   "cell_type": "code",
   "execution_count": 51,
   "metadata": {},
   "outputs": [
    {
     "data": {
      "text/plain": [
       "4"
      ]
     },
     "execution_count": 51,
     "metadata": {},
     "output_type": "execute_result"
    }
   ],
   "source": [
    "np.sum(a*b)"
   ]
  },
  {
   "cell_type": "code",
   "execution_count": 52,
   "metadata": {},
   "outputs": [
    {
     "data": {
      "text/plain": [
       "4"
      ]
     },
     "execution_count": 52,
     "metadata": {},
     "output_type": "execute_result"
    }
   ],
   "source": [
    "(a*b).sum()"
   ]
  },
  {
   "cell_type": "code",
   "execution_count": 53,
   "metadata": {},
   "outputs": [
    {
     "data": {
      "text/plain": [
       "4"
      ]
     },
     "execution_count": 53,
     "metadata": {},
     "output_type": "execute_result"
    }
   ],
   "source": [
    "np.dot(a,b)"
   ]
  },
  {
   "cell_type": "code",
   "execution_count": 54,
   "metadata": {},
   "outputs": [
    {
     "data": {
      "text/plain": [
       "4"
      ]
     },
     "execution_count": 54,
     "metadata": {},
     "output_type": "execute_result"
    }
   ],
   "source": [
    "a.dot(b)"
   ]
  },
  {
   "cell_type": "code",
   "execution_count": 55,
   "metadata": {},
   "outputs": [
    {
     "data": {
      "text/plain": [
       "4"
      ]
     },
     "execution_count": 55,
     "metadata": {},
     "output_type": "execute_result"
    }
   ],
   "source": [
    "b.dot(a)"
   ]
  },
  {
   "cell_type": "code",
   "execution_count": 67,
   "metadata": {},
   "outputs": [
    {
     "data": {
      "text/plain": [
       "5"
      ]
     },
     "execution_count": 67,
     "metadata": {},
     "output_type": "execute_result"
    }
   ],
   "source": [
    "b.dot(b)"
   ]
  },
  {
   "cell_type": "code",
   "execution_count": 68,
   "metadata": {},
   "outputs": [
    {
     "data": {
      "text/plain": [
       "5"
      ]
     },
     "execution_count": 68,
     "metadata": {},
     "output_type": "execute_result"
    }
   ],
   "source": [
    "a.dot(a)"
   ]
  },
  {
   "cell_type": "code",
   "execution_count": 69,
   "metadata": {},
   "outputs": [
    {
     "data": {
      "text/plain": [
       "5"
      ]
     },
     "execution_count": 69,
     "metadata": {},
     "output_type": "execute_result"
    }
   ],
   "source": [
    "(a*a).sum()"
   ]
  },
  {
   "cell_type": "code",
   "execution_count": 70,
   "metadata": {},
   "outputs": [
    {
     "data": {
      "text/plain": [
       "5"
      ]
     },
     "execution_count": 70,
     "metadata": {},
     "output_type": "execute_result"
    }
   ],
   "source": [
    "(b*b).sum()"
   ]
  },
  {
   "cell_type": "markdown",
   "metadata": {},
   "source": [
    "# find magnituted"
   ]
  },
  {
   "cell_type": "code",
   "execution_count": 56,
   "metadata": {},
   "outputs": [
    {
     "name": "stdout",
     "output_type": "stream",
     "text": [
      "2.23606797749979\n"
     ]
    }
   ],
   "source": [
    "amag = np.sqrt((a*a).sum())\n",
    "print(amag)"
   ]
  },
  {
   "cell_type": "code",
   "execution_count": 57,
   "metadata": {},
   "outputs": [
    {
     "name": "stdout",
     "output_type": "stream",
     "text": [
      "2.23606797749979\n"
     ]
    }
   ],
   "source": [
    "bmag = np.sqrt((b*b).sum())\n",
    "print(bmag)"
   ]
  },
  {
   "cell_type": "code",
   "execution_count": 58,
   "metadata": {},
   "outputs": [
    {
     "name": "stdout",
     "output_type": "stream",
     "text": [
      "2.23606797749979\n"
     ]
    }
   ],
   "source": [
    "amag = np.linalg.norm(a)\n",
    "print(amag)"
   ]
  },
  {
   "cell_type": "code",
   "execution_count": 61,
   "metadata": {},
   "outputs": [
    {
     "name": "stdout",
     "output_type": "stream",
     "text": [
      "0.7999999999999998\n"
     ]
    }
   ],
   "source": [
    "cos_angle = a.dot(b) / (np.linalg.norm(a)*np.linalg.norm(b))\n",
    "print(cos_angle) # find the value of cos(angle)"
   ]
  },
  {
   "cell_type": "code",
   "execution_count": 65,
   "metadata": {},
   "outputs": [
    {
     "name": "stdout",
     "output_type": "stream",
     "text": [
      "0.6435011087932847\n"
     ]
    }
   ],
   "source": [
    "angle = np.arccos(cos_angle)\n",
    "print(angle) # find the cos(angle)"
   ]
  },
  {
   "cell_type": "code",
   "execution_count": 72,
   "metadata": {},
   "outputs": [
    {
     "data": {
      "text/plain": [
       "0.7999999999999998"
      ]
     },
     "execution_count": 72,
     "metadata": {},
     "output_type": "execute_result"
    }
   ],
   "source": [
    "np.cos(0.6435011087932847) # cos(angle)"
   ]
  },
  {
   "cell_type": "code",
   "execution_count": 73,
   "metadata": {},
   "outputs": [
    {
     "data": {
      "text/plain": [
       "2.23606797749979"
      ]
     },
     "execution_count": 73,
     "metadata": {},
     "output_type": "execute_result"
    }
   ],
   "source": [
    "np.sqrt(5)"
   ]
  },
  {
   "cell_type": "code",
   "execution_count": 75,
   "metadata": {},
   "outputs": [
    {
     "data": {
      "text/plain": [
       "0.7999999999999998"
      ]
     },
     "execution_count": 75,
     "metadata": {},
     "output_type": "execute_result"
    }
   ],
   "source": [
    "result = 4 /(2.23606797749979*2.23606797749979)\n",
    "result    "
   ]
  },
  {
   "cell_type": "code",
   "execution_count": 77,
   "metadata": {},
   "outputs": [
    {
     "name": "stdout",
     "output_type": "stream",
     "text": [
      "1.0\n"
     ]
    }
   ],
   "source": [
    "p= np.cos(0)\n",
    "print(p)"
   ]
  },
  {
   "cell_type": "code",
   "execution_count": 79,
   "metadata": {},
   "outputs": [
    {
     "data": {
      "text/plain": [
       "0.0"
      ]
     },
     "execution_count": 79,
     "metadata": {},
     "output_type": "execute_result"
    }
   ],
   "source": [
    "angle1 = np.arccos(1.0)\n",
    "angle1"
   ]
  },
  {
   "cell_type": "code",
   "execution_count": 81,
   "metadata": {},
   "outputs": [
    {
     "data": {
      "text/plain": [
       "1.0"
      ]
     },
     "execution_count": 81,
     "metadata": {},
     "output_type": "execute_result"
    }
   ],
   "source": [
    "np.cos(0.0)"
   ]
  },
  {
   "cell_type": "code",
   "execution_count": 82,
   "metadata": {},
   "outputs": [],
   "source": [
    "from datetime import datetime"
   ]
  },
  {
   "cell_type": "code",
   "execution_count": 3,
   "metadata": {},
   "outputs": [
    {
     "data": {
      "text/plain": [
       "2.23606797749979"
      ]
     },
     "execution_count": 3,
     "metadata": {},
     "output_type": "execute_result"
    }
   ],
   "source": [
    "import numpy as np\n",
    "t = np.sqrt(5)\n",
    "t"
   ]
  },
  {
   "cell_type": "code",
   "execution_count": 4,
   "metadata": {},
   "outputs": [],
   "source": [
    "                                  # lecture 7 vectors and matrices"
   ]
  },
  {
   "cell_type": "code",
   "execution_count": 6,
   "metadata": {},
   "outputs": [],
   "source": [
    "M = np.array([[1,2],[3,4]])"
   ]
  },
  {
   "cell_type": "code",
   "execution_count": 7,
   "metadata": {},
   "outputs": [],
   "source": [
    "L = ([[1,2],[3,4]]) #list of list"
   ]
  },
  {
   "cell_type": "code",
   "execution_count": 8,
   "metadata": {},
   "outputs": [
    {
     "data": {
      "text/plain": [
       "[1, 2]"
      ]
     },
     "execution_count": 8,
     "metadata": {},
     "output_type": "execute_result"
    }
   ],
   "source": [
    "L[0]"
   ]
  },
  {
   "cell_type": "code",
   "execution_count": 9,
   "metadata": {},
   "outputs": [
    {
     "data": {
      "text/plain": [
       "1"
      ]
     },
     "execution_count": 9,
     "metadata": {},
     "output_type": "execute_result"
    }
   ],
   "source": [
    "L[0][0]"
   ]
  },
  {
   "cell_type": "code",
   "execution_count": 10,
   "metadata": {},
   "outputs": [
    {
     "data": {
      "text/plain": [
       "array([1, 2])"
      ]
     },
     "execution_count": 10,
     "metadata": {},
     "output_type": "execute_result"
    }
   ],
   "source": [
    "M[0]"
   ]
  },
  {
   "cell_type": "code",
   "execution_count": 11,
   "metadata": {},
   "outputs": [
    {
     "data": {
      "text/plain": [
       "1"
      ]
     },
     "execution_count": 11,
     "metadata": {},
     "output_type": "execute_result"
    }
   ],
   "source": [
    "M[0][0]"
   ]
  },
  {
   "cell_type": "code",
   "execution_count": 12,
   "metadata": {},
   "outputs": [
    {
     "data": {
      "text/plain": [
       "matrix([[1, 2],\n",
       "        [3, 4]])"
      ]
     },
     "execution_count": 12,
     "metadata": {},
     "output_type": "execute_result"
    }
   ],
   "source": [
    "M2 = np.matrix([[1,2],[3,4]])\n",
    "M2"
   ]
  },
  {
   "cell_type": "code",
   "execution_count": 14,
   "metadata": {},
   "outputs": [
    {
     "data": {
      "text/plain": [
       "array([[1, 2],\n",
       "       [3, 4]])"
      ]
     },
     "execution_count": 14,
     "metadata": {},
     "output_type": "execute_result"
    }
   ],
   "source": [
    "A = np.array(M2)\n",
    "A"
   ]
  },
  {
   "cell_type": "code",
   "execution_count": 15,
   "metadata": {},
   "outputs": [
    {
     "data": {
      "text/plain": [
       "array([[1, 3],\n",
       "       [2, 4]])"
      ]
     },
     "execution_count": 15,
     "metadata": {},
     "output_type": "execute_result"
    }
   ],
   "source": [
    "A.T # matrix is two dimentional numoy array and vectors are the one dimentional numpy array"
   ]
  },
  {
   "cell_type": "code",
   "execution_count": 16,
   "metadata": {},
   "outputs": [],
   "source": [
    "                                       # lecture 8 Generating Matrix data to work with"
   ]
  },
  {
   "cell_type": "code",
   "execution_count": 17,
   "metadata": {},
   "outputs": [
    {
     "data": {
      "text/plain": [
       "array([1, 2, 3])"
      ]
     },
     "execution_count": 17,
     "metadata": {},
     "output_type": "execute_result"
    }
   ],
   "source": [
    "np.array([1,2,3])"
   ]
  },
  {
   "cell_type": "code",
   "execution_count": 20,
   "metadata": {},
   "outputs": [
    {
     "data": {
      "text/plain": [
       "array([0., 0., 0., 0., 0., 0., 0., 0., 0., 0.])"
      ]
     },
     "execution_count": 20,
     "metadata": {},
     "output_type": "execute_result"
    }
   ],
   "source": [
    "Z  = np.zeros(10)\n",
    "Z"
   ]
  },
  {
   "cell_type": "code",
   "execution_count": 21,
   "metadata": {},
   "outputs": [
    {
     "data": {
      "text/plain": [
       "array([[0., 0., 0., 0., 0., 0., 0., 0., 0., 0.],\n",
       "       [0., 0., 0., 0., 0., 0., 0., 0., 0., 0.],\n",
       "       [0., 0., 0., 0., 0., 0., 0., 0., 0., 0.],\n",
       "       [0., 0., 0., 0., 0., 0., 0., 0., 0., 0.],\n",
       "       [0., 0., 0., 0., 0., 0., 0., 0., 0., 0.],\n",
       "       [0., 0., 0., 0., 0., 0., 0., 0., 0., 0.],\n",
       "       [0., 0., 0., 0., 0., 0., 0., 0., 0., 0.],\n",
       "       [0., 0., 0., 0., 0., 0., 0., 0., 0., 0.],\n",
       "       [0., 0., 0., 0., 0., 0., 0., 0., 0., 0.],\n",
       "       [0., 0., 0., 0., 0., 0., 0., 0., 0., 0.]])"
      ]
     },
     "execution_count": 21,
     "metadata": {},
     "output_type": "execute_result"
    }
   ],
   "source": [
    "Z = np.zeros((10,10))\n",
    "Z"
   ]
  },
  {
   "cell_type": "code",
   "execution_count": 22,
   "metadata": {},
   "outputs": [
    {
     "data": {
      "text/plain": [
       "array([[1., 1., 1., 1., 1., 1., 1., 1., 1., 1.],\n",
       "       [1., 1., 1., 1., 1., 1., 1., 1., 1., 1.],\n",
       "       [1., 1., 1., 1., 1., 1., 1., 1., 1., 1.],\n",
       "       [1., 1., 1., 1., 1., 1., 1., 1., 1., 1.],\n",
       "       [1., 1., 1., 1., 1., 1., 1., 1., 1., 1.],\n",
       "       [1., 1., 1., 1., 1., 1., 1., 1., 1., 1.],\n",
       "       [1., 1., 1., 1., 1., 1., 1., 1., 1., 1.],\n",
       "       [1., 1., 1., 1., 1., 1., 1., 1., 1., 1.],\n",
       "       [1., 1., 1., 1., 1., 1., 1., 1., 1., 1.],\n",
       "       [1., 1., 1., 1., 1., 1., 1., 1., 1., 1.]])"
      ]
     },
     "execution_count": 22,
     "metadata": {},
     "output_type": "execute_result"
    }
   ],
   "source": [
    "o = np.ones((10,10))\n",
    "o"
   ]
  },
  {
   "cell_type": "code",
   "execution_count": 23,
   "metadata": {},
   "outputs": [
    {
     "data": {
      "text/plain": [
       "array([[0.81369657, 0.74869331, 0.01759457, 0.30306134, 0.09409879,\n",
       "        0.37980499, 0.05437615, 0.36661475, 0.8883629 , 0.05159738],\n",
       "       [0.25238235, 0.33903386, 0.6306638 , 0.2332052 , 0.28888393,\n",
       "        0.35799327, 0.52684507, 0.24685132, 0.58476951, 0.64985638],\n",
       "       [0.55977794, 0.51531063, 0.84320676, 0.33949731, 0.92610063,\n",
       "        0.04481745, 0.631658  , 0.62941618, 0.40200471, 0.92423961],\n",
       "       [0.03650994, 0.11927699, 0.48682362, 0.69459184, 0.17626279,\n",
       "        0.6644678 , 0.4404342 , 0.67573853, 0.66953391, 0.40773021],\n",
       "       [0.16302929, 0.47887767, 0.73227736, 0.17309033, 0.4647367 ,\n",
       "        0.47556696, 0.12239183, 0.50797754, 0.63928256, 0.79785759],\n",
       "       [0.42595073, 0.46267339, 0.78251123, 0.41091198, 0.3562164 ,\n",
       "        0.05272887, 0.89533536, 0.28042399, 0.55286809, 0.01513161],\n",
       "       [0.40153075, 0.27680539, 0.54254791, 0.32176788, 0.28497173,\n",
       "        0.47795964, 0.72784502, 0.292432  , 0.33788053, 0.62164784],\n",
       "       [0.7202559 , 0.17887471, 0.34381591, 0.02935826, 0.983684  ,\n",
       "        0.98355712, 0.61133813, 0.39420224, 0.04768457, 0.75424508],\n",
       "       [0.21039845, 0.05339537, 0.50506565, 0.19478869, 0.04604115,\n",
       "        0.79292342, 0.69340455, 0.06706095, 0.30922328, 0.68684005],\n",
       "       [0.09400337, 0.58395049, 0.59122512, 0.73370859, 0.13794016,\n",
       "        0.43023763, 0.22191065, 0.49688189, 0.55270912, 0.28905382]])"
      ]
     },
     "execution_count": 23,
     "metadata": {},
     "output_type": "execute_result"
    }
   ],
   "source": [
    "R  = np.random.random((10,10))\n",
    "R                                     #its an uniforn distribution numpy arrays"
   ]
  },
  {
   "cell_type": "code",
   "execution_count": 26,
   "metadata": {},
   "outputs": [
    {
     "data": {
      "text/plain": [
       "array([[0.5393054 , 0.91540008, 0.69365132, 0.36924603, 0.5006303 ,\n",
       "        0.68938792, 0.75472161, 0.3475566 , 0.06449201, 0.82958285],\n",
       "       [0.8307509 , 0.08480249, 0.06390405, 0.46047246, 0.99400779,\n",
       "        0.49223545, 0.34289001, 0.30598775, 0.83602525, 0.43793143],\n",
       "       [0.35235881, 0.18388114, 0.60092731, 0.89998693, 0.01127679,\n",
       "        0.75923219, 0.55214404, 0.71688043, 0.94165813, 0.47022536],\n",
       "       [0.30129998, 0.67971639, 0.08883653, 0.26857742, 0.4579933 ,\n",
       "        0.03311616, 0.34687775, 0.26243418, 0.97496616, 0.83690494],\n",
       "       [0.37422516, 0.16470991, 0.14988121, 0.91282104, 0.21683842,\n",
       "        0.58140177, 0.12841017, 0.74912585, 0.56526691, 0.54682505],\n",
       "       [0.98574515, 0.52442387, 0.34967331, 0.90815803, 0.00550516,\n",
       "        0.93670554, 0.81929866, 0.65306471, 0.14356338, 0.71209702],\n",
       "       [0.10272668, 0.77478415, 0.94324789, 0.52275844, 0.74058841,\n",
       "        0.96206157, 0.81339166, 0.30309009, 0.83412898, 0.81833762],\n",
       "       [0.52927637, 0.07397135, 0.22254076, 0.50755171, 0.58237099,\n",
       "        0.07508376, 0.4531021 , 0.85631422, 0.16725382, 0.46618789],\n",
       "       [0.30052254, 0.48764464, 0.45430872, 0.04959082, 0.05797404,\n",
       "        0.6811663 , 0.71987792, 0.83073802, 0.69043765, 0.07569599],\n",
       "       [0.15081685, 0.41079857, 0.64617545, 0.64937975, 0.73814038,\n",
       "        0.46071135, 0.42934244, 0.15711109, 0.03336802, 0.99510978]])"
      ]
     },
     "execution_count": 26,
     "metadata": {},
     "output_type": "execute_result"
    }
   ],
   "source": [
    "R  = np.random.random((10,10))   # random numbers are 0<R<1\n",
    "R"
   ]
  },
  {
   "cell_type": "code",
   "execution_count": 27,
   "metadata": {},
   "outputs": [
    {
     "ename": "TypeError",
     "evalue": "'tuple' object cannot be interpreted as an integer",
     "output_type": "error",
     "traceback": [
      "\u001b[1;31m---------------------------------------------------------------------------\u001b[0m",
      "\u001b[1;31mTypeError\u001b[0m                                 Traceback (most recent call last)",
      "\u001b[1;32m<ipython-input-27-7d1f8881dd1c>\u001b[0m in \u001b[0;36m<module>\u001b[1;34m\u001b[0m\n\u001b[1;32m----> 1\u001b[1;33m \u001b[0mG\u001b[0m \u001b[1;33m=\u001b[0m \u001b[0mnp\u001b[0m\u001b[1;33m.\u001b[0m\u001b[0mrandom\u001b[0m\u001b[1;33m.\u001b[0m\u001b[0mrandn\u001b[0m\u001b[1;33m(\u001b[0m\u001b[1;33m(\u001b[0m\u001b[1;36m10\u001b[0m\u001b[1;33m,\u001b[0m\u001b[1;36m10\u001b[0m\u001b[1;33m)\u001b[0m\u001b[1;33m)\u001b[0m\u001b[1;33m\u001b[0m\u001b[1;33m\u001b[0m\u001b[0m\n\u001b[0m",
      "\u001b[1;32mmtrand.pyx\u001b[0m in \u001b[0;36mmtrand.RandomState.randn\u001b[1;34m()\u001b[0m\n",
      "\u001b[1;32mmtrand.pyx\u001b[0m in \u001b[0;36mmtrand.RandomState.standard_normal\u001b[1;34m()\u001b[0m\n",
      "\u001b[1;32mmtrand.pyx\u001b[0m in \u001b[0;36mmtrand.cont0_array\u001b[1;34m()\u001b[0m\n",
      "\u001b[1;31mTypeError\u001b[0m: 'tuple' object cannot be interpreted as an integer"
     ]
    }
   ],
   "source": [
    "G = np.random.randn((10,10))"
   ]
  },
  {
   "cell_type": "code",
   "execution_count": 28,
   "metadata": {},
   "outputs": [
    {
     "data": {
      "text/plain": [
       "array([[-1.43245377,  0.78273922, -0.64154496, -0.52936938,  1.24415706,\n",
       "        -0.60598234,  0.34552711, -0.3639557 ,  1.64986099,  1.63428502],\n",
       "       [-0.75928282,  0.03188413,  0.79295477,  0.91946615,  0.58673401,\n",
       "         1.31564466,  1.36016167, -0.38856156, -0.43536073,  0.43537968],\n",
       "       [-0.38518019, -0.96410849,  1.02285575,  0.27783548,  0.20831422,\n",
       "         0.12094247,  0.07484504, -0.95874659,  0.06143274,  0.07520139],\n",
       "       [-0.35968861,  1.99243545, -0.49246318, -0.97187876,  0.67319209,\n",
       "        -2.13015074, -0.9431869 , -1.0726527 , -0.77823225, -0.52570032],\n",
       "       [-0.70337013,  0.74882495,  0.08249056,  0.25869397,  0.08234992,\n",
       "        -0.05245649,  0.16579393,  1.52294349,  1.12919949, -0.47815499],\n",
       "       [-0.53995883, -0.84447384,  0.83835162,  3.57575896,  0.93457337,\n",
       "         1.36543289, -0.84128059, -2.49422359,  0.11701595,  0.2428999 ],\n",
       "       [ 0.52616338,  2.25033765, -1.59687549, -0.09320908,  0.0560439 ,\n",
       "        -1.3867267 ,  0.2396597 , -0.546816  ,  1.07380287, -0.04220752],\n",
       "       [ 0.65030564, -0.36833998, -0.237339  , -0.40519905, -0.95400618,\n",
       "        -0.62224696, -0.30287812,  0.60306594, -1.43052799,  0.55292845],\n",
       "       [ 1.83702592, -0.50738513, -2.41230126,  1.13842387,  0.2766904 ,\n",
       "        -0.14431198,  0.24323956, -0.25648583, -0.07953344,  0.39836137],\n",
       "       [-0.85081345, -0.903547  , -1.09983488,  2.50262317,  0.22573652,\n",
       "         0.95691576, -0.01265005, -1.60035285, -1.08016989, -0.00471041]])"
      ]
     },
     "execution_count": 28,
     "metadata": {},
     "output_type": "execute_result"
    }
   ],
   "source": [
    "G = np.random.randn(10,10) \n",
    "G                              # gaussiun distribution numpy array"
   ]
  },
  {
   "cell_type": "code",
   "execution_count": 29,
   "metadata": {},
   "outputs": [
    {
     "data": {
      "text/plain": [
       "0.02570615503838717"
      ]
     },
     "execution_count": 29,
     "metadata": {},
     "output_type": "execute_result"
    }
   ],
   "source": [
    "G.mean()"
   ]
  },
  {
   "cell_type": "code",
   "execution_count": 30,
   "metadata": {},
   "outputs": [
    {
     "data": {
      "text/plain": [
       "1.0403567970044234"
      ]
     },
     "execution_count": 30,
     "metadata": {},
     "output_type": "execute_result"
    }
   ],
   "source": [
    "G.var()"
   ]
  },
  {
   "cell_type": "code",
   "execution_count": 31,
   "metadata": {},
   "outputs": [
    {
     "data": {
      "text/plain": [
       "1.0199788218411319"
      ]
     },
     "execution_count": 31,
     "metadata": {},
     "output_type": "execute_result"
    }
   ],
   "source": [
    "G.std()"
   ]
  },
  {
   "cell_type": "markdown",
   "metadata": {},
   "source": [
    "#                     # lecture 9,10 Mtrix product"
   ]
  },
  {
   "cell_type": "markdown",
   "metadata": {},
   "source": [
    "# MATRIX PRODUCT :\n",
    "#  1.matrix multiplication\n",
    "#  2. Requirment : inner dimentions must match\n",
    "#  3. if we have A of size (2,3) and B of size (3,3)\n",
    "#  4. we can multiply AB (inner dimention is 3 )\n",
    "#  5. We can not multiply BA (inner dimention is 3/2 )"
   ]
  },
  {
   "cell_type": "code",
   "execution_count": 33,
   "metadata": {},
   "outputs": [
    {
     "data": {
      "text/plain": [
       "array([[1, 2],\n",
       "       [3, 4]])"
      ]
     },
     "execution_count": 33,
     "metadata": {},
     "output_type": "execute_result"
    }
   ],
   "source": [
    "A\n"
   ]
  },
  {
   "cell_type": "code",
   "execution_count": 34,
   "metadata": {},
   "outputs": [
    {
     "data": {
      "text/plain": [
       "array([[-2. ,  1. ],\n",
       "       [ 1.5, -0.5]])"
      ]
     },
     "execution_count": 34,
     "metadata": {},
     "output_type": "execute_result"
    }
   ],
   "source": [
    "Ainv = np.linalg.inv(A)  # A inverse\n",
    "Ainv"
   ]
  },
  {
   "cell_type": "code",
   "execution_count": 35,
   "metadata": {},
   "outputs": [
    {
     "data": {
      "text/plain": [
       "array([[1.0000000e+00, 4.4408921e-16],\n",
       "       [0.0000000e+00, 1.0000000e+00]])"
      ]
     },
     "execution_count": 35,
     "metadata": {},
     "output_type": "execute_result"
    }
   ],
   "source": [
    "Ainv.dot(A)"
   ]
  },
  {
   "cell_type": "code",
   "execution_count": 36,
   "metadata": {},
   "outputs": [
    {
     "data": {
      "text/plain": [
       "array([[1.00000000e+00, 1.11022302e-16],\n",
       "       [0.00000000e+00, 1.00000000e+00]])"
      ]
     },
     "execution_count": 36,
     "metadata": {},
     "output_type": "execute_result"
    }
   ],
   "source": [
    "A.dot(Ainv)"
   ]
  },
  {
   "cell_type": "code",
   "execution_count": 37,
   "metadata": {},
   "outputs": [
    {
     "data": {
      "text/plain": [
       "-2.0000000000000004"
      ]
     },
     "execution_count": 37,
     "metadata": {},
     "output_type": "execute_result"
    }
   ],
   "source": [
    "np.linalg.det(A) # determinent of det|A|"
   ]
  },
  {
   "cell_type": "code",
   "execution_count": 38,
   "metadata": {},
   "outputs": [
    {
     "data": {
      "text/plain": [
       "array([1, 4])"
      ]
     },
     "execution_count": 38,
     "metadata": {},
     "output_type": "execute_result"
    }
   ],
   "source": [
    "np.diag(A)"
   ]
  },
  {
   "cell_type": "code",
   "execution_count": 39,
   "metadata": {},
   "outputs": [
    {
     "data": {
      "text/plain": [
       "array([[1, 0],\n",
       "       [0, 4]])"
      ]
     },
     "execution_count": 39,
     "metadata": {},
     "output_type": "execute_result"
    }
   ],
   "source": [
    "np.diag([1,4])"
   ]
  },
  {
   "cell_type": "code",
   "execution_count": 40,
   "metadata": {},
   "outputs": [],
   "source": [
    "a = np.array([1,2])"
   ]
  },
  {
   "cell_type": "code",
   "execution_count": 42,
   "metadata": {},
   "outputs": [],
   "source": [
    "b = np.array([3,4])"
   ]
  },
  {
   "cell_type": "markdown",
   "metadata": {},
   "source": [
    "# outer prodect of two array"
   ]
  },
  {
   "cell_type": "code",
   "execution_count": 43,
   "metadata": {},
   "outputs": [
    {
     "data": {
      "text/plain": [
       "array([[3, 4],\n",
       "       [6, 8]])"
      ]
     },
     "execution_count": 43,
     "metadata": {},
     "output_type": "execute_result"
    }
   ],
   "source": [
    "np.outer(a,b) # outer prodect of two array"
   ]
  },
  {
   "cell_type": "markdown",
   "metadata": {},
   "source": [
    "# inner productof two array"
   ]
  },
  {
   "cell_type": "code",
   "execution_count": 44,
   "metadata": {},
   "outputs": [
    {
     "data": {
      "text/plain": [
       "11"
      ]
     },
     "execution_count": 44,
     "metadata": {},
     "output_type": "execute_result"
    }
   ],
   "source": [
    "np.inner(a,b)  # inner productof two array"
   ]
  },
  {
   "cell_type": "code",
   "execution_count": 45,
   "metadata": {},
   "outputs": [
    {
     "data": {
      "text/plain": [
       "11"
      ]
     },
     "execution_count": 45,
     "metadata": {},
     "output_type": "execute_result"
    }
   ],
   "source": [
    "a.dot(b)"
   ]
  },
  {
   "cell_type": "code",
   "execution_count": 46,
   "metadata": {},
   "outputs": [
    {
     "data": {
      "text/plain": [
       "5"
      ]
     },
     "execution_count": 46,
     "metadata": {},
     "output_type": "execute_result"
    }
   ],
   "source": [
    "np.diag(A).sum()  # calculate the sum of diagonaly numbers"
   ]
  },
  {
   "cell_type": "code",
   "execution_count": 47,
   "metadata": {},
   "outputs": [
    {
     "data": {
      "text/plain": [
       "5"
      ]
     },
     "execution_count": 47,
     "metadata": {},
     "output_type": "execute_result"
    }
   ],
   "source": [
    "np.trace(A)  # another way to calculate the sum of diagonaly numbers"
   ]
  },
  {
   "cell_type": "code",
   "execution_count": 49,
   "metadata": {
    "scrolled": true
   },
   "outputs": [
    {
     "data": {
      "text/plain": [
       "array([[ 0.13356883, -0.31151429,  1.23423855],\n",
       "       [ 0.07310549, -2.07598055, -0.3387362 ],\n",
       "       [ 0.00641507,  0.04312666, -1.03923304],\n",
       "       [ 0.29407272,  0.24191997, -1.45041878],\n",
       "       [-2.01161241, -0.22069187,  1.19786403],\n",
       "       [ 0.04888942,  1.22318763,  0.14167959],\n",
       "       [ 0.00384549,  0.3819912 , -0.8934326 ],\n",
       "       [ 0.84367356, -0.21898875,  0.16460747],\n",
       "       [ 0.91662821, -1.79692535, -0.94843102],\n",
       "       [ 0.52066477, -1.03100752, -0.86224259],\n",
       "       [ 0.62158901,  0.87724914,  0.66953115],\n",
       "       [ 0.15223793, -0.58490718,  0.33033379],\n",
       "       [-1.51839573,  0.78244698,  0.14079354],\n",
       "       [ 0.12601796,  0.22646833, -0.75818202],\n",
       "       [-0.58447441,  0.95819657, -0.83844985],\n",
       "       [ 1.71194979,  0.02858828, -0.63340736],\n",
       "       [-1.04356325, -0.35025285,  0.25540586],\n",
       "       [-0.25800061,  0.23449249, -0.408437  ],\n",
       "       [ 0.89326864, -0.02040519,  0.92260875],\n",
       "       [-1.77418923,  0.08813164, -0.33936705],\n",
       "       [ 0.01575816,  0.84266711, -0.19933586],\n",
       "       [ 1.32167031,  0.30590305, -1.62578481],\n",
       "       [-0.80870758,  0.05078311, -0.28774081],\n",
       "       [ 0.37707618, -0.96883068,  0.0511262 ],\n",
       "       [-0.29400933, -0.33921256, -0.57467545],\n",
       "       [ 0.09051963,  0.29610723, -0.02557005],\n",
       "       [-0.15653592,  1.12571981,  0.88558047],\n",
       "       [-0.82353113, -0.40867165, -0.54744323],\n",
       "       [ 1.79817432,  0.06480154, -0.93337456],\n",
       "       [-0.47686618, -0.22072662,  0.17839983],\n",
       "       [ 1.62287856,  0.63561805, -0.88504526],\n",
       "       [ 0.59252266, -0.91737706, -0.62092897],\n",
       "       [ 0.41061534, -0.05821234,  1.71841142],\n",
       "       [ 0.22949705,  1.79243106, -1.18190544],\n",
       "       [-0.0941382 , -0.58594697,  0.24229457],\n",
       "       [ 0.89491574,  3.11947975,  0.08311139],\n",
       "       [ 1.02166016,  0.0843692 ,  0.82321739],\n",
       "       [-1.1241031 , -0.28182707, -0.89397818],\n",
       "       [-0.98465093, -0.24040289, -0.59029909],\n",
       "       [ 0.73914002, -0.19040801,  0.15611677],\n",
       "       [-0.19030479, -0.98323862,  0.13254151],\n",
       "       [ 0.79429745, -0.21171682, -0.27735678],\n",
       "       [ 0.75586593,  1.65269947,  0.65338821],\n",
       "       [-0.86284916,  0.73827365, -0.21914751],\n",
       "       [-2.10409926, -0.53534818, -0.5201823 ],\n",
       "       [ 0.27249931,  1.99779395,  1.08826789],\n",
       "       [-0.78549638,  0.29333242, -1.31027546],\n",
       "       [ 0.24166671,  1.07005755,  0.14005515],\n",
       "       [-1.18177275,  0.79613349, -2.73140289],\n",
       "       [-0.98097534,  0.63989806, -0.68232761],\n",
       "       [ 0.5055111 ,  1.58375688,  0.73706344],\n",
       "       [-1.50240823, -0.11009181, -0.50805875],\n",
       "       [-0.21667974, -0.16694725, -1.71869403],\n",
       "       [ 0.57301709, -1.13356891, -0.23533463],\n",
       "       [-1.45285713, -0.03313749, -1.00596078],\n",
       "       [ 2.30112991, -0.11126356, -0.86608894],\n",
       "       [ 0.27851852,  2.15965836,  2.0485562 ],\n",
       "       [-0.90314939, -0.03885243, -0.58278734],\n",
       "       [ 0.32591798, -1.06393307, -0.46482072],\n",
       "       [ 0.4848897 ,  1.11958695, -0.5074315 ],\n",
       "       [-1.04951827, -0.3350846 ,  2.63032828],\n",
       "       [ 1.01282964,  0.90603424,  1.12671834],\n",
       "       [ 1.67249189, -0.93707428,  0.02213294],\n",
       "       [ 0.32895383,  0.07048651, -0.53939677],\n",
       "       [-1.36847169,  1.25600154, -0.23204797],\n",
       "       [-1.06137015, -0.22263717, -1.68560592],\n",
       "       [ 0.14544052, -0.04990876,  0.84376818],\n",
       "       [ 0.42282321, -1.01309751, -0.69974389],\n",
       "       [-0.76131945,  0.35188612,  0.76595526],\n",
       "       [-0.25616143,  0.96715444, -0.27976697],\n",
       "       [ 0.23219707,  0.22201751,  1.66085455],\n",
       "       [-0.13667371, -1.7504853 ,  3.06475084],\n",
       "       [-1.32481096,  1.90450517,  0.18783268],\n",
       "       [ 0.19389983, -2.12353412, -0.16903827],\n",
       "       [-0.61547789, -0.44619484,  0.47941145],\n",
       "       [-1.37788679, -0.37099572, -1.60215056],\n",
       "       [ 0.75314012, -1.58333475, -0.47602699],\n",
       "       [ 2.73023545, -0.88467795, -1.5963174 ],\n",
       "       [-0.60260834, -1.78462996,  0.054655  ],\n",
       "       [ 0.23222649, -1.72402584, -0.1709928 ],\n",
       "       [ 0.67082851, -0.60526952,  0.61359152],\n",
       "       [ 0.65594151, -0.20097166,  1.35297333],\n",
       "       [ 0.18846393, -1.11634582, -1.66125655],\n",
       "       [-1.25323656, -0.36265051, -0.51009865],\n",
       "       [ 0.2962552 , -0.96126663,  0.43888985],\n",
       "       [ 0.01955569,  0.83742553,  0.65635323],\n",
       "       [-0.4727897 , -0.48934776,  1.17578758],\n",
       "       [-0.49572694,  0.98185807, -0.02864562],\n",
       "       [ 0.65826268,  0.53854908,  0.36288769],\n",
       "       [ 0.68636117,  0.38001085,  0.59310871],\n",
       "       [-0.95019148, -1.11539059,  0.70644968],\n",
       "       [ 0.71028776, -1.08695319, -1.2558341 ],\n",
       "       [-2.81852702, -0.23034657,  0.05324677],\n",
       "       [ 0.82464995, -0.05729552,  0.3688126 ],\n",
       "       [ 0.67515535, -0.61581926,  0.07190193],\n",
       "       [ 1.11630264,  0.53522822, -0.74072572],\n",
       "       [-0.71274014,  2.30221981,  0.8146739 ],\n",
       "       [-0.11053955, -2.17716859, -0.76320052],\n",
       "       [-0.30399587, -0.81642135, -1.343879  ],\n",
       "       [ 0.28664857, -1.0715472 ,  0.71118799]])"
      ]
     },
     "execution_count": 49,
     "metadata": {},
     "output_type": "execute_result"
    }
   ],
   "source": [
    "X = np.random.randn(100,3) # 100 sampels and # features\n",
    "X"
   ]
  },
  {
   "cell_type": "code",
   "execution_count": 51,
   "metadata": {},
   "outputs": [],
   "source": [
    "cov = np.cov(X)"
   ]
  },
  {
   "cell_type": "code",
   "execution_count": 53,
   "metadata": {},
   "outputs": [
    {
     "data": {
      "text/plain": [
       "(100, 100)"
      ]
     },
     "execution_count": 53,
     "metadata": {},
     "output_type": "execute_result"
    }
   ],
   "source": [
    "cov.shape"
   ]
  },
  {
   "cell_type": "code",
   "execution_count": 54,
   "metadata": {
    "collapsed": true
   },
   "outputs": [
    {
     "data": {
      "text/plain": [
       "array([[ 0.91507325, -0.04760538, -0.0053837 ],\n",
       "       [-0.04760538,  1.00821616,  0.11451511],\n",
       "       [-0.0053837 ,  0.11451511,  0.92110214]])"
      ]
     },
     "execution_count": 54,
     "metadata": {},
     "output_type": "execute_result"
    }
   ],
   "source": [
    "cov = np.cov(X.T)  #  calculate the covarience of data set\n",
    "cov               # we have to transposed it fast X.T"
   ]
  },
  {
   "cell_type": "code",
   "execution_count": 55,
   "metadata": {},
   "outputs": [
    {
     "data": {
      "text/plain": [
       "(array([0.83513474, 0.91216364, 1.09709317]),\n",
       " array([[-0.29580744,  0.92753275, -0.22843152],\n",
       "        [-0.58235003,  0.0144554 ,  0.81280962],\n",
       "        [ 0.75720961,  0.37346224,  0.53587271]]))"
      ]
     },
     "execution_count": 55,
     "metadata": {},
     "output_type": "execute_result"
    }
   ],
   "source": [
    "np.linalg.eigh(cov)"
   ]
  },
  {
   "cell_type": "code",
   "execution_count": 56,
   "metadata": {},
   "outputs": [
    {
     "data": {
      "text/plain": [
       "(array([1.09709317, 0.91216364, 0.83513474]),\n",
       " array([[-0.22843152,  0.92753275, -0.29580744],\n",
       "        [ 0.81280962,  0.0144554 , -0.58235003],\n",
       "        [ 0.53587271,  0.37346224,  0.75720961]]))"
      ]
     },
     "execution_count": 56,
     "metadata": {},
     "output_type": "execute_result"
    }
   ],
   "source": [
    "np.linalg.eig(cov)"
   ]
  },
  {
   "cell_type": "code",
   "execution_count": 57,
   "metadata": {},
   "outputs": [
    {
     "data": {
      "text/plain": [
       "(array([1.09709317, 0.91216364, 0.83513474]),\n",
       " array([[-0.22843152,  0.92753275, -0.29580744],\n",
       "        [ 0.81280962,  0.0144554 , -0.58235003],\n",
       "        [ 0.53587271,  0.37346224,  0.75720961]]))"
      ]
     },
     "execution_count": 57,
     "metadata": {},
     "output_type": "execute_result"
    }
   ],
   "source": [
    "np.linalg.eig(cov)"
   ]
  },
  {
   "cell_type": "code",
   "execution_count": 58,
   "metadata": {},
   "outputs": [],
   "source": [
    "                       # lecture 11 solving  a linear System"
   ]
  },
  {
   "cell_type": "code",
   "execution_count": 59,
   "metadata": {},
   "outputs": [
    {
     "data": {
      "text/plain": [
       "array([[1, 2],\n",
       "       [3, 4]])"
      ]
     },
     "execution_count": 59,
     "metadata": {},
     "output_type": "execute_result"
    }
   ],
   "source": [
    "A"
   ]
  },
  {
   "cell_type": "code",
   "execution_count": 60,
   "metadata": {},
   "outputs": [
    {
     "data": {
      "text/plain": [
       "array([3, 4])"
      ]
     },
     "execution_count": 60,
     "metadata": {},
     "output_type": "execute_result"
    }
   ],
   "source": [
    "b "
   ]
  },
  {
   "cell_type": "code",
   "execution_count": 62,
   "metadata": {},
   "outputs": [
    {
     "data": {
      "text/plain": [
       "array([1, 2])"
      ]
     },
     "execution_count": 62,
     "metadata": {},
     "output_type": "execute_result"
    }
   ],
   "source": [
    "b = np.array([1,2])\n",
    "b"
   ]
  },
  {
   "cell_type": "code",
   "execution_count": 68,
   "metadata": {},
   "outputs": [
    {
     "data": {
      "text/plain": [
       "array([2.22044605e-16, 5.00000000e-01])"
      ]
     },
     "execution_count": 68,
     "metadata": {},
     "output_type": "execute_result"
    }
   ],
   "source": [
    "x = (np.linalg.inv(A)).dot(b)\n",
    "x   "
   ]
  },
  {
   "cell_type": "code",
   "execution_count": 64,
   "metadata": {},
   "outputs": [
    {
     "data": {
      "text/plain": [
       "array([0. , 0.5])"
      ]
     },
     "execution_count": 64,
     "metadata": {},
     "output_type": "execute_result"
    }
   ],
   "source": [
    "x = np.linalg.solve(A,b)  # we should always use # solve()  method \n",
    "x"
   ]
  },
  {
   "cell_type": "markdown",
   "metadata": {},
   "source": [
    "#                        # lecture 12 WORD problem"
   ]
  },
  {
   "cell_type": "markdown",
   "metadata": {},
   "source": [
    "# Q. the admission fee at a small fair is $1.50 for children and 44.00 is for adults . on a certain day , 2200 people enter the\n",
    "# fair and $5050 is collected . How many children and how many adults  attended ?\n",
    "# solve : let X1 = number of children and X2 = number of audelts\n",
    "#         x1 + x2 = 2200\n",
    "#         1.5x1 + 4x2 = 5050"
   ]
  },
  {
   "cell_type": "code",
   "execution_count": 72,
   "metadata": {},
   "outputs": [
    {
     "data": {
      "text/plain": [
       "array([[1. , 1. ],\n",
       "       [1.5, 4. ]])"
      ]
     },
     "execution_count": 72,
     "metadata": {},
     "output_type": "execute_result"
    }
   ],
   "source": [
    "A = np.array([[1,1],[1.5,4]])\n",
    "A"
   ]
  },
  {
   "cell_type": "code",
   "execution_count": 73,
   "metadata": {},
   "outputs": [
    {
     "data": {
      "text/plain": [
       "array([2200, 5050])"
      ]
     },
     "execution_count": 73,
     "metadata": {},
     "output_type": "execute_result"
    }
   ],
   "source": [
    "b = np.array([2200,5050])\n",
    "b"
   ]
  },
  {
   "cell_type": "code",
   "execution_count": 74,
   "metadata": {},
   "outputs": [
    {
     "data": {
      "text/plain": [
       "array([1500.,  700.])"
      ]
     },
     "execution_count": 74,
     "metadata": {},
     "output_type": "execute_result"
    }
   ],
   "source": [
    "np.linalg.solve(A,b)"
   ]
  },
  {
   "cell_type": "code",
   "execution_count": null,
   "metadata": {},
   "outputs": [],
   "source": [
    " # ans is 1500 children and 700 audelts"
   ]
  },
  {
   "cell_type": "code",
   "execution_count": null,
   "metadata": {},
   "outputs": [],
   "source": [
    "                                        # 13 PANDAS"
   ]
  },
  {
   "cell_type": "code",
   "execution_count": 81,
   "metadata": {},
   "outputs": [],
   "source": [
    "X = []\n",
    "for line in  open('Boston_house.csv'):\n",
    "    rows = line.split(',')\n",
    "    sample = map(float,rows)\n",
    "    X.append(sample)   \n",
    "    "
   ]
  },
  {
   "cell_type": "code",
   "execution_count": 82,
   "metadata": {
    "collapsed": true
   },
   "outputs": [
    {
     "data": {
      "text/plain": [
       "[<map at 0x20579466a20>,\n",
       " <map at 0x2057982dd68>,\n",
       " <map at 0x2057982df28>,\n",
       " <map at 0x20579851278>,\n",
       " <map at 0x20579851128>,\n",
       " <map at 0x205798515c0>,\n",
       " <map at 0x2057985b630>,\n",
       " <map at 0x2057985b2b0>,\n",
       " <map at 0x2057985b9e8>,\n",
       " <map at 0x2057985b710>,\n",
       " <map at 0x2057986ba58>,\n",
       " <map at 0x2057986b550>,\n",
       " <map at 0x2057986bcf8>,\n",
       " <map at 0x2057986bf98>,\n",
       " <map at 0x2057986f240>,\n",
       " <map at 0x2057986f4e0>,\n",
       " <map at 0x2057986f780>,\n",
       " <map at 0x2057986fa20>,\n",
       " <map at 0x2057986fc88>,\n",
       " <map at 0x2057986ff28>,\n",
       " <map at 0x2057985d208>,\n",
       " <map at 0x2057985d4a8>,\n",
       " <map at 0x2057985d748>,\n",
       " <map at 0x2057985d9b0>,\n",
       " <map at 0x2057985dc50>,\n",
       " <map at 0x2057985def0>,\n",
       " <map at 0x2057986c1d0>,\n",
       " <map at 0x2057986c438>,\n",
       " <map at 0x2057986c6d8>,\n",
       " <map at 0x2057986c978>,\n",
       " <map at 0x2057986cc18>,\n",
       " <map at 0x2057986ceb8>,\n",
       " <map at 0x20579863160>,\n",
       " <map at 0x20579863400>,\n",
       " <map at 0x205798636a0>,\n",
       " <map at 0x20579863940>,\n",
       " <map at 0x20579863ba8>,\n",
       " <map at 0x20579863e48>,\n",
       " <map at 0x20579868128>,\n",
       " <map at 0x205798683c8>,\n",
       " <map at 0x20579868668>,\n",
       " <map at 0x205798688d0>,\n",
       " <map at 0x20579868b70>,\n",
       " <map at 0x20579868e10>,\n",
       " <map at 0x205798610f0>,\n",
       " <map at 0x20579861358>,\n",
       " <map at 0x205798615f8>,\n",
       " <map at 0x20579861898>,\n",
       " <map at 0x20579861b38>,\n",
       " <map at 0x20579861dd8>,\n",
       " <map at 0x2057985e080>,\n",
       " <map at 0x2057985e320>,\n",
       " <map at 0x2057985e5c0>,\n",
       " <map at 0x2057985e860>,\n",
       " <map at 0x2057985eac8>,\n",
       " <map at 0x2057985ed68>,\n",
       " <map at 0x20579873048>,\n",
       " <map at 0x205798732e8>,\n",
       " <map at 0x20579873588>,\n",
       " <map at 0x205798737f0>,\n",
       " <map at 0x20579873a90>,\n",
       " <map at 0x20579873d30>,\n",
       " <map at 0x20579873fd0>,\n",
       " <map at 0x20579874278>,\n",
       " <map at 0x20579874550>,\n",
       " <map at 0x20579874828>,\n",
       " <map at 0x20579874b00>,\n",
       " <map at 0x20579874dd8>,\n",
       " <map at 0x205798750b8>,\n",
       " <map at 0x20579875390>,\n",
       " <map at 0x20579875668>,\n",
       " <map at 0x20579875940>,\n",
       " <map at 0x20579875be0>,\n",
       " <map at 0x20579875eb8>,\n",
       " <map at 0x205798761d0>,\n",
       " <map at 0x205798764a8>,\n",
       " <map at 0x20579876780>,\n",
       " <map at 0x20579876a20>,\n",
       " <map at 0x20579876cf8>,\n",
       " <map at 0x20579876fd0>,\n",
       " <map at 0x205798782e8>,\n",
       " <map at 0x20579878588>,\n",
       " <map at 0x20579878860>,\n",
       " <map at 0x20579878b38>,\n",
       " <map at 0x20579878e10>,\n",
       " <map at 0x20579879128>,\n",
       " <map at 0x205798793c8>,\n",
       " <map at 0x205798796a0>,\n",
       " <map at 0x20579879978>,\n",
       " <map at 0x20579879c50>,\n",
       " <map at 0x20579879ef0>,\n",
       " <map at 0x2057987a208>,\n",
       " <map at 0x2057987a4e0>,\n",
       " <map at 0x2057987a7b8>,\n",
       " <map at 0x2057987aa90>,\n",
       " <map at 0x2057987ad30>,\n",
       " <map at 0x2057987b048>,\n",
       " <map at 0x2057987b320>,\n",
       " <map at 0x2057987b5f8>,\n",
       " <map at 0x2057987b898>,\n",
       " <map at 0x2057987bb70>,\n",
       " <map at 0x2057987be48>,\n",
       " <map at 0x2057987c160>,\n",
       " <map at 0x2057987c438>,\n",
       " <map at 0x2057987c6d8>,\n",
       " <map at 0x2057987c9b0>,\n",
       " <map at 0x2057987cc88>,\n",
       " <map at 0x2057987cf60>,\n",
       " <map at 0x2057987e240>,\n",
       " <map at 0x2057987e518>,\n",
       " <map at 0x2057987e7f0>,\n",
       " <map at 0x2057987eac8>,\n",
       " <map at 0x2057987eda0>,\n",
       " <map at 0x2057987f080>,\n",
       " <map at 0x2057987f358>,\n",
       " <map at 0x2057987f630>,\n",
       " <map at 0x2057987f908>,\n",
       " <map at 0x2057987fba8>,\n",
       " <map at 0x2057987fe80>,\n",
       " <map at 0x205798d0198>,\n",
       " <map at 0x205798d0470>,\n",
       " <map at 0x205798d0748>,\n",
       " <map at 0x205798d09e8>,\n",
       " <map at 0x205798d0cc0>,\n",
       " <map at 0x205798d0f98>,\n",
       " <map at 0x205798d12b0>,\n",
       " <map at 0x205798d1550>,\n",
       " <map at 0x205798d1828>,\n",
       " <map at 0x205798d1b00>,\n",
       " <map at 0x205798d1dd8>,\n",
       " <map at 0x205798d30f0>,\n",
       " <map at 0x205798d3390>,\n",
       " <map at 0x205798d3668>,\n",
       " <map at 0x205798d3940>,\n",
       " <map at 0x205798d3c18>,\n",
       " <map at 0x205798d3eb8>,\n",
       " <map at 0x205798d41d0>,\n",
       " <map at 0x205798d44a8>,\n",
       " <map at 0x205798d4780>,\n",
       " <map at 0x205798d4a58>,\n",
       " <map at 0x205798d4cf8>,\n",
       " <map at 0x205798d4fd0>,\n",
       " <map at 0x205798d52e8>,\n",
       " <map at 0x205798d55c0>,\n",
       " <map at 0x205798d5860>,\n",
       " <map at 0x205798d5b38>,\n",
       " <map at 0x205798d5e10>,\n",
       " <map at 0x205798d6128>,\n",
       " <map at 0x205798d6400>,\n",
       " <map at 0x205798d66a0>,\n",
       " <map at 0x205798d6978>,\n",
       " <map at 0x205798d6c50>,\n",
       " <map at 0x205798d6f28>,\n",
       " <map at 0x205798d8208>,\n",
       " <map at 0x205798d84e0>,\n",
       " <map at 0x205798d87b8>,\n",
       " <map at 0x205798d8a90>,\n",
       " <map at 0x205798d8d68>,\n",
       " <map at 0x205798d9048>,\n",
       " <map at 0x205798d9320>,\n",
       " <map at 0x205798d95f8>,\n",
       " <map at 0x205798d98d0>,\n",
       " <map at 0x205798d9b70>,\n",
       " <map at 0x205798d9e48>,\n",
       " <map at 0x205798da160>,\n",
       " <map at 0x205798da438>,\n",
       " <map at 0x205798da710>,\n",
       " <map at 0x205798da9b0>,\n",
       " <map at 0x205798dac88>,\n",
       " <map at 0x205798daf60>,\n",
       " <map at 0x2057986b860>,\n",
       " <map at 0x20579853cc0>,\n",
       " <map at 0x20579853438>,\n",
       " <map at 0x20579853240>,\n",
       " <map at 0x205798132b0>,\n",
       " <map at 0x205798db4a8>,\n",
       " <map at 0x205798db710>,\n",
       " <map at 0x205798db9b0>,\n",
       " <map at 0x205798dbc50>,\n",
       " <map at 0x205798dbef0>,\n",
       " <map at 0x2057986e198>,\n",
       " <map at 0x2057986e438>,\n",
       " <map at 0x2057986e6d8>,\n",
       " <map at 0x2057986e978>,\n",
       " <map at 0x2057986ec50>,\n",
       " <map at 0x2057986eef0>,\n",
       " <map at 0x205798dc208>,\n",
       " <map at 0x205798dc4e0>,\n",
       " <map at 0x205798dc7b8>,\n",
       " <map at 0x205798dca58>,\n",
       " <map at 0x205798dcd30>,\n",
       " <map at 0x205798dd048>,\n",
       " <map at 0x205798dd320>,\n",
       " <map at 0x205798dd5f8>,\n",
       " <map at 0x205798dd898>,\n",
       " <map at 0x205798ddb70>,\n",
       " <map at 0x205798dde48>,\n",
       " <map at 0x205798de160>,\n",
       " <map at 0x205798de400>,\n",
       " <map at 0x205798de6d8>,\n",
       " <map at 0x205798de9b0>,\n",
       " <map at 0x205798dec88>,\n",
       " <map at 0x205798def60>,\n",
       " <map at 0x205798e0240>,\n",
       " <map at 0x205798e0518>,\n",
       " <map at 0x205798e07f0>,\n",
       " <map at 0x205798e0ac8>,\n",
       " <map at 0x205798e0d68>,\n",
       " <map at 0x205798e1080>,\n",
       " <map at 0x205798e1358>,\n",
       " <map at 0x205798e1630>,\n",
       " <map at 0x205798e1908>,\n",
       " <map at 0x205798e1ba8>,\n",
       " <map at 0x205798e1e80>,\n",
       " <map at 0x205798e2198>,\n",
       " <map at 0x205798e2470>,\n",
       " <map at 0x205798e2710>,\n",
       " <map at 0x205798e29e8>,\n",
       " <map at 0x205798e2cc0>,\n",
       " <map at 0x205798e2f98>,\n",
       " <map at 0x205798e32b0>,\n",
       " <map at 0x205798e3550>,\n",
       " <map at 0x205798e3828>,\n",
       " <map at 0x205798e3b00>,\n",
       " <map at 0x205798e3dd8>,\n",
       " <map at 0x205798e40b8>,\n",
       " <map at 0x205798e4390>,\n",
       " <map at 0x205798e4668>,\n",
       " <map at 0x205798e4940>,\n",
       " <map at 0x205798e4c18>,\n",
       " <map at 0x205798e4eb8>,\n",
       " <map at 0x205798e61d0>,\n",
       " <map at 0x205798e64a8>,\n",
       " <map at 0x205798e6780>,\n",
       " <map at 0x205798e6a20>,\n",
       " <map at 0x205798e6cf8>,\n",
       " <map at 0x205798e6fd0>,\n",
       " <map at 0x205798e72e8>,\n",
       " <map at 0x205798e75c0>,\n",
       " <map at 0x205798e7860>,\n",
       " <map at 0x205798e7b38>,\n",
       " <map at 0x205798e7e10>,\n",
       " <map at 0x205798e8128>,\n",
       " <map at 0x205798e83c8>,\n",
       " <map at 0x205798e86a0>,\n",
       " <map at 0x205798e8978>,\n",
       " <map at 0x205798e8c50>,\n",
       " <map at 0x205798e8f28>,\n",
       " <map at 0x205798e9208>,\n",
       " <map at 0x205798e94e0>,\n",
       " <map at 0x205798e97b8>,\n",
       " <map at 0x205798e9a90>,\n",
       " <map at 0x205798e9d30>,\n",
       " <map at 0x205798eb048>,\n",
       " <map at 0x205798eb320>,\n",
       " <map at 0x205798eb5f8>,\n",
       " <map at 0x205798eb8d0>,\n",
       " <map at 0x205798ebb70>,\n",
       " <map at 0x205798ebe48>,\n",
       " <map at 0x205798ec160>,\n",
       " <map at 0x205798ec438>,\n",
       " <map at 0x205798ec6d8>,\n",
       " <map at 0x205798ec9b0>,\n",
       " <map at 0x205798ecc88>,\n",
       " <map at 0x205798ecf60>,\n",
       " <map at 0x205798ed278>,\n",
       " <map at 0x205798ed518>,\n",
       " <map at 0x205798ed7f0>,\n",
       " <map at 0x205798edac8>,\n",
       " <map at 0x205798edda0>,\n",
       " <map at 0x205798ee080>,\n",
       " <map at 0x205798ee358>,\n",
       " <map at 0x205798ee630>,\n",
       " <map at 0x205798ee908>,\n",
       " <map at 0x205798eebe0>,\n",
       " <map at 0x205798eee80>,\n",
       " <map at 0x205798ef198>,\n",
       " <map at 0x205798ef470>,\n",
       " <map at 0x205798ef748>,\n",
       " <map at 0x205798ef9e8>,\n",
       " <map at 0x205798efcc0>,\n",
       " <map at 0x205798eff98>,\n",
       " <map at 0x205798f12b0>,\n",
       " <map at 0x205798f1588>,\n",
       " <map at 0x205798f1828>,\n",
       " <map at 0x205798f1b00>,\n",
       " <map at 0x205798f1dd8>,\n",
       " <map at 0x205798f20f0>,\n",
       " <map at 0x205798f2390>,\n",
       " <map at 0x205798f2668>,\n",
       " <map at 0x205798f2940>,\n",
       " <map at 0x205798f2c18>,\n",
       " <map at 0x205798f2ef0>,\n",
       " <map at 0x205798f31d0>,\n",
       " <map at 0x205798f34a8>,\n",
       " <map at 0x205798f3780>,\n",
       " <map at 0x205798f3a58>,\n",
       " <map at 0x205798f3cf8>,\n",
       " <map at 0x205798f3fd0>,\n",
       " <map at 0x205798f42e8>,\n",
       " <map at 0x205798f45c0>,\n",
       " <map at 0x205798f4898>,\n",
       " <map at 0x205798f4b38>,\n",
       " <map at 0x205798f4e10>,\n",
       " <map at 0x205798f6128>,\n",
       " <map at 0x205798f6400>,\n",
       " <map at 0x205798f66a0>,\n",
       " <map at 0x205798f6978>,\n",
       " <map at 0x205798f6c50>,\n",
       " <map at 0x205798f6f28>,\n",
       " <map at 0x205798f7240>,\n",
       " <map at 0x205798f74e0>,\n",
       " <map at 0x205798f77b8>,\n",
       " <map at 0x205798f7a90>,\n",
       " <map at 0x205798f7d68>,\n",
       " <map at 0x205798f8048>,\n",
       " <map at 0x205798f8320>,\n",
       " <map at 0x205798f85f8>,\n",
       " <map at 0x205798f88d0>,\n",
       " <map at 0x205798f8ba8>,\n",
       " <map at 0x205798f8e48>,\n",
       " <map at 0x205798f9160>,\n",
       " <map at 0x205798f9438>,\n",
       " <map at 0x205798f9710>,\n",
       " <map at 0x205798f99b0>]"
      ]
     },
     "execution_count": 82,
     "metadata": {},
     "output_type": "execute_result"
    }
   ],
   "source": [
    "X"
   ]
  },
  {
   "cell_type": "code",
   "execution_count": 87,
   "metadata": {},
   "outputs": [
    {
     "data": {
      "text/plain": [
       "numpy.ndarray"
      ]
     },
     "execution_count": 87,
     "metadata": {},
     "output_type": "execute_result"
    }
   ],
   "source": [
    "type(X)\n"
   ]
  },
  {
   "cell_type": "code",
   "execution_count": 83,
   "metadata": {},
   "outputs": [],
   "source": [
    "X=np.array(X)"
   ]
  },
  {
   "cell_type": "code",
   "execution_count": 84,
   "metadata": {
    "collapsed": true
   },
   "outputs": [
    {
     "data": {
      "text/plain": [
       "array([<map object at 0x0000020579466A20>,\n",
       "       <map object at 0x000002057982DD68>,\n",
       "       <map object at 0x000002057982DF28>,\n",
       "       <map object at 0x0000020579851278>,\n",
       "       <map object at 0x0000020579851128>,\n",
       "       <map object at 0x00000205798515C0>,\n",
       "       <map object at 0x000002057985B630>,\n",
       "       <map object at 0x000002057985B2B0>,\n",
       "       <map object at 0x000002057985B9E8>,\n",
       "       <map object at 0x000002057985B710>,\n",
       "       <map object at 0x000002057986BA58>,\n",
       "       <map object at 0x000002057986B550>,\n",
       "       <map object at 0x000002057986BCF8>,\n",
       "       <map object at 0x000002057986BF98>,\n",
       "       <map object at 0x000002057986F240>,\n",
       "       <map object at 0x000002057986F4E0>,\n",
       "       <map object at 0x000002057986F780>,\n",
       "       <map object at 0x000002057986FA20>,\n",
       "       <map object at 0x000002057986FC88>,\n",
       "       <map object at 0x000002057986FF28>,\n",
       "       <map object at 0x000002057985D208>,\n",
       "       <map object at 0x000002057985D4A8>,\n",
       "       <map object at 0x000002057985D748>,\n",
       "       <map object at 0x000002057985D9B0>,\n",
       "       <map object at 0x000002057985DC50>,\n",
       "       <map object at 0x000002057985DEF0>,\n",
       "       <map object at 0x000002057986C1D0>,\n",
       "       <map object at 0x000002057986C438>,\n",
       "       <map object at 0x000002057986C6D8>,\n",
       "       <map object at 0x000002057986C978>,\n",
       "       <map object at 0x000002057986CC18>,\n",
       "       <map object at 0x000002057986CEB8>,\n",
       "       <map object at 0x0000020579863160>,\n",
       "       <map object at 0x0000020579863400>,\n",
       "       <map object at 0x00000205798636A0>,\n",
       "       <map object at 0x0000020579863940>,\n",
       "       <map object at 0x0000020579863BA8>,\n",
       "       <map object at 0x0000020579863E48>,\n",
       "       <map object at 0x0000020579868128>,\n",
       "       <map object at 0x00000205798683C8>,\n",
       "       <map object at 0x0000020579868668>,\n",
       "       <map object at 0x00000205798688D0>,\n",
       "       <map object at 0x0000020579868B70>,\n",
       "       <map object at 0x0000020579868E10>,\n",
       "       <map object at 0x00000205798610F0>,\n",
       "       <map object at 0x0000020579861358>,\n",
       "       <map object at 0x00000205798615F8>,\n",
       "       <map object at 0x0000020579861898>,\n",
       "       <map object at 0x0000020579861B38>,\n",
       "       <map object at 0x0000020579861DD8>,\n",
       "       <map object at 0x000002057985E080>,\n",
       "       <map object at 0x000002057985E320>,\n",
       "       <map object at 0x000002057985E5C0>,\n",
       "       <map object at 0x000002057985E860>,\n",
       "       <map object at 0x000002057985EAC8>,\n",
       "       <map object at 0x000002057985ED68>,\n",
       "       <map object at 0x0000020579873048>,\n",
       "       <map object at 0x00000205798732E8>,\n",
       "       <map object at 0x0000020579873588>,\n",
       "       <map object at 0x00000205798737F0>,\n",
       "       <map object at 0x0000020579873A90>,\n",
       "       <map object at 0x0000020579873D30>,\n",
       "       <map object at 0x0000020579873FD0>,\n",
       "       <map object at 0x0000020579874278>,\n",
       "       <map object at 0x0000020579874550>,\n",
       "       <map object at 0x0000020579874828>,\n",
       "       <map object at 0x0000020579874B00>,\n",
       "       <map object at 0x0000020579874DD8>,\n",
       "       <map object at 0x00000205798750B8>,\n",
       "       <map object at 0x0000020579875390>,\n",
       "       <map object at 0x0000020579875668>,\n",
       "       <map object at 0x0000020579875940>,\n",
       "       <map object at 0x0000020579875BE0>,\n",
       "       <map object at 0x0000020579875EB8>,\n",
       "       <map object at 0x00000205798761D0>,\n",
       "       <map object at 0x00000205798764A8>,\n",
       "       <map object at 0x0000020579876780>,\n",
       "       <map object at 0x0000020579876A20>,\n",
       "       <map object at 0x0000020579876CF8>,\n",
       "       <map object at 0x0000020579876FD0>,\n",
       "       <map object at 0x00000205798782E8>,\n",
       "       <map object at 0x0000020579878588>,\n",
       "       <map object at 0x0000020579878860>,\n",
       "       <map object at 0x0000020579878B38>,\n",
       "       <map object at 0x0000020579878E10>,\n",
       "       <map object at 0x0000020579879128>,\n",
       "       <map object at 0x00000205798793C8>,\n",
       "       <map object at 0x00000205798796A0>,\n",
       "       <map object at 0x0000020579879978>,\n",
       "       <map object at 0x0000020579879C50>,\n",
       "       <map object at 0x0000020579879EF0>,\n",
       "       <map object at 0x000002057987A208>,\n",
       "       <map object at 0x000002057987A4E0>,\n",
       "       <map object at 0x000002057987A7B8>,\n",
       "       <map object at 0x000002057987AA90>,\n",
       "       <map object at 0x000002057987AD30>,\n",
       "       <map object at 0x000002057987B048>,\n",
       "       <map object at 0x000002057987B320>,\n",
       "       <map object at 0x000002057987B5F8>,\n",
       "       <map object at 0x000002057987B898>,\n",
       "       <map object at 0x000002057987BB70>,\n",
       "       <map object at 0x000002057987BE48>,\n",
       "       <map object at 0x000002057987C160>,\n",
       "       <map object at 0x000002057987C438>,\n",
       "       <map object at 0x000002057987C6D8>,\n",
       "       <map object at 0x000002057987C9B0>,\n",
       "       <map object at 0x000002057987CC88>,\n",
       "       <map object at 0x000002057987CF60>,\n",
       "       <map object at 0x000002057987E240>,\n",
       "       <map object at 0x000002057987E518>,\n",
       "       <map object at 0x000002057987E7F0>,\n",
       "       <map object at 0x000002057987EAC8>,\n",
       "       <map object at 0x000002057987EDA0>,\n",
       "       <map object at 0x000002057987F080>,\n",
       "       <map object at 0x000002057987F358>,\n",
       "       <map object at 0x000002057987F630>,\n",
       "       <map object at 0x000002057987F908>,\n",
       "       <map object at 0x000002057987FBA8>,\n",
       "       <map object at 0x000002057987FE80>,\n",
       "       <map object at 0x00000205798D0198>,\n",
       "       <map object at 0x00000205798D0470>,\n",
       "       <map object at 0x00000205798D0748>,\n",
       "       <map object at 0x00000205798D09E8>,\n",
       "       <map object at 0x00000205798D0CC0>,\n",
       "       <map object at 0x00000205798D0F98>,\n",
       "       <map object at 0x00000205798D12B0>,\n",
       "       <map object at 0x00000205798D1550>,\n",
       "       <map object at 0x00000205798D1828>,\n",
       "       <map object at 0x00000205798D1B00>,\n",
       "       <map object at 0x00000205798D1DD8>,\n",
       "       <map object at 0x00000205798D30F0>,\n",
       "       <map object at 0x00000205798D3390>,\n",
       "       <map object at 0x00000205798D3668>,\n",
       "       <map object at 0x00000205798D3940>,\n",
       "       <map object at 0x00000205798D3C18>,\n",
       "       <map object at 0x00000205798D3EB8>,\n",
       "       <map object at 0x00000205798D41D0>,\n",
       "       <map object at 0x00000205798D44A8>,\n",
       "       <map object at 0x00000205798D4780>,\n",
       "       <map object at 0x00000205798D4A58>,\n",
       "       <map object at 0x00000205798D4CF8>,\n",
       "       <map object at 0x00000205798D4FD0>,\n",
       "       <map object at 0x00000205798D52E8>,\n",
       "       <map object at 0x00000205798D55C0>,\n",
       "       <map object at 0x00000205798D5860>,\n",
       "       <map object at 0x00000205798D5B38>,\n",
       "       <map object at 0x00000205798D5E10>,\n",
       "       <map object at 0x00000205798D6128>,\n",
       "       <map object at 0x00000205798D6400>,\n",
       "       <map object at 0x00000205798D66A0>,\n",
       "       <map object at 0x00000205798D6978>,\n",
       "       <map object at 0x00000205798D6C50>,\n",
       "       <map object at 0x00000205798D6F28>,\n",
       "       <map object at 0x00000205798D8208>,\n",
       "       <map object at 0x00000205798D84E0>,\n",
       "       <map object at 0x00000205798D87B8>,\n",
       "       <map object at 0x00000205798D8A90>,\n",
       "       <map object at 0x00000205798D8D68>,\n",
       "       <map object at 0x00000205798D9048>,\n",
       "       <map object at 0x00000205798D9320>,\n",
       "       <map object at 0x00000205798D95F8>,\n",
       "       <map object at 0x00000205798D98D0>,\n",
       "       <map object at 0x00000205798D9B70>,\n",
       "       <map object at 0x00000205798D9E48>,\n",
       "       <map object at 0x00000205798DA160>,\n",
       "       <map object at 0x00000205798DA438>,\n",
       "       <map object at 0x00000205798DA710>,\n",
       "       <map object at 0x00000205798DA9B0>,\n",
       "       <map object at 0x00000205798DAC88>,\n",
       "       <map object at 0x00000205798DAF60>,\n",
       "       <map object at 0x000002057986B860>,\n",
       "       <map object at 0x0000020579853CC0>,\n",
       "       <map object at 0x0000020579853438>,\n",
       "       <map object at 0x0000020579853240>,\n",
       "       <map object at 0x00000205798132B0>,\n",
       "       <map object at 0x00000205798DB4A8>,\n",
       "       <map object at 0x00000205798DB710>,\n",
       "       <map object at 0x00000205798DB9B0>,\n",
       "       <map object at 0x00000205798DBC50>,\n",
       "       <map object at 0x00000205798DBEF0>,\n",
       "       <map object at 0x000002057986E198>,\n",
       "       <map object at 0x000002057986E438>,\n",
       "       <map object at 0x000002057986E6D8>,\n",
       "       <map object at 0x000002057986E978>,\n",
       "       <map object at 0x000002057986EC50>,\n",
       "       <map object at 0x000002057986EEF0>,\n",
       "       <map object at 0x00000205798DC208>,\n",
       "       <map object at 0x00000205798DC4E0>,\n",
       "       <map object at 0x00000205798DC7B8>,\n",
       "       <map object at 0x00000205798DCA58>,\n",
       "       <map object at 0x00000205798DCD30>,\n",
       "       <map object at 0x00000205798DD048>,\n",
       "       <map object at 0x00000205798DD320>,\n",
       "       <map object at 0x00000205798DD5F8>,\n",
       "       <map object at 0x00000205798DD898>,\n",
       "       <map object at 0x00000205798DDB70>,\n",
       "       <map object at 0x00000205798DDE48>,\n",
       "       <map object at 0x00000205798DE160>,\n",
       "       <map object at 0x00000205798DE400>,\n",
       "       <map object at 0x00000205798DE6D8>,\n",
       "       <map object at 0x00000205798DE9B0>,\n",
       "       <map object at 0x00000205798DEC88>,\n",
       "       <map object at 0x00000205798DEF60>,\n",
       "       <map object at 0x00000205798E0240>,\n",
       "       <map object at 0x00000205798E0518>,\n",
       "       <map object at 0x00000205798E07F0>,\n",
       "       <map object at 0x00000205798E0AC8>,\n",
       "       <map object at 0x00000205798E0D68>,\n",
       "       <map object at 0x00000205798E1080>,\n",
       "       <map object at 0x00000205798E1358>,\n",
       "       <map object at 0x00000205798E1630>,\n",
       "       <map object at 0x00000205798E1908>,\n",
       "       <map object at 0x00000205798E1BA8>,\n",
       "       <map object at 0x00000205798E1E80>,\n",
       "       <map object at 0x00000205798E2198>,\n",
       "       <map object at 0x00000205798E2470>,\n",
       "       <map object at 0x00000205798E2710>,\n",
       "       <map object at 0x00000205798E29E8>,\n",
       "       <map object at 0x00000205798E2CC0>,\n",
       "       <map object at 0x00000205798E2F98>,\n",
       "       <map object at 0x00000205798E32B0>,\n",
       "       <map object at 0x00000205798E3550>,\n",
       "       <map object at 0x00000205798E3828>,\n",
       "       <map object at 0x00000205798E3B00>,\n",
       "       <map object at 0x00000205798E3DD8>,\n",
       "       <map object at 0x00000205798E40B8>,\n",
       "       <map object at 0x00000205798E4390>,\n",
       "       <map object at 0x00000205798E4668>,\n",
       "       <map object at 0x00000205798E4940>,\n",
       "       <map object at 0x00000205798E4C18>,\n",
       "       <map object at 0x00000205798E4EB8>,\n",
       "       <map object at 0x00000205798E61D0>,\n",
       "       <map object at 0x00000205798E64A8>,\n",
       "       <map object at 0x00000205798E6780>,\n",
       "       <map object at 0x00000205798E6A20>,\n",
       "       <map object at 0x00000205798E6CF8>,\n",
       "       <map object at 0x00000205798E6FD0>,\n",
       "       <map object at 0x00000205798E72E8>,\n",
       "       <map object at 0x00000205798E75C0>,\n",
       "       <map object at 0x00000205798E7860>,\n",
       "       <map object at 0x00000205798E7B38>,\n",
       "       <map object at 0x00000205798E7E10>,\n",
       "       <map object at 0x00000205798E8128>,\n",
       "       <map object at 0x00000205798E83C8>,\n",
       "       <map object at 0x00000205798E86A0>,\n",
       "       <map object at 0x00000205798E8978>,\n",
       "       <map object at 0x00000205798E8C50>,\n",
       "       <map object at 0x00000205798E8F28>,\n",
       "       <map object at 0x00000205798E9208>,\n",
       "       <map object at 0x00000205798E94E0>,\n",
       "       <map object at 0x00000205798E97B8>,\n",
       "       <map object at 0x00000205798E9A90>,\n",
       "       <map object at 0x00000205798E9D30>,\n",
       "       <map object at 0x00000205798EB048>,\n",
       "       <map object at 0x00000205798EB320>,\n",
       "       <map object at 0x00000205798EB5F8>,\n",
       "       <map object at 0x00000205798EB8D0>,\n",
       "       <map object at 0x00000205798EBB70>,\n",
       "       <map object at 0x00000205798EBE48>,\n",
       "       <map object at 0x00000205798EC160>,\n",
       "       <map object at 0x00000205798EC438>,\n",
       "       <map object at 0x00000205798EC6D8>,\n",
       "       <map object at 0x00000205798EC9B0>,\n",
       "       <map object at 0x00000205798ECC88>,\n",
       "       <map object at 0x00000205798ECF60>,\n",
       "       <map object at 0x00000205798ED278>,\n",
       "       <map object at 0x00000205798ED518>,\n",
       "       <map object at 0x00000205798ED7F0>,\n",
       "       <map object at 0x00000205798EDAC8>,\n",
       "       <map object at 0x00000205798EDDA0>,\n",
       "       <map object at 0x00000205798EE080>,\n",
       "       <map object at 0x00000205798EE358>,\n",
       "       <map object at 0x00000205798EE630>,\n",
       "       <map object at 0x00000205798EE908>,\n",
       "       <map object at 0x00000205798EEBE0>,\n",
       "       <map object at 0x00000205798EEE80>,\n",
       "       <map object at 0x00000205798EF198>,\n",
       "       <map object at 0x00000205798EF470>,\n",
       "       <map object at 0x00000205798EF748>,\n",
       "       <map object at 0x00000205798EF9E8>,\n",
       "       <map object at 0x00000205798EFCC0>,\n",
       "       <map object at 0x00000205798EFF98>,\n",
       "       <map object at 0x00000205798F12B0>,\n",
       "       <map object at 0x00000205798F1588>,\n",
       "       <map object at 0x00000205798F1828>,\n",
       "       <map object at 0x00000205798F1B00>,\n",
       "       <map object at 0x00000205798F1DD8>,\n",
       "       <map object at 0x00000205798F20F0>,\n",
       "       <map object at 0x00000205798F2390>,\n",
       "       <map object at 0x00000205798F2668>,\n",
       "       <map object at 0x00000205798F2940>,\n",
       "       <map object at 0x00000205798F2C18>,\n",
       "       <map object at 0x00000205798F2EF0>,\n",
       "       <map object at 0x00000205798F31D0>,\n",
       "       <map object at 0x00000205798F34A8>,\n",
       "       <map object at 0x00000205798F3780>,\n",
       "       <map object at 0x00000205798F3A58>,\n",
       "       <map object at 0x00000205798F3CF8>,\n",
       "       <map object at 0x00000205798F3FD0>,\n",
       "       <map object at 0x00000205798F42E8>,\n",
       "       <map object at 0x00000205798F45C0>,\n",
       "       <map object at 0x00000205798F4898>,\n",
       "       <map object at 0x00000205798F4B38>,\n",
       "       <map object at 0x00000205798F4E10>,\n",
       "       <map object at 0x00000205798F6128>,\n",
       "       <map object at 0x00000205798F6400>,\n",
       "       <map object at 0x00000205798F66A0>,\n",
       "       <map object at 0x00000205798F6978>,\n",
       "       <map object at 0x00000205798F6C50>,\n",
       "       <map object at 0x00000205798F6F28>,\n",
       "       <map object at 0x00000205798F7240>,\n",
       "       <map object at 0x00000205798F74E0>,\n",
       "       <map object at 0x00000205798F77B8>,\n",
       "       <map object at 0x00000205798F7A90>,\n",
       "       <map object at 0x00000205798F7D68>,\n",
       "       <map object at 0x00000205798F8048>,\n",
       "       <map object at 0x00000205798F8320>,\n",
       "       <map object at 0x00000205798F85F8>,\n",
       "       <map object at 0x00000205798F88D0>,\n",
       "       <map object at 0x00000205798F8BA8>,\n",
       "       <map object at 0x00000205798F8E48>,\n",
       "       <map object at 0x00000205798F9160>,\n",
       "       <map object at 0x00000205798F9438>,\n",
       "       <map object at 0x00000205798F9710>,\n",
       "       <map object at 0x00000205798F99B0>], dtype=object)"
      ]
     },
     "execution_count": 84,
     "metadata": {},
     "output_type": "execute_result"
    }
   ],
   "source": [
    "X"
   ]
  },
  {
   "cell_type": "code",
   "execution_count": 85,
   "metadata": {},
   "outputs": [
    {
     "data": {
      "text/plain": [
       "(325,)"
      ]
     },
     "execution_count": 85,
     "metadata": {},
     "output_type": "execute_result"
    }
   ],
   "source": [
    "X.shape"
   ]
  },
  {
   "cell_type": "code",
   "execution_count": 88,
   "metadata": {},
   "outputs": [
    {
     "data": {
      "text/plain": [
       "numpy.ndarray"
      ]
     },
     "execution_count": 88,
     "metadata": {},
     "output_type": "execute_result"
    }
   ],
   "source": [
    "type(X)"
   ]
  },
  {
   "cell_type": "code",
   "execution_count": null,
   "metadata": {},
   "outputs": [],
   "source": [
    "                              # 14 data frame"
   ]
  },
  {
   "cell_type": "code",
   "execution_count": 93,
   "metadata": {},
   "outputs": [],
   "source": [
    "import pandas as pd\n",
    "P = pd.read_csv(\"factbook.csv\")"
   ]
  },
  {
   "cell_type": "code",
   "execution_count": 94,
   "metadata": {
    "collapsed": true
   },
   "outputs": [
    {
     "data": {
      "text/html": [
       "<div>\n",
       "<style scoped>\n",
       "    .dataframe tbody tr th:only-of-type {\n",
       "        vertical-align: middle;\n",
       "    }\n",
       "\n",
       "    .dataframe tbody tr th {\n",
       "        vertical-align: top;\n",
       "    }\n",
       "\n",
       "    .dataframe thead th {\n",
       "        text-align: right;\n",
       "    }\n",
       "</style>\n",
       "<table border=\"1\" class=\"dataframe\">\n",
       "  <thead>\n",
       "    <tr style=\"text-align: right;\">\n",
       "      <th></th>\n",
       "      <th>Country;Area(sq km);Birth rate(births/1000 population);Current account balance;Death rate(deaths/1000 population);Debt - external;Electricity - consumption(kWh);Electricity - production(kWh);Exports;GDP;GDP - per capita;GDP - real growth rate(%);HIV/AIDS - adult prevalence rate(%);HIV/AIDS - deaths;HIV/AIDS - people living with HIV/AIDS;Highways(km);Imports;Industrial production growth rate(%);Infant mortality rate(deaths/1000 live births);Inflation rate (consumer prices)(%);Internet hosts;Internet users;Investment (gross fixed)(% of GDP);Labor force;Life expectancy at birth(years);Military expenditures - dollar figure;Military expenditures - percent of GDP(%);Natural gas - consumption(cu m);Natural gas - exports(cu m);Natural gas - imports(cu m);Natural gas - production(cu m);Natural gas - proved reserves(cu m);Oil - consumption(bbl/day);Oil - exports(bbl/day);Oil - imports(bbl/day);Oil - production(bbl/day);Oil - proved reserves(bbl);Population;Public debt(% of GDP);Railways(km);Reserves of foreign exchange &amp; gold;Telephones - main lines in use;Telephones - mobile cellular;Total fertility rate(children born/woman);Unemployment rate(%)</th>\n",
       "    </tr>\n",
       "  </thead>\n",
       "  <tbody>\n",
       "    <tr>\n",
       "      <th>0</th>\n",
       "      <td>String;double;double;double;double;double;doub...</td>\n",
       "    </tr>\n",
       "    <tr>\n",
       "      <th>1</th>\n",
       "      <td>Afghanistan;647500;47.02;;20.75;8000000000;652...</td>\n",
       "    </tr>\n",
       "    <tr>\n",
       "      <th>2</th>\n",
       "      <td>Akrotiri;123;;;;;;;;;;;;;;;;;;;;;;;;;;;;;;;;;;...</td>\n",
       "    </tr>\n",
       "    <tr>\n",
       "      <th>3</th>\n",
       "      <td>Albania;28748;15.08;-504000000;5.12;1410000000...</td>\n",
       "    </tr>\n",
       "    <tr>\n",
       "      <th>4</th>\n",
       "      <td>Algeria;2381740;17.13;11900000000;4.60;2190000...</td>\n",
       "    </tr>\n",
       "    <tr>\n",
       "      <th>5</th>\n",
       "      <td>American Samoa;199;23.13;;3.33;;120900000;1300...</td>\n",
       "    </tr>\n",
       "    <tr>\n",
       "      <th>6</th>\n",
       "      <td>Andorra;468;9.00;;6.07;;;;58000000;1900000000;...</td>\n",
       "    </tr>\n",
       "    <tr>\n",
       "      <th>7</th>\n",
       "      <td>Angola;1246700;44.64;-37880000;25.90;104500000...</td>\n",
       "    </tr>\n",
       "    <tr>\n",
       "      <th>8</th>\n",
       "      <td>Anguilla;102;14.26;;5.43;8800000;42600000;;260...</td>\n",
       "    </tr>\n",
       "    <tr>\n",
       "      <th>9</th>\n",
       "      <td>Antarctica;14000000;;;;;;;;;;;;;;;;;;;;;;;;;;;...</td>\n",
       "    </tr>\n",
       "    <tr>\n",
       "      <th>10</th>\n",
       "      <td>Antigua and Barbuda;443;17.26;;5.44;231000000;...</td>\n",
       "    </tr>\n",
       "    <tr>\n",
       "      <th>11</th>\n",
       "      <td>Argentina;2766890;16.90;5473000000;7.56;157700...</td>\n",
       "    </tr>\n",
       "    <tr>\n",
       "      <th>12</th>\n",
       "      <td>Armenia;29800;11.76;-240400000;8.16;905000000;...</td>\n",
       "    </tr>\n",
       "    <tr>\n",
       "      <th>13</th>\n",
       "      <td>Aruba;193;11.26;;6.57;285000000;751200000;8077...</td>\n",
       "    </tr>\n",
       "    <tr>\n",
       "      <th>14</th>\n",
       "      <td>Ashmore and Cartier Islands;5;;;;;;;;;;;;;;;;;...</td>\n",
       "    </tr>\n",
       "    <tr>\n",
       "      <th>15</th>\n",
       "      <td>Australia;7686850;12.26;-38300000000;7.44;3087...</td>\n",
       "    </tr>\n",
       "    <tr>\n",
       "      <th>16</th>\n",
       "      <td>Austria;83870;8.81;-3283000000;9.70;1550000000...</td>\n",
       "    </tr>\n",
       "    <tr>\n",
       "      <th>17</th>\n",
       "      <td>Azerbaijan;86600;20.40;-2899000000;9.86;183200...</td>\n",
       "    </tr>\n",
       "    <tr>\n",
       "      <th>18</th>\n",
       "      <td>Bahamas The;13940;17.87;;8.97;308500000;159600...</td>\n",
       "    </tr>\n",
       "    <tr>\n",
       "      <th>19</th>\n",
       "      <td>Bahrain;665;18.10;586100000;4.08;6215000000;63...</td>\n",
       "    </tr>\n",
       "    <tr>\n",
       "      <th>20</th>\n",
       "      <td>Baker Island;1;;;;;;;;;;;;;;;;;;;;;;;;;;;;;;;;...</td>\n",
       "    </tr>\n",
       "    <tr>\n",
       "      <th>21</th>\n",
       "      <td>Bangladesh;144000;30.01;216600000;8.40;1997000...</td>\n",
       "    </tr>\n",
       "    <tr>\n",
       "      <th>22</th>\n",
       "      <td>Barbados;431;12.83;;9.17;668000000;744000000;8...</td>\n",
       "    </tr>\n",
       "    <tr>\n",
       "      <th>23</th>\n",
       "      <td>Bassas da India;0;;;;;;;;;;;;;;;;;;;;;;;;;;;;;...</td>\n",
       "    </tr>\n",
       "    <tr>\n",
       "      <th>24</th>\n",
       "      <td>Belarus;207600;10.83;-1119000000;14.15;6000000...</td>\n",
       "    </tr>\n",
       "    <tr>\n",
       "      <th>25</th>\n",
       "      <td>Belgium;30528;10.48;11400000000;10.22;28300000...</td>\n",
       "    </tr>\n",
       "    <tr>\n",
       "      <th>26</th>\n",
       "      <td>Belize;22966;29.34;-115000000;6.04;1362000000;...</td>\n",
       "    </tr>\n",
       "    <tr>\n",
       "      <th>27</th>\n",
       "      <td>Benin;112620;41.99;-159900000;13.76;1600000000...</td>\n",
       "    </tr>\n",
       "    <tr>\n",
       "      <th>28</th>\n",
       "      <td>Bermuda;53;11.60;;7.63;160000000;598000000;643...</td>\n",
       "    </tr>\n",
       "    <tr>\n",
       "      <th>29</th>\n",
       "      <td>Bhutan;47000;34.03;;12.94;245000000;312900000;...</td>\n",
       "    </tr>\n",
       "    <tr>\n",
       "      <th>...</th>\n",
       "      <td>...</td>\n",
       "    </tr>\n",
       "    <tr>\n",
       "      <th>234</th>\n",
       "      <td>Tanzania;945087;38.16;-327400000;16.71;7321000...</td>\n",
       "    </tr>\n",
       "    <tr>\n",
       "      <th>235</th>\n",
       "      <td>Thailand;514000;15.70;6736000000;7.02;50590000...</td>\n",
       "    </tr>\n",
       "    <tr>\n",
       "      <th>236</th>\n",
       "      <td>Togo;56785;33.48;-125600000;11.80;1400000000;4...</td>\n",
       "    </tr>\n",
       "    <tr>\n",
       "      <th>237</th>\n",
       "      <td>Tokelau;10;;;;0;;;98000;1500000;1000;;;;;;3230...</td>\n",
       "    </tr>\n",
       "    <tr>\n",
       "      <th>238</th>\n",
       "      <td>Tonga;748;25.18;;5.35;63400000;23060000;247900...</td>\n",
       "    </tr>\n",
       "    <tr>\n",
       "      <th>239</th>\n",
       "      <td>Trinidad and Tobago;5128;12.81;1548000000;9.37...</td>\n",
       "    </tr>\n",
       "    <tr>\n",
       "      <th>240</th>\n",
       "      <td>Tromelin Island;1;;;;;;;;;;;;;;;;;;;;;;;;;;;;;...</td>\n",
       "    </tr>\n",
       "    <tr>\n",
       "      <th>241</th>\n",
       "      <td>Tunisia;163610;15.50;71850000;5.09;14710000000...</td>\n",
       "    </tr>\n",
       "    <tr>\n",
       "      <th>242</th>\n",
       "      <td>Turkey;780580;16.83;-15300000000;5.96;16900000...</td>\n",
       "    </tr>\n",
       "    <tr>\n",
       "      <th>243</th>\n",
       "      <td>Turkmenistan;488100;27.68;114000000;8.78;24000...</td>\n",
       "    </tr>\n",
       "    <tr>\n",
       "      <th>244</th>\n",
       "      <td>Turks and Caicos Islands;430;22.23;;4.28;;4650...</td>\n",
       "    </tr>\n",
       "    <tr>\n",
       "      <th>245</th>\n",
       "      <td>Tuvalu;26;21.91;;7.22;;;;1000000;12200000;1100...</td>\n",
       "    </tr>\n",
       "    <tr>\n",
       "      <th>246</th>\n",
       "      <td>Uganda;236040;47.39;-590800000;12.80;386500000...</td>\n",
       "    </tr>\n",
       "    <tr>\n",
       "      <th>247</th>\n",
       "      <td>Ukraine;603700;10.49;4584000000;16.42;16370000...</td>\n",
       "    </tr>\n",
       "    <tr>\n",
       "      <th>248</th>\n",
       "      <td>United Arab Emirates;82880;18.78;6300000000;4....</td>\n",
       "    </tr>\n",
       "    <tr>\n",
       "      <th>249</th>\n",
       "      <td>United Kingdom;244820;10.78;-33460000000;10.18...</td>\n",
       "    </tr>\n",
       "    <tr>\n",
       "      <th>250</th>\n",
       "      <td>United States;9631418;14.14;-646500000000;8.25...</td>\n",
       "    </tr>\n",
       "    <tr>\n",
       "      <th>251</th>\n",
       "      <td>Uruguay;176220;14.09;181800000;9.06;1280000000...</td>\n",
       "    </tr>\n",
       "    <tr>\n",
       "      <th>252</th>\n",
       "      <td>Uzbekistan;447400;26.22;461900000;7.95;4351000...</td>\n",
       "    </tr>\n",
       "    <tr>\n",
       "      <th>253</th>\n",
       "      <td>Vanuatu;12200;23.06;;7.90;83700000;45030000;48...</td>\n",
       "    </tr>\n",
       "    <tr>\n",
       "      <th>254</th>\n",
       "      <td>Venezuela;912050;18.91;14590000000;4.90;332900...</td>\n",
       "    </tr>\n",
       "    <tr>\n",
       "      <th>255</th>\n",
       "      <td>Vietnam;329560;17.07;-2061000000;6.20;16550000...</td>\n",
       "    </tr>\n",
       "    <tr>\n",
       "      <th>256</th>\n",
       "      <td>Virgin Islands;352;14.20;;6.26;;962600000;1035...</td>\n",
       "    </tr>\n",
       "    <tr>\n",
       "      <th>257</th>\n",
       "      <td>Wake Island;7;;;;;;;;;;;;;;;;;;;;;;;;;;;;;;;;;...</td>\n",
       "    </tr>\n",
       "    <tr>\n",
       "      <th>258</th>\n",
       "      <td>Wallis and Futuna;274;;;;;;;250000;60000000;38...</td>\n",
       "    </tr>\n",
       "    <tr>\n",
       "      <th>259</th>\n",
       "      <td>West Bank;5860;32.37;;3.99;108000000;;;2050000...</td>\n",
       "    </tr>\n",
       "    <tr>\n",
       "      <th>260</th>\n",
       "      <td>Western Sahara;266000;;;;;83700000;90000000;;;...</td>\n",
       "    </tr>\n",
       "    <tr>\n",
       "      <th>261</th>\n",
       "      <td>Yemen;527970;43.07;369900000;8.53;5400000000;2...</td>\n",
       "    </tr>\n",
       "    <tr>\n",
       "      <th>262</th>\n",
       "      <td>Zambia;752614;41.38;-181400000;20.23;535300000...</td>\n",
       "    </tr>\n",
       "    <tr>\n",
       "      <th>263</th>\n",
       "      <td>Zimbabwe;390580;29.74;-230300000;24.66;4086000...</td>\n",
       "    </tr>\n",
       "  </tbody>\n",
       "</table>\n",
       "<p>264 rows × 1 columns</p>\n",
       "</div>"
      ],
      "text/plain": [
       "    Country;Area(sq km);Birth rate(births/1000 population);Current account balance;Death rate(deaths/1000 population);Debt - external;Electricity - consumption(kWh);Electricity - production(kWh);Exports;GDP;GDP - per capita;GDP - real growth rate(%);HIV/AIDS - adult prevalence rate(%);HIV/AIDS - deaths;HIV/AIDS - people living with HIV/AIDS;Highways(km);Imports;Industrial production growth rate(%);Infant mortality rate(deaths/1000 live births);Inflation rate (consumer prices)(%);Internet hosts;Internet users;Investment (gross fixed)(% of GDP);Labor force;Life expectancy at birth(years);Military expenditures - dollar figure;Military expenditures - percent of GDP(%);Natural gas - consumption(cu m);Natural gas - exports(cu m);Natural gas - imports(cu m);Natural gas - production(cu m);Natural gas - proved reserves(cu m);Oil - consumption(bbl/day);Oil - exports(bbl/day);Oil - imports(bbl/day);Oil - production(bbl/day);Oil - proved reserves(bbl);Population;Public debt(% of GDP);Railways(km);Reserves of foreign exchange & gold;Telephones - main lines in use;Telephones - mobile cellular;Total fertility rate(children born/woman);Unemployment rate(%)\n",
       "0    String;double;double;double;double;double;doub...                                                                                                                                                                                                                                                                                                                                                                                                                                                                                                                                                                                                                                                                                                                                                                                                                                                                                                                                                                                                                                                                                                                                                \n",
       "1    Afghanistan;647500;47.02;;20.75;8000000000;652...                                                                                                                                                                                                                                                                                                                                                                                                                                                                                                                                                                                                                                                                                                                                                                                                                                                                                                                                                                                                                                                                                                                                                \n",
       "2    Akrotiri;123;;;;;;;;;;;;;;;;;;;;;;;;;;;;;;;;;;...                                                                                                                                                                                                                                                                                                                                                                                                                                                                                                                                                                                                                                                                                                                                                                                                                                                                                                                                                                                                                                                                                                                                                \n",
       "3    Albania;28748;15.08;-504000000;5.12;1410000000...                                                                                                                                                                                                                                                                                                                                                                                                                                                                                                                                                                                                                                                                                                                                                                                                                                                                                                                                                                                                                                                                                                                                                \n",
       "4    Algeria;2381740;17.13;11900000000;4.60;2190000...                                                                                                                                                                                                                                                                                                                                                                                                                                                                                                                                                                                                                                                                                                                                                                                                                                                                                                                                                                                                                                                                                                                                                \n",
       "5    American Samoa;199;23.13;;3.33;;120900000;1300...                                                                                                                                                                                                                                                                                                                                                                                                                                                                                                                                                                                                                                                                                                                                                                                                                                                                                                                                                                                                                                                                                                                                                \n",
       "6    Andorra;468;9.00;;6.07;;;;58000000;1900000000;...                                                                                                                                                                                                                                                                                                                                                                                                                                                                                                                                                                                                                                                                                                                                                                                                                                                                                                                                                                                                                                                                                                                                                \n",
       "7    Angola;1246700;44.64;-37880000;25.90;104500000...                                                                                                                                                                                                                                                                                                                                                                                                                                                                                                                                                                                                                                                                                                                                                                                                                                                                                                                                                                                                                                                                                                                                                \n",
       "8    Anguilla;102;14.26;;5.43;8800000;42600000;;260...                                                                                                                                                                                                                                                                                                                                                                                                                                                                                                                                                                                                                                                                                                                                                                                                                                                                                                                                                                                                                                                                                                                                                \n",
       "9    Antarctica;14000000;;;;;;;;;;;;;;;;;;;;;;;;;;;...                                                                                                                                                                                                                                                                                                                                                                                                                                                                                                                                                                                                                                                                                                                                                                                                                                                                                                                                                                                                                                                                                                                                                \n",
       "10   Antigua and Barbuda;443;17.26;;5.44;231000000;...                                                                                                                                                                                                                                                                                                                                                                                                                                                                                                                                                                                                                                                                                                                                                                                                                                                                                                                                                                                                                                                                                                                                                \n",
       "11   Argentina;2766890;16.90;5473000000;7.56;157700...                                                                                                                                                                                                                                                                                                                                                                                                                                                                                                                                                                                                                                                                                                                                                                                                                                                                                                                                                                                                                                                                                                                                                \n",
       "12   Armenia;29800;11.76;-240400000;8.16;905000000;...                                                                                                                                                                                                                                                                                                                                                                                                                                                                                                                                                                                                                                                                                                                                                                                                                                                                                                                                                                                                                                                                                                                                                \n",
       "13   Aruba;193;11.26;;6.57;285000000;751200000;8077...                                                                                                                                                                                                                                                                                                                                                                                                                                                                                                                                                                                                                                                                                                                                                                                                                                                                                                                                                                                                                                                                                                                                                \n",
       "14   Ashmore and Cartier Islands;5;;;;;;;;;;;;;;;;;...                                                                                                                                                                                                                                                                                                                                                                                                                                                                                                                                                                                                                                                                                                                                                                                                                                                                                                                                                                                                                                                                                                                                                \n",
       "15   Australia;7686850;12.26;-38300000000;7.44;3087...                                                                                                                                                                                                                                                                                                                                                                                                                                                                                                                                                                                                                                                                                                                                                                                                                                                                                                                                                                                                                                                                                                                                                \n",
       "16   Austria;83870;8.81;-3283000000;9.70;1550000000...                                                                                                                                                                                                                                                                                                                                                                                                                                                                                                                                                                                                                                                                                                                                                                                                                                                                                                                                                                                                                                                                                                                                                \n",
       "17   Azerbaijan;86600;20.40;-2899000000;9.86;183200...                                                                                                                                                                                                                                                                                                                                                                                                                                                                                                                                                                                                                                                                                                                                                                                                                                                                                                                                                                                                                                                                                                                                                \n",
       "18   Bahamas The;13940;17.87;;8.97;308500000;159600...                                                                                                                                                                                                                                                                                                                                                                                                                                                                                                                                                                                                                                                                                                                                                                                                                                                                                                                                                                                                                                                                                                                                                \n",
       "19   Bahrain;665;18.10;586100000;4.08;6215000000;63...                                                                                                                                                                                                                                                                                                                                                                                                                                                                                                                                                                                                                                                                                                                                                                                                                                                                                                                                                                                                                                                                                                                                                \n",
       "20   Baker Island;1;;;;;;;;;;;;;;;;;;;;;;;;;;;;;;;;...                                                                                                                                                                                                                                                                                                                                                                                                                                                                                                                                                                                                                                                                                                                                                                                                                                                                                                                                                                                                                                                                                                                                                \n",
       "21   Bangladesh;144000;30.01;216600000;8.40;1997000...                                                                                                                                                                                                                                                                                                                                                                                                                                                                                                                                                                                                                                                                                                                                                                                                                                                                                                                                                                                                                                                                                                                                                \n",
       "22   Barbados;431;12.83;;9.17;668000000;744000000;8...                                                                                                                                                                                                                                                                                                                                                                                                                                                                                                                                                                                                                                                                                                                                                                                                                                                                                                                                                                                                                                                                                                                                                \n",
       "23   Bassas da India;0;;;;;;;;;;;;;;;;;;;;;;;;;;;;;...                                                                                                                                                                                                                                                                                                                                                                                                                                                                                                                                                                                                                                                                                                                                                                                                                                                                                                                                                                                                                                                                                                                                                \n",
       "24   Belarus;207600;10.83;-1119000000;14.15;6000000...                                                                                                                                                                                                                                                                                                                                                                                                                                                                                                                                                                                                                                                                                                                                                                                                                                                                                                                                                                                                                                                                                                                                                \n",
       "25   Belgium;30528;10.48;11400000000;10.22;28300000...                                                                                                                                                                                                                                                                                                                                                                                                                                                                                                                                                                                                                                                                                                                                                                                                                                                                                                                                                                                                                                                                                                                                                \n",
       "26   Belize;22966;29.34;-115000000;6.04;1362000000;...                                                                                                                                                                                                                                                                                                                                                                                                                                                                                                                                                                                                                                                                                                                                                                                                                                                                                                                                                                                                                                                                                                                                                \n",
       "27   Benin;112620;41.99;-159900000;13.76;1600000000...                                                                                                                                                                                                                                                                                                                                                                                                                                                                                                                                                                                                                                                                                                                                                                                                                                                                                                                                                                                                                                                                                                                                                \n",
       "28   Bermuda;53;11.60;;7.63;160000000;598000000;643...                                                                                                                                                                                                                                                                                                                                                                                                                                                                                                                                                                                                                                                                                                                                                                                                                                                                                                                                                                                                                                                                                                                                                \n",
       "29   Bhutan;47000;34.03;;12.94;245000000;312900000;...                                                                                                                                                                                                                                                                                                                                                                                                                                                                                                                                                                                                                                                                                                                                                                                                                                                                                                                                                                                                                                                                                                                                                \n",
       "..                                                 ...                                                                                                                                                                                                                                                                                                                                                                                                                                                                                                                                                                                                                                                                                                                                                                                                                                                                                                                                                                                                                                                                                                                                                \n",
       "234  Tanzania;945087;38.16;-327400000;16.71;7321000...                                                                                                                                                                                                                                                                                                                                                                                                                                                                                                                                                                                                                                                                                                                                                                                                                                                                                                                                                                                                                                                                                                                                                \n",
       "235  Thailand;514000;15.70;6736000000;7.02;50590000...                                                                                                                                                                                                                                                                                                                                                                                                                                                                                                                                                                                                                                                                                                                                                                                                                                                                                                                                                                                                                                                                                                                                                \n",
       "236  Togo;56785;33.48;-125600000;11.80;1400000000;4...                                                                                                                                                                                                                                                                                                                                                                                                                                                                                                                                                                                                                                                                                                                                                                                                                                                                                                                                                                                                                                                                                                                                                \n",
       "237  Tokelau;10;;;;0;;;98000;1500000;1000;;;;;;3230...                                                                                                                                                                                                                                                                                                                                                                                                                                                                                                                                                                                                                                                                                                                                                                                                                                                                                                                                                                                                                                                                                                                                                \n",
       "238  Tonga;748;25.18;;5.35;63400000;23060000;247900...                                                                                                                                                                                                                                                                                                                                                                                                                                                                                                                                                                                                                                                                                                                                                                                                                                                                                                                                                                                                                                                                                                                                                \n",
       "239  Trinidad and Tobago;5128;12.81;1548000000;9.37...                                                                                                                                                                                                                                                                                                                                                                                                                                                                                                                                                                                                                                                                                                                                                                                                                                                                                                                                                                                                                                                                                                                                                \n",
       "240  Tromelin Island;1;;;;;;;;;;;;;;;;;;;;;;;;;;;;;...                                                                                                                                                                                                                                                                                                                                                                                                                                                                                                                                                                                                                                                                                                                                                                                                                                                                                                                                                                                                                                                                                                                                                \n",
       "241  Tunisia;163610;15.50;71850000;5.09;14710000000...                                                                                                                                                                                                                                                                                                                                                                                                                                                                                                                                                                                                                                                                                                                                                                                                                                                                                                                                                                                                                                                                                                                                                \n",
       "242  Turkey;780580;16.83;-15300000000;5.96;16900000...                                                                                                                                                                                                                                                                                                                                                                                                                                                                                                                                                                                                                                                                                                                                                                                                                                                                                                                                                                                                                                                                                                                                                \n",
       "243  Turkmenistan;488100;27.68;114000000;8.78;24000...                                                                                                                                                                                                                                                                                                                                                                                                                                                                                                                                                                                                                                                                                                                                                                                                                                                                                                                                                                                                                                                                                                                                                \n",
       "244  Turks and Caicos Islands;430;22.23;;4.28;;4650...                                                                                                                                                                                                                                                                                                                                                                                                                                                                                                                                                                                                                                                                                                                                                                                                                                                                                                                                                                                                                                                                                                                                                \n",
       "245  Tuvalu;26;21.91;;7.22;;;;1000000;12200000;1100...                                                                                                                                                                                                                                                                                                                                                                                                                                                                                                                                                                                                                                                                                                                                                                                                                                                                                                                                                                                                                                                                                                                                                \n",
       "246  Uganda;236040;47.39;-590800000;12.80;386500000...                                                                                                                                                                                                                                                                                                                                                                                                                                                                                                                                                                                                                                                                                                                                                                                                                                                                                                                                                                                                                                                                                                                                                \n",
       "247  Ukraine;603700;10.49;4584000000;16.42;16370000...                                                                                                                                                                                                                                                                                                                                                                                                                                                                                                                                                                                                                                                                                                                                                                                                                                                                                                                                                                                                                                                                                                                                                \n",
       "248  United Arab Emirates;82880;18.78;6300000000;4....                                                                                                                                                                                                                                                                                                                                                                                                                                                                                                                                                                                                                                                                                                                                                                                                                                                                                                                                                                                                                                                                                                                                                \n",
       "249  United Kingdom;244820;10.78;-33460000000;10.18...                                                                                                                                                                                                                                                                                                                                                                                                                                                                                                                                                                                                                                                                                                                                                                                                                                                                                                                                                                                                                                                                                                                                                \n",
       "250  United States;9631418;14.14;-646500000000;8.25...                                                                                                                                                                                                                                                                                                                                                                                                                                                                                                                                                                                                                                                                                                                                                                                                                                                                                                                                                                                                                                                                                                                                                \n",
       "251  Uruguay;176220;14.09;181800000;9.06;1280000000...                                                                                                                                                                                                                                                                                                                                                                                                                                                                                                                                                                                                                                                                                                                                                                                                                                                                                                                                                                                                                                                                                                                                                \n",
       "252  Uzbekistan;447400;26.22;461900000;7.95;4351000...                                                                                                                                                                                                                                                                                                                                                                                                                                                                                                                                                                                                                                                                                                                                                                                                                                                                                                                                                                                                                                                                                                                                                \n",
       "253  Vanuatu;12200;23.06;;7.90;83700000;45030000;48...                                                                                                                                                                                                                                                                                                                                                                                                                                                                                                                                                                                                                                                                                                                                                                                                                                                                                                                                                                                                                                                                                                                                                \n",
       "254  Venezuela;912050;18.91;14590000000;4.90;332900...                                                                                                                                                                                                                                                                                                                                                                                                                                                                                                                                                                                                                                                                                                                                                                                                                                                                                                                                                                                                                                                                                                                                                \n",
       "255  Vietnam;329560;17.07;-2061000000;6.20;16550000...                                                                                                                                                                                                                                                                                                                                                                                                                                                                                                                                                                                                                                                                                                                                                                                                                                                                                                                                                                                                                                                                                                                                                \n",
       "256  Virgin Islands;352;14.20;;6.26;;962600000;1035...                                                                                                                                                                                                                                                                                                                                                                                                                                                                                                                                                                                                                                                                                                                                                                                                                                                                                                                                                                                                                                                                                                                                                \n",
       "257  Wake Island;7;;;;;;;;;;;;;;;;;;;;;;;;;;;;;;;;;...                                                                                                                                                                                                                                                                                                                                                                                                                                                                                                                                                                                                                                                                                                                                                                                                                                                                                                                                                                                                                                                                                                                                                \n",
       "258  Wallis and Futuna;274;;;;;;;250000;60000000;38...                                                                                                                                                                                                                                                                                                                                                                                                                                                                                                                                                                                                                                                                                                                                                                                                                                                                                                                                                                                                                                                                                                                                                \n",
       "259  West Bank;5860;32.37;;3.99;108000000;;;2050000...                                                                                                                                                                                                                                                                                                                                                                                                                                                                                                                                                                                                                                                                                                                                                                                                                                                                                                                                                                                                                                                                                                                                                \n",
       "260  Western Sahara;266000;;;;;83700000;90000000;;;...                                                                                                                                                                                                                                                                                                                                                                                                                                                                                                                                                                                                                                                                                                                                                                                                                                                                                                                                                                                                                                                                                                                                                \n",
       "261  Yemen;527970;43.07;369900000;8.53;5400000000;2...                                                                                                                                                                                                                                                                                                                                                                                                                                                                                                                                                                                                                                                                                                                                                                                                                                                                                                                                                                                                                                                                                                                                                \n",
       "262  Zambia;752614;41.38;-181400000;20.23;535300000...                                                                                                                                                                                                                                                                                                                                                                                                                                                                                                                                                                                                                                                                                                                                                                                                                                                                                                                                                                                                                                                                                                                                                \n",
       "263  Zimbabwe;390580;29.74;-230300000;24.66;4086000...                                                                                                                                                                                                                                                                                                                                                                                                                                                                                                                                                                                                                                                                                                                                                                                                                                                                                                                                                                                                                                                                                                                                                \n",
       "\n",
       "[264 rows x 1 columns]"
      ]
     },
     "execution_count": 94,
     "metadata": {},
     "output_type": "execute_result"
    }
   ],
   "source": [
    "\n",
    "P"
   ]
  },
  {
   "cell_type": "code",
   "execution_count": 95,
   "metadata": {},
   "outputs": [
    {
     "data": {
      "text/plain": [
       "(264, 1)"
      ]
     },
     "execution_count": 95,
     "metadata": {},
     "output_type": "execute_result"
    }
   ],
   "source": [
    "P.shape"
   ]
  },
  {
   "cell_type": "code",
   "execution_count": 97,
   "metadata": {
    "collapsed": true
   },
   "outputs": [
    {
     "data": {
      "text/plain": [
       "[<map at 0x20578d420b8>,\n",
       " <map at 0x2057c2bd6d8>,\n",
       " <map at 0x20578d42128>,\n",
       " <map at 0x20578d42198>,\n",
       " <map at 0x20578d42208>,\n",
       " <map at 0x20578d42278>,\n",
       " <map at 0x20578d422e8>,\n",
       " <map at 0x20578d42358>,\n",
       " <map at 0x20578d423c8>,\n",
       " <map at 0x20578d42438>,\n",
       " <map at 0x20578d424a8>,\n",
       " <map at 0x20578d42518>,\n",
       " <map at 0x20578d42588>,\n",
       " <map at 0x20578d425f8>,\n",
       " <map at 0x20578d42668>,\n",
       " <map at 0x20578d426d8>,\n",
       " <map at 0x20578d42748>,\n",
       " <map at 0x20578d427b8>,\n",
       " <map at 0x20578d42828>,\n",
       " <map at 0x20578d42898>,\n",
       " <map at 0x20578d42908>,\n",
       " <map at 0x20578d42978>,\n",
       " <map at 0x20578d429e8>,\n",
       " <map at 0x20578d42a58>,\n",
       " <map at 0x20578d42ac8>,\n",
       " <map at 0x20578d42b38>,\n",
       " <map at 0x20578d42ba8>,\n",
       " <map at 0x20578d42c18>,\n",
       " <map at 0x20578d42c88>,\n",
       " <map at 0x20578d42cf8>,\n",
       " <map at 0x20578d42d68>,\n",
       " <map at 0x20578d42dd8>,\n",
       " <map at 0x20578d42e48>,\n",
       " <map at 0x20578d42eb8>,\n",
       " <map at 0x20578d42f28>,\n",
       " <map at 0x20578d42f98>,\n",
       " <map at 0x20578d45048>,\n",
       " <map at 0x20578d450b8>,\n",
       " <map at 0x20578d45128>,\n",
       " <map at 0x20578d45198>,\n",
       " <map at 0x20578d45208>,\n",
       " <map at 0x20578d45278>,\n",
       " <map at 0x20578d452e8>,\n",
       " <map at 0x20578d45358>,\n",
       " <map at 0x20578d453c8>,\n",
       " <map at 0x20578d45438>,\n",
       " <map at 0x20578d454a8>,\n",
       " <map at 0x20578d45518>,\n",
       " <map at 0x20578d45588>,\n",
       " <map at 0x20578d45630>,\n",
       " <map at 0x20578d456d8>,\n",
       " <map at 0x20578d45780>,\n",
       " <map at 0x20578d45828>,\n",
       " <map at 0x20578d458d0>,\n",
       " <map at 0x20578d45978>,\n",
       " <map at 0x20578d45a20>,\n",
       " <map at 0x20578d45ac8>,\n",
       " <map at 0x20578d45b70>,\n",
       " <map at 0x20578d45c18>,\n",
       " <map at 0x20578d45cc0>,\n",
       " <map at 0x20578d45d68>,\n",
       " <map at 0x20578d45e10>,\n",
       " <map at 0x20578d45eb8>,\n",
       " <map at 0x20578d45f60>,\n",
       " <map at 0x20578d49048>,\n",
       " <map at 0x20578d490f0>,\n",
       " <map at 0x20578d49198>,\n",
       " <map at 0x20578d49240>,\n",
       " <map at 0x20578d492e8>,\n",
       " <map at 0x20578d49390>,\n",
       " <map at 0x20578d49438>,\n",
       " <map at 0x20578d494e0>,\n",
       " <map at 0x20578d49588>,\n",
       " <map at 0x20578d49630>,\n",
       " <map at 0x20578d496d8>,\n",
       " <map at 0x20578d49780>,\n",
       " <map at 0x20578d49828>,\n",
       " <map at 0x20578d498d0>,\n",
       " <map at 0x20578d49978>,\n",
       " <map at 0x20578d49a20>,\n",
       " <map at 0x20578d49ac8>,\n",
       " <map at 0x20578d49b70>,\n",
       " <map at 0x20578d49c18>,\n",
       " <map at 0x20578d49cc0>,\n",
       " <map at 0x20578d49d68>,\n",
       " <map at 0x20578d49e10>,\n",
       " <map at 0x20578d49eb8>,\n",
       " <map at 0x20578d49f60>,\n",
       " <map at 0x20578d4c048>,\n",
       " <map at 0x20578d4c0f0>,\n",
       " <map at 0x20578d4c198>,\n",
       " <map at 0x20578d4c240>,\n",
       " <map at 0x20578d4c2e8>,\n",
       " <map at 0x20578d4c390>,\n",
       " <map at 0x20578d4c438>,\n",
       " <map at 0x20578d4c4e0>,\n",
       " <map at 0x20578d4c588>,\n",
       " <map at 0x20578d4c630>,\n",
       " <map at 0x20578d4c6d8>,\n",
       " <map at 0x20578d4c780>,\n",
       " <map at 0x20578d4c828>,\n",
       " <map at 0x20578d4c8d0>,\n",
       " <map at 0x20578d4c978>,\n",
       " <map at 0x20578d4ca20>,\n",
       " <map at 0x20578d4cac8>,\n",
       " <map at 0x20578d4cb70>,\n",
       " <map at 0x2057c2acd68>,\n",
       " <map at 0x2057c2acbe0>,\n",
       " <map at 0x2057c2605c0>,\n",
       " <map at 0x20578d4cc18>,\n",
       " <map at 0x20578d4ccc0>,\n",
       " <map at 0x20578d4cd68>,\n",
       " <map at 0x20578d4ce10>,\n",
       " <map at 0x20578d4ceb8>,\n",
       " <map at 0x20578d4cf60>,\n",
       " <map at 0x20578d4f048>,\n",
       " <map at 0x20578d4f0f0>,\n",
       " <map at 0x20578d4f198>,\n",
       " <map at 0x20578d4f240>,\n",
       " <map at 0x20578d4f2e8>,\n",
       " <map at 0x20578d4f390>,\n",
       " <map at 0x20578d4f438>,\n",
       " <map at 0x20578d4f4e0>,\n",
       " <map at 0x20578d4f588>,\n",
       " <map at 0x20578d4f630>,\n",
       " <map at 0x20578d4f6d8>,\n",
       " <map at 0x20578d4f780>,\n",
       " <map at 0x20578d4f828>,\n",
       " <map at 0x20578d4f8d0>,\n",
       " <map at 0x20578d4f978>,\n",
       " <map at 0x20578d4fa20>,\n",
       " <map at 0x20578d4fac8>,\n",
       " <map at 0x20578d4fb70>,\n",
       " <map at 0x20578d4fc18>,\n",
       " <map at 0x20578d4fcc0>,\n",
       " <map at 0x20578d4fd68>,\n",
       " <map at 0x20578d4fe10>,\n",
       " <map at 0x20578d4feb8>,\n",
       " <map at 0x20578d4ff60>,\n",
       " <map at 0x20578d52048>,\n",
       " <map at 0x20578d520f0>,\n",
       " <map at 0x20578d52198>,\n",
       " <map at 0x20578d52240>,\n",
       " <map at 0x20578d522e8>,\n",
       " <map at 0x20578d52390>,\n",
       " <map at 0x20578d52438>,\n",
       " <map at 0x20578d524e0>,\n",
       " <map at 0x20578d52588>,\n",
       " <map at 0x20578d52630>,\n",
       " <map at 0x20578d526d8>,\n",
       " <map at 0x20578d52780>,\n",
       " <map at 0x20578d52828>,\n",
       " <map at 0x20578d528d0>,\n",
       " <map at 0x20578d52978>,\n",
       " <map at 0x20578d52a20>,\n",
       " <map at 0x20578d52ac8>,\n",
       " <map at 0x20578d52b70>,\n",
       " <map at 0x20578d52c18>,\n",
       " <map at 0x20578d52cc0>,\n",
       " <map at 0x20578d52d68>,\n",
       " <map at 0x20578d52e10>,\n",
       " <map at 0x20578d52eb8>,\n",
       " <map at 0x20578d52f60>,\n",
       " <map at 0x20578d56048>,\n",
       " <map at 0x20578d560f0>,\n",
       " <map at 0x20578d56198>,\n",
       " <map at 0x20578d56240>,\n",
       " <map at 0x20578d562e8>,\n",
       " <map at 0x20578d56390>,\n",
       " <map at 0x20578d56438>,\n",
       " <map at 0x20578d564e0>,\n",
       " <map at 0x20578d56588>,\n",
       " <map at 0x20578d56630>,\n",
       " <map at 0x20578d566d8>,\n",
       " <map at 0x20578d56780>,\n",
       " <map at 0x20578d56828>,\n",
       " <map at 0x20578d568d0>,\n",
       " <map at 0x20578d56978>,\n",
       " <map at 0x20578d56a20>,\n",
       " <map at 0x20578d56ac8>,\n",
       " <map at 0x20578d56b70>,\n",
       " <map at 0x20578d56c18>,\n",
       " <map at 0x20578d56cc0>,\n",
       " <map at 0x20578d56d68>,\n",
       " <map at 0x20578d56e10>,\n",
       " <map at 0x20578d56eb8>,\n",
       " <map at 0x20578d56f60>,\n",
       " <map at 0x20578d5b048>,\n",
       " <map at 0x20578d5b0f0>,\n",
       " <map at 0x20578d5b198>,\n",
       " <map at 0x20578d5b240>,\n",
       " <map at 0x20578d5b2e8>,\n",
       " <map at 0x20578d5b390>,\n",
       " <map at 0x20578d5b438>,\n",
       " <map at 0x20578d5b4e0>,\n",
       " <map at 0x20578d5b588>,\n",
       " <map at 0x20578d5b630>,\n",
       " <map at 0x20578d5b6d8>,\n",
       " <map at 0x20578d5b780>,\n",
       " <map at 0x20578d5b828>,\n",
       " <map at 0x20578d5b8d0>,\n",
       " <map at 0x20578d5b978>,\n",
       " <map at 0x20578d5ba20>,\n",
       " <map at 0x20578d5bac8>,\n",
       " <map at 0x20578d5bb70>,\n",
       " <map at 0x20578d5bc18>,\n",
       " <map at 0x20578d5bcc0>,\n",
       " <map at 0x20578d5bd68>,\n",
       " <map at 0x20578d5be10>,\n",
       " <map at 0x20578d5beb8>,\n",
       " <map at 0x20578d5bf60>,\n",
       " <map at 0x20578d5f048>,\n",
       " <map at 0x20578d5f0f0>,\n",
       " <map at 0x20578d5f198>,\n",
       " <map at 0x20578d5f240>,\n",
       " <map at 0x20578d5f2e8>,\n",
       " <map at 0x20578d5f390>,\n",
       " <map at 0x20578d5f438>,\n",
       " <map at 0x20578d5f4e0>,\n",
       " <map at 0x20578d5f588>,\n",
       " <map at 0x20578d5f630>,\n",
       " <map at 0x20578d5f6d8>,\n",
       " <map at 0x20578d5f780>,\n",
       " <map at 0x20578d5f828>,\n",
       " <map at 0x20578d5f8d0>,\n",
       " <map at 0x20578d5f978>,\n",
       " <map at 0x20578d5fa20>,\n",
       " <map at 0x20578d5fac8>,\n",
       " <map at 0x20578d5fb70>,\n",
       " <map at 0x20578d5fc18>,\n",
       " <map at 0x20578d5fcc0>,\n",
       " <map at 0x20578d5fd68>,\n",
       " <map at 0x20578d5fe10>,\n",
       " <map at 0x20578d5feb8>,\n",
       " <map at 0x20578d5ff60>,\n",
       " <map at 0x20578d63048>,\n",
       " <map at 0x20578d630f0>,\n",
       " <map at 0x20578d63198>,\n",
       " <map at 0x20578d63240>,\n",
       " <map at 0x20578d632e8>,\n",
       " <map at 0x20578d63390>,\n",
       " <map at 0x20578d63438>,\n",
       " <map at 0x20578d634e0>,\n",
       " <map at 0x20578d63588>,\n",
       " <map at 0x20578d63630>,\n",
       " <map at 0x20578d636d8>,\n",
       " <map at 0x20578d63780>,\n",
       " <map at 0x20578d63828>,\n",
       " <map at 0x20578d638d0>,\n",
       " <map at 0x20578d63978>,\n",
       " <map at 0x20578d63a20>,\n",
       " <map at 0x20578d63ac8>,\n",
       " <map at 0x20578d63b70>,\n",
       " <map at 0x20578d63c18>,\n",
       " <map at 0x20578d63cc0>,\n",
       " <map at 0x20578d63d68>,\n",
       " <map at 0x20578d63e10>,\n",
       " <map at 0x20578d63eb8>,\n",
       " <map at 0x20578d63f60>,\n",
       " <map at 0x20578d66048>,\n",
       " <map at 0x20578d660f0>,\n",
       " <map at 0x20578d66198>,\n",
       " <map at 0x20578d66240>,\n",
       " <map at 0x20578d662e8>,\n",
       " <map at 0x20578d66390>]"
      ]
     },
     "execution_count": 97,
     "metadata": {},
     "output_type": "execute_result"
    }
   ],
   "source": [
    "Z = []\n",
    "for line in open(\"factbook.csv\"):\n",
    "    column = line.split(',')\n",
    "    sampel = map(float,column)\n",
    "    Z.append(sampel)\n",
    "Z\n"
   ]
  },
  {
   "cell_type": "code",
   "execution_count": 99,
   "metadata": {
    "collapsed": true
   },
   "outputs": [
    {
     "ename": "AttributeError",
     "evalue": "'list' object has no attribute 'shape'",
     "output_type": "error",
     "traceback": [
      "\u001b[1;31m---------------------------------------------------------------------------\u001b[0m",
      "\u001b[1;31mAttributeError\u001b[0m                            Traceback (most recent call last)",
      "\u001b[1;32m<ipython-input-99-a7c081438512>\u001b[0m in \u001b[0;36m<module>\u001b[1;34m\u001b[0m\n\u001b[1;32m----> 1\u001b[1;33m \u001b[0mZ\u001b[0m\u001b[1;33m.\u001b[0m\u001b[0mshape\u001b[0m\u001b[1;33m\u001b[0m\u001b[1;33m\u001b[0m\u001b[0m\n\u001b[0m",
      "\u001b[1;31mAttributeError\u001b[0m: 'list' object has no attribute 'shape'"
     ]
    }
   ],
   "source": [
    "Z.shape"
   ]
  },
  {
   "cell_type": "code",
   "execution_count": 100,
   "metadata": {},
   "outputs": [
    {
     "data": {
      "text/plain": [
       "list"
      ]
     },
     "execution_count": 100,
     "metadata": {},
     "output_type": "execute_result"
    }
   ],
   "source": [
    "type(Z)"
   ]
  },
  {
   "cell_type": "code",
   "execution_count": 101,
   "metadata": {},
   "outputs": [],
   "source": [
    "Z = np.array(Z)"
   ]
  },
  {
   "cell_type": "code",
   "execution_count": 102,
   "metadata": {
    "collapsed": true
   },
   "outputs": [
    {
     "data": {
      "text/plain": [
       "array([<map object at 0x0000020578D420B8>,\n",
       "       <map object at 0x000002057C2BD6D8>,\n",
       "       <map object at 0x0000020578D42128>,\n",
       "       <map object at 0x0000020578D42198>,\n",
       "       <map object at 0x0000020578D42208>,\n",
       "       <map object at 0x0000020578D42278>,\n",
       "       <map object at 0x0000020578D422E8>,\n",
       "       <map object at 0x0000020578D42358>,\n",
       "       <map object at 0x0000020578D423C8>,\n",
       "       <map object at 0x0000020578D42438>,\n",
       "       <map object at 0x0000020578D424A8>,\n",
       "       <map object at 0x0000020578D42518>,\n",
       "       <map object at 0x0000020578D42588>,\n",
       "       <map object at 0x0000020578D425F8>,\n",
       "       <map object at 0x0000020578D42668>,\n",
       "       <map object at 0x0000020578D426D8>,\n",
       "       <map object at 0x0000020578D42748>,\n",
       "       <map object at 0x0000020578D427B8>,\n",
       "       <map object at 0x0000020578D42828>,\n",
       "       <map object at 0x0000020578D42898>,\n",
       "       <map object at 0x0000020578D42908>,\n",
       "       <map object at 0x0000020578D42978>,\n",
       "       <map object at 0x0000020578D429E8>,\n",
       "       <map object at 0x0000020578D42A58>,\n",
       "       <map object at 0x0000020578D42AC8>,\n",
       "       <map object at 0x0000020578D42B38>,\n",
       "       <map object at 0x0000020578D42BA8>,\n",
       "       <map object at 0x0000020578D42C18>,\n",
       "       <map object at 0x0000020578D42C88>,\n",
       "       <map object at 0x0000020578D42CF8>,\n",
       "       <map object at 0x0000020578D42D68>,\n",
       "       <map object at 0x0000020578D42DD8>,\n",
       "       <map object at 0x0000020578D42E48>,\n",
       "       <map object at 0x0000020578D42EB8>,\n",
       "       <map object at 0x0000020578D42F28>,\n",
       "       <map object at 0x0000020578D42F98>,\n",
       "       <map object at 0x0000020578D45048>,\n",
       "       <map object at 0x0000020578D450B8>,\n",
       "       <map object at 0x0000020578D45128>,\n",
       "       <map object at 0x0000020578D45198>,\n",
       "       <map object at 0x0000020578D45208>,\n",
       "       <map object at 0x0000020578D45278>,\n",
       "       <map object at 0x0000020578D452E8>,\n",
       "       <map object at 0x0000020578D45358>,\n",
       "       <map object at 0x0000020578D453C8>,\n",
       "       <map object at 0x0000020578D45438>,\n",
       "       <map object at 0x0000020578D454A8>,\n",
       "       <map object at 0x0000020578D45518>,\n",
       "       <map object at 0x0000020578D45588>,\n",
       "       <map object at 0x0000020578D45630>,\n",
       "       <map object at 0x0000020578D456D8>,\n",
       "       <map object at 0x0000020578D45780>,\n",
       "       <map object at 0x0000020578D45828>,\n",
       "       <map object at 0x0000020578D458D0>,\n",
       "       <map object at 0x0000020578D45978>,\n",
       "       <map object at 0x0000020578D45A20>,\n",
       "       <map object at 0x0000020578D45AC8>,\n",
       "       <map object at 0x0000020578D45B70>,\n",
       "       <map object at 0x0000020578D45C18>,\n",
       "       <map object at 0x0000020578D45CC0>,\n",
       "       <map object at 0x0000020578D45D68>,\n",
       "       <map object at 0x0000020578D45E10>,\n",
       "       <map object at 0x0000020578D45EB8>,\n",
       "       <map object at 0x0000020578D45F60>,\n",
       "       <map object at 0x0000020578D49048>,\n",
       "       <map object at 0x0000020578D490F0>,\n",
       "       <map object at 0x0000020578D49198>,\n",
       "       <map object at 0x0000020578D49240>,\n",
       "       <map object at 0x0000020578D492E8>,\n",
       "       <map object at 0x0000020578D49390>,\n",
       "       <map object at 0x0000020578D49438>,\n",
       "       <map object at 0x0000020578D494E0>,\n",
       "       <map object at 0x0000020578D49588>,\n",
       "       <map object at 0x0000020578D49630>,\n",
       "       <map object at 0x0000020578D496D8>,\n",
       "       <map object at 0x0000020578D49780>,\n",
       "       <map object at 0x0000020578D49828>,\n",
       "       <map object at 0x0000020578D498D0>,\n",
       "       <map object at 0x0000020578D49978>,\n",
       "       <map object at 0x0000020578D49A20>,\n",
       "       <map object at 0x0000020578D49AC8>,\n",
       "       <map object at 0x0000020578D49B70>,\n",
       "       <map object at 0x0000020578D49C18>,\n",
       "       <map object at 0x0000020578D49CC0>,\n",
       "       <map object at 0x0000020578D49D68>,\n",
       "       <map object at 0x0000020578D49E10>,\n",
       "       <map object at 0x0000020578D49EB8>,\n",
       "       <map object at 0x0000020578D49F60>,\n",
       "       <map object at 0x0000020578D4C048>,\n",
       "       <map object at 0x0000020578D4C0F0>,\n",
       "       <map object at 0x0000020578D4C198>,\n",
       "       <map object at 0x0000020578D4C240>,\n",
       "       <map object at 0x0000020578D4C2E8>,\n",
       "       <map object at 0x0000020578D4C390>,\n",
       "       <map object at 0x0000020578D4C438>,\n",
       "       <map object at 0x0000020578D4C4E0>,\n",
       "       <map object at 0x0000020578D4C588>,\n",
       "       <map object at 0x0000020578D4C630>,\n",
       "       <map object at 0x0000020578D4C6D8>,\n",
       "       <map object at 0x0000020578D4C780>,\n",
       "       <map object at 0x0000020578D4C828>,\n",
       "       <map object at 0x0000020578D4C8D0>,\n",
       "       <map object at 0x0000020578D4C978>,\n",
       "       <map object at 0x0000020578D4CA20>,\n",
       "       <map object at 0x0000020578D4CAC8>,\n",
       "       <map object at 0x0000020578D4CB70>,\n",
       "       <map object at 0x000002057C2ACD68>,\n",
       "       <map object at 0x000002057C2ACBE0>,\n",
       "       <map object at 0x000002057C2605C0>,\n",
       "       <map object at 0x0000020578D4CC18>,\n",
       "       <map object at 0x0000020578D4CCC0>,\n",
       "       <map object at 0x0000020578D4CD68>,\n",
       "       <map object at 0x0000020578D4CE10>,\n",
       "       <map object at 0x0000020578D4CEB8>,\n",
       "       <map object at 0x0000020578D4CF60>,\n",
       "       <map object at 0x0000020578D4F048>,\n",
       "       <map object at 0x0000020578D4F0F0>,\n",
       "       <map object at 0x0000020578D4F198>,\n",
       "       <map object at 0x0000020578D4F240>,\n",
       "       <map object at 0x0000020578D4F2E8>,\n",
       "       <map object at 0x0000020578D4F390>,\n",
       "       <map object at 0x0000020578D4F438>,\n",
       "       <map object at 0x0000020578D4F4E0>,\n",
       "       <map object at 0x0000020578D4F588>,\n",
       "       <map object at 0x0000020578D4F630>,\n",
       "       <map object at 0x0000020578D4F6D8>,\n",
       "       <map object at 0x0000020578D4F780>,\n",
       "       <map object at 0x0000020578D4F828>,\n",
       "       <map object at 0x0000020578D4F8D0>,\n",
       "       <map object at 0x0000020578D4F978>,\n",
       "       <map object at 0x0000020578D4FA20>,\n",
       "       <map object at 0x0000020578D4FAC8>,\n",
       "       <map object at 0x0000020578D4FB70>,\n",
       "       <map object at 0x0000020578D4FC18>,\n",
       "       <map object at 0x0000020578D4FCC0>,\n",
       "       <map object at 0x0000020578D4FD68>,\n",
       "       <map object at 0x0000020578D4FE10>,\n",
       "       <map object at 0x0000020578D4FEB8>,\n",
       "       <map object at 0x0000020578D4FF60>,\n",
       "       <map object at 0x0000020578D52048>,\n",
       "       <map object at 0x0000020578D520F0>,\n",
       "       <map object at 0x0000020578D52198>,\n",
       "       <map object at 0x0000020578D52240>,\n",
       "       <map object at 0x0000020578D522E8>,\n",
       "       <map object at 0x0000020578D52390>,\n",
       "       <map object at 0x0000020578D52438>,\n",
       "       <map object at 0x0000020578D524E0>,\n",
       "       <map object at 0x0000020578D52588>,\n",
       "       <map object at 0x0000020578D52630>,\n",
       "       <map object at 0x0000020578D526D8>,\n",
       "       <map object at 0x0000020578D52780>,\n",
       "       <map object at 0x0000020578D52828>,\n",
       "       <map object at 0x0000020578D528D0>,\n",
       "       <map object at 0x0000020578D52978>,\n",
       "       <map object at 0x0000020578D52A20>,\n",
       "       <map object at 0x0000020578D52AC8>,\n",
       "       <map object at 0x0000020578D52B70>,\n",
       "       <map object at 0x0000020578D52C18>,\n",
       "       <map object at 0x0000020578D52CC0>,\n",
       "       <map object at 0x0000020578D52D68>,\n",
       "       <map object at 0x0000020578D52E10>,\n",
       "       <map object at 0x0000020578D52EB8>,\n",
       "       <map object at 0x0000020578D52F60>,\n",
       "       <map object at 0x0000020578D56048>,\n",
       "       <map object at 0x0000020578D560F0>,\n",
       "       <map object at 0x0000020578D56198>,\n",
       "       <map object at 0x0000020578D56240>,\n",
       "       <map object at 0x0000020578D562E8>,\n",
       "       <map object at 0x0000020578D56390>,\n",
       "       <map object at 0x0000020578D56438>,\n",
       "       <map object at 0x0000020578D564E0>,\n",
       "       <map object at 0x0000020578D56588>,\n",
       "       <map object at 0x0000020578D56630>,\n",
       "       <map object at 0x0000020578D566D8>,\n",
       "       <map object at 0x0000020578D56780>,\n",
       "       <map object at 0x0000020578D56828>,\n",
       "       <map object at 0x0000020578D568D0>,\n",
       "       <map object at 0x0000020578D56978>,\n",
       "       <map object at 0x0000020578D56A20>,\n",
       "       <map object at 0x0000020578D56AC8>,\n",
       "       <map object at 0x0000020578D56B70>,\n",
       "       <map object at 0x0000020578D56C18>,\n",
       "       <map object at 0x0000020578D56CC0>,\n",
       "       <map object at 0x0000020578D56D68>,\n",
       "       <map object at 0x0000020578D56E10>,\n",
       "       <map object at 0x0000020578D56EB8>,\n",
       "       <map object at 0x0000020578D56F60>,\n",
       "       <map object at 0x0000020578D5B048>,\n",
       "       <map object at 0x0000020578D5B0F0>,\n",
       "       <map object at 0x0000020578D5B198>,\n",
       "       <map object at 0x0000020578D5B240>,\n",
       "       <map object at 0x0000020578D5B2E8>,\n",
       "       <map object at 0x0000020578D5B390>,\n",
       "       <map object at 0x0000020578D5B438>,\n",
       "       <map object at 0x0000020578D5B4E0>,\n",
       "       <map object at 0x0000020578D5B588>,\n",
       "       <map object at 0x0000020578D5B630>,\n",
       "       <map object at 0x0000020578D5B6D8>,\n",
       "       <map object at 0x0000020578D5B780>,\n",
       "       <map object at 0x0000020578D5B828>,\n",
       "       <map object at 0x0000020578D5B8D0>,\n",
       "       <map object at 0x0000020578D5B978>,\n",
       "       <map object at 0x0000020578D5BA20>,\n",
       "       <map object at 0x0000020578D5BAC8>,\n",
       "       <map object at 0x0000020578D5BB70>,\n",
       "       <map object at 0x0000020578D5BC18>,\n",
       "       <map object at 0x0000020578D5BCC0>,\n",
       "       <map object at 0x0000020578D5BD68>,\n",
       "       <map object at 0x0000020578D5BE10>,\n",
       "       <map object at 0x0000020578D5BEB8>,\n",
       "       <map object at 0x0000020578D5BF60>,\n",
       "       <map object at 0x0000020578D5F048>,\n",
       "       <map object at 0x0000020578D5F0F0>,\n",
       "       <map object at 0x0000020578D5F198>,\n",
       "       <map object at 0x0000020578D5F240>,\n",
       "       <map object at 0x0000020578D5F2E8>,\n",
       "       <map object at 0x0000020578D5F390>,\n",
       "       <map object at 0x0000020578D5F438>,\n",
       "       <map object at 0x0000020578D5F4E0>,\n",
       "       <map object at 0x0000020578D5F588>,\n",
       "       <map object at 0x0000020578D5F630>,\n",
       "       <map object at 0x0000020578D5F6D8>,\n",
       "       <map object at 0x0000020578D5F780>,\n",
       "       <map object at 0x0000020578D5F828>,\n",
       "       <map object at 0x0000020578D5F8D0>,\n",
       "       <map object at 0x0000020578D5F978>,\n",
       "       <map object at 0x0000020578D5FA20>,\n",
       "       <map object at 0x0000020578D5FAC8>,\n",
       "       <map object at 0x0000020578D5FB70>,\n",
       "       <map object at 0x0000020578D5FC18>,\n",
       "       <map object at 0x0000020578D5FCC0>,\n",
       "       <map object at 0x0000020578D5FD68>,\n",
       "       <map object at 0x0000020578D5FE10>,\n",
       "       <map object at 0x0000020578D5FEB8>,\n",
       "       <map object at 0x0000020578D5FF60>,\n",
       "       <map object at 0x0000020578D63048>,\n",
       "       <map object at 0x0000020578D630F0>,\n",
       "       <map object at 0x0000020578D63198>,\n",
       "       <map object at 0x0000020578D63240>,\n",
       "       <map object at 0x0000020578D632E8>,\n",
       "       <map object at 0x0000020578D63390>,\n",
       "       <map object at 0x0000020578D63438>,\n",
       "       <map object at 0x0000020578D634E0>,\n",
       "       <map object at 0x0000020578D63588>,\n",
       "       <map object at 0x0000020578D63630>,\n",
       "       <map object at 0x0000020578D636D8>,\n",
       "       <map object at 0x0000020578D63780>,\n",
       "       <map object at 0x0000020578D63828>,\n",
       "       <map object at 0x0000020578D638D0>,\n",
       "       <map object at 0x0000020578D63978>,\n",
       "       <map object at 0x0000020578D63A20>,\n",
       "       <map object at 0x0000020578D63AC8>,\n",
       "       <map object at 0x0000020578D63B70>,\n",
       "       <map object at 0x0000020578D63C18>,\n",
       "       <map object at 0x0000020578D63CC0>,\n",
       "       <map object at 0x0000020578D63D68>,\n",
       "       <map object at 0x0000020578D63E10>,\n",
       "       <map object at 0x0000020578D63EB8>,\n",
       "       <map object at 0x0000020578D63F60>,\n",
       "       <map object at 0x0000020578D66048>,\n",
       "       <map object at 0x0000020578D660F0>,\n",
       "       <map object at 0x0000020578D66198>,\n",
       "       <map object at 0x0000020578D66240>,\n",
       "       <map object at 0x0000020578D662E8>,\n",
       "       <map object at 0x0000020578D66390>], dtype=object)"
      ]
     },
     "execution_count": 102,
     "metadata": {},
     "output_type": "execute_result"
    }
   ],
   "source": [
    "Z"
   ]
  },
  {
   "cell_type": "code",
   "execution_count": 103,
   "metadata": {},
   "outputs": [
    {
     "data": {
      "text/plain": [
       "numpy.ndarray"
      ]
     },
     "execution_count": 103,
     "metadata": {},
     "output_type": "execute_result"
    }
   ],
   "source": [
    "type(Z)"
   ]
  },
  {
   "cell_type": "code",
   "execution_count": 104,
   "metadata": {},
   "outputs": [
    {
     "data": {
      "text/plain": [
       "(265,)"
      ]
     },
     "execution_count": 104,
     "metadata": {},
     "output_type": "execute_result"
    }
   ],
   "source": [
    "Z.shape"
   ]
  },
  {
   "cell_type": "code",
   "execution_count": 115,
   "metadata": {
    "collapsed": true
   },
   "outputs": [
    {
     "data": {
      "text/html": [
       "<div>\n",
       "<style scoped>\n",
       "    .dataframe tbody tr th:only-of-type {\n",
       "        vertical-align: middle;\n",
       "    }\n",
       "\n",
       "    .dataframe tbody tr th {\n",
       "        vertical-align: top;\n",
       "    }\n",
       "\n",
       "    .dataframe thead th {\n",
       "        text-align: right;\n",
       "    }\n",
       "</style>\n",
       "<table border=\"1\" class=\"dataframe\">\n",
       "  <thead>\n",
       "    <tr style=\"text-align: right;\">\n",
       "      <th></th>\n",
       "      <th>crim</th>\n",
       "      <th>zn</th>\n",
       "      <th>indus</th>\n",
       "      <th>chas</th>\n",
       "      <th>nox</th>\n",
       "      <th>rm</th>\n",
       "      <th>age</th>\n",
       "      <th>dis</th>\n",
       "      <th>rad</th>\n",
       "      <th>tax</th>\n",
       "      <th>ptratio</th>\n",
       "      <th>b</th>\n",
       "      <th>lstat</th>\n",
       "      <th>medv</th>\n",
       "    </tr>\n",
       "  </thead>\n",
       "  <tbody>\n",
       "    <tr>\n",
       "      <th>0</th>\n",
       "      <td>0.006650</td>\n",
       "      <td>18</td>\n",
       "      <td>71</td>\n",
       "      <td>0</td>\n",
       "      <td>44</td>\n",
       "      <td>3</td>\n",
       "      <td>33</td>\n",
       "      <td>3</td>\n",
       "      <td>4</td>\n",
       "      <td>0.144</td>\n",
       "      <td>443</td>\n",
       "      <td>937.3</td>\n",
       "      <td>3.3550</td>\n",
       "      <td>45.20</td>\n",
       "    </tr>\n",
       "    <tr>\n",
       "      <th>1</th>\n",
       "      <td>0.026650</td>\n",
       "      <td>13</td>\n",
       "      <td>75</td>\n",
       "      <td>0</td>\n",
       "      <td>24</td>\n",
       "      <td>4</td>\n",
       "      <td>34</td>\n",
       "      <td>8</td>\n",
       "      <td>6</td>\n",
       "      <td>0.444</td>\n",
       "      <td>243</td>\n",
       "      <td>637.3</td>\n",
       "      <td>3.6550</td>\n",
       "      <td>45.20</td>\n",
       "    </tr>\n",
       "    <tr>\n",
       "      <th>2</th>\n",
       "      <td>0.036650</td>\n",
       "      <td>14</td>\n",
       "      <td>70</td>\n",
       "      <td>0</td>\n",
       "      <td>14</td>\n",
       "      <td>5</td>\n",
       "      <td>31</td>\n",
       "      <td>8</td>\n",
       "      <td>7</td>\n",
       "      <td>0.444</td>\n",
       "      <td>433</td>\n",
       "      <td>927.3</td>\n",
       "      <td>3.5550</td>\n",
       "      <td>43.20</td>\n",
       "    </tr>\n",
       "    <tr>\n",
       "      <th>3</th>\n",
       "      <td>0.056650</td>\n",
       "      <td>16</td>\n",
       "      <td>74</td>\n",
       "      <td>0</td>\n",
       "      <td>24</td>\n",
       "      <td>6</td>\n",
       "      <td>36</td>\n",
       "      <td>7</td>\n",
       "      <td>8</td>\n",
       "      <td>0.344</td>\n",
       "      <td>403</td>\n",
       "      <td>937.3</td>\n",
       "      <td>3.0550</td>\n",
       "      <td>41.20</td>\n",
       "    </tr>\n",
       "    <tr>\n",
       "      <th>4</th>\n",
       "      <td>0.050665</td>\n",
       "      <td>17</td>\n",
       "      <td>45</td>\n",
       "      <td>0</td>\n",
       "      <td>54</td>\n",
       "      <td>7</td>\n",
       "      <td>53</td>\n",
       "      <td>6</td>\n",
       "      <td>0</td>\n",
       "      <td>0.244</td>\n",
       "      <td>473</td>\n",
       "      <td>137.3</td>\n",
       "      <td>3.5355</td>\n",
       "      <td>40.20</td>\n",
       "    </tr>\n",
       "    <tr>\n",
       "      <th>5</th>\n",
       "      <td>0.306650</td>\n",
       "      <td>15</td>\n",
       "      <td>75</td>\n",
       "      <td>0</td>\n",
       "      <td>44</td>\n",
       "      <td>8</td>\n",
       "      <td>83</td>\n",
       "      <td>5</td>\n",
       "      <td>9</td>\n",
       "      <td>0.144</td>\n",
       "      <td>403</td>\n",
       "      <td>907.3</td>\n",
       "      <td>3.3550</td>\n",
       "      <td>45.44</td>\n",
       "    </tr>\n",
       "    <tr>\n",
       "      <th>6</th>\n",
       "      <td>0.006650</td>\n",
       "      <td>18</td>\n",
       "      <td>71</td>\n",
       "      <td>0</td>\n",
       "      <td>44</td>\n",
       "      <td>3</td>\n",
       "      <td>33</td>\n",
       "      <td>3</td>\n",
       "      <td>4</td>\n",
       "      <td>0.144</td>\n",
       "      <td>443</td>\n",
       "      <td>937.3</td>\n",
       "      <td>3.3550</td>\n",
       "      <td>45.20</td>\n",
       "    </tr>\n",
       "    <tr>\n",
       "      <th>7</th>\n",
       "      <td>0.026650</td>\n",
       "      <td>13</td>\n",
       "      <td>75</td>\n",
       "      <td>0</td>\n",
       "      <td>24</td>\n",
       "      <td>4</td>\n",
       "      <td>34</td>\n",
       "      <td>8</td>\n",
       "      <td>6</td>\n",
       "      <td>0.444</td>\n",
       "      <td>243</td>\n",
       "      <td>637.3</td>\n",
       "      <td>3.6550</td>\n",
       "      <td>45.20</td>\n",
       "    </tr>\n",
       "    <tr>\n",
       "      <th>8</th>\n",
       "      <td>0.063665</td>\n",
       "      <td>16</td>\n",
       "      <td>76</td>\n",
       "      <td>0</td>\n",
       "      <td>44</td>\n",
       "      <td>5</td>\n",
       "      <td>31</td>\n",
       "      <td>8</td>\n",
       "      <td>7</td>\n",
       "      <td>0.444</td>\n",
       "      <td>433</td>\n",
       "      <td>927.3</td>\n",
       "      <td>3.5550</td>\n",
       "      <td>43.20</td>\n",
       "    </tr>\n",
       "    <tr>\n",
       "      <th>9</th>\n",
       "      <td>0.006650</td>\n",
       "      <td>18</td>\n",
       "      <td>71</td>\n",
       "      <td>0</td>\n",
       "      <td>44</td>\n",
       "      <td>3</td>\n",
       "      <td>33</td>\n",
       "      <td>3</td>\n",
       "      <td>4</td>\n",
       "      <td>0.144</td>\n",
       "      <td>443</td>\n",
       "      <td>937.3</td>\n",
       "      <td>3.3550</td>\n",
       "      <td>45.20</td>\n",
       "    </tr>\n",
       "    <tr>\n",
       "      <th>10</th>\n",
       "      <td>0.026650</td>\n",
       "      <td>13</td>\n",
       "      <td>75</td>\n",
       "      <td>0</td>\n",
       "      <td>24</td>\n",
       "      <td>4</td>\n",
       "      <td>34</td>\n",
       "      <td>8</td>\n",
       "      <td>6</td>\n",
       "      <td>0.444</td>\n",
       "      <td>243</td>\n",
       "      <td>637.3</td>\n",
       "      <td>3.6550</td>\n",
       "      <td>45.20</td>\n",
       "    </tr>\n",
       "    <tr>\n",
       "      <th>11</th>\n",
       "      <td>0.036650</td>\n",
       "      <td>14</td>\n",
       "      <td>70</td>\n",
       "      <td>0</td>\n",
       "      <td>14</td>\n",
       "      <td>5</td>\n",
       "      <td>31</td>\n",
       "      <td>8</td>\n",
       "      <td>7</td>\n",
       "      <td>0.444</td>\n",
       "      <td>433</td>\n",
       "      <td>927.3</td>\n",
       "      <td>3.5550</td>\n",
       "      <td>43.20</td>\n",
       "    </tr>\n",
       "    <tr>\n",
       "      <th>12</th>\n",
       "      <td>0.056650</td>\n",
       "      <td>16</td>\n",
       "      <td>74</td>\n",
       "      <td>0</td>\n",
       "      <td>24</td>\n",
       "      <td>6</td>\n",
       "      <td>36</td>\n",
       "      <td>7</td>\n",
       "      <td>8</td>\n",
       "      <td>0.344</td>\n",
       "      <td>403</td>\n",
       "      <td>937.3</td>\n",
       "      <td>3.0550</td>\n",
       "      <td>41.20</td>\n",
       "    </tr>\n",
       "    <tr>\n",
       "      <th>13</th>\n",
       "      <td>0.050665</td>\n",
       "      <td>17</td>\n",
       "      <td>45</td>\n",
       "      <td>0</td>\n",
       "      <td>54</td>\n",
       "      <td>7</td>\n",
       "      <td>53</td>\n",
       "      <td>6</td>\n",
       "      <td>0</td>\n",
       "      <td>0.244</td>\n",
       "      <td>473</td>\n",
       "      <td>137.3</td>\n",
       "      <td>3.5355</td>\n",
       "      <td>40.20</td>\n",
       "    </tr>\n",
       "    <tr>\n",
       "      <th>14</th>\n",
       "      <td>0.306650</td>\n",
       "      <td>15</td>\n",
       "      <td>75</td>\n",
       "      <td>0</td>\n",
       "      <td>44</td>\n",
       "      <td>8</td>\n",
       "      <td>83</td>\n",
       "      <td>5</td>\n",
       "      <td>9</td>\n",
       "      <td>0.144</td>\n",
       "      <td>403</td>\n",
       "      <td>907.3</td>\n",
       "      <td>3.3550</td>\n",
       "      <td>45.44</td>\n",
       "    </tr>\n",
       "    <tr>\n",
       "      <th>15</th>\n",
       "      <td>0.006650</td>\n",
       "      <td>18</td>\n",
       "      <td>71</td>\n",
       "      <td>0</td>\n",
       "      <td>44</td>\n",
       "      <td>3</td>\n",
       "      <td>33</td>\n",
       "      <td>3</td>\n",
       "      <td>4</td>\n",
       "      <td>0.144</td>\n",
       "      <td>443</td>\n",
       "      <td>937.3</td>\n",
       "      <td>3.3550</td>\n",
       "      <td>45.20</td>\n",
       "    </tr>\n",
       "    <tr>\n",
       "      <th>16</th>\n",
       "      <td>0.026650</td>\n",
       "      <td>13</td>\n",
       "      <td>75</td>\n",
       "      <td>0</td>\n",
       "      <td>24</td>\n",
       "      <td>4</td>\n",
       "      <td>34</td>\n",
       "      <td>8</td>\n",
       "      <td>6</td>\n",
       "      <td>0.444</td>\n",
       "      <td>243</td>\n",
       "      <td>637.3</td>\n",
       "      <td>3.6550</td>\n",
       "      <td>45.20</td>\n",
       "    </tr>\n",
       "    <tr>\n",
       "      <th>17</th>\n",
       "      <td>0.063665</td>\n",
       "      <td>16</td>\n",
       "      <td>76</td>\n",
       "      <td>0</td>\n",
       "      <td>44</td>\n",
       "      <td>5</td>\n",
       "      <td>31</td>\n",
       "      <td>8</td>\n",
       "      <td>7</td>\n",
       "      <td>0.444</td>\n",
       "      <td>433</td>\n",
       "      <td>927.3</td>\n",
       "      <td>3.5550</td>\n",
       "      <td>43.20</td>\n",
       "    </tr>\n",
       "    <tr>\n",
       "      <th>18</th>\n",
       "      <td>0.006650</td>\n",
       "      <td>18</td>\n",
       "      <td>71</td>\n",
       "      <td>0</td>\n",
       "      <td>44</td>\n",
       "      <td>3</td>\n",
       "      <td>33</td>\n",
       "      <td>3</td>\n",
       "      <td>4</td>\n",
       "      <td>0.144</td>\n",
       "      <td>443</td>\n",
       "      <td>937.3</td>\n",
       "      <td>3.3550</td>\n",
       "      <td>45.20</td>\n",
       "    </tr>\n",
       "    <tr>\n",
       "      <th>19</th>\n",
       "      <td>0.026650</td>\n",
       "      <td>13</td>\n",
       "      <td>75</td>\n",
       "      <td>0</td>\n",
       "      <td>24</td>\n",
       "      <td>4</td>\n",
       "      <td>34</td>\n",
       "      <td>8</td>\n",
       "      <td>6</td>\n",
       "      <td>0.444</td>\n",
       "      <td>243</td>\n",
       "      <td>637.3</td>\n",
       "      <td>3.6550</td>\n",
       "      <td>45.20</td>\n",
       "    </tr>\n",
       "    <tr>\n",
       "      <th>20</th>\n",
       "      <td>0.036650</td>\n",
       "      <td>14</td>\n",
       "      <td>70</td>\n",
       "      <td>0</td>\n",
       "      <td>14</td>\n",
       "      <td>5</td>\n",
       "      <td>31</td>\n",
       "      <td>8</td>\n",
       "      <td>7</td>\n",
       "      <td>0.444</td>\n",
       "      <td>433</td>\n",
       "      <td>927.3</td>\n",
       "      <td>3.5550</td>\n",
       "      <td>43.20</td>\n",
       "    </tr>\n",
       "    <tr>\n",
       "      <th>21</th>\n",
       "      <td>0.056650</td>\n",
       "      <td>16</td>\n",
       "      <td>74</td>\n",
       "      <td>0</td>\n",
       "      <td>24</td>\n",
       "      <td>6</td>\n",
       "      <td>36</td>\n",
       "      <td>7</td>\n",
       "      <td>8</td>\n",
       "      <td>0.344</td>\n",
       "      <td>403</td>\n",
       "      <td>937.3</td>\n",
       "      <td>3.0550</td>\n",
       "      <td>41.20</td>\n",
       "    </tr>\n",
       "    <tr>\n",
       "      <th>22</th>\n",
       "      <td>0.050665</td>\n",
       "      <td>17</td>\n",
       "      <td>45</td>\n",
       "      <td>0</td>\n",
       "      <td>54</td>\n",
       "      <td>7</td>\n",
       "      <td>53</td>\n",
       "      <td>6</td>\n",
       "      <td>0</td>\n",
       "      <td>0.244</td>\n",
       "      <td>473</td>\n",
       "      <td>137.3</td>\n",
       "      <td>3.5355</td>\n",
       "      <td>40.20</td>\n",
       "    </tr>\n",
       "    <tr>\n",
       "      <th>23</th>\n",
       "      <td>0.306650</td>\n",
       "      <td>15</td>\n",
       "      <td>75</td>\n",
       "      <td>0</td>\n",
       "      <td>44</td>\n",
       "      <td>8</td>\n",
       "      <td>83</td>\n",
       "      <td>5</td>\n",
       "      <td>9</td>\n",
       "      <td>0.144</td>\n",
       "      <td>403</td>\n",
       "      <td>907.3</td>\n",
       "      <td>3.3550</td>\n",
       "      <td>45.44</td>\n",
       "    </tr>\n",
       "    <tr>\n",
       "      <th>24</th>\n",
       "      <td>0.006650</td>\n",
       "      <td>18</td>\n",
       "      <td>71</td>\n",
       "      <td>0</td>\n",
       "      <td>44</td>\n",
       "      <td>3</td>\n",
       "      <td>33</td>\n",
       "      <td>3</td>\n",
       "      <td>4</td>\n",
       "      <td>0.144</td>\n",
       "      <td>443</td>\n",
       "      <td>937.3</td>\n",
       "      <td>3.3550</td>\n",
       "      <td>45.20</td>\n",
       "    </tr>\n",
       "    <tr>\n",
       "      <th>25</th>\n",
       "      <td>0.026650</td>\n",
       "      <td>13</td>\n",
       "      <td>75</td>\n",
       "      <td>0</td>\n",
       "      <td>24</td>\n",
       "      <td>4</td>\n",
       "      <td>34</td>\n",
       "      <td>8</td>\n",
       "      <td>6</td>\n",
       "      <td>0.444</td>\n",
       "      <td>243</td>\n",
       "      <td>637.3</td>\n",
       "      <td>3.6550</td>\n",
       "      <td>45.20</td>\n",
       "    </tr>\n",
       "    <tr>\n",
       "      <th>26</th>\n",
       "      <td>0.063665</td>\n",
       "      <td>16</td>\n",
       "      <td>76</td>\n",
       "      <td>0</td>\n",
       "      <td>44</td>\n",
       "      <td>5</td>\n",
       "      <td>31</td>\n",
       "      <td>8</td>\n",
       "      <td>7</td>\n",
       "      <td>0.444</td>\n",
       "      <td>433</td>\n",
       "      <td>927.3</td>\n",
       "      <td>3.5550</td>\n",
       "      <td>43.20</td>\n",
       "    </tr>\n",
       "    <tr>\n",
       "      <th>27</th>\n",
       "      <td>0.006650</td>\n",
       "      <td>18</td>\n",
       "      <td>71</td>\n",
       "      <td>0</td>\n",
       "      <td>44</td>\n",
       "      <td>3</td>\n",
       "      <td>33</td>\n",
       "      <td>3</td>\n",
       "      <td>4</td>\n",
       "      <td>0.144</td>\n",
       "      <td>443</td>\n",
       "      <td>937.3</td>\n",
       "      <td>3.3550</td>\n",
       "      <td>45.20</td>\n",
       "    </tr>\n",
       "    <tr>\n",
       "      <th>28</th>\n",
       "      <td>0.026650</td>\n",
       "      <td>13</td>\n",
       "      <td>75</td>\n",
       "      <td>0</td>\n",
       "      <td>24</td>\n",
       "      <td>4</td>\n",
       "      <td>34</td>\n",
       "      <td>8</td>\n",
       "      <td>6</td>\n",
       "      <td>0.444</td>\n",
       "      <td>243</td>\n",
       "      <td>637.3</td>\n",
       "      <td>3.6550</td>\n",
       "      <td>45.20</td>\n",
       "    </tr>\n",
       "    <tr>\n",
       "      <th>29</th>\n",
       "      <td>0.036650</td>\n",
       "      <td>14</td>\n",
       "      <td>70</td>\n",
       "      <td>0</td>\n",
       "      <td>14</td>\n",
       "      <td>5</td>\n",
       "      <td>31</td>\n",
       "      <td>8</td>\n",
       "      <td>7</td>\n",
       "      <td>0.444</td>\n",
       "      <td>433</td>\n",
       "      <td>927.3</td>\n",
       "      <td>3.5550</td>\n",
       "      <td>43.20</td>\n",
       "    </tr>\n",
       "    <tr>\n",
       "      <th>...</th>\n",
       "      <td>...</td>\n",
       "      <td>...</td>\n",
       "      <td>...</td>\n",
       "      <td>...</td>\n",
       "      <td>...</td>\n",
       "      <td>...</td>\n",
       "      <td>...</td>\n",
       "      <td>...</td>\n",
       "      <td>...</td>\n",
       "      <td>...</td>\n",
       "      <td>...</td>\n",
       "      <td>...</td>\n",
       "      <td>...</td>\n",
       "      <td>...</td>\n",
       "    </tr>\n",
       "    <tr>\n",
       "      <th>294</th>\n",
       "      <td>0.006650</td>\n",
       "      <td>18</td>\n",
       "      <td>71</td>\n",
       "      <td>0</td>\n",
       "      <td>44</td>\n",
       "      <td>3</td>\n",
       "      <td>33</td>\n",
       "      <td>3</td>\n",
       "      <td>4</td>\n",
       "      <td>0.144</td>\n",
       "      <td>443</td>\n",
       "      <td>937.3</td>\n",
       "      <td>3.3550</td>\n",
       "      <td>45.20</td>\n",
       "    </tr>\n",
       "    <tr>\n",
       "      <th>295</th>\n",
       "      <td>0.026650</td>\n",
       "      <td>13</td>\n",
       "      <td>75</td>\n",
       "      <td>0</td>\n",
       "      <td>24</td>\n",
       "      <td>4</td>\n",
       "      <td>34</td>\n",
       "      <td>8</td>\n",
       "      <td>6</td>\n",
       "      <td>0.444</td>\n",
       "      <td>243</td>\n",
       "      <td>637.3</td>\n",
       "      <td>3.6550</td>\n",
       "      <td>45.20</td>\n",
       "    </tr>\n",
       "    <tr>\n",
       "      <th>296</th>\n",
       "      <td>0.063665</td>\n",
       "      <td>16</td>\n",
       "      <td>76</td>\n",
       "      <td>0</td>\n",
       "      <td>44</td>\n",
       "      <td>5</td>\n",
       "      <td>31</td>\n",
       "      <td>8</td>\n",
       "      <td>7</td>\n",
       "      <td>0.444</td>\n",
       "      <td>433</td>\n",
       "      <td>927.3</td>\n",
       "      <td>3.5550</td>\n",
       "      <td>43.20</td>\n",
       "    </tr>\n",
       "    <tr>\n",
       "      <th>297</th>\n",
       "      <td>0.006650</td>\n",
       "      <td>18</td>\n",
       "      <td>71</td>\n",
       "      <td>0</td>\n",
       "      <td>44</td>\n",
       "      <td>3</td>\n",
       "      <td>33</td>\n",
       "      <td>3</td>\n",
       "      <td>4</td>\n",
       "      <td>0.144</td>\n",
       "      <td>443</td>\n",
       "      <td>937.3</td>\n",
       "      <td>3.3550</td>\n",
       "      <td>45.20</td>\n",
       "    </tr>\n",
       "    <tr>\n",
       "      <th>298</th>\n",
       "      <td>0.026650</td>\n",
       "      <td>13</td>\n",
       "      <td>75</td>\n",
       "      <td>0</td>\n",
       "      <td>24</td>\n",
       "      <td>4</td>\n",
       "      <td>34</td>\n",
       "      <td>8</td>\n",
       "      <td>6</td>\n",
       "      <td>0.444</td>\n",
       "      <td>243</td>\n",
       "      <td>637.3</td>\n",
       "      <td>3.6550</td>\n",
       "      <td>45.20</td>\n",
       "    </tr>\n",
       "    <tr>\n",
       "      <th>299</th>\n",
       "      <td>0.036650</td>\n",
       "      <td>14</td>\n",
       "      <td>70</td>\n",
       "      <td>0</td>\n",
       "      <td>14</td>\n",
       "      <td>5</td>\n",
       "      <td>31</td>\n",
       "      <td>8</td>\n",
       "      <td>7</td>\n",
       "      <td>0.444</td>\n",
       "      <td>433</td>\n",
       "      <td>927.3</td>\n",
       "      <td>3.5550</td>\n",
       "      <td>43.20</td>\n",
       "    </tr>\n",
       "    <tr>\n",
       "      <th>300</th>\n",
       "      <td>0.056650</td>\n",
       "      <td>16</td>\n",
       "      <td>74</td>\n",
       "      <td>0</td>\n",
       "      <td>24</td>\n",
       "      <td>6</td>\n",
       "      <td>36</td>\n",
       "      <td>7</td>\n",
       "      <td>8</td>\n",
       "      <td>0.344</td>\n",
       "      <td>403</td>\n",
       "      <td>937.3</td>\n",
       "      <td>3.0550</td>\n",
       "      <td>41.20</td>\n",
       "    </tr>\n",
       "    <tr>\n",
       "      <th>301</th>\n",
       "      <td>0.050665</td>\n",
       "      <td>17</td>\n",
       "      <td>45</td>\n",
       "      <td>0</td>\n",
       "      <td>54</td>\n",
       "      <td>7</td>\n",
       "      <td>53</td>\n",
       "      <td>6</td>\n",
       "      <td>0</td>\n",
       "      <td>0.244</td>\n",
       "      <td>473</td>\n",
       "      <td>137.3</td>\n",
       "      <td>3.5355</td>\n",
       "      <td>40.20</td>\n",
       "    </tr>\n",
       "    <tr>\n",
       "      <th>302</th>\n",
       "      <td>0.306650</td>\n",
       "      <td>15</td>\n",
       "      <td>75</td>\n",
       "      <td>0</td>\n",
       "      <td>44</td>\n",
       "      <td>8</td>\n",
       "      <td>83</td>\n",
       "      <td>5</td>\n",
       "      <td>9</td>\n",
       "      <td>0.144</td>\n",
       "      <td>403</td>\n",
       "      <td>907.3</td>\n",
       "      <td>3.3550</td>\n",
       "      <td>45.44</td>\n",
       "    </tr>\n",
       "    <tr>\n",
       "      <th>303</th>\n",
       "      <td>0.006650</td>\n",
       "      <td>18</td>\n",
       "      <td>71</td>\n",
       "      <td>0</td>\n",
       "      <td>44</td>\n",
       "      <td>3</td>\n",
       "      <td>33</td>\n",
       "      <td>3</td>\n",
       "      <td>4</td>\n",
       "      <td>0.144</td>\n",
       "      <td>443</td>\n",
       "      <td>937.3</td>\n",
       "      <td>3.3550</td>\n",
       "      <td>45.20</td>\n",
       "    </tr>\n",
       "    <tr>\n",
       "      <th>304</th>\n",
       "      <td>0.026650</td>\n",
       "      <td>13</td>\n",
       "      <td>75</td>\n",
       "      <td>0</td>\n",
       "      <td>24</td>\n",
       "      <td>4</td>\n",
       "      <td>34</td>\n",
       "      <td>8</td>\n",
       "      <td>6</td>\n",
       "      <td>0.444</td>\n",
       "      <td>243</td>\n",
       "      <td>637.3</td>\n",
       "      <td>3.6550</td>\n",
       "      <td>45.20</td>\n",
       "    </tr>\n",
       "    <tr>\n",
       "      <th>305</th>\n",
       "      <td>0.063665</td>\n",
       "      <td>16</td>\n",
       "      <td>76</td>\n",
       "      <td>0</td>\n",
       "      <td>44</td>\n",
       "      <td>5</td>\n",
       "      <td>31</td>\n",
       "      <td>8</td>\n",
       "      <td>7</td>\n",
       "      <td>0.444</td>\n",
       "      <td>433</td>\n",
       "      <td>927.3</td>\n",
       "      <td>3.5550</td>\n",
       "      <td>43.20</td>\n",
       "    </tr>\n",
       "    <tr>\n",
       "      <th>306</th>\n",
       "      <td>0.006650</td>\n",
       "      <td>18</td>\n",
       "      <td>71</td>\n",
       "      <td>0</td>\n",
       "      <td>44</td>\n",
       "      <td>3</td>\n",
       "      <td>33</td>\n",
       "      <td>3</td>\n",
       "      <td>4</td>\n",
       "      <td>0.144</td>\n",
       "      <td>443</td>\n",
       "      <td>937.3</td>\n",
       "      <td>3.3550</td>\n",
       "      <td>45.20</td>\n",
       "    </tr>\n",
       "    <tr>\n",
       "      <th>307</th>\n",
       "      <td>0.026650</td>\n",
       "      <td>13</td>\n",
       "      <td>75</td>\n",
       "      <td>0</td>\n",
       "      <td>24</td>\n",
       "      <td>4</td>\n",
       "      <td>34</td>\n",
       "      <td>8</td>\n",
       "      <td>6</td>\n",
       "      <td>0.444</td>\n",
       "      <td>243</td>\n",
       "      <td>637.3</td>\n",
       "      <td>3.6550</td>\n",
       "      <td>45.20</td>\n",
       "    </tr>\n",
       "    <tr>\n",
       "      <th>308</th>\n",
       "      <td>0.036650</td>\n",
       "      <td>14</td>\n",
       "      <td>70</td>\n",
       "      <td>0</td>\n",
       "      <td>14</td>\n",
       "      <td>5</td>\n",
       "      <td>31</td>\n",
       "      <td>8</td>\n",
       "      <td>7</td>\n",
       "      <td>0.444</td>\n",
       "      <td>433</td>\n",
       "      <td>927.3</td>\n",
       "      <td>3.5550</td>\n",
       "      <td>43.20</td>\n",
       "    </tr>\n",
       "    <tr>\n",
       "      <th>309</th>\n",
       "      <td>0.056650</td>\n",
       "      <td>16</td>\n",
       "      <td>74</td>\n",
       "      <td>0</td>\n",
       "      <td>24</td>\n",
       "      <td>6</td>\n",
       "      <td>36</td>\n",
       "      <td>7</td>\n",
       "      <td>8</td>\n",
       "      <td>0.344</td>\n",
       "      <td>403</td>\n",
       "      <td>937.3</td>\n",
       "      <td>3.0550</td>\n",
       "      <td>41.20</td>\n",
       "    </tr>\n",
       "    <tr>\n",
       "      <th>310</th>\n",
       "      <td>0.050665</td>\n",
       "      <td>17</td>\n",
       "      <td>45</td>\n",
       "      <td>0</td>\n",
       "      <td>54</td>\n",
       "      <td>7</td>\n",
       "      <td>53</td>\n",
       "      <td>6</td>\n",
       "      <td>0</td>\n",
       "      <td>0.244</td>\n",
       "      <td>473</td>\n",
       "      <td>137.3</td>\n",
       "      <td>3.5355</td>\n",
       "      <td>40.20</td>\n",
       "    </tr>\n",
       "    <tr>\n",
       "      <th>311</th>\n",
       "      <td>0.306650</td>\n",
       "      <td>15</td>\n",
       "      <td>75</td>\n",
       "      <td>0</td>\n",
       "      <td>44</td>\n",
       "      <td>8</td>\n",
       "      <td>83</td>\n",
       "      <td>5</td>\n",
       "      <td>9</td>\n",
       "      <td>0.144</td>\n",
       "      <td>403</td>\n",
       "      <td>907.3</td>\n",
       "      <td>3.3550</td>\n",
       "      <td>45.44</td>\n",
       "    </tr>\n",
       "    <tr>\n",
       "      <th>312</th>\n",
       "      <td>0.006650</td>\n",
       "      <td>18</td>\n",
       "      <td>71</td>\n",
       "      <td>0</td>\n",
       "      <td>44</td>\n",
       "      <td>3</td>\n",
       "      <td>33</td>\n",
       "      <td>3</td>\n",
       "      <td>4</td>\n",
       "      <td>0.144</td>\n",
       "      <td>443</td>\n",
       "      <td>937.3</td>\n",
       "      <td>3.3550</td>\n",
       "      <td>45.20</td>\n",
       "    </tr>\n",
       "    <tr>\n",
       "      <th>313</th>\n",
       "      <td>0.026650</td>\n",
       "      <td>13</td>\n",
       "      <td>75</td>\n",
       "      <td>0</td>\n",
       "      <td>24</td>\n",
       "      <td>4</td>\n",
       "      <td>34</td>\n",
       "      <td>8</td>\n",
       "      <td>6</td>\n",
       "      <td>0.444</td>\n",
       "      <td>243</td>\n",
       "      <td>637.3</td>\n",
       "      <td>3.6550</td>\n",
       "      <td>45.20</td>\n",
       "    </tr>\n",
       "    <tr>\n",
       "      <th>314</th>\n",
       "      <td>0.063665</td>\n",
       "      <td>16</td>\n",
       "      <td>76</td>\n",
       "      <td>0</td>\n",
       "      <td>44</td>\n",
       "      <td>5</td>\n",
       "      <td>31</td>\n",
       "      <td>8</td>\n",
       "      <td>7</td>\n",
       "      <td>0.444</td>\n",
       "      <td>433</td>\n",
       "      <td>927.3</td>\n",
       "      <td>3.5550</td>\n",
       "      <td>43.20</td>\n",
       "    </tr>\n",
       "    <tr>\n",
       "      <th>315</th>\n",
       "      <td>0.006650</td>\n",
       "      <td>18</td>\n",
       "      <td>71</td>\n",
       "      <td>0</td>\n",
       "      <td>44</td>\n",
       "      <td>3</td>\n",
       "      <td>33</td>\n",
       "      <td>3</td>\n",
       "      <td>4</td>\n",
       "      <td>0.144</td>\n",
       "      <td>443</td>\n",
       "      <td>937.3</td>\n",
       "      <td>3.3550</td>\n",
       "      <td>45.20</td>\n",
       "    </tr>\n",
       "    <tr>\n",
       "      <th>316</th>\n",
       "      <td>0.026650</td>\n",
       "      <td>13</td>\n",
       "      <td>75</td>\n",
       "      <td>0</td>\n",
       "      <td>24</td>\n",
       "      <td>4</td>\n",
       "      <td>34</td>\n",
       "      <td>8</td>\n",
       "      <td>6</td>\n",
       "      <td>0.444</td>\n",
       "      <td>243</td>\n",
       "      <td>637.3</td>\n",
       "      <td>3.6550</td>\n",
       "      <td>45.20</td>\n",
       "    </tr>\n",
       "    <tr>\n",
       "      <th>317</th>\n",
       "      <td>0.036650</td>\n",
       "      <td>14</td>\n",
       "      <td>70</td>\n",
       "      <td>0</td>\n",
       "      <td>14</td>\n",
       "      <td>5</td>\n",
       "      <td>31</td>\n",
       "      <td>8</td>\n",
       "      <td>7</td>\n",
       "      <td>0.444</td>\n",
       "      <td>433</td>\n",
       "      <td>927.3</td>\n",
       "      <td>3.5550</td>\n",
       "      <td>43.20</td>\n",
       "    </tr>\n",
       "    <tr>\n",
       "      <th>318</th>\n",
       "      <td>0.056650</td>\n",
       "      <td>16</td>\n",
       "      <td>74</td>\n",
       "      <td>0</td>\n",
       "      <td>24</td>\n",
       "      <td>6</td>\n",
       "      <td>36</td>\n",
       "      <td>7</td>\n",
       "      <td>8</td>\n",
       "      <td>0.344</td>\n",
       "      <td>403</td>\n",
       "      <td>937.3</td>\n",
       "      <td>3.0550</td>\n",
       "      <td>41.20</td>\n",
       "    </tr>\n",
       "    <tr>\n",
       "      <th>319</th>\n",
       "      <td>0.050665</td>\n",
       "      <td>17</td>\n",
       "      <td>45</td>\n",
       "      <td>0</td>\n",
       "      <td>54</td>\n",
       "      <td>7</td>\n",
       "      <td>53</td>\n",
       "      <td>6</td>\n",
       "      <td>0</td>\n",
       "      <td>0.244</td>\n",
       "      <td>473</td>\n",
       "      <td>137.3</td>\n",
       "      <td>3.5355</td>\n",
       "      <td>40.20</td>\n",
       "    </tr>\n",
       "    <tr>\n",
       "      <th>320</th>\n",
       "      <td>0.306650</td>\n",
       "      <td>15</td>\n",
       "      <td>75</td>\n",
       "      <td>0</td>\n",
       "      <td>44</td>\n",
       "      <td>8</td>\n",
       "      <td>83</td>\n",
       "      <td>5</td>\n",
       "      <td>9</td>\n",
       "      <td>0.144</td>\n",
       "      <td>403</td>\n",
       "      <td>907.3</td>\n",
       "      <td>3.3550</td>\n",
       "      <td>45.44</td>\n",
       "    </tr>\n",
       "    <tr>\n",
       "      <th>321</th>\n",
       "      <td>0.006650</td>\n",
       "      <td>18</td>\n",
       "      <td>71</td>\n",
       "      <td>0</td>\n",
       "      <td>44</td>\n",
       "      <td>3</td>\n",
       "      <td>33</td>\n",
       "      <td>3</td>\n",
       "      <td>4</td>\n",
       "      <td>0.144</td>\n",
       "      <td>443</td>\n",
       "      <td>937.3</td>\n",
       "      <td>3.3550</td>\n",
       "      <td>45.20</td>\n",
       "    </tr>\n",
       "    <tr>\n",
       "      <th>322</th>\n",
       "      <td>0.026650</td>\n",
       "      <td>13</td>\n",
       "      <td>75</td>\n",
       "      <td>0</td>\n",
       "      <td>24</td>\n",
       "      <td>4</td>\n",
       "      <td>34</td>\n",
       "      <td>8</td>\n",
       "      <td>6</td>\n",
       "      <td>0.444</td>\n",
       "      <td>243</td>\n",
       "      <td>637.3</td>\n",
       "      <td>3.6550</td>\n",
       "      <td>45.20</td>\n",
       "    </tr>\n",
       "    <tr>\n",
       "      <th>323</th>\n",
       "      <td>0.063665</td>\n",
       "      <td>16</td>\n",
       "      <td>76</td>\n",
       "      <td>0</td>\n",
       "      <td>44</td>\n",
       "      <td>5</td>\n",
       "      <td>31</td>\n",
       "      <td>8</td>\n",
       "      <td>7</td>\n",
       "      <td>0.444</td>\n",
       "      <td>433</td>\n",
       "      <td>927.3</td>\n",
       "      <td>3.5550</td>\n",
       "      <td>43.20</td>\n",
       "    </tr>\n",
       "  </tbody>\n",
       "</table>\n",
       "<p>324 rows × 14 columns</p>\n",
       "</div>"
      ],
      "text/plain": [
       "         crim  zn  indus  chas  nox  rm  age  dis  rad    tax  ptratio      b  \\\n",
       "0    0.006650  18     71     0   44   3   33    3    4  0.144      443  937.3   \n",
       "1    0.026650  13     75     0   24   4   34    8    6  0.444      243  637.3   \n",
       "2    0.036650  14     70     0   14   5   31    8    7  0.444      433  927.3   \n",
       "3    0.056650  16     74     0   24   6   36    7    8  0.344      403  937.3   \n",
       "4    0.050665  17     45     0   54   7   53    6    0  0.244      473  137.3   \n",
       "5    0.306650  15     75     0   44   8   83    5    9  0.144      403  907.3   \n",
       "6    0.006650  18     71     0   44   3   33    3    4  0.144      443  937.3   \n",
       "7    0.026650  13     75     0   24   4   34    8    6  0.444      243  637.3   \n",
       "8    0.063665  16     76     0   44   5   31    8    7  0.444      433  927.3   \n",
       "9    0.006650  18     71     0   44   3   33    3    4  0.144      443  937.3   \n",
       "10   0.026650  13     75     0   24   4   34    8    6  0.444      243  637.3   \n",
       "11   0.036650  14     70     0   14   5   31    8    7  0.444      433  927.3   \n",
       "12   0.056650  16     74     0   24   6   36    7    8  0.344      403  937.3   \n",
       "13   0.050665  17     45     0   54   7   53    6    0  0.244      473  137.3   \n",
       "14   0.306650  15     75     0   44   8   83    5    9  0.144      403  907.3   \n",
       "15   0.006650  18     71     0   44   3   33    3    4  0.144      443  937.3   \n",
       "16   0.026650  13     75     0   24   4   34    8    6  0.444      243  637.3   \n",
       "17   0.063665  16     76     0   44   5   31    8    7  0.444      433  927.3   \n",
       "18   0.006650  18     71     0   44   3   33    3    4  0.144      443  937.3   \n",
       "19   0.026650  13     75     0   24   4   34    8    6  0.444      243  637.3   \n",
       "20   0.036650  14     70     0   14   5   31    8    7  0.444      433  927.3   \n",
       "21   0.056650  16     74     0   24   6   36    7    8  0.344      403  937.3   \n",
       "22   0.050665  17     45     0   54   7   53    6    0  0.244      473  137.3   \n",
       "23   0.306650  15     75     0   44   8   83    5    9  0.144      403  907.3   \n",
       "24   0.006650  18     71     0   44   3   33    3    4  0.144      443  937.3   \n",
       "25   0.026650  13     75     0   24   4   34    8    6  0.444      243  637.3   \n",
       "26   0.063665  16     76     0   44   5   31    8    7  0.444      433  927.3   \n",
       "27   0.006650  18     71     0   44   3   33    3    4  0.144      443  937.3   \n",
       "28   0.026650  13     75     0   24   4   34    8    6  0.444      243  637.3   \n",
       "29   0.036650  14     70     0   14   5   31    8    7  0.444      433  927.3   \n",
       "..        ...  ..    ...   ...  ...  ..  ...  ...  ...    ...      ...    ...   \n",
       "294  0.006650  18     71     0   44   3   33    3    4  0.144      443  937.3   \n",
       "295  0.026650  13     75     0   24   4   34    8    6  0.444      243  637.3   \n",
       "296  0.063665  16     76     0   44   5   31    8    7  0.444      433  927.3   \n",
       "297  0.006650  18     71     0   44   3   33    3    4  0.144      443  937.3   \n",
       "298  0.026650  13     75     0   24   4   34    8    6  0.444      243  637.3   \n",
       "299  0.036650  14     70     0   14   5   31    8    7  0.444      433  927.3   \n",
       "300  0.056650  16     74     0   24   6   36    7    8  0.344      403  937.3   \n",
       "301  0.050665  17     45     0   54   7   53    6    0  0.244      473  137.3   \n",
       "302  0.306650  15     75     0   44   8   83    5    9  0.144      403  907.3   \n",
       "303  0.006650  18     71     0   44   3   33    3    4  0.144      443  937.3   \n",
       "304  0.026650  13     75     0   24   4   34    8    6  0.444      243  637.3   \n",
       "305  0.063665  16     76     0   44   5   31    8    7  0.444      433  927.3   \n",
       "306  0.006650  18     71     0   44   3   33    3    4  0.144      443  937.3   \n",
       "307  0.026650  13     75     0   24   4   34    8    6  0.444      243  637.3   \n",
       "308  0.036650  14     70     0   14   5   31    8    7  0.444      433  927.3   \n",
       "309  0.056650  16     74     0   24   6   36    7    8  0.344      403  937.3   \n",
       "310  0.050665  17     45     0   54   7   53    6    0  0.244      473  137.3   \n",
       "311  0.306650  15     75     0   44   8   83    5    9  0.144      403  907.3   \n",
       "312  0.006650  18     71     0   44   3   33    3    4  0.144      443  937.3   \n",
       "313  0.026650  13     75     0   24   4   34    8    6  0.444      243  637.3   \n",
       "314  0.063665  16     76     0   44   5   31    8    7  0.444      433  927.3   \n",
       "315  0.006650  18     71     0   44   3   33    3    4  0.144      443  937.3   \n",
       "316  0.026650  13     75     0   24   4   34    8    6  0.444      243  637.3   \n",
       "317  0.036650  14     70     0   14   5   31    8    7  0.444      433  927.3   \n",
       "318  0.056650  16     74     0   24   6   36    7    8  0.344      403  937.3   \n",
       "319  0.050665  17     45     0   54   7   53    6    0  0.244      473  137.3   \n",
       "320  0.306650  15     75     0   44   8   83    5    9  0.144      403  907.3   \n",
       "321  0.006650  18     71     0   44   3   33    3    4  0.144      443  937.3   \n",
       "322  0.026650  13     75     0   24   4   34    8    6  0.444      243  637.3   \n",
       "323  0.063665  16     76     0   44   5   31    8    7  0.444      433  927.3   \n",
       "\n",
       "      lstat   medv  \n",
       "0    3.3550  45.20  \n",
       "1    3.6550  45.20  \n",
       "2    3.5550  43.20  \n",
       "3    3.0550  41.20  \n",
       "4    3.5355  40.20  \n",
       "5    3.3550  45.44  \n",
       "6    3.3550  45.20  \n",
       "7    3.6550  45.20  \n",
       "8    3.5550  43.20  \n",
       "9    3.3550  45.20  \n",
       "10   3.6550  45.20  \n",
       "11   3.5550  43.20  \n",
       "12   3.0550  41.20  \n",
       "13   3.5355  40.20  \n",
       "14   3.3550  45.44  \n",
       "15   3.3550  45.20  \n",
       "16   3.6550  45.20  \n",
       "17   3.5550  43.20  \n",
       "18   3.3550  45.20  \n",
       "19   3.6550  45.20  \n",
       "20   3.5550  43.20  \n",
       "21   3.0550  41.20  \n",
       "22   3.5355  40.20  \n",
       "23   3.3550  45.44  \n",
       "24   3.3550  45.20  \n",
       "25   3.6550  45.20  \n",
       "26   3.5550  43.20  \n",
       "27   3.3550  45.20  \n",
       "28   3.6550  45.20  \n",
       "29   3.5550  43.20  \n",
       "..      ...    ...  \n",
       "294  3.3550  45.20  \n",
       "295  3.6550  45.20  \n",
       "296  3.5550  43.20  \n",
       "297  3.3550  45.20  \n",
       "298  3.6550  45.20  \n",
       "299  3.5550  43.20  \n",
       "300  3.0550  41.20  \n",
       "301  3.5355  40.20  \n",
       "302  3.3550  45.44  \n",
       "303  3.3550  45.20  \n",
       "304  3.6550  45.20  \n",
       "305  3.5550  43.20  \n",
       "306  3.3550  45.20  \n",
       "307  3.6550  45.20  \n",
       "308  3.5550  43.20  \n",
       "309  3.0550  41.20  \n",
       "310  3.5355  40.20  \n",
       "311  3.3550  45.44  \n",
       "312  3.3550  45.20  \n",
       "313  3.6550  45.20  \n",
       "314  3.5550  43.20  \n",
       "315  3.3550  45.20  \n",
       "316  3.6550  45.20  \n",
       "317  3.5550  43.20  \n",
       "318  3.0550  41.20  \n",
       "319  3.5355  40.20  \n",
       "320  3.3550  45.44  \n",
       "321  3.3550  45.20  \n",
       "322  3.6550  45.20  \n",
       "323  3.5550  43.20  \n",
       "\n",
       "[324 rows x 14 columns]"
      ]
     },
     "execution_count": 115,
     "metadata": {},
     "output_type": "execute_result"
    }
   ],
   "source": [
    "D = pd.read_csv('Boston_house.csv')    # header = None\n",
    "D"
   ]
  },
  {
   "cell_type": "code",
   "execution_count": 116,
   "metadata": {},
   "outputs": [
    {
     "data": {
      "text/html": [
       "<div>\n",
       "<style scoped>\n",
       "    .dataframe tbody tr th:only-of-type {\n",
       "        vertical-align: middle;\n",
       "    }\n",
       "\n",
       "    .dataframe tbody tr th {\n",
       "        vertical-align: top;\n",
       "    }\n",
       "\n",
       "    .dataframe thead th {\n",
       "        text-align: right;\n",
       "    }\n",
       "</style>\n",
       "<table border=\"1\" class=\"dataframe\">\n",
       "  <thead>\n",
       "    <tr style=\"text-align: right;\">\n",
       "      <th></th>\n",
       "      <th>crim</th>\n",
       "      <th>zn</th>\n",
       "      <th>indus</th>\n",
       "      <th>chas</th>\n",
       "      <th>nox</th>\n",
       "      <th>rm</th>\n",
       "      <th>age</th>\n",
       "      <th>dis</th>\n",
       "      <th>rad</th>\n",
       "      <th>tax</th>\n",
       "      <th>ptratio</th>\n",
       "      <th>b</th>\n",
       "      <th>lstat</th>\n",
       "      <th>medv</th>\n",
       "    </tr>\n",
       "  </thead>\n",
       "  <tbody>\n",
       "    <tr>\n",
       "      <th>0</th>\n",
       "      <td>0.006650</td>\n",
       "      <td>18</td>\n",
       "      <td>71</td>\n",
       "      <td>0</td>\n",
       "      <td>44</td>\n",
       "      <td>3</td>\n",
       "      <td>33</td>\n",
       "      <td>3</td>\n",
       "      <td>4</td>\n",
       "      <td>0.144</td>\n",
       "      <td>443</td>\n",
       "      <td>937.3</td>\n",
       "      <td>3.3550</td>\n",
       "      <td>45.2</td>\n",
       "    </tr>\n",
       "    <tr>\n",
       "      <th>1</th>\n",
       "      <td>0.026650</td>\n",
       "      <td>13</td>\n",
       "      <td>75</td>\n",
       "      <td>0</td>\n",
       "      <td>24</td>\n",
       "      <td>4</td>\n",
       "      <td>34</td>\n",
       "      <td>8</td>\n",
       "      <td>6</td>\n",
       "      <td>0.444</td>\n",
       "      <td>243</td>\n",
       "      <td>637.3</td>\n",
       "      <td>3.6550</td>\n",
       "      <td>45.2</td>\n",
       "    </tr>\n",
       "    <tr>\n",
       "      <th>2</th>\n",
       "      <td>0.036650</td>\n",
       "      <td>14</td>\n",
       "      <td>70</td>\n",
       "      <td>0</td>\n",
       "      <td>14</td>\n",
       "      <td>5</td>\n",
       "      <td>31</td>\n",
       "      <td>8</td>\n",
       "      <td>7</td>\n",
       "      <td>0.444</td>\n",
       "      <td>433</td>\n",
       "      <td>927.3</td>\n",
       "      <td>3.5550</td>\n",
       "      <td>43.2</td>\n",
       "    </tr>\n",
       "    <tr>\n",
       "      <th>3</th>\n",
       "      <td>0.056650</td>\n",
       "      <td>16</td>\n",
       "      <td>74</td>\n",
       "      <td>0</td>\n",
       "      <td>24</td>\n",
       "      <td>6</td>\n",
       "      <td>36</td>\n",
       "      <td>7</td>\n",
       "      <td>8</td>\n",
       "      <td>0.344</td>\n",
       "      <td>403</td>\n",
       "      <td>937.3</td>\n",
       "      <td>3.0550</td>\n",
       "      <td>41.2</td>\n",
       "    </tr>\n",
       "    <tr>\n",
       "      <th>4</th>\n",
       "      <td>0.050665</td>\n",
       "      <td>17</td>\n",
       "      <td>45</td>\n",
       "      <td>0</td>\n",
       "      <td>54</td>\n",
       "      <td>7</td>\n",
       "      <td>53</td>\n",
       "      <td>6</td>\n",
       "      <td>0</td>\n",
       "      <td>0.244</td>\n",
       "      <td>473</td>\n",
       "      <td>137.3</td>\n",
       "      <td>3.5355</td>\n",
       "      <td>40.2</td>\n",
       "    </tr>\n",
       "  </tbody>\n",
       "</table>\n",
       "</div>"
      ],
      "text/plain": [
       "       crim  zn  indus  chas  nox  rm  age  dis  rad    tax  ptratio      b  \\\n",
       "0  0.006650  18     71     0   44   3   33    3    4  0.144      443  937.3   \n",
       "1  0.026650  13     75     0   24   4   34    8    6  0.444      243  637.3   \n",
       "2  0.036650  14     70     0   14   5   31    8    7  0.444      433  927.3   \n",
       "3  0.056650  16     74     0   24   6   36    7    8  0.344      403  937.3   \n",
       "4  0.050665  17     45     0   54   7   53    6    0  0.244      473  137.3   \n",
       "\n",
       "    lstat  medv  \n",
       "0  3.3550  45.2  \n",
       "1  3.6550  45.2  \n",
       "2  3.5550  43.2  \n",
       "3  3.0550  41.2  \n",
       "4  3.5355  40.2  "
      ]
     },
     "execution_count": 116,
     "metadata": {},
     "output_type": "execute_result"
    }
   ],
   "source": [
    "D.head()"
   ]
  },
  {
   "cell_type": "code",
   "execution_count": 117,
   "metadata": {},
   "outputs": [
    {
     "data": {
      "text/plain": [
       "(324, 14)"
      ]
     },
     "execution_count": 117,
     "metadata": {},
     "output_type": "execute_result"
    }
   ],
   "source": [
    "D.shape"
   ]
  },
  {
   "cell_type": "code",
   "execution_count": 118,
   "metadata": {},
   "outputs": [
    {
     "data": {
      "text/plain": [
       "pandas.core.frame.DataFrame"
      ]
     },
     "execution_count": 118,
     "metadata": {},
     "output_type": "execute_result"
    }
   ],
   "source": [
    "type(D)"
   ]
  },
  {
   "cell_type": "code",
   "execution_count": 120,
   "metadata": {
    "collapsed": true
   },
   "outputs": [
    {
     "name": "stdout",
     "output_type": "stream",
     "text": [
      "<class 'pandas.core.frame.DataFrame'>\n",
      "RangeIndex: 324 entries, 0 to 323\n",
      "Data columns (total 14 columns):\n",
      "crim       324 non-null float64\n",
      "zn         324 non-null int64\n",
      "indus      324 non-null int64\n",
      "chas       324 non-null int64\n",
      "nox        324 non-null int64\n",
      "rm         324 non-null int64\n",
      "age        324 non-null int64\n",
      "dis        324 non-null int64\n",
      "rad        324 non-null int64\n",
      "tax        324 non-null float64\n",
      "ptratio    324 non-null int64\n",
      "b          324 non-null float64\n",
      "lstat      324 non-null float64\n",
      "medv       324 non-null float64\n",
      "dtypes: float64(5), int64(9)\n",
      "memory usage: 35.5 KB\n"
     ]
    }
   ],
   "source": [
    "D.info()"
   ]
  },
  {
   "cell_type": "code",
   "execution_count": 121,
   "metadata": {
    "collapsed": true
   },
   "outputs": [
    {
     "data": {
      "text/html": [
       "<div>\n",
       "<style scoped>\n",
       "    .dataframe tbody tr th:only-of-type {\n",
       "        vertical-align: middle;\n",
       "    }\n",
       "\n",
       "    .dataframe tbody tr th {\n",
       "        vertical-align: top;\n",
       "    }\n",
       "\n",
       "    .dataframe thead th {\n",
       "        text-align: right;\n",
       "    }\n",
       "</style>\n",
       "<table border=\"1\" class=\"dataframe\">\n",
       "  <thead>\n",
       "    <tr style=\"text-align: right;\">\n",
       "      <th></th>\n",
       "      <th>crim</th>\n",
       "      <th>zn</th>\n",
       "      <th>indus</th>\n",
       "      <th>chas</th>\n",
       "      <th>nox</th>\n",
       "      <th>rm</th>\n",
       "      <th>age</th>\n",
       "      <th>dis</th>\n",
       "      <th>rad</th>\n",
       "      <th>tax</th>\n",
       "      <th>ptratio</th>\n",
       "      <th>b</th>\n",
       "      <th>lstat</th>\n",
       "      <th>medv</th>\n",
       "    </tr>\n",
       "  </thead>\n",
       "  <tbody>\n",
       "    <tr>\n",
       "      <th>0</th>\n",
       "      <td>0.006650</td>\n",
       "      <td>18</td>\n",
       "      <td>71</td>\n",
       "      <td>0</td>\n",
       "      <td>44</td>\n",
       "      <td>3</td>\n",
       "      <td>33</td>\n",
       "      <td>3</td>\n",
       "      <td>4</td>\n",
       "      <td>0.144</td>\n",
       "      <td>443</td>\n",
       "      <td>937.3</td>\n",
       "      <td>3.3550</td>\n",
       "      <td>45.20</td>\n",
       "    </tr>\n",
       "    <tr>\n",
       "      <th>1</th>\n",
       "      <td>0.026650</td>\n",
       "      <td>13</td>\n",
       "      <td>75</td>\n",
       "      <td>0</td>\n",
       "      <td>24</td>\n",
       "      <td>4</td>\n",
       "      <td>34</td>\n",
       "      <td>8</td>\n",
       "      <td>6</td>\n",
       "      <td>0.444</td>\n",
       "      <td>243</td>\n",
       "      <td>637.3</td>\n",
       "      <td>3.6550</td>\n",
       "      <td>45.20</td>\n",
       "    </tr>\n",
       "    <tr>\n",
       "      <th>2</th>\n",
       "      <td>0.036650</td>\n",
       "      <td>14</td>\n",
       "      <td>70</td>\n",
       "      <td>0</td>\n",
       "      <td>14</td>\n",
       "      <td>5</td>\n",
       "      <td>31</td>\n",
       "      <td>8</td>\n",
       "      <td>7</td>\n",
       "      <td>0.444</td>\n",
       "      <td>433</td>\n",
       "      <td>927.3</td>\n",
       "      <td>3.5550</td>\n",
       "      <td>43.20</td>\n",
       "    </tr>\n",
       "    <tr>\n",
       "      <th>3</th>\n",
       "      <td>0.056650</td>\n",
       "      <td>16</td>\n",
       "      <td>74</td>\n",
       "      <td>0</td>\n",
       "      <td>24</td>\n",
       "      <td>6</td>\n",
       "      <td>36</td>\n",
       "      <td>7</td>\n",
       "      <td>8</td>\n",
       "      <td>0.344</td>\n",
       "      <td>403</td>\n",
       "      <td>937.3</td>\n",
       "      <td>3.0550</td>\n",
       "      <td>41.20</td>\n",
       "    </tr>\n",
       "    <tr>\n",
       "      <th>4</th>\n",
       "      <td>0.050665</td>\n",
       "      <td>17</td>\n",
       "      <td>45</td>\n",
       "      <td>0</td>\n",
       "      <td>54</td>\n",
       "      <td>7</td>\n",
       "      <td>53</td>\n",
       "      <td>6</td>\n",
       "      <td>0</td>\n",
       "      <td>0.244</td>\n",
       "      <td>473</td>\n",
       "      <td>137.3</td>\n",
       "      <td>3.5355</td>\n",
       "      <td>40.20</td>\n",
       "    </tr>\n",
       "    <tr>\n",
       "      <th>5</th>\n",
       "      <td>0.306650</td>\n",
       "      <td>15</td>\n",
       "      <td>75</td>\n",
       "      <td>0</td>\n",
       "      <td>44</td>\n",
       "      <td>8</td>\n",
       "      <td>83</td>\n",
       "      <td>5</td>\n",
       "      <td>9</td>\n",
       "      <td>0.144</td>\n",
       "      <td>403</td>\n",
       "      <td>907.3</td>\n",
       "      <td>3.3550</td>\n",
       "      <td>45.44</td>\n",
       "    </tr>\n",
       "    <tr>\n",
       "      <th>6</th>\n",
       "      <td>0.006650</td>\n",
       "      <td>18</td>\n",
       "      <td>71</td>\n",
       "      <td>0</td>\n",
       "      <td>44</td>\n",
       "      <td>3</td>\n",
       "      <td>33</td>\n",
       "      <td>3</td>\n",
       "      <td>4</td>\n",
       "      <td>0.144</td>\n",
       "      <td>443</td>\n",
       "      <td>937.3</td>\n",
       "      <td>3.3550</td>\n",
       "      <td>45.20</td>\n",
       "    </tr>\n",
       "    <tr>\n",
       "      <th>7</th>\n",
       "      <td>0.026650</td>\n",
       "      <td>13</td>\n",
       "      <td>75</td>\n",
       "      <td>0</td>\n",
       "      <td>24</td>\n",
       "      <td>4</td>\n",
       "      <td>34</td>\n",
       "      <td>8</td>\n",
       "      <td>6</td>\n",
       "      <td>0.444</td>\n",
       "      <td>243</td>\n",
       "      <td>637.3</td>\n",
       "      <td>3.6550</td>\n",
       "      <td>45.20</td>\n",
       "    </tr>\n",
       "    <tr>\n",
       "      <th>8</th>\n",
       "      <td>0.063665</td>\n",
       "      <td>16</td>\n",
       "      <td>76</td>\n",
       "      <td>0</td>\n",
       "      <td>44</td>\n",
       "      <td>5</td>\n",
       "      <td>31</td>\n",
       "      <td>8</td>\n",
       "      <td>7</td>\n",
       "      <td>0.444</td>\n",
       "      <td>433</td>\n",
       "      <td>927.3</td>\n",
       "      <td>3.5550</td>\n",
       "      <td>43.20</td>\n",
       "    </tr>\n",
       "    <tr>\n",
       "      <th>9</th>\n",
       "      <td>0.006650</td>\n",
       "      <td>18</td>\n",
       "      <td>71</td>\n",
       "      <td>0</td>\n",
       "      <td>44</td>\n",
       "      <td>3</td>\n",
       "      <td>33</td>\n",
       "      <td>3</td>\n",
       "      <td>4</td>\n",
       "      <td>0.144</td>\n",
       "      <td>443</td>\n",
       "      <td>937.3</td>\n",
       "      <td>3.3550</td>\n",
       "      <td>45.20</td>\n",
       "    </tr>\n",
       "  </tbody>\n",
       "</table>\n",
       "</div>"
      ],
      "text/plain": [
       "       crim  zn  indus  chas  nox  rm  age  dis  rad    tax  ptratio      b  \\\n",
       "0  0.006650  18     71     0   44   3   33    3    4  0.144      443  937.3   \n",
       "1  0.026650  13     75     0   24   4   34    8    6  0.444      243  637.3   \n",
       "2  0.036650  14     70     0   14   5   31    8    7  0.444      433  927.3   \n",
       "3  0.056650  16     74     0   24   6   36    7    8  0.344      403  937.3   \n",
       "4  0.050665  17     45     0   54   7   53    6    0  0.244      473  137.3   \n",
       "5  0.306650  15     75     0   44   8   83    5    9  0.144      403  907.3   \n",
       "6  0.006650  18     71     0   44   3   33    3    4  0.144      443  937.3   \n",
       "7  0.026650  13     75     0   24   4   34    8    6  0.444      243  637.3   \n",
       "8  0.063665  16     76     0   44   5   31    8    7  0.444      433  927.3   \n",
       "9  0.006650  18     71     0   44   3   33    3    4  0.144      443  937.3   \n",
       "\n",
       "    lstat   medv  \n",
       "0  3.3550  45.20  \n",
       "1  3.6550  45.20  \n",
       "2  3.5550  43.20  \n",
       "3  3.0550  41.20  \n",
       "4  3.5355  40.20  \n",
       "5  3.3550  45.44  \n",
       "6  3.3550  45.20  \n",
       "7  3.6550  45.20  \n",
       "8  3.5550  43.20  \n",
       "9  3.3550  45.20  "
      ]
     },
     "execution_count": 121,
     "metadata": {},
     "output_type": "execute_result"
    }
   ],
   "source": [
    "D.head(10)"
   ]
  },
  {
   "cell_type": "code",
   "execution_count": 123,
   "metadata": {},
   "outputs": [],
   "source": [
    "                              # 14 more about Data farme"
   ]
  },
  {
   "cell_type": "code",
   "execution_count": 124,
   "metadata": {},
   "outputs": [
    {
     "data": {
      "text/plain": [
       "array([[1, 2],\n",
       "       [3, 4]])"
      ]
     },
     "execution_count": 124,
     "metadata": {},
     "output_type": "execute_result"
    }
   ],
   "source": [
    "M"
   ]
  },
  {
   "cell_type": "code",
   "execution_count": 126,
   "metadata": {},
   "outputs": [
    {
     "data": {
      "text/plain": [
       "numpy.ndarray"
      ]
     },
     "execution_count": 126,
     "metadata": {},
     "output_type": "execute_result"
    }
   ],
   "source": [
    "type(M)"
   ]
  },
  {
   "cell_type": "code",
   "execution_count": 127,
   "metadata": {},
   "outputs": [
    {
     "data": {
      "text/plain": [
       "array([1, 2])"
      ]
     },
     "execution_count": 127,
     "metadata": {},
     "output_type": "execute_result"
    }
   ],
   "source": [
    "M[0]                                 # numpy X[0] -> 0th row\n",
    "                                    # Pandas X[0] -> column that has name 0"
   ]
  },
  {
   "cell_type": "code",
   "execution_count": 129,
   "metadata": {},
   "outputs": [
    {
     "data": {
      "text/plain": [
       "<map at 0x20579466a20>"
      ]
     },
     "execution_count": 129,
     "metadata": {},
     "output_type": "execute_result"
    }
   ],
   "source": [
    "X[0]"
   ]
  },
  {
   "cell_type": "code",
   "execution_count": 133,
   "metadata": {
    "collapsed": true
   },
   "outputs": [
    {
     "data": {
      "text/html": [
       "<div>\n",
       "<style scoped>\n",
       "    .dataframe tbody tr th:only-of-type {\n",
       "        vertical-align: middle;\n",
       "    }\n",
       "\n",
       "    .dataframe tbody tr th {\n",
       "        vertical-align: top;\n",
       "    }\n",
       "\n",
       "    .dataframe thead th {\n",
       "        text-align: right;\n",
       "    }\n",
       "</style>\n",
       "<table border=\"1\" class=\"dataframe\">\n",
       "  <thead>\n",
       "    <tr style=\"text-align: right;\">\n",
       "      <th></th>\n",
       "      <th>0</th>\n",
       "      <th>1</th>\n",
       "      <th>2</th>\n",
       "      <th>3</th>\n",
       "      <th>4</th>\n",
       "      <th>5</th>\n",
       "      <th>6</th>\n",
       "      <th>7</th>\n",
       "      <th>8</th>\n",
       "      <th>9</th>\n",
       "      <th>10</th>\n",
       "      <th>11</th>\n",
       "      <th>12</th>\n",
       "      <th>13</th>\n",
       "    </tr>\n",
       "  </thead>\n",
       "  <tbody>\n",
       "    <tr>\n",
       "      <th>0</th>\n",
       "      <td>crim</td>\n",
       "      <td>zn</td>\n",
       "      <td>indus</td>\n",
       "      <td>chas</td>\n",
       "      <td>nox</td>\n",
       "      <td>rm</td>\n",
       "      <td>age</td>\n",
       "      <td>dis</td>\n",
       "      <td>rad</td>\n",
       "      <td>tax</td>\n",
       "      <td>ptratio</td>\n",
       "      <td>b</td>\n",
       "      <td>lstat</td>\n",
       "      <td>medv</td>\n",
       "    </tr>\n",
       "    <tr>\n",
       "      <th>1</th>\n",
       "      <td>0.00665</td>\n",
       "      <td>18</td>\n",
       "      <td>71</td>\n",
       "      <td>0</td>\n",
       "      <td>44</td>\n",
       "      <td>3</td>\n",
       "      <td>33</td>\n",
       "      <td>3</td>\n",
       "      <td>4</td>\n",
       "      <td>0.144</td>\n",
       "      <td>443</td>\n",
       "      <td>937.3</td>\n",
       "      <td>3.355</td>\n",
       "      <td>45.2</td>\n",
       "    </tr>\n",
       "    <tr>\n",
       "      <th>2</th>\n",
       "      <td>0.02665</td>\n",
       "      <td>13</td>\n",
       "      <td>75</td>\n",
       "      <td>0</td>\n",
       "      <td>24</td>\n",
       "      <td>4</td>\n",
       "      <td>34</td>\n",
       "      <td>8</td>\n",
       "      <td>6</td>\n",
       "      <td>0.444</td>\n",
       "      <td>243</td>\n",
       "      <td>637.3</td>\n",
       "      <td>3.655</td>\n",
       "      <td>45.2</td>\n",
       "    </tr>\n",
       "    <tr>\n",
       "      <th>3</th>\n",
       "      <td>0.03665</td>\n",
       "      <td>14</td>\n",
       "      <td>70</td>\n",
       "      <td>0</td>\n",
       "      <td>14</td>\n",
       "      <td>5</td>\n",
       "      <td>31</td>\n",
       "      <td>8</td>\n",
       "      <td>7</td>\n",
       "      <td>0.444</td>\n",
       "      <td>433</td>\n",
       "      <td>927.3</td>\n",
       "      <td>3.555</td>\n",
       "      <td>43.2</td>\n",
       "    </tr>\n",
       "    <tr>\n",
       "      <th>4</th>\n",
       "      <td>0.05665</td>\n",
       "      <td>16</td>\n",
       "      <td>74</td>\n",
       "      <td>0</td>\n",
       "      <td>24</td>\n",
       "      <td>6</td>\n",
       "      <td>36</td>\n",
       "      <td>7</td>\n",
       "      <td>8</td>\n",
       "      <td>0.344</td>\n",
       "      <td>403</td>\n",
       "      <td>937.3</td>\n",
       "      <td>3.055</td>\n",
       "      <td>41.2</td>\n",
       "    </tr>\n",
       "    <tr>\n",
       "      <th>5</th>\n",
       "      <td>0.050665</td>\n",
       "      <td>17</td>\n",
       "      <td>45</td>\n",
       "      <td>0</td>\n",
       "      <td>54</td>\n",
       "      <td>7</td>\n",
       "      <td>53</td>\n",
       "      <td>6</td>\n",
       "      <td>0</td>\n",
       "      <td>0.244</td>\n",
       "      <td>473</td>\n",
       "      <td>137.3</td>\n",
       "      <td>3.5355</td>\n",
       "      <td>40.2</td>\n",
       "    </tr>\n",
       "    <tr>\n",
       "      <th>6</th>\n",
       "      <td>0.30665</td>\n",
       "      <td>15</td>\n",
       "      <td>75</td>\n",
       "      <td>0</td>\n",
       "      <td>44</td>\n",
       "      <td>8</td>\n",
       "      <td>83</td>\n",
       "      <td>5</td>\n",
       "      <td>9</td>\n",
       "      <td>0.144</td>\n",
       "      <td>403</td>\n",
       "      <td>907.3</td>\n",
       "      <td>3.355</td>\n",
       "      <td>45.44</td>\n",
       "    </tr>\n",
       "    <tr>\n",
       "      <th>7</th>\n",
       "      <td>0.00665</td>\n",
       "      <td>18</td>\n",
       "      <td>71</td>\n",
       "      <td>0</td>\n",
       "      <td>44</td>\n",
       "      <td>3</td>\n",
       "      <td>33</td>\n",
       "      <td>3</td>\n",
       "      <td>4</td>\n",
       "      <td>0.144</td>\n",
       "      <td>443</td>\n",
       "      <td>937.3</td>\n",
       "      <td>3.355</td>\n",
       "      <td>45.2</td>\n",
       "    </tr>\n",
       "    <tr>\n",
       "      <th>8</th>\n",
       "      <td>0.02665</td>\n",
       "      <td>13</td>\n",
       "      <td>75</td>\n",
       "      <td>0</td>\n",
       "      <td>24</td>\n",
       "      <td>4</td>\n",
       "      <td>34</td>\n",
       "      <td>8</td>\n",
       "      <td>6</td>\n",
       "      <td>0.444</td>\n",
       "      <td>243</td>\n",
       "      <td>637.3</td>\n",
       "      <td>3.655</td>\n",
       "      <td>45.2</td>\n",
       "    </tr>\n",
       "    <tr>\n",
       "      <th>9</th>\n",
       "      <td>0.063665</td>\n",
       "      <td>16</td>\n",
       "      <td>76</td>\n",
       "      <td>0</td>\n",
       "      <td>44</td>\n",
       "      <td>5</td>\n",
       "      <td>31</td>\n",
       "      <td>8</td>\n",
       "      <td>7</td>\n",
       "      <td>0.444</td>\n",
       "      <td>433</td>\n",
       "      <td>927.3</td>\n",
       "      <td>3.555</td>\n",
       "      <td>43.2</td>\n",
       "    </tr>\n",
       "    <tr>\n",
       "      <th>10</th>\n",
       "      <td>0.00665</td>\n",
       "      <td>18</td>\n",
       "      <td>71</td>\n",
       "      <td>0</td>\n",
       "      <td>44</td>\n",
       "      <td>3</td>\n",
       "      <td>33</td>\n",
       "      <td>3</td>\n",
       "      <td>4</td>\n",
       "      <td>0.144</td>\n",
       "      <td>443</td>\n",
       "      <td>937.3</td>\n",
       "      <td>3.355</td>\n",
       "      <td>45.2</td>\n",
       "    </tr>\n",
       "    <tr>\n",
       "      <th>11</th>\n",
       "      <td>0.02665</td>\n",
       "      <td>13</td>\n",
       "      <td>75</td>\n",
       "      <td>0</td>\n",
       "      <td>24</td>\n",
       "      <td>4</td>\n",
       "      <td>34</td>\n",
       "      <td>8</td>\n",
       "      <td>6</td>\n",
       "      <td>0.444</td>\n",
       "      <td>243</td>\n",
       "      <td>637.3</td>\n",
       "      <td>3.655</td>\n",
       "      <td>45.2</td>\n",
       "    </tr>\n",
       "    <tr>\n",
       "      <th>12</th>\n",
       "      <td>0.03665</td>\n",
       "      <td>14</td>\n",
       "      <td>70</td>\n",
       "      <td>0</td>\n",
       "      <td>14</td>\n",
       "      <td>5</td>\n",
       "      <td>31</td>\n",
       "      <td>8</td>\n",
       "      <td>7</td>\n",
       "      <td>0.444</td>\n",
       "      <td>433</td>\n",
       "      <td>927.3</td>\n",
       "      <td>3.555</td>\n",
       "      <td>43.2</td>\n",
       "    </tr>\n",
       "    <tr>\n",
       "      <th>13</th>\n",
       "      <td>0.05665</td>\n",
       "      <td>16</td>\n",
       "      <td>74</td>\n",
       "      <td>0</td>\n",
       "      <td>24</td>\n",
       "      <td>6</td>\n",
       "      <td>36</td>\n",
       "      <td>7</td>\n",
       "      <td>8</td>\n",
       "      <td>0.344</td>\n",
       "      <td>403</td>\n",
       "      <td>937.3</td>\n",
       "      <td>3.055</td>\n",
       "      <td>41.2</td>\n",
       "    </tr>\n",
       "    <tr>\n",
       "      <th>14</th>\n",
       "      <td>0.050665</td>\n",
       "      <td>17</td>\n",
       "      <td>45</td>\n",
       "      <td>0</td>\n",
       "      <td>54</td>\n",
       "      <td>7</td>\n",
       "      <td>53</td>\n",
       "      <td>6</td>\n",
       "      <td>0</td>\n",
       "      <td>0.244</td>\n",
       "      <td>473</td>\n",
       "      <td>137.3</td>\n",
       "      <td>3.5355</td>\n",
       "      <td>40.2</td>\n",
       "    </tr>\n",
       "    <tr>\n",
       "      <th>15</th>\n",
       "      <td>0.30665</td>\n",
       "      <td>15</td>\n",
       "      <td>75</td>\n",
       "      <td>0</td>\n",
       "      <td>44</td>\n",
       "      <td>8</td>\n",
       "      <td>83</td>\n",
       "      <td>5</td>\n",
       "      <td>9</td>\n",
       "      <td>0.144</td>\n",
       "      <td>403</td>\n",
       "      <td>907.3</td>\n",
       "      <td>3.355</td>\n",
       "      <td>45.44</td>\n",
       "    </tr>\n",
       "    <tr>\n",
       "      <th>16</th>\n",
       "      <td>0.00665</td>\n",
       "      <td>18</td>\n",
       "      <td>71</td>\n",
       "      <td>0</td>\n",
       "      <td>44</td>\n",
       "      <td>3</td>\n",
       "      <td>33</td>\n",
       "      <td>3</td>\n",
       "      <td>4</td>\n",
       "      <td>0.144</td>\n",
       "      <td>443</td>\n",
       "      <td>937.3</td>\n",
       "      <td>3.355</td>\n",
       "      <td>45.2</td>\n",
       "    </tr>\n",
       "    <tr>\n",
       "      <th>17</th>\n",
       "      <td>0.02665</td>\n",
       "      <td>13</td>\n",
       "      <td>75</td>\n",
       "      <td>0</td>\n",
       "      <td>24</td>\n",
       "      <td>4</td>\n",
       "      <td>34</td>\n",
       "      <td>8</td>\n",
       "      <td>6</td>\n",
       "      <td>0.444</td>\n",
       "      <td>243</td>\n",
       "      <td>637.3</td>\n",
       "      <td>3.655</td>\n",
       "      <td>45.2</td>\n",
       "    </tr>\n",
       "    <tr>\n",
       "      <th>18</th>\n",
       "      <td>0.063665</td>\n",
       "      <td>16</td>\n",
       "      <td>76</td>\n",
       "      <td>0</td>\n",
       "      <td>44</td>\n",
       "      <td>5</td>\n",
       "      <td>31</td>\n",
       "      <td>8</td>\n",
       "      <td>7</td>\n",
       "      <td>0.444</td>\n",
       "      <td>433</td>\n",
       "      <td>927.3</td>\n",
       "      <td>3.555</td>\n",
       "      <td>43.2</td>\n",
       "    </tr>\n",
       "    <tr>\n",
       "      <th>19</th>\n",
       "      <td>0.00665</td>\n",
       "      <td>18</td>\n",
       "      <td>71</td>\n",
       "      <td>0</td>\n",
       "      <td>44</td>\n",
       "      <td>3</td>\n",
       "      <td>33</td>\n",
       "      <td>3</td>\n",
       "      <td>4</td>\n",
       "      <td>0.144</td>\n",
       "      <td>443</td>\n",
       "      <td>937.3</td>\n",
       "      <td>3.355</td>\n",
       "      <td>45.2</td>\n",
       "    </tr>\n",
       "    <tr>\n",
       "      <th>20</th>\n",
       "      <td>0.02665</td>\n",
       "      <td>13</td>\n",
       "      <td>75</td>\n",
       "      <td>0</td>\n",
       "      <td>24</td>\n",
       "      <td>4</td>\n",
       "      <td>34</td>\n",
       "      <td>8</td>\n",
       "      <td>6</td>\n",
       "      <td>0.444</td>\n",
       "      <td>243</td>\n",
       "      <td>637.3</td>\n",
       "      <td>3.655</td>\n",
       "      <td>45.2</td>\n",
       "    </tr>\n",
       "    <tr>\n",
       "      <th>21</th>\n",
       "      <td>0.03665</td>\n",
       "      <td>14</td>\n",
       "      <td>70</td>\n",
       "      <td>0</td>\n",
       "      <td>14</td>\n",
       "      <td>5</td>\n",
       "      <td>31</td>\n",
       "      <td>8</td>\n",
       "      <td>7</td>\n",
       "      <td>0.444</td>\n",
       "      <td>433</td>\n",
       "      <td>927.3</td>\n",
       "      <td>3.555</td>\n",
       "      <td>43.2</td>\n",
       "    </tr>\n",
       "    <tr>\n",
       "      <th>22</th>\n",
       "      <td>0.05665</td>\n",
       "      <td>16</td>\n",
       "      <td>74</td>\n",
       "      <td>0</td>\n",
       "      <td>24</td>\n",
       "      <td>6</td>\n",
       "      <td>36</td>\n",
       "      <td>7</td>\n",
       "      <td>8</td>\n",
       "      <td>0.344</td>\n",
       "      <td>403</td>\n",
       "      <td>937.3</td>\n",
       "      <td>3.055</td>\n",
       "      <td>41.2</td>\n",
       "    </tr>\n",
       "    <tr>\n",
       "      <th>23</th>\n",
       "      <td>0.050665</td>\n",
       "      <td>17</td>\n",
       "      <td>45</td>\n",
       "      <td>0</td>\n",
       "      <td>54</td>\n",
       "      <td>7</td>\n",
       "      <td>53</td>\n",
       "      <td>6</td>\n",
       "      <td>0</td>\n",
       "      <td>0.244</td>\n",
       "      <td>473</td>\n",
       "      <td>137.3</td>\n",
       "      <td>3.5355</td>\n",
       "      <td>40.2</td>\n",
       "    </tr>\n",
       "    <tr>\n",
       "      <th>24</th>\n",
       "      <td>0.30665</td>\n",
       "      <td>15</td>\n",
       "      <td>75</td>\n",
       "      <td>0</td>\n",
       "      <td>44</td>\n",
       "      <td>8</td>\n",
       "      <td>83</td>\n",
       "      <td>5</td>\n",
       "      <td>9</td>\n",
       "      <td>0.144</td>\n",
       "      <td>403</td>\n",
       "      <td>907.3</td>\n",
       "      <td>3.355</td>\n",
       "      <td>45.44</td>\n",
       "    </tr>\n",
       "    <tr>\n",
       "      <th>25</th>\n",
       "      <td>0.00665</td>\n",
       "      <td>18</td>\n",
       "      <td>71</td>\n",
       "      <td>0</td>\n",
       "      <td>44</td>\n",
       "      <td>3</td>\n",
       "      <td>33</td>\n",
       "      <td>3</td>\n",
       "      <td>4</td>\n",
       "      <td>0.144</td>\n",
       "      <td>443</td>\n",
       "      <td>937.3</td>\n",
       "      <td>3.355</td>\n",
       "      <td>45.2</td>\n",
       "    </tr>\n",
       "    <tr>\n",
       "      <th>26</th>\n",
       "      <td>0.02665</td>\n",
       "      <td>13</td>\n",
       "      <td>75</td>\n",
       "      <td>0</td>\n",
       "      <td>24</td>\n",
       "      <td>4</td>\n",
       "      <td>34</td>\n",
       "      <td>8</td>\n",
       "      <td>6</td>\n",
       "      <td>0.444</td>\n",
       "      <td>243</td>\n",
       "      <td>637.3</td>\n",
       "      <td>3.655</td>\n",
       "      <td>45.2</td>\n",
       "    </tr>\n",
       "    <tr>\n",
       "      <th>27</th>\n",
       "      <td>0.063665</td>\n",
       "      <td>16</td>\n",
       "      <td>76</td>\n",
       "      <td>0</td>\n",
       "      <td>44</td>\n",
       "      <td>5</td>\n",
       "      <td>31</td>\n",
       "      <td>8</td>\n",
       "      <td>7</td>\n",
       "      <td>0.444</td>\n",
       "      <td>433</td>\n",
       "      <td>927.3</td>\n",
       "      <td>3.555</td>\n",
       "      <td>43.2</td>\n",
       "    </tr>\n",
       "    <tr>\n",
       "      <th>28</th>\n",
       "      <td>0.00665</td>\n",
       "      <td>18</td>\n",
       "      <td>71</td>\n",
       "      <td>0</td>\n",
       "      <td>44</td>\n",
       "      <td>3</td>\n",
       "      <td>33</td>\n",
       "      <td>3</td>\n",
       "      <td>4</td>\n",
       "      <td>0.144</td>\n",
       "      <td>443</td>\n",
       "      <td>937.3</td>\n",
       "      <td>3.355</td>\n",
       "      <td>45.2</td>\n",
       "    </tr>\n",
       "    <tr>\n",
       "      <th>29</th>\n",
       "      <td>0.02665</td>\n",
       "      <td>13</td>\n",
       "      <td>75</td>\n",
       "      <td>0</td>\n",
       "      <td>24</td>\n",
       "      <td>4</td>\n",
       "      <td>34</td>\n",
       "      <td>8</td>\n",
       "      <td>6</td>\n",
       "      <td>0.444</td>\n",
       "      <td>243</td>\n",
       "      <td>637.3</td>\n",
       "      <td>3.655</td>\n",
       "      <td>45.2</td>\n",
       "    </tr>\n",
       "    <tr>\n",
       "      <th>...</th>\n",
       "      <td>...</td>\n",
       "      <td>...</td>\n",
       "      <td>...</td>\n",
       "      <td>...</td>\n",
       "      <td>...</td>\n",
       "      <td>...</td>\n",
       "      <td>...</td>\n",
       "      <td>...</td>\n",
       "      <td>...</td>\n",
       "      <td>...</td>\n",
       "      <td>...</td>\n",
       "      <td>...</td>\n",
       "      <td>...</td>\n",
       "      <td>...</td>\n",
       "    </tr>\n",
       "    <tr>\n",
       "      <th>295</th>\n",
       "      <td>0.00665</td>\n",
       "      <td>18</td>\n",
       "      <td>71</td>\n",
       "      <td>0</td>\n",
       "      <td>44</td>\n",
       "      <td>3</td>\n",
       "      <td>33</td>\n",
       "      <td>3</td>\n",
       "      <td>4</td>\n",
       "      <td>0.144</td>\n",
       "      <td>443</td>\n",
       "      <td>937.3</td>\n",
       "      <td>3.355</td>\n",
       "      <td>45.2</td>\n",
       "    </tr>\n",
       "    <tr>\n",
       "      <th>296</th>\n",
       "      <td>0.02665</td>\n",
       "      <td>13</td>\n",
       "      <td>75</td>\n",
       "      <td>0</td>\n",
       "      <td>24</td>\n",
       "      <td>4</td>\n",
       "      <td>34</td>\n",
       "      <td>8</td>\n",
       "      <td>6</td>\n",
       "      <td>0.444</td>\n",
       "      <td>243</td>\n",
       "      <td>637.3</td>\n",
       "      <td>3.655</td>\n",
       "      <td>45.2</td>\n",
       "    </tr>\n",
       "    <tr>\n",
       "      <th>297</th>\n",
       "      <td>0.063665</td>\n",
       "      <td>16</td>\n",
       "      <td>76</td>\n",
       "      <td>0</td>\n",
       "      <td>44</td>\n",
       "      <td>5</td>\n",
       "      <td>31</td>\n",
       "      <td>8</td>\n",
       "      <td>7</td>\n",
       "      <td>0.444</td>\n",
       "      <td>433</td>\n",
       "      <td>927.3</td>\n",
       "      <td>3.555</td>\n",
       "      <td>43.2</td>\n",
       "    </tr>\n",
       "    <tr>\n",
       "      <th>298</th>\n",
       "      <td>0.00665</td>\n",
       "      <td>18</td>\n",
       "      <td>71</td>\n",
       "      <td>0</td>\n",
       "      <td>44</td>\n",
       "      <td>3</td>\n",
       "      <td>33</td>\n",
       "      <td>3</td>\n",
       "      <td>4</td>\n",
       "      <td>0.144</td>\n",
       "      <td>443</td>\n",
       "      <td>937.3</td>\n",
       "      <td>3.355</td>\n",
       "      <td>45.2</td>\n",
       "    </tr>\n",
       "    <tr>\n",
       "      <th>299</th>\n",
       "      <td>0.02665</td>\n",
       "      <td>13</td>\n",
       "      <td>75</td>\n",
       "      <td>0</td>\n",
       "      <td>24</td>\n",
       "      <td>4</td>\n",
       "      <td>34</td>\n",
       "      <td>8</td>\n",
       "      <td>6</td>\n",
       "      <td>0.444</td>\n",
       "      <td>243</td>\n",
       "      <td>637.3</td>\n",
       "      <td>3.655</td>\n",
       "      <td>45.2</td>\n",
       "    </tr>\n",
       "    <tr>\n",
       "      <th>300</th>\n",
       "      <td>0.03665</td>\n",
       "      <td>14</td>\n",
       "      <td>70</td>\n",
       "      <td>0</td>\n",
       "      <td>14</td>\n",
       "      <td>5</td>\n",
       "      <td>31</td>\n",
       "      <td>8</td>\n",
       "      <td>7</td>\n",
       "      <td>0.444</td>\n",
       "      <td>433</td>\n",
       "      <td>927.3</td>\n",
       "      <td>3.555</td>\n",
       "      <td>43.2</td>\n",
       "    </tr>\n",
       "    <tr>\n",
       "      <th>301</th>\n",
       "      <td>0.05665</td>\n",
       "      <td>16</td>\n",
       "      <td>74</td>\n",
       "      <td>0</td>\n",
       "      <td>24</td>\n",
       "      <td>6</td>\n",
       "      <td>36</td>\n",
       "      <td>7</td>\n",
       "      <td>8</td>\n",
       "      <td>0.344</td>\n",
       "      <td>403</td>\n",
       "      <td>937.3</td>\n",
       "      <td>3.055</td>\n",
       "      <td>41.2</td>\n",
       "    </tr>\n",
       "    <tr>\n",
       "      <th>302</th>\n",
       "      <td>0.050665</td>\n",
       "      <td>17</td>\n",
       "      <td>45</td>\n",
       "      <td>0</td>\n",
       "      <td>54</td>\n",
       "      <td>7</td>\n",
       "      <td>53</td>\n",
       "      <td>6</td>\n",
       "      <td>0</td>\n",
       "      <td>0.244</td>\n",
       "      <td>473</td>\n",
       "      <td>137.3</td>\n",
       "      <td>3.5355</td>\n",
       "      <td>40.2</td>\n",
       "    </tr>\n",
       "    <tr>\n",
       "      <th>303</th>\n",
       "      <td>0.30665</td>\n",
       "      <td>15</td>\n",
       "      <td>75</td>\n",
       "      <td>0</td>\n",
       "      <td>44</td>\n",
       "      <td>8</td>\n",
       "      <td>83</td>\n",
       "      <td>5</td>\n",
       "      <td>9</td>\n",
       "      <td>0.144</td>\n",
       "      <td>403</td>\n",
       "      <td>907.3</td>\n",
       "      <td>3.355</td>\n",
       "      <td>45.44</td>\n",
       "    </tr>\n",
       "    <tr>\n",
       "      <th>304</th>\n",
       "      <td>0.00665</td>\n",
       "      <td>18</td>\n",
       "      <td>71</td>\n",
       "      <td>0</td>\n",
       "      <td>44</td>\n",
       "      <td>3</td>\n",
       "      <td>33</td>\n",
       "      <td>3</td>\n",
       "      <td>4</td>\n",
       "      <td>0.144</td>\n",
       "      <td>443</td>\n",
       "      <td>937.3</td>\n",
       "      <td>3.355</td>\n",
       "      <td>45.2</td>\n",
       "    </tr>\n",
       "    <tr>\n",
       "      <th>305</th>\n",
       "      <td>0.02665</td>\n",
       "      <td>13</td>\n",
       "      <td>75</td>\n",
       "      <td>0</td>\n",
       "      <td>24</td>\n",
       "      <td>4</td>\n",
       "      <td>34</td>\n",
       "      <td>8</td>\n",
       "      <td>6</td>\n",
       "      <td>0.444</td>\n",
       "      <td>243</td>\n",
       "      <td>637.3</td>\n",
       "      <td>3.655</td>\n",
       "      <td>45.2</td>\n",
       "    </tr>\n",
       "    <tr>\n",
       "      <th>306</th>\n",
       "      <td>0.063665</td>\n",
       "      <td>16</td>\n",
       "      <td>76</td>\n",
       "      <td>0</td>\n",
       "      <td>44</td>\n",
       "      <td>5</td>\n",
       "      <td>31</td>\n",
       "      <td>8</td>\n",
       "      <td>7</td>\n",
       "      <td>0.444</td>\n",
       "      <td>433</td>\n",
       "      <td>927.3</td>\n",
       "      <td>3.555</td>\n",
       "      <td>43.2</td>\n",
       "    </tr>\n",
       "    <tr>\n",
       "      <th>307</th>\n",
       "      <td>0.00665</td>\n",
       "      <td>18</td>\n",
       "      <td>71</td>\n",
       "      <td>0</td>\n",
       "      <td>44</td>\n",
       "      <td>3</td>\n",
       "      <td>33</td>\n",
       "      <td>3</td>\n",
       "      <td>4</td>\n",
       "      <td>0.144</td>\n",
       "      <td>443</td>\n",
       "      <td>937.3</td>\n",
       "      <td>3.355</td>\n",
       "      <td>45.2</td>\n",
       "    </tr>\n",
       "    <tr>\n",
       "      <th>308</th>\n",
       "      <td>0.02665</td>\n",
       "      <td>13</td>\n",
       "      <td>75</td>\n",
       "      <td>0</td>\n",
       "      <td>24</td>\n",
       "      <td>4</td>\n",
       "      <td>34</td>\n",
       "      <td>8</td>\n",
       "      <td>6</td>\n",
       "      <td>0.444</td>\n",
       "      <td>243</td>\n",
       "      <td>637.3</td>\n",
       "      <td>3.655</td>\n",
       "      <td>45.2</td>\n",
       "    </tr>\n",
       "    <tr>\n",
       "      <th>309</th>\n",
       "      <td>0.03665</td>\n",
       "      <td>14</td>\n",
       "      <td>70</td>\n",
       "      <td>0</td>\n",
       "      <td>14</td>\n",
       "      <td>5</td>\n",
       "      <td>31</td>\n",
       "      <td>8</td>\n",
       "      <td>7</td>\n",
       "      <td>0.444</td>\n",
       "      <td>433</td>\n",
       "      <td>927.3</td>\n",
       "      <td>3.555</td>\n",
       "      <td>43.2</td>\n",
       "    </tr>\n",
       "    <tr>\n",
       "      <th>310</th>\n",
       "      <td>0.05665</td>\n",
       "      <td>16</td>\n",
       "      <td>74</td>\n",
       "      <td>0</td>\n",
       "      <td>24</td>\n",
       "      <td>6</td>\n",
       "      <td>36</td>\n",
       "      <td>7</td>\n",
       "      <td>8</td>\n",
       "      <td>0.344</td>\n",
       "      <td>403</td>\n",
       "      <td>937.3</td>\n",
       "      <td>3.055</td>\n",
       "      <td>41.2</td>\n",
       "    </tr>\n",
       "    <tr>\n",
       "      <th>311</th>\n",
       "      <td>0.050665</td>\n",
       "      <td>17</td>\n",
       "      <td>45</td>\n",
       "      <td>0</td>\n",
       "      <td>54</td>\n",
       "      <td>7</td>\n",
       "      <td>53</td>\n",
       "      <td>6</td>\n",
       "      <td>0</td>\n",
       "      <td>0.244</td>\n",
       "      <td>473</td>\n",
       "      <td>137.3</td>\n",
       "      <td>3.5355</td>\n",
       "      <td>40.2</td>\n",
       "    </tr>\n",
       "    <tr>\n",
       "      <th>312</th>\n",
       "      <td>0.30665</td>\n",
       "      <td>15</td>\n",
       "      <td>75</td>\n",
       "      <td>0</td>\n",
       "      <td>44</td>\n",
       "      <td>8</td>\n",
       "      <td>83</td>\n",
       "      <td>5</td>\n",
       "      <td>9</td>\n",
       "      <td>0.144</td>\n",
       "      <td>403</td>\n",
       "      <td>907.3</td>\n",
       "      <td>3.355</td>\n",
       "      <td>45.44</td>\n",
       "    </tr>\n",
       "    <tr>\n",
       "      <th>313</th>\n",
       "      <td>0.00665</td>\n",
       "      <td>18</td>\n",
       "      <td>71</td>\n",
       "      <td>0</td>\n",
       "      <td>44</td>\n",
       "      <td>3</td>\n",
       "      <td>33</td>\n",
       "      <td>3</td>\n",
       "      <td>4</td>\n",
       "      <td>0.144</td>\n",
       "      <td>443</td>\n",
       "      <td>937.3</td>\n",
       "      <td>3.355</td>\n",
       "      <td>45.2</td>\n",
       "    </tr>\n",
       "    <tr>\n",
       "      <th>314</th>\n",
       "      <td>0.02665</td>\n",
       "      <td>13</td>\n",
       "      <td>75</td>\n",
       "      <td>0</td>\n",
       "      <td>24</td>\n",
       "      <td>4</td>\n",
       "      <td>34</td>\n",
       "      <td>8</td>\n",
       "      <td>6</td>\n",
       "      <td>0.444</td>\n",
       "      <td>243</td>\n",
       "      <td>637.3</td>\n",
       "      <td>3.655</td>\n",
       "      <td>45.2</td>\n",
       "    </tr>\n",
       "    <tr>\n",
       "      <th>315</th>\n",
       "      <td>0.063665</td>\n",
       "      <td>16</td>\n",
       "      <td>76</td>\n",
       "      <td>0</td>\n",
       "      <td>44</td>\n",
       "      <td>5</td>\n",
       "      <td>31</td>\n",
       "      <td>8</td>\n",
       "      <td>7</td>\n",
       "      <td>0.444</td>\n",
       "      <td>433</td>\n",
       "      <td>927.3</td>\n",
       "      <td>3.555</td>\n",
       "      <td>43.2</td>\n",
       "    </tr>\n",
       "    <tr>\n",
       "      <th>316</th>\n",
       "      <td>0.00665</td>\n",
       "      <td>18</td>\n",
       "      <td>71</td>\n",
       "      <td>0</td>\n",
       "      <td>44</td>\n",
       "      <td>3</td>\n",
       "      <td>33</td>\n",
       "      <td>3</td>\n",
       "      <td>4</td>\n",
       "      <td>0.144</td>\n",
       "      <td>443</td>\n",
       "      <td>937.3</td>\n",
       "      <td>3.355</td>\n",
       "      <td>45.2</td>\n",
       "    </tr>\n",
       "    <tr>\n",
       "      <th>317</th>\n",
       "      <td>0.02665</td>\n",
       "      <td>13</td>\n",
       "      <td>75</td>\n",
       "      <td>0</td>\n",
       "      <td>24</td>\n",
       "      <td>4</td>\n",
       "      <td>34</td>\n",
       "      <td>8</td>\n",
       "      <td>6</td>\n",
       "      <td>0.444</td>\n",
       "      <td>243</td>\n",
       "      <td>637.3</td>\n",
       "      <td>3.655</td>\n",
       "      <td>45.2</td>\n",
       "    </tr>\n",
       "    <tr>\n",
       "      <th>318</th>\n",
       "      <td>0.03665</td>\n",
       "      <td>14</td>\n",
       "      <td>70</td>\n",
       "      <td>0</td>\n",
       "      <td>14</td>\n",
       "      <td>5</td>\n",
       "      <td>31</td>\n",
       "      <td>8</td>\n",
       "      <td>7</td>\n",
       "      <td>0.444</td>\n",
       "      <td>433</td>\n",
       "      <td>927.3</td>\n",
       "      <td>3.555</td>\n",
       "      <td>43.2</td>\n",
       "    </tr>\n",
       "    <tr>\n",
       "      <th>319</th>\n",
       "      <td>0.05665</td>\n",
       "      <td>16</td>\n",
       "      <td>74</td>\n",
       "      <td>0</td>\n",
       "      <td>24</td>\n",
       "      <td>6</td>\n",
       "      <td>36</td>\n",
       "      <td>7</td>\n",
       "      <td>8</td>\n",
       "      <td>0.344</td>\n",
       "      <td>403</td>\n",
       "      <td>937.3</td>\n",
       "      <td>3.055</td>\n",
       "      <td>41.2</td>\n",
       "    </tr>\n",
       "    <tr>\n",
       "      <th>320</th>\n",
       "      <td>0.050665</td>\n",
       "      <td>17</td>\n",
       "      <td>45</td>\n",
       "      <td>0</td>\n",
       "      <td>54</td>\n",
       "      <td>7</td>\n",
       "      <td>53</td>\n",
       "      <td>6</td>\n",
       "      <td>0</td>\n",
       "      <td>0.244</td>\n",
       "      <td>473</td>\n",
       "      <td>137.3</td>\n",
       "      <td>3.5355</td>\n",
       "      <td>40.2</td>\n",
       "    </tr>\n",
       "    <tr>\n",
       "      <th>321</th>\n",
       "      <td>0.30665</td>\n",
       "      <td>15</td>\n",
       "      <td>75</td>\n",
       "      <td>0</td>\n",
       "      <td>44</td>\n",
       "      <td>8</td>\n",
       "      <td>83</td>\n",
       "      <td>5</td>\n",
       "      <td>9</td>\n",
       "      <td>0.144</td>\n",
       "      <td>403</td>\n",
       "      <td>907.3</td>\n",
       "      <td>3.355</td>\n",
       "      <td>45.44</td>\n",
       "    </tr>\n",
       "    <tr>\n",
       "      <th>322</th>\n",
       "      <td>0.00665</td>\n",
       "      <td>18</td>\n",
       "      <td>71</td>\n",
       "      <td>0</td>\n",
       "      <td>44</td>\n",
       "      <td>3</td>\n",
       "      <td>33</td>\n",
       "      <td>3</td>\n",
       "      <td>4</td>\n",
       "      <td>0.144</td>\n",
       "      <td>443</td>\n",
       "      <td>937.3</td>\n",
       "      <td>3.355</td>\n",
       "      <td>45.2</td>\n",
       "    </tr>\n",
       "    <tr>\n",
       "      <th>323</th>\n",
       "      <td>0.02665</td>\n",
       "      <td>13</td>\n",
       "      <td>75</td>\n",
       "      <td>0</td>\n",
       "      <td>24</td>\n",
       "      <td>4</td>\n",
       "      <td>34</td>\n",
       "      <td>8</td>\n",
       "      <td>6</td>\n",
       "      <td>0.444</td>\n",
       "      <td>243</td>\n",
       "      <td>637.3</td>\n",
       "      <td>3.655</td>\n",
       "      <td>45.2</td>\n",
       "    </tr>\n",
       "    <tr>\n",
       "      <th>324</th>\n",
       "      <td>0.063665</td>\n",
       "      <td>16</td>\n",
       "      <td>76</td>\n",
       "      <td>0</td>\n",
       "      <td>44</td>\n",
       "      <td>5</td>\n",
       "      <td>31</td>\n",
       "      <td>8</td>\n",
       "      <td>7</td>\n",
       "      <td>0.444</td>\n",
       "      <td>433</td>\n",
       "      <td>927.3</td>\n",
       "      <td>3.555</td>\n",
       "      <td>43.2</td>\n",
       "    </tr>\n",
       "  </tbody>\n",
       "</table>\n",
       "<p>325 rows × 14 columns</p>\n",
       "</div>"
      ],
      "text/plain": [
       "           0   1      2     3    4   5    6    7    8      9        10     11  \\\n",
       "0        crim  zn  indus  chas  nox  rm  age  dis  rad    tax  ptratio      b   \n",
       "1     0.00665  18     71     0   44   3   33    3    4  0.144      443  937.3   \n",
       "2     0.02665  13     75     0   24   4   34    8    6  0.444      243  637.3   \n",
       "3     0.03665  14     70     0   14   5   31    8    7  0.444      433  927.3   \n",
       "4     0.05665  16     74     0   24   6   36    7    8  0.344      403  937.3   \n",
       "5    0.050665  17     45     0   54   7   53    6    0  0.244      473  137.3   \n",
       "6     0.30665  15     75     0   44   8   83    5    9  0.144      403  907.3   \n",
       "7     0.00665  18     71     0   44   3   33    3    4  0.144      443  937.3   \n",
       "8     0.02665  13     75     0   24   4   34    8    6  0.444      243  637.3   \n",
       "9    0.063665  16     76     0   44   5   31    8    7  0.444      433  927.3   \n",
       "10    0.00665  18     71     0   44   3   33    3    4  0.144      443  937.3   \n",
       "11    0.02665  13     75     0   24   4   34    8    6  0.444      243  637.3   \n",
       "12    0.03665  14     70     0   14   5   31    8    7  0.444      433  927.3   \n",
       "13    0.05665  16     74     0   24   6   36    7    8  0.344      403  937.3   \n",
       "14   0.050665  17     45     0   54   7   53    6    0  0.244      473  137.3   \n",
       "15    0.30665  15     75     0   44   8   83    5    9  0.144      403  907.3   \n",
       "16    0.00665  18     71     0   44   3   33    3    4  0.144      443  937.3   \n",
       "17    0.02665  13     75     0   24   4   34    8    6  0.444      243  637.3   \n",
       "18   0.063665  16     76     0   44   5   31    8    7  0.444      433  927.3   \n",
       "19    0.00665  18     71     0   44   3   33    3    4  0.144      443  937.3   \n",
       "20    0.02665  13     75     0   24   4   34    8    6  0.444      243  637.3   \n",
       "21    0.03665  14     70     0   14   5   31    8    7  0.444      433  927.3   \n",
       "22    0.05665  16     74     0   24   6   36    7    8  0.344      403  937.3   \n",
       "23   0.050665  17     45     0   54   7   53    6    0  0.244      473  137.3   \n",
       "24    0.30665  15     75     0   44   8   83    5    9  0.144      403  907.3   \n",
       "25    0.00665  18     71     0   44   3   33    3    4  0.144      443  937.3   \n",
       "26    0.02665  13     75     0   24   4   34    8    6  0.444      243  637.3   \n",
       "27   0.063665  16     76     0   44   5   31    8    7  0.444      433  927.3   \n",
       "28    0.00665  18     71     0   44   3   33    3    4  0.144      443  937.3   \n",
       "29    0.02665  13     75     0   24   4   34    8    6  0.444      243  637.3   \n",
       "..        ...  ..    ...   ...  ...  ..  ...  ...  ...    ...      ...    ...   \n",
       "295   0.00665  18     71     0   44   3   33    3    4  0.144      443  937.3   \n",
       "296   0.02665  13     75     0   24   4   34    8    6  0.444      243  637.3   \n",
       "297  0.063665  16     76     0   44   5   31    8    7  0.444      433  927.3   \n",
       "298   0.00665  18     71     0   44   3   33    3    4  0.144      443  937.3   \n",
       "299   0.02665  13     75     0   24   4   34    8    6  0.444      243  637.3   \n",
       "300   0.03665  14     70     0   14   5   31    8    7  0.444      433  927.3   \n",
       "301   0.05665  16     74     0   24   6   36    7    8  0.344      403  937.3   \n",
       "302  0.050665  17     45     0   54   7   53    6    0  0.244      473  137.3   \n",
       "303   0.30665  15     75     0   44   8   83    5    9  0.144      403  907.3   \n",
       "304   0.00665  18     71     0   44   3   33    3    4  0.144      443  937.3   \n",
       "305   0.02665  13     75     0   24   4   34    8    6  0.444      243  637.3   \n",
       "306  0.063665  16     76     0   44   5   31    8    7  0.444      433  927.3   \n",
       "307   0.00665  18     71     0   44   3   33    3    4  0.144      443  937.3   \n",
       "308   0.02665  13     75     0   24   4   34    8    6  0.444      243  637.3   \n",
       "309   0.03665  14     70     0   14   5   31    8    7  0.444      433  927.3   \n",
       "310   0.05665  16     74     0   24   6   36    7    8  0.344      403  937.3   \n",
       "311  0.050665  17     45     0   54   7   53    6    0  0.244      473  137.3   \n",
       "312   0.30665  15     75     0   44   8   83    5    9  0.144      403  907.3   \n",
       "313   0.00665  18     71     0   44   3   33    3    4  0.144      443  937.3   \n",
       "314   0.02665  13     75     0   24   4   34    8    6  0.444      243  637.3   \n",
       "315  0.063665  16     76     0   44   5   31    8    7  0.444      433  927.3   \n",
       "316   0.00665  18     71     0   44   3   33    3    4  0.144      443  937.3   \n",
       "317   0.02665  13     75     0   24   4   34    8    6  0.444      243  637.3   \n",
       "318   0.03665  14     70     0   14   5   31    8    7  0.444      433  927.3   \n",
       "319   0.05665  16     74     0   24   6   36    7    8  0.344      403  937.3   \n",
       "320  0.050665  17     45     0   54   7   53    6    0  0.244      473  137.3   \n",
       "321   0.30665  15     75     0   44   8   83    5    9  0.144      403  907.3   \n",
       "322   0.00665  18     71     0   44   3   33    3    4  0.144      443  937.3   \n",
       "323   0.02665  13     75     0   24   4   34    8    6  0.444      243  637.3   \n",
       "324  0.063665  16     76     0   44   5   31    8    7  0.444      433  927.3   \n",
       "\n",
       "         12     13  \n",
       "0     lstat   medv  \n",
       "1     3.355   45.2  \n",
       "2     3.655   45.2  \n",
       "3     3.555   43.2  \n",
       "4     3.055   41.2  \n",
       "5    3.5355   40.2  \n",
       "6     3.355  45.44  \n",
       "7     3.355   45.2  \n",
       "8     3.655   45.2  \n",
       "9     3.555   43.2  \n",
       "10    3.355   45.2  \n",
       "11    3.655   45.2  \n",
       "12    3.555   43.2  \n",
       "13    3.055   41.2  \n",
       "14   3.5355   40.2  \n",
       "15    3.355  45.44  \n",
       "16    3.355   45.2  \n",
       "17    3.655   45.2  \n",
       "18    3.555   43.2  \n",
       "19    3.355   45.2  \n",
       "20    3.655   45.2  \n",
       "21    3.555   43.2  \n",
       "22    3.055   41.2  \n",
       "23   3.5355   40.2  \n",
       "24    3.355  45.44  \n",
       "25    3.355   45.2  \n",
       "26    3.655   45.2  \n",
       "27    3.555   43.2  \n",
       "28    3.355   45.2  \n",
       "29    3.655   45.2  \n",
       "..      ...    ...  \n",
       "295   3.355   45.2  \n",
       "296   3.655   45.2  \n",
       "297   3.555   43.2  \n",
       "298   3.355   45.2  \n",
       "299   3.655   45.2  \n",
       "300   3.555   43.2  \n",
       "301   3.055   41.2  \n",
       "302  3.5355   40.2  \n",
       "303   3.355  45.44  \n",
       "304   3.355   45.2  \n",
       "305   3.655   45.2  \n",
       "306   3.555   43.2  \n",
       "307   3.355   45.2  \n",
       "308   3.655   45.2  \n",
       "309   3.555   43.2  \n",
       "310   3.055   41.2  \n",
       "311  3.5355   40.2  \n",
       "312   3.355  45.44  \n",
       "313   3.355   45.2  \n",
       "314   3.655   45.2  \n",
       "315   3.555   43.2  \n",
       "316   3.355   45.2  \n",
       "317   3.655   45.2  \n",
       "318   3.555   43.2  \n",
       "319   3.055   41.2  \n",
       "320  3.5355   40.2  \n",
       "321   3.355  45.44  \n",
       "322   3.355   45.2  \n",
       "323   3.655   45.2  \n",
       "324   3.555   43.2  \n",
       "\n",
       "[325 rows x 14 columns]"
      ]
     },
     "execution_count": 133,
     "metadata": {},
     "output_type": "execute_result"
    }
   ],
   "source": [
    "D1 = pd.read_csv('Boston_house.csv',header=None)\n",
    "D1                 "
   ]
  },
  {
   "cell_type": "code",
   "execution_count": 134,
   "metadata": {},
   "outputs": [
    {
     "data": {
      "text/plain": [
       "0          crim\n",
       "1       0.00665\n",
       "2       0.02665\n",
       "3       0.03665\n",
       "4       0.05665\n",
       "5      0.050665\n",
       "6       0.30665\n",
       "7       0.00665\n",
       "8       0.02665\n",
       "9      0.063665\n",
       "10      0.00665\n",
       "11      0.02665\n",
       "12      0.03665\n",
       "13      0.05665\n",
       "14     0.050665\n",
       "15      0.30665\n",
       "16      0.00665\n",
       "17      0.02665\n",
       "18     0.063665\n",
       "19      0.00665\n",
       "20      0.02665\n",
       "21      0.03665\n",
       "22      0.05665\n",
       "23     0.050665\n",
       "24      0.30665\n",
       "25      0.00665\n",
       "26      0.02665\n",
       "27     0.063665\n",
       "28      0.00665\n",
       "29      0.02665\n",
       "         ...   \n",
       "295     0.00665\n",
       "296     0.02665\n",
       "297    0.063665\n",
       "298     0.00665\n",
       "299     0.02665\n",
       "300     0.03665\n",
       "301     0.05665\n",
       "302    0.050665\n",
       "303     0.30665\n",
       "304     0.00665\n",
       "305     0.02665\n",
       "306    0.063665\n",
       "307     0.00665\n",
       "308     0.02665\n",
       "309     0.03665\n",
       "310     0.05665\n",
       "311    0.050665\n",
       "312     0.30665\n",
       "313     0.00665\n",
       "314     0.02665\n",
       "315    0.063665\n",
       "316     0.00665\n",
       "317     0.02665\n",
       "318     0.03665\n",
       "319     0.05665\n",
       "320    0.050665\n",
       "321     0.30665\n",
       "322     0.00665\n",
       "323     0.02665\n",
       "324    0.063665\n",
       "Name: 0, Length: 325, dtype: object"
      ]
     },
     "execution_count": 134,
     "metadata": {},
     "output_type": "execute_result"
    }
   ],
   "source": [
    "D1[0]                   "
   ]
  },
  {
   "cell_type": "code",
   "execution_count": 135,
   "metadata": {},
   "outputs": [
    {
     "data": {
      "text/html": [
       "<div>\n",
       "<style scoped>\n",
       "    .dataframe tbody tr th:only-of-type {\n",
       "        vertical-align: middle;\n",
       "    }\n",
       "\n",
       "    .dataframe tbody tr th {\n",
       "        vertical-align: top;\n",
       "    }\n",
       "\n",
       "    .dataframe thead th {\n",
       "        text-align: right;\n",
       "    }\n",
       "</style>\n",
       "<table border=\"1\" class=\"dataframe\">\n",
       "  <thead>\n",
       "    <tr style=\"text-align: right;\">\n",
       "      <th></th>\n",
       "      <th>0</th>\n",
       "      <th>1</th>\n",
       "      <th>2</th>\n",
       "      <th>3</th>\n",
       "      <th>4</th>\n",
       "      <th>5</th>\n",
       "      <th>6</th>\n",
       "      <th>7</th>\n",
       "      <th>8</th>\n",
       "      <th>9</th>\n",
       "      <th>10</th>\n",
       "      <th>11</th>\n",
       "      <th>12</th>\n",
       "      <th>13</th>\n",
       "    </tr>\n",
       "  </thead>\n",
       "  <tbody>\n",
       "    <tr>\n",
       "      <th>0</th>\n",
       "      <td>crim</td>\n",
       "      <td>zn</td>\n",
       "      <td>indus</td>\n",
       "      <td>chas</td>\n",
       "      <td>nox</td>\n",
       "      <td>rm</td>\n",
       "      <td>age</td>\n",
       "      <td>dis</td>\n",
       "      <td>rad</td>\n",
       "      <td>tax</td>\n",
       "      <td>ptratio</td>\n",
       "      <td>b</td>\n",
       "      <td>lstat</td>\n",
       "      <td>medv</td>\n",
       "    </tr>\n",
       "    <tr>\n",
       "      <th>1</th>\n",
       "      <td>0.00665</td>\n",
       "      <td>18</td>\n",
       "      <td>71</td>\n",
       "      <td>0</td>\n",
       "      <td>44</td>\n",
       "      <td>3</td>\n",
       "      <td>33</td>\n",
       "      <td>3</td>\n",
       "      <td>4</td>\n",
       "      <td>0.144</td>\n",
       "      <td>443</td>\n",
       "      <td>937.3</td>\n",
       "      <td>3.355</td>\n",
       "      <td>45.2</td>\n",
       "    </tr>\n",
       "    <tr>\n",
       "      <th>2</th>\n",
       "      <td>0.02665</td>\n",
       "      <td>13</td>\n",
       "      <td>75</td>\n",
       "      <td>0</td>\n",
       "      <td>24</td>\n",
       "      <td>4</td>\n",
       "      <td>34</td>\n",
       "      <td>8</td>\n",
       "      <td>6</td>\n",
       "      <td>0.444</td>\n",
       "      <td>243</td>\n",
       "      <td>637.3</td>\n",
       "      <td>3.655</td>\n",
       "      <td>45.2</td>\n",
       "    </tr>\n",
       "    <tr>\n",
       "      <th>3</th>\n",
       "      <td>0.03665</td>\n",
       "      <td>14</td>\n",
       "      <td>70</td>\n",
       "      <td>0</td>\n",
       "      <td>14</td>\n",
       "      <td>5</td>\n",
       "      <td>31</td>\n",
       "      <td>8</td>\n",
       "      <td>7</td>\n",
       "      <td>0.444</td>\n",
       "      <td>433</td>\n",
       "      <td>927.3</td>\n",
       "      <td>3.555</td>\n",
       "      <td>43.2</td>\n",
       "    </tr>\n",
       "    <tr>\n",
       "      <th>4</th>\n",
       "      <td>0.05665</td>\n",
       "      <td>16</td>\n",
       "      <td>74</td>\n",
       "      <td>0</td>\n",
       "      <td>24</td>\n",
       "      <td>6</td>\n",
       "      <td>36</td>\n",
       "      <td>7</td>\n",
       "      <td>8</td>\n",
       "      <td>0.344</td>\n",
       "      <td>403</td>\n",
       "      <td>937.3</td>\n",
       "      <td>3.055</td>\n",
       "      <td>41.2</td>\n",
       "    </tr>\n",
       "  </tbody>\n",
       "</table>\n",
       "</div>"
      ],
      "text/plain": [
       "        0   1      2     3    4   5    6    7    8      9        10     11  \\\n",
       "0     crim  zn  indus  chas  nox  rm  age  dis  rad    tax  ptratio      b   \n",
       "1  0.00665  18     71     0   44   3   33    3    4  0.144      443  937.3   \n",
       "2  0.02665  13     75     0   24   4   34    8    6  0.444      243  637.3   \n",
       "3  0.03665  14     70     0   14   5   31    8    7  0.444      433  927.3   \n",
       "4  0.05665  16     74     0   24   6   36    7    8  0.344      403  937.3   \n",
       "\n",
       "      12    13  \n",
       "0  lstat  medv  \n",
       "1  3.355  45.2  \n",
       "2  3.655  45.2  \n",
       "3  3.555  43.2  \n",
       "4  3.055  41.2  "
      ]
     },
     "execution_count": 135,
     "metadata": {},
     "output_type": "execute_result"
    }
   ],
   "source": [
    "D1.head()"
   ]
  },
  {
   "cell_type": "code",
   "execution_count": 136,
   "metadata": {},
   "outputs": [
    {
     "data": {
      "text/plain": [
       "(325, 14)"
      ]
     },
     "execution_count": 136,
     "metadata": {},
     "output_type": "execute_result"
    }
   ],
   "source": [
    "D1.shape"
   ]
  },
  {
   "cell_type": "code",
   "execution_count": 137,
   "metadata": {},
   "outputs": [
    {
     "data": {
      "text/plain": [
       "pandas.core.series.Series"
      ]
     },
     "execution_count": 137,
     "metadata": {},
     "output_type": "execute_result"
    }
   ],
   "source": [
    "type(D1[0])    # object type Series"
   ]
  },
  {
   "cell_type": "code",
   "execution_count": 138,
   "metadata": {},
   "outputs": [
    {
     "data": {
      "text/plain": [
       "0        crim\n",
       "1          zn\n",
       "2       indus\n",
       "3        chas\n",
       "4         nox\n",
       "5          rm\n",
       "6         age\n",
       "7         dis\n",
       "8         rad\n",
       "9         tax\n",
       "10    ptratio\n",
       "11          b\n",
       "12      lstat\n",
       "13       medv\n",
       "Name: 0, dtype: object"
      ]
     },
     "execution_count": 138,
     "metadata": {},
     "output_type": "execute_result"
    }
   ],
   "source": [
    "D1.iloc[0]   # for finding the row values"
   ]
  },
  {
   "cell_type": "code",
   "execution_count": 139,
   "metadata": {},
   "outputs": [
    {
     "name": "stderr",
     "output_type": "stream",
     "text": [
      "E:\\anaconda\\lib\\site-packages\\ipykernel_launcher.py:1: DeprecationWarning: \n",
      ".ix is deprecated. Please use\n",
      ".loc for label based indexing or\n",
      ".iloc for positional indexing\n",
      "\n",
      "See the documentation here:\n",
      "http://pandas.pydata.org/pandas-docs/stable/indexing.html#ix-indexer-is-deprecated\n",
      "  \"\"\"Entry point for launching an IPython kernel.\n"
     ]
    },
    {
     "data": {
      "text/plain": [
       "0        crim\n",
       "1          zn\n",
       "2       indus\n",
       "3        chas\n",
       "4         nox\n",
       "5          rm\n",
       "6         age\n",
       "7         dis\n",
       "8         rad\n",
       "9         tax\n",
       "10    ptratio\n",
       "11          b\n",
       "12      lstat\n",
       "13       medv\n",
       "Name: 0, dtype: object"
      ]
     },
     "execution_count": 139,
     "metadata": {},
     "output_type": "execute_result"
    }
   ],
   "source": [
    "D1.ix[0]  # another way to show the only ROW  values"
   ]
  },
  {
   "cell_type": "code",
   "execution_count": 140,
   "metadata": {},
   "outputs": [
    {
     "data": {
      "text/plain": [
       "pandas.core.series.Series"
      ]
     },
     "execution_count": 140,
     "metadata": {},
     "output_type": "execute_result"
    }
   ],
   "source": [
    "type(D1.iloc[0])"
   ]
  },
  {
   "cell_type": "code",
   "execution_count": 141,
   "metadata": {},
   "outputs": [
    {
     "name": "stderr",
     "output_type": "stream",
     "text": [
      "E:\\anaconda\\lib\\site-packages\\ipykernel_launcher.py:1: DeprecationWarning: \n",
      ".ix is deprecated. Please use\n",
      ".loc for label based indexing or\n",
      ".iloc for positional indexing\n",
      "\n",
      "See the documentation here:\n",
      "http://pandas.pydata.org/pandas-docs/stable/indexing.html#ix-indexer-is-deprecated\n",
      "  \"\"\"Entry point for launching an IPython kernel.\n"
     ]
    },
    {
     "data": {
      "text/plain": [
       "pandas.core.series.Series"
      ]
     },
     "execution_count": 141,
     "metadata": {},
     "output_type": "execute_result"
    }
   ],
   "source": [
    "type(D1.ix[0])"
   ]
  },
  {
   "cell_type": "code",
   "execution_count": 142,
   "metadata": {},
   "outputs": [
    {
     "data": {
      "text/plain": [
       "0     0.00665\n",
       "1          18\n",
       "2          71\n",
       "3           0\n",
       "4          44\n",
       "5           3\n",
       "6          33\n",
       "7           3\n",
       "8           4\n",
       "9       0.144\n",
       "10        443\n",
       "11      937.3\n",
       "12      3.355\n",
       "13       45.2\n",
       "Name: 1, dtype: object"
      ]
     },
     "execution_count": 142,
     "metadata": {},
     "output_type": "execute_result"
    }
   ],
   "source": [
    "D1.loc[1]   # printing the first row"
   ]
  },
  {
   "cell_type": "code",
   "execution_count": 143,
   "metadata": {
    "scrolled": true
   },
   "outputs": [
    {
     "data": {
      "text/html": [
       "<div>\n",
       "<style scoped>\n",
       "    .dataframe tbody tr th:only-of-type {\n",
       "        vertical-align: middle;\n",
       "    }\n",
       "\n",
       "    .dataframe tbody tr th {\n",
       "        vertical-align: top;\n",
       "    }\n",
       "\n",
       "    .dataframe thead th {\n",
       "        text-align: right;\n",
       "    }\n",
       "</style>\n",
       "<table border=\"1\" class=\"dataframe\">\n",
       "  <thead>\n",
       "    <tr style=\"text-align: right;\">\n",
       "      <th></th>\n",
       "      <th>0</th>\n",
       "      <th>2</th>\n",
       "    </tr>\n",
       "  </thead>\n",
       "  <tbody>\n",
       "    <tr>\n",
       "      <th>0</th>\n",
       "      <td>crim</td>\n",
       "      <td>indus</td>\n",
       "    </tr>\n",
       "    <tr>\n",
       "      <th>1</th>\n",
       "      <td>0.00665</td>\n",
       "      <td>71</td>\n",
       "    </tr>\n",
       "    <tr>\n",
       "      <th>2</th>\n",
       "      <td>0.02665</td>\n",
       "      <td>75</td>\n",
       "    </tr>\n",
       "    <tr>\n",
       "      <th>3</th>\n",
       "      <td>0.03665</td>\n",
       "      <td>70</td>\n",
       "    </tr>\n",
       "    <tr>\n",
       "      <th>4</th>\n",
       "      <td>0.05665</td>\n",
       "      <td>74</td>\n",
       "    </tr>\n",
       "    <tr>\n",
       "      <th>5</th>\n",
       "      <td>0.050665</td>\n",
       "      <td>45</td>\n",
       "    </tr>\n",
       "    <tr>\n",
       "      <th>6</th>\n",
       "      <td>0.30665</td>\n",
       "      <td>75</td>\n",
       "    </tr>\n",
       "    <tr>\n",
       "      <th>7</th>\n",
       "      <td>0.00665</td>\n",
       "      <td>71</td>\n",
       "    </tr>\n",
       "    <tr>\n",
       "      <th>8</th>\n",
       "      <td>0.02665</td>\n",
       "      <td>75</td>\n",
       "    </tr>\n",
       "    <tr>\n",
       "      <th>9</th>\n",
       "      <td>0.063665</td>\n",
       "      <td>76</td>\n",
       "    </tr>\n",
       "    <tr>\n",
       "      <th>10</th>\n",
       "      <td>0.00665</td>\n",
       "      <td>71</td>\n",
       "    </tr>\n",
       "    <tr>\n",
       "      <th>11</th>\n",
       "      <td>0.02665</td>\n",
       "      <td>75</td>\n",
       "    </tr>\n",
       "    <tr>\n",
       "      <th>12</th>\n",
       "      <td>0.03665</td>\n",
       "      <td>70</td>\n",
       "    </tr>\n",
       "    <tr>\n",
       "      <th>13</th>\n",
       "      <td>0.05665</td>\n",
       "      <td>74</td>\n",
       "    </tr>\n",
       "    <tr>\n",
       "      <th>14</th>\n",
       "      <td>0.050665</td>\n",
       "      <td>45</td>\n",
       "    </tr>\n",
       "    <tr>\n",
       "      <th>15</th>\n",
       "      <td>0.30665</td>\n",
       "      <td>75</td>\n",
       "    </tr>\n",
       "    <tr>\n",
       "      <th>16</th>\n",
       "      <td>0.00665</td>\n",
       "      <td>71</td>\n",
       "    </tr>\n",
       "    <tr>\n",
       "      <th>17</th>\n",
       "      <td>0.02665</td>\n",
       "      <td>75</td>\n",
       "    </tr>\n",
       "    <tr>\n",
       "      <th>18</th>\n",
       "      <td>0.063665</td>\n",
       "      <td>76</td>\n",
       "    </tr>\n",
       "    <tr>\n",
       "      <th>19</th>\n",
       "      <td>0.00665</td>\n",
       "      <td>71</td>\n",
       "    </tr>\n",
       "    <tr>\n",
       "      <th>20</th>\n",
       "      <td>0.02665</td>\n",
       "      <td>75</td>\n",
       "    </tr>\n",
       "    <tr>\n",
       "      <th>21</th>\n",
       "      <td>0.03665</td>\n",
       "      <td>70</td>\n",
       "    </tr>\n",
       "    <tr>\n",
       "      <th>22</th>\n",
       "      <td>0.05665</td>\n",
       "      <td>74</td>\n",
       "    </tr>\n",
       "    <tr>\n",
       "      <th>23</th>\n",
       "      <td>0.050665</td>\n",
       "      <td>45</td>\n",
       "    </tr>\n",
       "    <tr>\n",
       "      <th>24</th>\n",
       "      <td>0.30665</td>\n",
       "      <td>75</td>\n",
       "    </tr>\n",
       "    <tr>\n",
       "      <th>25</th>\n",
       "      <td>0.00665</td>\n",
       "      <td>71</td>\n",
       "    </tr>\n",
       "    <tr>\n",
       "      <th>26</th>\n",
       "      <td>0.02665</td>\n",
       "      <td>75</td>\n",
       "    </tr>\n",
       "    <tr>\n",
       "      <th>27</th>\n",
       "      <td>0.063665</td>\n",
       "      <td>76</td>\n",
       "    </tr>\n",
       "    <tr>\n",
       "      <th>28</th>\n",
       "      <td>0.00665</td>\n",
       "      <td>71</td>\n",
       "    </tr>\n",
       "    <tr>\n",
       "      <th>29</th>\n",
       "      <td>0.02665</td>\n",
       "      <td>75</td>\n",
       "    </tr>\n",
       "    <tr>\n",
       "      <th>...</th>\n",
       "      <td>...</td>\n",
       "      <td>...</td>\n",
       "    </tr>\n",
       "    <tr>\n",
       "      <th>295</th>\n",
       "      <td>0.00665</td>\n",
       "      <td>71</td>\n",
       "    </tr>\n",
       "    <tr>\n",
       "      <th>296</th>\n",
       "      <td>0.02665</td>\n",
       "      <td>75</td>\n",
       "    </tr>\n",
       "    <tr>\n",
       "      <th>297</th>\n",
       "      <td>0.063665</td>\n",
       "      <td>76</td>\n",
       "    </tr>\n",
       "    <tr>\n",
       "      <th>298</th>\n",
       "      <td>0.00665</td>\n",
       "      <td>71</td>\n",
       "    </tr>\n",
       "    <tr>\n",
       "      <th>299</th>\n",
       "      <td>0.02665</td>\n",
       "      <td>75</td>\n",
       "    </tr>\n",
       "    <tr>\n",
       "      <th>300</th>\n",
       "      <td>0.03665</td>\n",
       "      <td>70</td>\n",
       "    </tr>\n",
       "    <tr>\n",
       "      <th>301</th>\n",
       "      <td>0.05665</td>\n",
       "      <td>74</td>\n",
       "    </tr>\n",
       "    <tr>\n",
       "      <th>302</th>\n",
       "      <td>0.050665</td>\n",
       "      <td>45</td>\n",
       "    </tr>\n",
       "    <tr>\n",
       "      <th>303</th>\n",
       "      <td>0.30665</td>\n",
       "      <td>75</td>\n",
       "    </tr>\n",
       "    <tr>\n",
       "      <th>304</th>\n",
       "      <td>0.00665</td>\n",
       "      <td>71</td>\n",
       "    </tr>\n",
       "    <tr>\n",
       "      <th>305</th>\n",
       "      <td>0.02665</td>\n",
       "      <td>75</td>\n",
       "    </tr>\n",
       "    <tr>\n",
       "      <th>306</th>\n",
       "      <td>0.063665</td>\n",
       "      <td>76</td>\n",
       "    </tr>\n",
       "    <tr>\n",
       "      <th>307</th>\n",
       "      <td>0.00665</td>\n",
       "      <td>71</td>\n",
       "    </tr>\n",
       "    <tr>\n",
       "      <th>308</th>\n",
       "      <td>0.02665</td>\n",
       "      <td>75</td>\n",
       "    </tr>\n",
       "    <tr>\n",
       "      <th>309</th>\n",
       "      <td>0.03665</td>\n",
       "      <td>70</td>\n",
       "    </tr>\n",
       "    <tr>\n",
       "      <th>310</th>\n",
       "      <td>0.05665</td>\n",
       "      <td>74</td>\n",
       "    </tr>\n",
       "    <tr>\n",
       "      <th>311</th>\n",
       "      <td>0.050665</td>\n",
       "      <td>45</td>\n",
       "    </tr>\n",
       "    <tr>\n",
       "      <th>312</th>\n",
       "      <td>0.30665</td>\n",
       "      <td>75</td>\n",
       "    </tr>\n",
       "    <tr>\n",
       "      <th>313</th>\n",
       "      <td>0.00665</td>\n",
       "      <td>71</td>\n",
       "    </tr>\n",
       "    <tr>\n",
       "      <th>314</th>\n",
       "      <td>0.02665</td>\n",
       "      <td>75</td>\n",
       "    </tr>\n",
       "    <tr>\n",
       "      <th>315</th>\n",
       "      <td>0.063665</td>\n",
       "      <td>76</td>\n",
       "    </tr>\n",
       "    <tr>\n",
       "      <th>316</th>\n",
       "      <td>0.00665</td>\n",
       "      <td>71</td>\n",
       "    </tr>\n",
       "    <tr>\n",
       "      <th>317</th>\n",
       "      <td>0.02665</td>\n",
       "      <td>75</td>\n",
       "    </tr>\n",
       "    <tr>\n",
       "      <th>318</th>\n",
       "      <td>0.03665</td>\n",
       "      <td>70</td>\n",
       "    </tr>\n",
       "    <tr>\n",
       "      <th>319</th>\n",
       "      <td>0.05665</td>\n",
       "      <td>74</td>\n",
       "    </tr>\n",
       "    <tr>\n",
       "      <th>320</th>\n",
       "      <td>0.050665</td>\n",
       "      <td>45</td>\n",
       "    </tr>\n",
       "    <tr>\n",
       "      <th>321</th>\n",
       "      <td>0.30665</td>\n",
       "      <td>75</td>\n",
       "    </tr>\n",
       "    <tr>\n",
       "      <th>322</th>\n",
       "      <td>0.00665</td>\n",
       "      <td>71</td>\n",
       "    </tr>\n",
       "    <tr>\n",
       "      <th>323</th>\n",
       "      <td>0.02665</td>\n",
       "      <td>75</td>\n",
       "    </tr>\n",
       "    <tr>\n",
       "      <th>324</th>\n",
       "      <td>0.063665</td>\n",
       "      <td>76</td>\n",
       "    </tr>\n",
       "  </tbody>\n",
       "</table>\n",
       "<p>325 rows × 2 columns</p>\n",
       "</div>"
      ],
      "text/plain": [
       "            0      2\n",
       "0        crim  indus\n",
       "1     0.00665     71\n",
       "2     0.02665     75\n",
       "3     0.03665     70\n",
       "4     0.05665     74\n",
       "5    0.050665     45\n",
       "6     0.30665     75\n",
       "7     0.00665     71\n",
       "8     0.02665     75\n",
       "9    0.063665     76\n",
       "10    0.00665     71\n",
       "11    0.02665     75\n",
       "12    0.03665     70\n",
       "13    0.05665     74\n",
       "14   0.050665     45\n",
       "15    0.30665     75\n",
       "16    0.00665     71\n",
       "17    0.02665     75\n",
       "18   0.063665     76\n",
       "19    0.00665     71\n",
       "20    0.02665     75\n",
       "21    0.03665     70\n",
       "22    0.05665     74\n",
       "23   0.050665     45\n",
       "24    0.30665     75\n",
       "25    0.00665     71\n",
       "26    0.02665     75\n",
       "27   0.063665     76\n",
       "28    0.00665     71\n",
       "29    0.02665     75\n",
       "..        ...    ...\n",
       "295   0.00665     71\n",
       "296   0.02665     75\n",
       "297  0.063665     76\n",
       "298   0.00665     71\n",
       "299   0.02665     75\n",
       "300   0.03665     70\n",
       "301   0.05665     74\n",
       "302  0.050665     45\n",
       "303   0.30665     75\n",
       "304   0.00665     71\n",
       "305   0.02665     75\n",
       "306  0.063665     76\n",
       "307   0.00665     71\n",
       "308   0.02665     75\n",
       "309   0.03665     70\n",
       "310   0.05665     74\n",
       "311  0.050665     45\n",
       "312   0.30665     75\n",
       "313   0.00665     71\n",
       "314   0.02665     75\n",
       "315  0.063665     76\n",
       "316   0.00665     71\n",
       "317   0.02665     75\n",
       "318   0.03665     70\n",
       "319   0.05665     74\n",
       "320  0.050665     45\n",
       "321   0.30665     75\n",
       "322   0.00665     71\n",
       "323   0.02665     75\n",
       "324  0.063665     76\n",
       "\n",
       "[325 rows x 2 columns]"
      ]
     },
     "execution_count": 143,
     "metadata": {},
     "output_type": "execute_result"
    }
   ],
   "source": [
    "D1[[0,2]] # celecting the all the rows and only the 2nd column"
   ]
  },
  {
   "cell_type": "code",
   "execution_count": 154,
   "metadata": {
    "scrolled": true
   },
   "outputs": [
    {
     "ename": "TypeError",
     "evalue": "'>' not supported between instances of 'str' and 'int'",
     "output_type": "error",
     "traceback": [
      "\u001b[1;31m---------------------------------------------------------------------------\u001b[0m",
      "\u001b[1;31mTypeError\u001b[0m                                 Traceback (most recent call last)",
      "\u001b[1;32m<ipython-input-154-b312ddc898d5>\u001b[0m in \u001b[0;36m<module>\u001b[1;34m\u001b[0m\n\u001b[1;32m----> 1\u001b[1;33m \u001b[0mD1\u001b[0m\u001b[1;33m[\u001b[0m\u001b[0mD1\u001b[0m\u001b[1;33m.\u001b[0m\u001b[0miloc\u001b[0m\u001b[1;33m[\u001b[0m\u001b[1;36m1\u001b[0m\u001b[1;33m]\u001b[0m\u001b[1;33m>\u001b[0m\u001b[1;36m2\u001b[0m\u001b[1;33m]\u001b[0m\u001b[1;33m\u001b[0m\u001b[1;33m\u001b[0m\u001b[0m\n\u001b[0m",
      "\u001b[1;32mE:\\anaconda\\lib\\site-packages\\pandas\\core\\ops.py\u001b[0m in \u001b[0;36mwrapper\u001b[1;34m(self, other, axis)\u001b[0m\n\u001b[0;32m   1764\u001b[0m \u001b[1;33m\u001b[0m\u001b[0m\n\u001b[0;32m   1765\u001b[0m             \u001b[1;32mwith\u001b[0m \u001b[0mnp\u001b[0m\u001b[1;33m.\u001b[0m\u001b[0merrstate\u001b[0m\u001b[1;33m(\u001b[0m\u001b[0mall\u001b[0m\u001b[1;33m=\u001b[0m\u001b[1;34m'ignore'\u001b[0m\u001b[1;33m)\u001b[0m\u001b[1;33m:\u001b[0m\u001b[1;33m\u001b[0m\u001b[1;33m\u001b[0m\u001b[0m\n\u001b[1;32m-> 1766\u001b[1;33m                 \u001b[0mres\u001b[0m \u001b[1;33m=\u001b[0m \u001b[0mna_op\u001b[0m\u001b[1;33m(\u001b[0m\u001b[0mvalues\u001b[0m\u001b[1;33m,\u001b[0m \u001b[0mother\u001b[0m\u001b[1;33m)\u001b[0m\u001b[1;33m\u001b[0m\u001b[1;33m\u001b[0m\u001b[0m\n\u001b[0m\u001b[0;32m   1767\u001b[0m             \u001b[1;32mif\u001b[0m \u001b[0mis_scalar\u001b[0m\u001b[1;33m(\u001b[0m\u001b[0mres\u001b[0m\u001b[1;33m)\u001b[0m\u001b[1;33m:\u001b[0m\u001b[1;33m\u001b[0m\u001b[1;33m\u001b[0m\u001b[0m\n\u001b[0;32m   1768\u001b[0m                 raise TypeError('Could not compare {typ} type with Series'\n",
      "\u001b[1;32mE:\\anaconda\\lib\\site-packages\\pandas\\core\\ops.py\u001b[0m in \u001b[0;36mna_op\u001b[1;34m(x, y)\u001b[0m\n\u001b[0;32m   1623\u001b[0m \u001b[1;33m\u001b[0m\u001b[0m\n\u001b[0;32m   1624\u001b[0m         \u001b[1;32mif\u001b[0m \u001b[0mis_object_dtype\u001b[0m\u001b[1;33m(\u001b[0m\u001b[0mx\u001b[0m\u001b[1;33m.\u001b[0m\u001b[0mdtype\u001b[0m\u001b[1;33m)\u001b[0m\u001b[1;33m:\u001b[0m\u001b[1;33m\u001b[0m\u001b[1;33m\u001b[0m\u001b[0m\n\u001b[1;32m-> 1625\u001b[1;33m             \u001b[0mresult\u001b[0m \u001b[1;33m=\u001b[0m \u001b[0m_comp_method_OBJECT_ARRAY\u001b[0m\u001b[1;33m(\u001b[0m\u001b[0mop\u001b[0m\u001b[1;33m,\u001b[0m \u001b[0mx\u001b[0m\u001b[1;33m,\u001b[0m \u001b[0my\u001b[0m\u001b[1;33m)\u001b[0m\u001b[1;33m\u001b[0m\u001b[1;33m\u001b[0m\u001b[0m\n\u001b[0m\u001b[0;32m   1626\u001b[0m \u001b[1;33m\u001b[0m\u001b[0m\n\u001b[0;32m   1627\u001b[0m         \u001b[1;32melif\u001b[0m \u001b[0mis_datetimelike_v_numeric\u001b[0m\u001b[1;33m(\u001b[0m\u001b[0mx\u001b[0m\u001b[1;33m,\u001b[0m \u001b[0my\u001b[0m\u001b[1;33m)\u001b[0m\u001b[1;33m:\u001b[0m\u001b[1;33m\u001b[0m\u001b[1;33m\u001b[0m\u001b[0m\n",
      "\u001b[1;32mE:\\anaconda\\lib\\site-packages\\pandas\\core\\ops.py\u001b[0m in \u001b[0;36m_comp_method_OBJECT_ARRAY\u001b[1;34m(op, x, y)\u001b[0m\n\u001b[0;32m   1601\u001b[0m         \u001b[0mresult\u001b[0m \u001b[1;33m=\u001b[0m \u001b[0mlibops\u001b[0m\u001b[1;33m.\u001b[0m\u001b[0mvec_compare\u001b[0m\u001b[1;33m(\u001b[0m\u001b[0mx\u001b[0m\u001b[1;33m,\u001b[0m \u001b[0my\u001b[0m\u001b[1;33m,\u001b[0m \u001b[0mop\u001b[0m\u001b[1;33m)\u001b[0m\u001b[1;33m\u001b[0m\u001b[1;33m\u001b[0m\u001b[0m\n\u001b[0;32m   1602\u001b[0m     \u001b[1;32melse\u001b[0m\u001b[1;33m:\u001b[0m\u001b[1;33m\u001b[0m\u001b[1;33m\u001b[0m\u001b[0m\n\u001b[1;32m-> 1603\u001b[1;33m         \u001b[0mresult\u001b[0m \u001b[1;33m=\u001b[0m \u001b[0mlibops\u001b[0m\u001b[1;33m.\u001b[0m\u001b[0mscalar_compare\u001b[0m\u001b[1;33m(\u001b[0m\u001b[0mx\u001b[0m\u001b[1;33m,\u001b[0m \u001b[0my\u001b[0m\u001b[1;33m,\u001b[0m \u001b[0mop\u001b[0m\u001b[1;33m)\u001b[0m\u001b[1;33m\u001b[0m\u001b[1;33m\u001b[0m\u001b[0m\n\u001b[0m\u001b[0;32m   1604\u001b[0m     \u001b[1;32mreturn\u001b[0m \u001b[0mresult\u001b[0m\u001b[1;33m\u001b[0m\u001b[1;33m\u001b[0m\u001b[0m\n\u001b[0;32m   1605\u001b[0m \u001b[1;33m\u001b[0m\u001b[0m\n",
      "\u001b[1;32mpandas/_libs/ops.pyx\u001b[0m in \u001b[0;36mpandas._libs.ops.scalar_compare\u001b[1;34m()\u001b[0m\n",
      "\u001b[1;31mTypeError\u001b[0m: '>' not supported between instances of 'str' and 'int'"
     ]
    }
   ],
   "source": [
    "D1[D1.iloc[1]>2]"
   ]
  },
  {
   "cell_type": "code",
   "execution_count": 155,
   "metadata": {
    "collapsed": true
   },
   "outputs": [
    {
     "ename": "TypeError",
     "evalue": "'<' not supported between instances of 'str' and 'int'",
     "output_type": "error",
     "traceback": [
      "\u001b[1;31m---------------------------------------------------------------------------\u001b[0m",
      "\u001b[1;31mTypeError\u001b[0m                                 Traceback (most recent call last)",
      "\u001b[1;32m<ipython-input-155-d3c907ff3b7a>\u001b[0m in \u001b[0;36m<module>\u001b[1;34m\u001b[0m\n\u001b[1;32m----> 1\u001b[1;33m \u001b[0mD1\u001b[0m\u001b[1;33m[\u001b[0m\u001b[0mD1\u001b[0m\u001b[1;33m[\u001b[0m\u001b[1;36m0\u001b[0m\u001b[1;33m]\u001b[0m\u001b[1;33m<\u001b[0m\u001b[1;36m5\u001b[0m\u001b[1;33m]\u001b[0m\u001b[1;33m\u001b[0m\u001b[1;33m\u001b[0m\u001b[0m\n\u001b[0m",
      "\u001b[1;32mE:\\anaconda\\lib\\site-packages\\pandas\\core\\ops.py\u001b[0m in \u001b[0;36mwrapper\u001b[1;34m(self, other, axis)\u001b[0m\n\u001b[0;32m   1764\u001b[0m \u001b[1;33m\u001b[0m\u001b[0m\n\u001b[0;32m   1765\u001b[0m             \u001b[1;32mwith\u001b[0m \u001b[0mnp\u001b[0m\u001b[1;33m.\u001b[0m\u001b[0merrstate\u001b[0m\u001b[1;33m(\u001b[0m\u001b[0mall\u001b[0m\u001b[1;33m=\u001b[0m\u001b[1;34m'ignore'\u001b[0m\u001b[1;33m)\u001b[0m\u001b[1;33m:\u001b[0m\u001b[1;33m\u001b[0m\u001b[1;33m\u001b[0m\u001b[0m\n\u001b[1;32m-> 1766\u001b[1;33m                 \u001b[0mres\u001b[0m \u001b[1;33m=\u001b[0m \u001b[0mna_op\u001b[0m\u001b[1;33m(\u001b[0m\u001b[0mvalues\u001b[0m\u001b[1;33m,\u001b[0m \u001b[0mother\u001b[0m\u001b[1;33m)\u001b[0m\u001b[1;33m\u001b[0m\u001b[1;33m\u001b[0m\u001b[0m\n\u001b[0m\u001b[0;32m   1767\u001b[0m             \u001b[1;32mif\u001b[0m \u001b[0mis_scalar\u001b[0m\u001b[1;33m(\u001b[0m\u001b[0mres\u001b[0m\u001b[1;33m)\u001b[0m\u001b[1;33m:\u001b[0m\u001b[1;33m\u001b[0m\u001b[1;33m\u001b[0m\u001b[0m\n\u001b[0;32m   1768\u001b[0m                 raise TypeError('Could not compare {typ} type with Series'\n",
      "\u001b[1;32mE:\\anaconda\\lib\\site-packages\\pandas\\core\\ops.py\u001b[0m in \u001b[0;36mna_op\u001b[1;34m(x, y)\u001b[0m\n\u001b[0;32m   1623\u001b[0m \u001b[1;33m\u001b[0m\u001b[0m\n\u001b[0;32m   1624\u001b[0m         \u001b[1;32mif\u001b[0m \u001b[0mis_object_dtype\u001b[0m\u001b[1;33m(\u001b[0m\u001b[0mx\u001b[0m\u001b[1;33m.\u001b[0m\u001b[0mdtype\u001b[0m\u001b[1;33m)\u001b[0m\u001b[1;33m:\u001b[0m\u001b[1;33m\u001b[0m\u001b[1;33m\u001b[0m\u001b[0m\n\u001b[1;32m-> 1625\u001b[1;33m             \u001b[0mresult\u001b[0m \u001b[1;33m=\u001b[0m \u001b[0m_comp_method_OBJECT_ARRAY\u001b[0m\u001b[1;33m(\u001b[0m\u001b[0mop\u001b[0m\u001b[1;33m,\u001b[0m \u001b[0mx\u001b[0m\u001b[1;33m,\u001b[0m \u001b[0my\u001b[0m\u001b[1;33m)\u001b[0m\u001b[1;33m\u001b[0m\u001b[1;33m\u001b[0m\u001b[0m\n\u001b[0m\u001b[0;32m   1626\u001b[0m \u001b[1;33m\u001b[0m\u001b[0m\n\u001b[0;32m   1627\u001b[0m         \u001b[1;32melif\u001b[0m \u001b[0mis_datetimelike_v_numeric\u001b[0m\u001b[1;33m(\u001b[0m\u001b[0mx\u001b[0m\u001b[1;33m,\u001b[0m \u001b[0my\u001b[0m\u001b[1;33m)\u001b[0m\u001b[1;33m:\u001b[0m\u001b[1;33m\u001b[0m\u001b[1;33m\u001b[0m\u001b[0m\n",
      "\u001b[1;32mE:\\anaconda\\lib\\site-packages\\pandas\\core\\ops.py\u001b[0m in \u001b[0;36m_comp_method_OBJECT_ARRAY\u001b[1;34m(op, x, y)\u001b[0m\n\u001b[0;32m   1601\u001b[0m         \u001b[0mresult\u001b[0m \u001b[1;33m=\u001b[0m \u001b[0mlibops\u001b[0m\u001b[1;33m.\u001b[0m\u001b[0mvec_compare\u001b[0m\u001b[1;33m(\u001b[0m\u001b[0mx\u001b[0m\u001b[1;33m,\u001b[0m \u001b[0my\u001b[0m\u001b[1;33m,\u001b[0m \u001b[0mop\u001b[0m\u001b[1;33m)\u001b[0m\u001b[1;33m\u001b[0m\u001b[1;33m\u001b[0m\u001b[0m\n\u001b[0;32m   1602\u001b[0m     \u001b[1;32melse\u001b[0m\u001b[1;33m:\u001b[0m\u001b[1;33m\u001b[0m\u001b[1;33m\u001b[0m\u001b[0m\n\u001b[1;32m-> 1603\u001b[1;33m         \u001b[0mresult\u001b[0m \u001b[1;33m=\u001b[0m \u001b[0mlibops\u001b[0m\u001b[1;33m.\u001b[0m\u001b[0mscalar_compare\u001b[0m\u001b[1;33m(\u001b[0m\u001b[0mx\u001b[0m\u001b[1;33m,\u001b[0m \u001b[0my\u001b[0m\u001b[1;33m,\u001b[0m \u001b[0mop\u001b[0m\u001b[1;33m)\u001b[0m\u001b[1;33m\u001b[0m\u001b[1;33m\u001b[0m\u001b[0m\n\u001b[0m\u001b[0;32m   1604\u001b[0m     \u001b[1;32mreturn\u001b[0m \u001b[0mresult\u001b[0m\u001b[1;33m\u001b[0m\u001b[1;33m\u001b[0m\u001b[0m\n\u001b[0;32m   1605\u001b[0m \u001b[1;33m\u001b[0m\u001b[0m\n",
      "\u001b[1;32mpandas/_libs/ops.pyx\u001b[0m in \u001b[0;36mpandas._libs.ops.scalar_compare\u001b[1;34m()\u001b[0m\n",
      "\u001b[1;31mTypeError\u001b[0m: '<' not supported between instances of 'str' and 'int'"
     ]
    }
   ],
   "source": [
    "D1[D1[0]<5]"
   ]
  },
  {
   "cell_type": "code",
   "execution_count": 156,
   "metadata": {
    "collapsed": true
   },
   "outputs": [
    {
     "ename": "TypeError",
     "evalue": "'<' not supported between instances of 'str' and 'int'",
     "output_type": "error",
     "traceback": [
      "\u001b[1;31m---------------------------------------------------------------------------\u001b[0m",
      "\u001b[1;31mTypeError\u001b[0m                                 Traceback (most recent call last)",
      "\u001b[1;32m<ipython-input-156-963098734e11>\u001b[0m in \u001b[0;36m<module>\u001b[1;34m\u001b[0m\n\u001b[1;32m----> 1\u001b[1;33m \u001b[0mD1\u001b[0m\u001b[1;33m[\u001b[0m\u001b[1;36m0\u001b[0m\u001b[1;33m]\u001b[0m \u001b[1;33m<\u001b[0m \u001b[1;36m5\u001b[0m\u001b[1;33m\u001b[0m\u001b[1;33m\u001b[0m\u001b[0m\n\u001b[0m",
      "\u001b[1;32mE:\\anaconda\\lib\\site-packages\\pandas\\core\\ops.py\u001b[0m in \u001b[0;36mwrapper\u001b[1;34m(self, other, axis)\u001b[0m\n\u001b[0;32m   1764\u001b[0m \u001b[1;33m\u001b[0m\u001b[0m\n\u001b[0;32m   1765\u001b[0m             \u001b[1;32mwith\u001b[0m \u001b[0mnp\u001b[0m\u001b[1;33m.\u001b[0m\u001b[0merrstate\u001b[0m\u001b[1;33m(\u001b[0m\u001b[0mall\u001b[0m\u001b[1;33m=\u001b[0m\u001b[1;34m'ignore'\u001b[0m\u001b[1;33m)\u001b[0m\u001b[1;33m:\u001b[0m\u001b[1;33m\u001b[0m\u001b[1;33m\u001b[0m\u001b[0m\n\u001b[1;32m-> 1766\u001b[1;33m                 \u001b[0mres\u001b[0m \u001b[1;33m=\u001b[0m \u001b[0mna_op\u001b[0m\u001b[1;33m(\u001b[0m\u001b[0mvalues\u001b[0m\u001b[1;33m,\u001b[0m \u001b[0mother\u001b[0m\u001b[1;33m)\u001b[0m\u001b[1;33m\u001b[0m\u001b[1;33m\u001b[0m\u001b[0m\n\u001b[0m\u001b[0;32m   1767\u001b[0m             \u001b[1;32mif\u001b[0m \u001b[0mis_scalar\u001b[0m\u001b[1;33m(\u001b[0m\u001b[0mres\u001b[0m\u001b[1;33m)\u001b[0m\u001b[1;33m:\u001b[0m\u001b[1;33m\u001b[0m\u001b[1;33m\u001b[0m\u001b[0m\n\u001b[0;32m   1768\u001b[0m                 raise TypeError('Could not compare {typ} type with Series'\n",
      "\u001b[1;32mE:\\anaconda\\lib\\site-packages\\pandas\\core\\ops.py\u001b[0m in \u001b[0;36mna_op\u001b[1;34m(x, y)\u001b[0m\n\u001b[0;32m   1623\u001b[0m \u001b[1;33m\u001b[0m\u001b[0m\n\u001b[0;32m   1624\u001b[0m         \u001b[1;32mif\u001b[0m \u001b[0mis_object_dtype\u001b[0m\u001b[1;33m(\u001b[0m\u001b[0mx\u001b[0m\u001b[1;33m.\u001b[0m\u001b[0mdtype\u001b[0m\u001b[1;33m)\u001b[0m\u001b[1;33m:\u001b[0m\u001b[1;33m\u001b[0m\u001b[1;33m\u001b[0m\u001b[0m\n\u001b[1;32m-> 1625\u001b[1;33m             \u001b[0mresult\u001b[0m \u001b[1;33m=\u001b[0m \u001b[0m_comp_method_OBJECT_ARRAY\u001b[0m\u001b[1;33m(\u001b[0m\u001b[0mop\u001b[0m\u001b[1;33m,\u001b[0m \u001b[0mx\u001b[0m\u001b[1;33m,\u001b[0m \u001b[0my\u001b[0m\u001b[1;33m)\u001b[0m\u001b[1;33m\u001b[0m\u001b[1;33m\u001b[0m\u001b[0m\n\u001b[0m\u001b[0;32m   1626\u001b[0m \u001b[1;33m\u001b[0m\u001b[0m\n\u001b[0;32m   1627\u001b[0m         \u001b[1;32melif\u001b[0m \u001b[0mis_datetimelike_v_numeric\u001b[0m\u001b[1;33m(\u001b[0m\u001b[0mx\u001b[0m\u001b[1;33m,\u001b[0m \u001b[0my\u001b[0m\u001b[1;33m)\u001b[0m\u001b[1;33m:\u001b[0m\u001b[1;33m\u001b[0m\u001b[1;33m\u001b[0m\u001b[0m\n",
      "\u001b[1;32mE:\\anaconda\\lib\\site-packages\\pandas\\core\\ops.py\u001b[0m in \u001b[0;36m_comp_method_OBJECT_ARRAY\u001b[1;34m(op, x, y)\u001b[0m\n\u001b[0;32m   1601\u001b[0m         \u001b[0mresult\u001b[0m \u001b[1;33m=\u001b[0m \u001b[0mlibops\u001b[0m\u001b[1;33m.\u001b[0m\u001b[0mvec_compare\u001b[0m\u001b[1;33m(\u001b[0m\u001b[0mx\u001b[0m\u001b[1;33m,\u001b[0m \u001b[0my\u001b[0m\u001b[1;33m,\u001b[0m \u001b[0mop\u001b[0m\u001b[1;33m)\u001b[0m\u001b[1;33m\u001b[0m\u001b[1;33m\u001b[0m\u001b[0m\n\u001b[0;32m   1602\u001b[0m     \u001b[1;32melse\u001b[0m\u001b[1;33m:\u001b[0m\u001b[1;33m\u001b[0m\u001b[1;33m\u001b[0m\u001b[0m\n\u001b[1;32m-> 1603\u001b[1;33m         \u001b[0mresult\u001b[0m \u001b[1;33m=\u001b[0m \u001b[0mlibops\u001b[0m\u001b[1;33m.\u001b[0m\u001b[0mscalar_compare\u001b[0m\u001b[1;33m(\u001b[0m\u001b[0mx\u001b[0m\u001b[1;33m,\u001b[0m \u001b[0my\u001b[0m\u001b[1;33m,\u001b[0m \u001b[0mop\u001b[0m\u001b[1;33m)\u001b[0m\u001b[1;33m\u001b[0m\u001b[1;33m\u001b[0m\u001b[0m\n\u001b[0m\u001b[0;32m   1604\u001b[0m     \u001b[1;32mreturn\u001b[0m \u001b[0mresult\u001b[0m\u001b[1;33m\u001b[0m\u001b[1;33m\u001b[0m\u001b[0m\n\u001b[0;32m   1605\u001b[0m \u001b[1;33m\u001b[0m\u001b[0m\n",
      "\u001b[1;32mpandas/_libs/ops.pyx\u001b[0m in \u001b[0;36mpandas._libs.ops.scalar_compare\u001b[1;34m()\u001b[0m\n",
      "\u001b[1;31mTypeError\u001b[0m: '<' not supported between instances of 'str' and 'int'"
     ]
    }
   ],
   "source": [
    "D1[0] < 5"
   ]
  },
  {
   "cell_type": "code",
   "execution_count": 158,
   "metadata": {},
   "outputs": [
    {
     "ename": "TypeError",
     "evalue": "'<' not supported between instances of 'str' and 'int'",
     "output_type": "error",
     "traceback": [
      "\u001b[1;31m---------------------------------------------------------------------------\u001b[0m",
      "\u001b[1;31mTypeError\u001b[0m                                 Traceback (most recent call last)",
      "\u001b[1;32m<ipython-input-158-a22fede79759>\u001b[0m in \u001b[0;36m<module>\u001b[1;34m\u001b[0m\n\u001b[1;32m----> 1\u001b[1;33m \u001b[0mD1\u001b[0m\u001b[1;33m.\u001b[0m\u001b[0miloc\u001b[0m\u001b[1;33m[\u001b[0m\u001b[1;36m2\u001b[0m\u001b[1;33m]\u001b[0m\u001b[1;33m<\u001b[0m\u001b[1;36m5\u001b[0m\u001b[1;33m\u001b[0m\u001b[1;33m\u001b[0m\u001b[0m\n\u001b[0m",
      "\u001b[1;32mE:\\anaconda\\lib\\site-packages\\pandas\\core\\ops.py\u001b[0m in \u001b[0;36mwrapper\u001b[1;34m(self, other, axis)\u001b[0m\n\u001b[0;32m   1764\u001b[0m \u001b[1;33m\u001b[0m\u001b[0m\n\u001b[0;32m   1765\u001b[0m             \u001b[1;32mwith\u001b[0m \u001b[0mnp\u001b[0m\u001b[1;33m.\u001b[0m\u001b[0merrstate\u001b[0m\u001b[1;33m(\u001b[0m\u001b[0mall\u001b[0m\u001b[1;33m=\u001b[0m\u001b[1;34m'ignore'\u001b[0m\u001b[1;33m)\u001b[0m\u001b[1;33m:\u001b[0m\u001b[1;33m\u001b[0m\u001b[1;33m\u001b[0m\u001b[0m\n\u001b[1;32m-> 1766\u001b[1;33m                 \u001b[0mres\u001b[0m \u001b[1;33m=\u001b[0m \u001b[0mna_op\u001b[0m\u001b[1;33m(\u001b[0m\u001b[0mvalues\u001b[0m\u001b[1;33m,\u001b[0m \u001b[0mother\u001b[0m\u001b[1;33m)\u001b[0m\u001b[1;33m\u001b[0m\u001b[1;33m\u001b[0m\u001b[0m\n\u001b[0m\u001b[0;32m   1767\u001b[0m             \u001b[1;32mif\u001b[0m \u001b[0mis_scalar\u001b[0m\u001b[1;33m(\u001b[0m\u001b[0mres\u001b[0m\u001b[1;33m)\u001b[0m\u001b[1;33m:\u001b[0m\u001b[1;33m\u001b[0m\u001b[1;33m\u001b[0m\u001b[0m\n\u001b[0;32m   1768\u001b[0m                 raise TypeError('Could not compare {typ} type with Series'\n",
      "\u001b[1;32mE:\\anaconda\\lib\\site-packages\\pandas\\core\\ops.py\u001b[0m in \u001b[0;36mna_op\u001b[1;34m(x, y)\u001b[0m\n\u001b[0;32m   1623\u001b[0m \u001b[1;33m\u001b[0m\u001b[0m\n\u001b[0;32m   1624\u001b[0m         \u001b[1;32mif\u001b[0m \u001b[0mis_object_dtype\u001b[0m\u001b[1;33m(\u001b[0m\u001b[0mx\u001b[0m\u001b[1;33m.\u001b[0m\u001b[0mdtype\u001b[0m\u001b[1;33m)\u001b[0m\u001b[1;33m:\u001b[0m\u001b[1;33m\u001b[0m\u001b[1;33m\u001b[0m\u001b[0m\n\u001b[1;32m-> 1625\u001b[1;33m             \u001b[0mresult\u001b[0m \u001b[1;33m=\u001b[0m \u001b[0m_comp_method_OBJECT_ARRAY\u001b[0m\u001b[1;33m(\u001b[0m\u001b[0mop\u001b[0m\u001b[1;33m,\u001b[0m \u001b[0mx\u001b[0m\u001b[1;33m,\u001b[0m \u001b[0my\u001b[0m\u001b[1;33m)\u001b[0m\u001b[1;33m\u001b[0m\u001b[1;33m\u001b[0m\u001b[0m\n\u001b[0m\u001b[0;32m   1626\u001b[0m \u001b[1;33m\u001b[0m\u001b[0m\n\u001b[0;32m   1627\u001b[0m         \u001b[1;32melif\u001b[0m \u001b[0mis_datetimelike_v_numeric\u001b[0m\u001b[1;33m(\u001b[0m\u001b[0mx\u001b[0m\u001b[1;33m,\u001b[0m \u001b[0my\u001b[0m\u001b[1;33m)\u001b[0m\u001b[1;33m:\u001b[0m\u001b[1;33m\u001b[0m\u001b[1;33m\u001b[0m\u001b[0m\n",
      "\u001b[1;32mE:\\anaconda\\lib\\site-packages\\pandas\\core\\ops.py\u001b[0m in \u001b[0;36m_comp_method_OBJECT_ARRAY\u001b[1;34m(op, x, y)\u001b[0m\n\u001b[0;32m   1601\u001b[0m         \u001b[0mresult\u001b[0m \u001b[1;33m=\u001b[0m \u001b[0mlibops\u001b[0m\u001b[1;33m.\u001b[0m\u001b[0mvec_compare\u001b[0m\u001b[1;33m(\u001b[0m\u001b[0mx\u001b[0m\u001b[1;33m,\u001b[0m \u001b[0my\u001b[0m\u001b[1;33m,\u001b[0m \u001b[0mop\u001b[0m\u001b[1;33m)\u001b[0m\u001b[1;33m\u001b[0m\u001b[1;33m\u001b[0m\u001b[0m\n\u001b[0;32m   1602\u001b[0m     \u001b[1;32melse\u001b[0m\u001b[1;33m:\u001b[0m\u001b[1;33m\u001b[0m\u001b[1;33m\u001b[0m\u001b[0m\n\u001b[1;32m-> 1603\u001b[1;33m         \u001b[0mresult\u001b[0m \u001b[1;33m=\u001b[0m \u001b[0mlibops\u001b[0m\u001b[1;33m.\u001b[0m\u001b[0mscalar_compare\u001b[0m\u001b[1;33m(\u001b[0m\u001b[0mx\u001b[0m\u001b[1;33m,\u001b[0m \u001b[0my\u001b[0m\u001b[1;33m,\u001b[0m \u001b[0mop\u001b[0m\u001b[1;33m)\u001b[0m\u001b[1;33m\u001b[0m\u001b[1;33m\u001b[0m\u001b[0m\n\u001b[0m\u001b[0;32m   1604\u001b[0m     \u001b[1;32mreturn\u001b[0m \u001b[0mresult\u001b[0m\u001b[1;33m\u001b[0m\u001b[1;33m\u001b[0m\u001b[0m\n\u001b[0;32m   1605\u001b[0m \u001b[1;33m\u001b[0m\u001b[0m\n",
      "\u001b[1;32mpandas/_libs/ops.pyx\u001b[0m in \u001b[0;36mpandas._libs.ops.scalar_compare\u001b[1;34m()\u001b[0m\n",
      "\u001b[1;31mTypeError\u001b[0m: '<' not supported between instances of 'str' and 'int'"
     ]
    }
   ],
   "source": [
    "D1.iloc[2]<5"
   ]
  },
  {
   "cell_type": "code",
   "execution_count": 159,
   "metadata": {},
   "outputs": [
    {
     "ename": "TypeError",
     "evalue": "'<' not supported between instances of 'str' and 'int'",
     "output_type": "error",
     "traceback": [
      "\u001b[1;31m---------------------------------------------------------------------------\u001b[0m",
      "\u001b[1;31mTypeError\u001b[0m                                 Traceback (most recent call last)",
      "\u001b[1;32m<ipython-input-159-e4fe084dcd61>\u001b[0m in \u001b[0;36m<module>\u001b[1;34m\u001b[0m\n\u001b[1;32m----> 1\u001b[1;33m \u001b[0mtype\u001b[0m\u001b[1;33m(\u001b[0m\u001b[0mD1\u001b[0m\u001b[1;33m[\u001b[0m\u001b[1;36m0\u001b[0m\u001b[1;33m]\u001b[0m\u001b[1;33m<\u001b[0m\u001b[1;36m5\u001b[0m\u001b[1;33m)\u001b[0m\u001b[1;33m\u001b[0m\u001b[1;33m\u001b[0m\u001b[0m\n\u001b[0m",
      "\u001b[1;32mE:\\anaconda\\lib\\site-packages\\pandas\\core\\ops.py\u001b[0m in \u001b[0;36mwrapper\u001b[1;34m(self, other, axis)\u001b[0m\n\u001b[0;32m   1764\u001b[0m \u001b[1;33m\u001b[0m\u001b[0m\n\u001b[0;32m   1765\u001b[0m             \u001b[1;32mwith\u001b[0m \u001b[0mnp\u001b[0m\u001b[1;33m.\u001b[0m\u001b[0merrstate\u001b[0m\u001b[1;33m(\u001b[0m\u001b[0mall\u001b[0m\u001b[1;33m=\u001b[0m\u001b[1;34m'ignore'\u001b[0m\u001b[1;33m)\u001b[0m\u001b[1;33m:\u001b[0m\u001b[1;33m\u001b[0m\u001b[1;33m\u001b[0m\u001b[0m\n\u001b[1;32m-> 1766\u001b[1;33m                 \u001b[0mres\u001b[0m \u001b[1;33m=\u001b[0m \u001b[0mna_op\u001b[0m\u001b[1;33m(\u001b[0m\u001b[0mvalues\u001b[0m\u001b[1;33m,\u001b[0m \u001b[0mother\u001b[0m\u001b[1;33m)\u001b[0m\u001b[1;33m\u001b[0m\u001b[1;33m\u001b[0m\u001b[0m\n\u001b[0m\u001b[0;32m   1767\u001b[0m             \u001b[1;32mif\u001b[0m \u001b[0mis_scalar\u001b[0m\u001b[1;33m(\u001b[0m\u001b[0mres\u001b[0m\u001b[1;33m)\u001b[0m\u001b[1;33m:\u001b[0m\u001b[1;33m\u001b[0m\u001b[1;33m\u001b[0m\u001b[0m\n\u001b[0;32m   1768\u001b[0m                 raise TypeError('Could not compare {typ} type with Series'\n",
      "\u001b[1;32mE:\\anaconda\\lib\\site-packages\\pandas\\core\\ops.py\u001b[0m in \u001b[0;36mna_op\u001b[1;34m(x, y)\u001b[0m\n\u001b[0;32m   1623\u001b[0m \u001b[1;33m\u001b[0m\u001b[0m\n\u001b[0;32m   1624\u001b[0m         \u001b[1;32mif\u001b[0m \u001b[0mis_object_dtype\u001b[0m\u001b[1;33m(\u001b[0m\u001b[0mx\u001b[0m\u001b[1;33m.\u001b[0m\u001b[0mdtype\u001b[0m\u001b[1;33m)\u001b[0m\u001b[1;33m:\u001b[0m\u001b[1;33m\u001b[0m\u001b[1;33m\u001b[0m\u001b[0m\n\u001b[1;32m-> 1625\u001b[1;33m             \u001b[0mresult\u001b[0m \u001b[1;33m=\u001b[0m \u001b[0m_comp_method_OBJECT_ARRAY\u001b[0m\u001b[1;33m(\u001b[0m\u001b[0mop\u001b[0m\u001b[1;33m,\u001b[0m \u001b[0mx\u001b[0m\u001b[1;33m,\u001b[0m \u001b[0my\u001b[0m\u001b[1;33m)\u001b[0m\u001b[1;33m\u001b[0m\u001b[1;33m\u001b[0m\u001b[0m\n\u001b[0m\u001b[0;32m   1626\u001b[0m \u001b[1;33m\u001b[0m\u001b[0m\n\u001b[0;32m   1627\u001b[0m         \u001b[1;32melif\u001b[0m \u001b[0mis_datetimelike_v_numeric\u001b[0m\u001b[1;33m(\u001b[0m\u001b[0mx\u001b[0m\u001b[1;33m,\u001b[0m \u001b[0my\u001b[0m\u001b[1;33m)\u001b[0m\u001b[1;33m:\u001b[0m\u001b[1;33m\u001b[0m\u001b[1;33m\u001b[0m\u001b[0m\n",
      "\u001b[1;32mE:\\anaconda\\lib\\site-packages\\pandas\\core\\ops.py\u001b[0m in \u001b[0;36m_comp_method_OBJECT_ARRAY\u001b[1;34m(op, x, y)\u001b[0m\n\u001b[0;32m   1601\u001b[0m         \u001b[0mresult\u001b[0m \u001b[1;33m=\u001b[0m \u001b[0mlibops\u001b[0m\u001b[1;33m.\u001b[0m\u001b[0mvec_compare\u001b[0m\u001b[1;33m(\u001b[0m\u001b[0mx\u001b[0m\u001b[1;33m,\u001b[0m \u001b[0my\u001b[0m\u001b[1;33m,\u001b[0m \u001b[0mop\u001b[0m\u001b[1;33m)\u001b[0m\u001b[1;33m\u001b[0m\u001b[1;33m\u001b[0m\u001b[0m\n\u001b[0;32m   1602\u001b[0m     \u001b[1;32melse\u001b[0m\u001b[1;33m:\u001b[0m\u001b[1;33m\u001b[0m\u001b[1;33m\u001b[0m\u001b[0m\n\u001b[1;32m-> 1603\u001b[1;33m         \u001b[0mresult\u001b[0m \u001b[1;33m=\u001b[0m \u001b[0mlibops\u001b[0m\u001b[1;33m.\u001b[0m\u001b[0mscalar_compare\u001b[0m\u001b[1;33m(\u001b[0m\u001b[0mx\u001b[0m\u001b[1;33m,\u001b[0m \u001b[0my\u001b[0m\u001b[1;33m,\u001b[0m \u001b[0mop\u001b[0m\u001b[1;33m)\u001b[0m\u001b[1;33m\u001b[0m\u001b[1;33m\u001b[0m\u001b[0m\n\u001b[0m\u001b[0;32m   1604\u001b[0m     \u001b[1;32mreturn\u001b[0m \u001b[0mresult\u001b[0m\u001b[1;33m\u001b[0m\u001b[1;33m\u001b[0m\u001b[0m\n\u001b[0;32m   1605\u001b[0m \u001b[1;33m\u001b[0m\u001b[0m\n",
      "\u001b[1;32mpandas/_libs/ops.pyx\u001b[0m in \u001b[0;36mpandas._libs.ops.scalar_compare\u001b[1;34m()\u001b[0m\n",
      "\u001b[1;31mTypeError\u001b[0m: '<' not supported between instances of 'str' and 'int'"
     ]
    }
   ],
   "source": [
    "type(D1[0]<5)"
   ]
  },
  {
   "cell_type": "code",
   "execution_count": 160,
   "metadata": {},
   "outputs": [],
   "source": [
    "                                           #  lecture 16  even more about Data frame : column names\n",
    "    "
   ]
  },
  {
   "cell_type": "code",
   "execution_count": 167,
   "metadata": {
    "scrolled": false
   },
   "outputs": [
    {
     "data": {
      "text/html": [
       "<div>\n",
       "<style scoped>\n",
       "    .dataframe tbody tr th:only-of-type {\n",
       "        vertical-align: middle;\n",
       "    }\n",
       "\n",
       "    .dataframe tbody tr th {\n",
       "        vertical-align: top;\n",
       "    }\n",
       "\n",
       "    .dataframe thead th {\n",
       "        text-align: right;\n",
       "    }\n",
       "</style>\n",
       "<table border=\"1\" class=\"dataframe\">\n",
       "  <thead>\n",
       "    <tr style=\"text-align: right;\">\n",
       "      <th></th>\n",
       "      <th>crim</th>\n",
       "      <th>zn</th>\n",
       "      <th>indus</th>\n",
       "      <th>chas</th>\n",
       "      <th>nox</th>\n",
       "      <th>rm</th>\n",
       "      <th>age</th>\n",
       "      <th>dis</th>\n",
       "      <th>rad</th>\n",
       "      <th>tax</th>\n",
       "      <th>ptratio</th>\n",
       "      <th>b</th>\n",
       "      <th>lstat</th>\n",
       "      <th>medv</th>\n",
       "    </tr>\n",
       "  </thead>\n",
       "  <tbody>\n",
       "    <tr>\n",
       "      <th>0</th>\n",
       "      <td>0.006650</td>\n",
       "      <td>18</td>\n",
       "      <td>71</td>\n",
       "      <td>0</td>\n",
       "      <td>44</td>\n",
       "      <td>3</td>\n",
       "      <td>33</td>\n",
       "      <td>3</td>\n",
       "      <td>4</td>\n",
       "      <td>0.144</td>\n",
       "      <td>443</td>\n",
       "      <td>937.3</td>\n",
       "      <td>3.3550</td>\n",
       "      <td>45.20</td>\n",
       "    </tr>\n",
       "    <tr>\n",
       "      <th>1</th>\n",
       "      <td>0.026650</td>\n",
       "      <td>13</td>\n",
       "      <td>75</td>\n",
       "      <td>0</td>\n",
       "      <td>24</td>\n",
       "      <td>4</td>\n",
       "      <td>34</td>\n",
       "      <td>8</td>\n",
       "      <td>6</td>\n",
       "      <td>0.444</td>\n",
       "      <td>243</td>\n",
       "      <td>637.3</td>\n",
       "      <td>3.6550</td>\n",
       "      <td>45.20</td>\n",
       "    </tr>\n",
       "    <tr>\n",
       "      <th>2</th>\n",
       "      <td>0.036650</td>\n",
       "      <td>14</td>\n",
       "      <td>70</td>\n",
       "      <td>0</td>\n",
       "      <td>14</td>\n",
       "      <td>5</td>\n",
       "      <td>31</td>\n",
       "      <td>8</td>\n",
       "      <td>7</td>\n",
       "      <td>0.444</td>\n",
       "      <td>433</td>\n",
       "      <td>927.3</td>\n",
       "      <td>3.5550</td>\n",
       "      <td>43.20</td>\n",
       "    </tr>\n",
       "    <tr>\n",
       "      <th>3</th>\n",
       "      <td>0.056650</td>\n",
       "      <td>16</td>\n",
       "      <td>74</td>\n",
       "      <td>0</td>\n",
       "      <td>24</td>\n",
       "      <td>6</td>\n",
       "      <td>36</td>\n",
       "      <td>7</td>\n",
       "      <td>8</td>\n",
       "      <td>0.344</td>\n",
       "      <td>403</td>\n",
       "      <td>937.3</td>\n",
       "      <td>3.0550</td>\n",
       "      <td>41.20</td>\n",
       "    </tr>\n",
       "    <tr>\n",
       "      <th>4</th>\n",
       "      <td>0.050665</td>\n",
       "      <td>17</td>\n",
       "      <td>45</td>\n",
       "      <td>0</td>\n",
       "      <td>54</td>\n",
       "      <td>7</td>\n",
       "      <td>53</td>\n",
       "      <td>6</td>\n",
       "      <td>0</td>\n",
       "      <td>0.244</td>\n",
       "      <td>473</td>\n",
       "      <td>137.3</td>\n",
       "      <td>3.5355</td>\n",
       "      <td>40.20</td>\n",
       "    </tr>\n",
       "    <tr>\n",
       "      <th>5</th>\n",
       "      <td>0.306650</td>\n",
       "      <td>15</td>\n",
       "      <td>75</td>\n",
       "      <td>0</td>\n",
       "      <td>44</td>\n",
       "      <td>8</td>\n",
       "      <td>83</td>\n",
       "      <td>5</td>\n",
       "      <td>9</td>\n",
       "      <td>0.144</td>\n",
       "      <td>403</td>\n",
       "      <td>907.3</td>\n",
       "      <td>3.3550</td>\n",
       "      <td>45.44</td>\n",
       "    </tr>\n",
       "    <tr>\n",
       "      <th>6</th>\n",
       "      <td>0.006650</td>\n",
       "      <td>18</td>\n",
       "      <td>71</td>\n",
       "      <td>0</td>\n",
       "      <td>44</td>\n",
       "      <td>3</td>\n",
       "      <td>33</td>\n",
       "      <td>3</td>\n",
       "      <td>4</td>\n",
       "      <td>0.144</td>\n",
       "      <td>443</td>\n",
       "      <td>937.3</td>\n",
       "      <td>3.3550</td>\n",
       "      <td>45.20</td>\n",
       "    </tr>\n",
       "    <tr>\n",
       "      <th>7</th>\n",
       "      <td>0.026650</td>\n",
       "      <td>13</td>\n",
       "      <td>75</td>\n",
       "      <td>0</td>\n",
       "      <td>24</td>\n",
       "      <td>4</td>\n",
       "      <td>34</td>\n",
       "      <td>8</td>\n",
       "      <td>6</td>\n",
       "      <td>0.444</td>\n",
       "      <td>243</td>\n",
       "      <td>637.3</td>\n",
       "      <td>3.6550</td>\n",
       "      <td>45.20</td>\n",
       "    </tr>\n",
       "    <tr>\n",
       "      <th>8</th>\n",
       "      <td>0.063665</td>\n",
       "      <td>16</td>\n",
       "      <td>76</td>\n",
       "      <td>0</td>\n",
       "      <td>44</td>\n",
       "      <td>5</td>\n",
       "      <td>31</td>\n",
       "      <td>8</td>\n",
       "      <td>7</td>\n",
       "      <td>0.444</td>\n",
       "      <td>433</td>\n",
       "      <td>927.3</td>\n",
       "      <td>3.5550</td>\n",
       "      <td>43.20</td>\n",
       "    </tr>\n",
       "    <tr>\n",
       "      <th>9</th>\n",
       "      <td>0.006650</td>\n",
       "      <td>18</td>\n",
       "      <td>71</td>\n",
       "      <td>0</td>\n",
       "      <td>44</td>\n",
       "      <td>3</td>\n",
       "      <td>33</td>\n",
       "      <td>3</td>\n",
       "      <td>4</td>\n",
       "      <td>0.144</td>\n",
       "      <td>443</td>\n",
       "      <td>937.3</td>\n",
       "      <td>3.3550</td>\n",
       "      <td>45.20</td>\n",
       "    </tr>\n",
       "    <tr>\n",
       "      <th>10</th>\n",
       "      <td>0.026650</td>\n",
       "      <td>13</td>\n",
       "      <td>75</td>\n",
       "      <td>0</td>\n",
       "      <td>24</td>\n",
       "      <td>4</td>\n",
       "      <td>34</td>\n",
       "      <td>8</td>\n",
       "      <td>6</td>\n",
       "      <td>0.444</td>\n",
       "      <td>243</td>\n",
       "      <td>637.3</td>\n",
       "      <td>3.6550</td>\n",
       "      <td>45.20</td>\n",
       "    </tr>\n",
       "    <tr>\n",
       "      <th>11</th>\n",
       "      <td>0.036650</td>\n",
       "      <td>14</td>\n",
       "      <td>70</td>\n",
       "      <td>0</td>\n",
       "      <td>14</td>\n",
       "      <td>5</td>\n",
       "      <td>31</td>\n",
       "      <td>8</td>\n",
       "      <td>7</td>\n",
       "      <td>0.444</td>\n",
       "      <td>433</td>\n",
       "      <td>927.3</td>\n",
       "      <td>3.5550</td>\n",
       "      <td>43.20</td>\n",
       "    </tr>\n",
       "    <tr>\n",
       "      <th>12</th>\n",
       "      <td>0.056650</td>\n",
       "      <td>16</td>\n",
       "      <td>74</td>\n",
       "      <td>0</td>\n",
       "      <td>24</td>\n",
       "      <td>6</td>\n",
       "      <td>36</td>\n",
       "      <td>7</td>\n",
       "      <td>8</td>\n",
       "      <td>0.344</td>\n",
       "      <td>403</td>\n",
       "      <td>937.3</td>\n",
       "      <td>3.0550</td>\n",
       "      <td>41.20</td>\n",
       "    </tr>\n",
       "    <tr>\n",
       "      <th>13</th>\n",
       "      <td>0.050665</td>\n",
       "      <td>17</td>\n",
       "      <td>45</td>\n",
       "      <td>0</td>\n",
       "      <td>54</td>\n",
       "      <td>7</td>\n",
       "      <td>53</td>\n",
       "      <td>6</td>\n",
       "      <td>0</td>\n",
       "      <td>0.244</td>\n",
       "      <td>473</td>\n",
       "      <td>137.3</td>\n",
       "      <td>3.5355</td>\n",
       "      <td>40.20</td>\n",
       "    </tr>\n",
       "    <tr>\n",
       "      <th>14</th>\n",
       "      <td>0.306650</td>\n",
       "      <td>15</td>\n",
       "      <td>75</td>\n",
       "      <td>0</td>\n",
       "      <td>44</td>\n",
       "      <td>8</td>\n",
       "      <td>83</td>\n",
       "      <td>5</td>\n",
       "      <td>9</td>\n",
       "      <td>0.144</td>\n",
       "      <td>403</td>\n",
       "      <td>907.3</td>\n",
       "      <td>3.3550</td>\n",
       "      <td>45.44</td>\n",
       "    </tr>\n",
       "    <tr>\n",
       "      <th>15</th>\n",
       "      <td>0.006650</td>\n",
       "      <td>18</td>\n",
       "      <td>71</td>\n",
       "      <td>0</td>\n",
       "      <td>44</td>\n",
       "      <td>3</td>\n",
       "      <td>33</td>\n",
       "      <td>3</td>\n",
       "      <td>4</td>\n",
       "      <td>0.144</td>\n",
       "      <td>443</td>\n",
       "      <td>937.3</td>\n",
       "      <td>3.3550</td>\n",
       "      <td>45.20</td>\n",
       "    </tr>\n",
       "    <tr>\n",
       "      <th>16</th>\n",
       "      <td>0.026650</td>\n",
       "      <td>13</td>\n",
       "      <td>75</td>\n",
       "      <td>0</td>\n",
       "      <td>24</td>\n",
       "      <td>4</td>\n",
       "      <td>34</td>\n",
       "      <td>8</td>\n",
       "      <td>6</td>\n",
       "      <td>0.444</td>\n",
       "      <td>243</td>\n",
       "      <td>637.3</td>\n",
       "      <td>3.6550</td>\n",
       "      <td>45.20</td>\n",
       "    </tr>\n",
       "    <tr>\n",
       "      <th>17</th>\n",
       "      <td>0.063665</td>\n",
       "      <td>16</td>\n",
       "      <td>76</td>\n",
       "      <td>0</td>\n",
       "      <td>44</td>\n",
       "      <td>5</td>\n",
       "      <td>31</td>\n",
       "      <td>8</td>\n",
       "      <td>7</td>\n",
       "      <td>0.444</td>\n",
       "      <td>433</td>\n",
       "      <td>927.3</td>\n",
       "      <td>3.5550</td>\n",
       "      <td>43.20</td>\n",
       "    </tr>\n",
       "    <tr>\n",
       "      <th>18</th>\n",
       "      <td>0.006650</td>\n",
       "      <td>18</td>\n",
       "      <td>71</td>\n",
       "      <td>0</td>\n",
       "      <td>44</td>\n",
       "      <td>3</td>\n",
       "      <td>33</td>\n",
       "      <td>3</td>\n",
       "      <td>4</td>\n",
       "      <td>0.144</td>\n",
       "      <td>443</td>\n",
       "      <td>937.3</td>\n",
       "      <td>3.3550</td>\n",
       "      <td>45.20</td>\n",
       "    </tr>\n",
       "    <tr>\n",
       "      <th>19</th>\n",
       "      <td>0.026650</td>\n",
       "      <td>13</td>\n",
       "      <td>75</td>\n",
       "      <td>0</td>\n",
       "      <td>24</td>\n",
       "      <td>4</td>\n",
       "      <td>34</td>\n",
       "      <td>8</td>\n",
       "      <td>6</td>\n",
       "      <td>0.444</td>\n",
       "      <td>243</td>\n",
       "      <td>637.3</td>\n",
       "      <td>3.6550</td>\n",
       "      <td>45.20</td>\n",
       "    </tr>\n",
       "    <tr>\n",
       "      <th>20</th>\n",
       "      <td>0.036650</td>\n",
       "      <td>14</td>\n",
       "      <td>70</td>\n",
       "      <td>0</td>\n",
       "      <td>14</td>\n",
       "      <td>5</td>\n",
       "      <td>31</td>\n",
       "      <td>8</td>\n",
       "      <td>7</td>\n",
       "      <td>0.444</td>\n",
       "      <td>433</td>\n",
       "      <td>927.3</td>\n",
       "      <td>3.5550</td>\n",
       "      <td>43.20</td>\n",
       "    </tr>\n",
       "    <tr>\n",
       "      <th>21</th>\n",
       "      <td>0.056650</td>\n",
       "      <td>16</td>\n",
       "      <td>74</td>\n",
       "      <td>0</td>\n",
       "      <td>24</td>\n",
       "      <td>6</td>\n",
       "      <td>36</td>\n",
       "      <td>7</td>\n",
       "      <td>8</td>\n",
       "      <td>0.344</td>\n",
       "      <td>403</td>\n",
       "      <td>937.3</td>\n",
       "      <td>3.0550</td>\n",
       "      <td>41.20</td>\n",
       "    </tr>\n",
       "    <tr>\n",
       "      <th>22</th>\n",
       "      <td>0.050665</td>\n",
       "      <td>17</td>\n",
       "      <td>45</td>\n",
       "      <td>0</td>\n",
       "      <td>54</td>\n",
       "      <td>7</td>\n",
       "      <td>53</td>\n",
       "      <td>6</td>\n",
       "      <td>0</td>\n",
       "      <td>0.244</td>\n",
       "      <td>473</td>\n",
       "      <td>137.3</td>\n",
       "      <td>3.5355</td>\n",
       "      <td>40.20</td>\n",
       "    </tr>\n",
       "    <tr>\n",
       "      <th>23</th>\n",
       "      <td>0.306650</td>\n",
       "      <td>15</td>\n",
       "      <td>75</td>\n",
       "      <td>0</td>\n",
       "      <td>44</td>\n",
       "      <td>8</td>\n",
       "      <td>83</td>\n",
       "      <td>5</td>\n",
       "      <td>9</td>\n",
       "      <td>0.144</td>\n",
       "      <td>403</td>\n",
       "      <td>907.3</td>\n",
       "      <td>3.3550</td>\n",
       "      <td>45.44</td>\n",
       "    </tr>\n",
       "    <tr>\n",
       "      <th>24</th>\n",
       "      <td>0.006650</td>\n",
       "      <td>18</td>\n",
       "      <td>71</td>\n",
       "      <td>0</td>\n",
       "      <td>44</td>\n",
       "      <td>3</td>\n",
       "      <td>33</td>\n",
       "      <td>3</td>\n",
       "      <td>4</td>\n",
       "      <td>0.144</td>\n",
       "      <td>443</td>\n",
       "      <td>937.3</td>\n",
       "      <td>3.3550</td>\n",
       "      <td>45.20</td>\n",
       "    </tr>\n",
       "    <tr>\n",
       "      <th>25</th>\n",
       "      <td>0.026650</td>\n",
       "      <td>13</td>\n",
       "      <td>75</td>\n",
       "      <td>0</td>\n",
       "      <td>24</td>\n",
       "      <td>4</td>\n",
       "      <td>34</td>\n",
       "      <td>8</td>\n",
       "      <td>6</td>\n",
       "      <td>0.444</td>\n",
       "      <td>243</td>\n",
       "      <td>637.3</td>\n",
       "      <td>3.6550</td>\n",
       "      <td>45.20</td>\n",
       "    </tr>\n",
       "    <tr>\n",
       "      <th>26</th>\n",
       "      <td>0.063665</td>\n",
       "      <td>16</td>\n",
       "      <td>76</td>\n",
       "      <td>0</td>\n",
       "      <td>44</td>\n",
       "      <td>5</td>\n",
       "      <td>31</td>\n",
       "      <td>8</td>\n",
       "      <td>7</td>\n",
       "      <td>0.444</td>\n",
       "      <td>433</td>\n",
       "      <td>927.3</td>\n",
       "      <td>3.5550</td>\n",
       "      <td>43.20</td>\n",
       "    </tr>\n",
       "    <tr>\n",
       "      <th>27</th>\n",
       "      <td>0.006650</td>\n",
       "      <td>18</td>\n",
       "      <td>71</td>\n",
       "      <td>0</td>\n",
       "      <td>44</td>\n",
       "      <td>3</td>\n",
       "      <td>33</td>\n",
       "      <td>3</td>\n",
       "      <td>4</td>\n",
       "      <td>0.144</td>\n",
       "      <td>443</td>\n",
       "      <td>937.3</td>\n",
       "      <td>3.3550</td>\n",
       "      <td>45.20</td>\n",
       "    </tr>\n",
       "    <tr>\n",
       "      <th>28</th>\n",
       "      <td>0.026650</td>\n",
       "      <td>13</td>\n",
       "      <td>75</td>\n",
       "      <td>0</td>\n",
       "      <td>24</td>\n",
       "      <td>4</td>\n",
       "      <td>34</td>\n",
       "      <td>8</td>\n",
       "      <td>6</td>\n",
       "      <td>0.444</td>\n",
       "      <td>243</td>\n",
       "      <td>637.3</td>\n",
       "      <td>3.6550</td>\n",
       "      <td>45.20</td>\n",
       "    </tr>\n",
       "    <tr>\n",
       "      <th>29</th>\n",
       "      <td>0.036650</td>\n",
       "      <td>14</td>\n",
       "      <td>70</td>\n",
       "      <td>0</td>\n",
       "      <td>14</td>\n",
       "      <td>5</td>\n",
       "      <td>31</td>\n",
       "      <td>8</td>\n",
       "      <td>7</td>\n",
       "      <td>0.444</td>\n",
       "      <td>433</td>\n",
       "      <td>927.3</td>\n",
       "      <td>3.5550</td>\n",
       "      <td>43.20</td>\n",
       "    </tr>\n",
       "    <tr>\n",
       "      <th>...</th>\n",
       "      <td>...</td>\n",
       "      <td>...</td>\n",
       "      <td>...</td>\n",
       "      <td>...</td>\n",
       "      <td>...</td>\n",
       "      <td>...</td>\n",
       "      <td>...</td>\n",
       "      <td>...</td>\n",
       "      <td>...</td>\n",
       "      <td>...</td>\n",
       "      <td>...</td>\n",
       "      <td>...</td>\n",
       "      <td>...</td>\n",
       "      <td>...</td>\n",
       "    </tr>\n",
       "    <tr>\n",
       "      <th>291</th>\n",
       "      <td>0.056650</td>\n",
       "      <td>16</td>\n",
       "      <td>74</td>\n",
       "      <td>0</td>\n",
       "      <td>24</td>\n",
       "      <td>6</td>\n",
       "      <td>36</td>\n",
       "      <td>7</td>\n",
       "      <td>8</td>\n",
       "      <td>0.344</td>\n",
       "      <td>403</td>\n",
       "      <td>937.3</td>\n",
       "      <td>3.0550</td>\n",
       "      <td>41.20</td>\n",
       "    </tr>\n",
       "    <tr>\n",
       "      <th>292</th>\n",
       "      <td>0.050665</td>\n",
       "      <td>17</td>\n",
       "      <td>45</td>\n",
       "      <td>0</td>\n",
       "      <td>54</td>\n",
       "      <td>7</td>\n",
       "      <td>53</td>\n",
       "      <td>6</td>\n",
       "      <td>0</td>\n",
       "      <td>0.244</td>\n",
       "      <td>473</td>\n",
       "      <td>137.3</td>\n",
       "      <td>3.5355</td>\n",
       "      <td>40.20</td>\n",
       "    </tr>\n",
       "    <tr>\n",
       "      <th>293</th>\n",
       "      <td>0.306650</td>\n",
       "      <td>15</td>\n",
       "      <td>75</td>\n",
       "      <td>0</td>\n",
       "      <td>44</td>\n",
       "      <td>8</td>\n",
       "      <td>83</td>\n",
       "      <td>5</td>\n",
       "      <td>9</td>\n",
       "      <td>0.144</td>\n",
       "      <td>403</td>\n",
       "      <td>907.3</td>\n",
       "      <td>3.3550</td>\n",
       "      <td>45.44</td>\n",
       "    </tr>\n",
       "    <tr>\n",
       "      <th>294</th>\n",
       "      <td>0.006650</td>\n",
       "      <td>18</td>\n",
       "      <td>71</td>\n",
       "      <td>0</td>\n",
       "      <td>44</td>\n",
       "      <td>3</td>\n",
       "      <td>33</td>\n",
       "      <td>3</td>\n",
       "      <td>4</td>\n",
       "      <td>0.144</td>\n",
       "      <td>443</td>\n",
       "      <td>937.3</td>\n",
       "      <td>3.3550</td>\n",
       "      <td>45.20</td>\n",
       "    </tr>\n",
       "    <tr>\n",
       "      <th>295</th>\n",
       "      <td>0.026650</td>\n",
       "      <td>13</td>\n",
       "      <td>75</td>\n",
       "      <td>0</td>\n",
       "      <td>24</td>\n",
       "      <td>4</td>\n",
       "      <td>34</td>\n",
       "      <td>8</td>\n",
       "      <td>6</td>\n",
       "      <td>0.444</td>\n",
       "      <td>243</td>\n",
       "      <td>637.3</td>\n",
       "      <td>3.6550</td>\n",
       "      <td>45.20</td>\n",
       "    </tr>\n",
       "    <tr>\n",
       "      <th>296</th>\n",
       "      <td>0.063665</td>\n",
       "      <td>16</td>\n",
       "      <td>76</td>\n",
       "      <td>0</td>\n",
       "      <td>44</td>\n",
       "      <td>5</td>\n",
       "      <td>31</td>\n",
       "      <td>8</td>\n",
       "      <td>7</td>\n",
       "      <td>0.444</td>\n",
       "      <td>433</td>\n",
       "      <td>927.3</td>\n",
       "      <td>3.5550</td>\n",
       "      <td>43.20</td>\n",
       "    </tr>\n",
       "    <tr>\n",
       "      <th>297</th>\n",
       "      <td>0.006650</td>\n",
       "      <td>18</td>\n",
       "      <td>71</td>\n",
       "      <td>0</td>\n",
       "      <td>44</td>\n",
       "      <td>3</td>\n",
       "      <td>33</td>\n",
       "      <td>3</td>\n",
       "      <td>4</td>\n",
       "      <td>0.144</td>\n",
       "      <td>443</td>\n",
       "      <td>937.3</td>\n",
       "      <td>3.3550</td>\n",
       "      <td>45.20</td>\n",
       "    </tr>\n",
       "    <tr>\n",
       "      <th>298</th>\n",
       "      <td>0.026650</td>\n",
       "      <td>13</td>\n",
       "      <td>75</td>\n",
       "      <td>0</td>\n",
       "      <td>24</td>\n",
       "      <td>4</td>\n",
       "      <td>34</td>\n",
       "      <td>8</td>\n",
       "      <td>6</td>\n",
       "      <td>0.444</td>\n",
       "      <td>243</td>\n",
       "      <td>637.3</td>\n",
       "      <td>3.6550</td>\n",
       "      <td>45.20</td>\n",
       "    </tr>\n",
       "    <tr>\n",
       "      <th>299</th>\n",
       "      <td>0.036650</td>\n",
       "      <td>14</td>\n",
       "      <td>70</td>\n",
       "      <td>0</td>\n",
       "      <td>14</td>\n",
       "      <td>5</td>\n",
       "      <td>31</td>\n",
       "      <td>8</td>\n",
       "      <td>7</td>\n",
       "      <td>0.444</td>\n",
       "      <td>433</td>\n",
       "      <td>927.3</td>\n",
       "      <td>3.5550</td>\n",
       "      <td>43.20</td>\n",
       "    </tr>\n",
       "    <tr>\n",
       "      <th>300</th>\n",
       "      <td>0.056650</td>\n",
       "      <td>16</td>\n",
       "      <td>74</td>\n",
       "      <td>0</td>\n",
       "      <td>24</td>\n",
       "      <td>6</td>\n",
       "      <td>36</td>\n",
       "      <td>7</td>\n",
       "      <td>8</td>\n",
       "      <td>0.344</td>\n",
       "      <td>403</td>\n",
       "      <td>937.3</td>\n",
       "      <td>3.0550</td>\n",
       "      <td>41.20</td>\n",
       "    </tr>\n",
       "    <tr>\n",
       "      <th>301</th>\n",
       "      <td>0.050665</td>\n",
       "      <td>17</td>\n",
       "      <td>45</td>\n",
       "      <td>0</td>\n",
       "      <td>54</td>\n",
       "      <td>7</td>\n",
       "      <td>53</td>\n",
       "      <td>6</td>\n",
       "      <td>0</td>\n",
       "      <td>0.244</td>\n",
       "      <td>473</td>\n",
       "      <td>137.3</td>\n",
       "      <td>3.5355</td>\n",
       "      <td>40.20</td>\n",
       "    </tr>\n",
       "    <tr>\n",
       "      <th>302</th>\n",
       "      <td>0.306650</td>\n",
       "      <td>15</td>\n",
       "      <td>75</td>\n",
       "      <td>0</td>\n",
       "      <td>44</td>\n",
       "      <td>8</td>\n",
       "      <td>83</td>\n",
       "      <td>5</td>\n",
       "      <td>9</td>\n",
       "      <td>0.144</td>\n",
       "      <td>403</td>\n",
       "      <td>907.3</td>\n",
       "      <td>3.3550</td>\n",
       "      <td>45.44</td>\n",
       "    </tr>\n",
       "    <tr>\n",
       "      <th>303</th>\n",
       "      <td>0.006650</td>\n",
       "      <td>18</td>\n",
       "      <td>71</td>\n",
       "      <td>0</td>\n",
       "      <td>44</td>\n",
       "      <td>3</td>\n",
       "      <td>33</td>\n",
       "      <td>3</td>\n",
       "      <td>4</td>\n",
       "      <td>0.144</td>\n",
       "      <td>443</td>\n",
       "      <td>937.3</td>\n",
       "      <td>3.3550</td>\n",
       "      <td>45.20</td>\n",
       "    </tr>\n",
       "    <tr>\n",
       "      <th>304</th>\n",
       "      <td>0.026650</td>\n",
       "      <td>13</td>\n",
       "      <td>75</td>\n",
       "      <td>0</td>\n",
       "      <td>24</td>\n",
       "      <td>4</td>\n",
       "      <td>34</td>\n",
       "      <td>8</td>\n",
       "      <td>6</td>\n",
       "      <td>0.444</td>\n",
       "      <td>243</td>\n",
       "      <td>637.3</td>\n",
       "      <td>3.6550</td>\n",
       "      <td>45.20</td>\n",
       "    </tr>\n",
       "    <tr>\n",
       "      <th>305</th>\n",
       "      <td>0.063665</td>\n",
       "      <td>16</td>\n",
       "      <td>76</td>\n",
       "      <td>0</td>\n",
       "      <td>44</td>\n",
       "      <td>5</td>\n",
       "      <td>31</td>\n",
       "      <td>8</td>\n",
       "      <td>7</td>\n",
       "      <td>0.444</td>\n",
       "      <td>433</td>\n",
       "      <td>927.3</td>\n",
       "      <td>3.5550</td>\n",
       "      <td>43.20</td>\n",
       "    </tr>\n",
       "    <tr>\n",
       "      <th>306</th>\n",
       "      <td>0.006650</td>\n",
       "      <td>18</td>\n",
       "      <td>71</td>\n",
       "      <td>0</td>\n",
       "      <td>44</td>\n",
       "      <td>3</td>\n",
       "      <td>33</td>\n",
       "      <td>3</td>\n",
       "      <td>4</td>\n",
       "      <td>0.144</td>\n",
       "      <td>443</td>\n",
       "      <td>937.3</td>\n",
       "      <td>3.3550</td>\n",
       "      <td>45.20</td>\n",
       "    </tr>\n",
       "    <tr>\n",
       "      <th>307</th>\n",
       "      <td>0.026650</td>\n",
       "      <td>13</td>\n",
       "      <td>75</td>\n",
       "      <td>0</td>\n",
       "      <td>24</td>\n",
       "      <td>4</td>\n",
       "      <td>34</td>\n",
       "      <td>8</td>\n",
       "      <td>6</td>\n",
       "      <td>0.444</td>\n",
       "      <td>243</td>\n",
       "      <td>637.3</td>\n",
       "      <td>3.6550</td>\n",
       "      <td>45.20</td>\n",
       "    </tr>\n",
       "    <tr>\n",
       "      <th>308</th>\n",
       "      <td>0.036650</td>\n",
       "      <td>14</td>\n",
       "      <td>70</td>\n",
       "      <td>0</td>\n",
       "      <td>14</td>\n",
       "      <td>5</td>\n",
       "      <td>31</td>\n",
       "      <td>8</td>\n",
       "      <td>7</td>\n",
       "      <td>0.444</td>\n",
       "      <td>433</td>\n",
       "      <td>927.3</td>\n",
       "      <td>3.5550</td>\n",
       "      <td>43.20</td>\n",
       "    </tr>\n",
       "    <tr>\n",
       "      <th>309</th>\n",
       "      <td>0.056650</td>\n",
       "      <td>16</td>\n",
       "      <td>74</td>\n",
       "      <td>0</td>\n",
       "      <td>24</td>\n",
       "      <td>6</td>\n",
       "      <td>36</td>\n",
       "      <td>7</td>\n",
       "      <td>8</td>\n",
       "      <td>0.344</td>\n",
       "      <td>403</td>\n",
       "      <td>937.3</td>\n",
       "      <td>3.0550</td>\n",
       "      <td>41.20</td>\n",
       "    </tr>\n",
       "    <tr>\n",
       "      <th>310</th>\n",
       "      <td>0.050665</td>\n",
       "      <td>17</td>\n",
       "      <td>45</td>\n",
       "      <td>0</td>\n",
       "      <td>54</td>\n",
       "      <td>7</td>\n",
       "      <td>53</td>\n",
       "      <td>6</td>\n",
       "      <td>0</td>\n",
       "      <td>0.244</td>\n",
       "      <td>473</td>\n",
       "      <td>137.3</td>\n",
       "      <td>3.5355</td>\n",
       "      <td>40.20</td>\n",
       "    </tr>\n",
       "    <tr>\n",
       "      <th>311</th>\n",
       "      <td>0.306650</td>\n",
       "      <td>15</td>\n",
       "      <td>75</td>\n",
       "      <td>0</td>\n",
       "      <td>44</td>\n",
       "      <td>8</td>\n",
       "      <td>83</td>\n",
       "      <td>5</td>\n",
       "      <td>9</td>\n",
       "      <td>0.144</td>\n",
       "      <td>403</td>\n",
       "      <td>907.3</td>\n",
       "      <td>3.3550</td>\n",
       "      <td>45.44</td>\n",
       "    </tr>\n",
       "    <tr>\n",
       "      <th>312</th>\n",
       "      <td>0.006650</td>\n",
       "      <td>18</td>\n",
       "      <td>71</td>\n",
       "      <td>0</td>\n",
       "      <td>44</td>\n",
       "      <td>3</td>\n",
       "      <td>33</td>\n",
       "      <td>3</td>\n",
       "      <td>4</td>\n",
       "      <td>0.144</td>\n",
       "      <td>443</td>\n",
       "      <td>937.3</td>\n",
       "      <td>3.3550</td>\n",
       "      <td>45.20</td>\n",
       "    </tr>\n",
       "    <tr>\n",
       "      <th>313</th>\n",
       "      <td>0.026650</td>\n",
       "      <td>13</td>\n",
       "      <td>75</td>\n",
       "      <td>0</td>\n",
       "      <td>24</td>\n",
       "      <td>4</td>\n",
       "      <td>34</td>\n",
       "      <td>8</td>\n",
       "      <td>6</td>\n",
       "      <td>0.444</td>\n",
       "      <td>243</td>\n",
       "      <td>637.3</td>\n",
       "      <td>3.6550</td>\n",
       "      <td>45.20</td>\n",
       "    </tr>\n",
       "    <tr>\n",
       "      <th>314</th>\n",
       "      <td>0.063665</td>\n",
       "      <td>16</td>\n",
       "      <td>76</td>\n",
       "      <td>0</td>\n",
       "      <td>44</td>\n",
       "      <td>5</td>\n",
       "      <td>31</td>\n",
       "      <td>8</td>\n",
       "      <td>7</td>\n",
       "      <td>0.444</td>\n",
       "      <td>433</td>\n",
       "      <td>927.3</td>\n",
       "      <td>3.5550</td>\n",
       "      <td>43.20</td>\n",
       "    </tr>\n",
       "    <tr>\n",
       "      <th>315</th>\n",
       "      <td>0.006650</td>\n",
       "      <td>18</td>\n",
       "      <td>71</td>\n",
       "      <td>0</td>\n",
       "      <td>44</td>\n",
       "      <td>3</td>\n",
       "      <td>33</td>\n",
       "      <td>3</td>\n",
       "      <td>4</td>\n",
       "      <td>0.144</td>\n",
       "      <td>443</td>\n",
       "      <td>937.3</td>\n",
       "      <td>3.3550</td>\n",
       "      <td>45.20</td>\n",
       "    </tr>\n",
       "    <tr>\n",
       "      <th>316</th>\n",
       "      <td>0.026650</td>\n",
       "      <td>13</td>\n",
       "      <td>75</td>\n",
       "      <td>0</td>\n",
       "      <td>24</td>\n",
       "      <td>4</td>\n",
       "      <td>34</td>\n",
       "      <td>8</td>\n",
       "      <td>6</td>\n",
       "      <td>0.444</td>\n",
       "      <td>243</td>\n",
       "      <td>637.3</td>\n",
       "      <td>3.6550</td>\n",
       "      <td>45.20</td>\n",
       "    </tr>\n",
       "    <tr>\n",
       "      <th>317</th>\n",
       "      <td>0.036650</td>\n",
       "      <td>14</td>\n",
       "      <td>70</td>\n",
       "      <td>0</td>\n",
       "      <td>14</td>\n",
       "      <td>5</td>\n",
       "      <td>31</td>\n",
       "      <td>8</td>\n",
       "      <td>7</td>\n",
       "      <td>0.444</td>\n",
       "      <td>433</td>\n",
       "      <td>927.3</td>\n",
       "      <td>3.5550</td>\n",
       "      <td>43.20</td>\n",
       "    </tr>\n",
       "    <tr>\n",
       "      <th>318</th>\n",
       "      <td>0.056650</td>\n",
       "      <td>16</td>\n",
       "      <td>74</td>\n",
       "      <td>0</td>\n",
       "      <td>24</td>\n",
       "      <td>6</td>\n",
       "      <td>36</td>\n",
       "      <td>7</td>\n",
       "      <td>8</td>\n",
       "      <td>0.344</td>\n",
       "      <td>403</td>\n",
       "      <td>937.3</td>\n",
       "      <td>3.0550</td>\n",
       "      <td>41.20</td>\n",
       "    </tr>\n",
       "    <tr>\n",
       "      <th>319</th>\n",
       "      <td>0.050665</td>\n",
       "      <td>17</td>\n",
       "      <td>45</td>\n",
       "      <td>0</td>\n",
       "      <td>54</td>\n",
       "      <td>7</td>\n",
       "      <td>53</td>\n",
       "      <td>6</td>\n",
       "      <td>0</td>\n",
       "      <td>0.244</td>\n",
       "      <td>473</td>\n",
       "      <td>137.3</td>\n",
       "      <td>3.5355</td>\n",
       "      <td>40.20</td>\n",
       "    </tr>\n",
       "    <tr>\n",
       "      <th>320</th>\n",
       "      <td>0.306650</td>\n",
       "      <td>15</td>\n",
       "      <td>75</td>\n",
       "      <td>0</td>\n",
       "      <td>44</td>\n",
       "      <td>8</td>\n",
       "      <td>83</td>\n",
       "      <td>5</td>\n",
       "      <td>9</td>\n",
       "      <td>0.144</td>\n",
       "      <td>403</td>\n",
       "      <td>907.3</td>\n",
       "      <td>3.3550</td>\n",
       "      <td>45.44</td>\n",
       "    </tr>\n",
       "  </tbody>\n",
       "</table>\n",
       "<p>321 rows × 14 columns</p>\n",
       "</div>"
      ],
      "text/plain": [
       "         crim  zn  indus  chas  nox  rm  age  dis  rad    tax  ptratio      b  \\\n",
       "0    0.006650  18     71     0   44   3   33    3    4  0.144      443  937.3   \n",
       "1    0.026650  13     75     0   24   4   34    8    6  0.444      243  637.3   \n",
       "2    0.036650  14     70     0   14   5   31    8    7  0.444      433  927.3   \n",
       "3    0.056650  16     74     0   24   6   36    7    8  0.344      403  937.3   \n",
       "4    0.050665  17     45     0   54   7   53    6    0  0.244      473  137.3   \n",
       "5    0.306650  15     75     0   44   8   83    5    9  0.144      403  907.3   \n",
       "6    0.006650  18     71     0   44   3   33    3    4  0.144      443  937.3   \n",
       "7    0.026650  13     75     0   24   4   34    8    6  0.444      243  637.3   \n",
       "8    0.063665  16     76     0   44   5   31    8    7  0.444      433  927.3   \n",
       "9    0.006650  18     71     0   44   3   33    3    4  0.144      443  937.3   \n",
       "10   0.026650  13     75     0   24   4   34    8    6  0.444      243  637.3   \n",
       "11   0.036650  14     70     0   14   5   31    8    7  0.444      433  927.3   \n",
       "12   0.056650  16     74     0   24   6   36    7    8  0.344      403  937.3   \n",
       "13   0.050665  17     45     0   54   7   53    6    0  0.244      473  137.3   \n",
       "14   0.306650  15     75     0   44   8   83    5    9  0.144      403  907.3   \n",
       "15   0.006650  18     71     0   44   3   33    3    4  0.144      443  937.3   \n",
       "16   0.026650  13     75     0   24   4   34    8    6  0.444      243  637.3   \n",
       "17   0.063665  16     76     0   44   5   31    8    7  0.444      433  927.3   \n",
       "18   0.006650  18     71     0   44   3   33    3    4  0.144      443  937.3   \n",
       "19   0.026650  13     75     0   24   4   34    8    6  0.444      243  637.3   \n",
       "20   0.036650  14     70     0   14   5   31    8    7  0.444      433  927.3   \n",
       "21   0.056650  16     74     0   24   6   36    7    8  0.344      403  937.3   \n",
       "22   0.050665  17     45     0   54   7   53    6    0  0.244      473  137.3   \n",
       "23   0.306650  15     75     0   44   8   83    5    9  0.144      403  907.3   \n",
       "24   0.006650  18     71     0   44   3   33    3    4  0.144      443  937.3   \n",
       "25   0.026650  13     75     0   24   4   34    8    6  0.444      243  637.3   \n",
       "26   0.063665  16     76     0   44   5   31    8    7  0.444      433  927.3   \n",
       "27   0.006650  18     71     0   44   3   33    3    4  0.144      443  937.3   \n",
       "28   0.026650  13     75     0   24   4   34    8    6  0.444      243  637.3   \n",
       "29   0.036650  14     70     0   14   5   31    8    7  0.444      433  927.3   \n",
       "..        ...  ..    ...   ...  ...  ..  ...  ...  ...    ...      ...    ...   \n",
       "291  0.056650  16     74     0   24   6   36    7    8  0.344      403  937.3   \n",
       "292  0.050665  17     45     0   54   7   53    6    0  0.244      473  137.3   \n",
       "293  0.306650  15     75     0   44   8   83    5    9  0.144      403  907.3   \n",
       "294  0.006650  18     71     0   44   3   33    3    4  0.144      443  937.3   \n",
       "295  0.026650  13     75     0   24   4   34    8    6  0.444      243  637.3   \n",
       "296  0.063665  16     76     0   44   5   31    8    7  0.444      433  927.3   \n",
       "297  0.006650  18     71     0   44   3   33    3    4  0.144      443  937.3   \n",
       "298  0.026650  13     75     0   24   4   34    8    6  0.444      243  637.3   \n",
       "299  0.036650  14     70     0   14   5   31    8    7  0.444      433  927.3   \n",
       "300  0.056650  16     74     0   24   6   36    7    8  0.344      403  937.3   \n",
       "301  0.050665  17     45     0   54   7   53    6    0  0.244      473  137.3   \n",
       "302  0.306650  15     75     0   44   8   83    5    9  0.144      403  907.3   \n",
       "303  0.006650  18     71     0   44   3   33    3    4  0.144      443  937.3   \n",
       "304  0.026650  13     75     0   24   4   34    8    6  0.444      243  637.3   \n",
       "305  0.063665  16     76     0   44   5   31    8    7  0.444      433  927.3   \n",
       "306  0.006650  18     71     0   44   3   33    3    4  0.144      443  937.3   \n",
       "307  0.026650  13     75     0   24   4   34    8    6  0.444      243  637.3   \n",
       "308  0.036650  14     70     0   14   5   31    8    7  0.444      433  927.3   \n",
       "309  0.056650  16     74     0   24   6   36    7    8  0.344      403  937.3   \n",
       "310  0.050665  17     45     0   54   7   53    6    0  0.244      473  137.3   \n",
       "311  0.306650  15     75     0   44   8   83    5    9  0.144      403  907.3   \n",
       "312  0.006650  18     71     0   44   3   33    3    4  0.144      443  937.3   \n",
       "313  0.026650  13     75     0   24   4   34    8    6  0.444      243  637.3   \n",
       "314  0.063665  16     76     0   44   5   31    8    7  0.444      433  927.3   \n",
       "315  0.006650  18     71     0   44   3   33    3    4  0.144      443  937.3   \n",
       "316  0.026650  13     75     0   24   4   34    8    6  0.444      243  637.3   \n",
       "317  0.036650  14     70     0   14   5   31    8    7  0.444      433  927.3   \n",
       "318  0.056650  16     74     0   24   6   36    7    8  0.344      403  937.3   \n",
       "319  0.050665  17     45     0   54   7   53    6    0  0.244      473  137.3   \n",
       "320  0.306650  15     75     0   44   8   83    5    9  0.144      403  907.3   \n",
       "\n",
       "      lstat   medv  \n",
       "0    3.3550  45.20  \n",
       "1    3.6550  45.20  \n",
       "2    3.5550  43.20  \n",
       "3    3.0550  41.20  \n",
       "4    3.5355  40.20  \n",
       "5    3.3550  45.44  \n",
       "6    3.3550  45.20  \n",
       "7    3.6550  45.20  \n",
       "8    3.5550  43.20  \n",
       "9    3.3550  45.20  \n",
       "10   3.6550  45.20  \n",
       "11   3.5550  43.20  \n",
       "12   3.0550  41.20  \n",
       "13   3.5355  40.20  \n",
       "14   3.3550  45.44  \n",
       "15   3.3550  45.20  \n",
       "16   3.6550  45.20  \n",
       "17   3.5550  43.20  \n",
       "18   3.3550  45.20  \n",
       "19   3.6550  45.20  \n",
       "20   3.5550  43.20  \n",
       "21   3.0550  41.20  \n",
       "22   3.5355  40.20  \n",
       "23   3.3550  45.44  \n",
       "24   3.3550  45.20  \n",
       "25   3.6550  45.20  \n",
       "26   3.5550  43.20  \n",
       "27   3.3550  45.20  \n",
       "28   3.6550  45.20  \n",
       "29   3.5550  43.20  \n",
       "..      ...    ...  \n",
       "291  3.0550  41.20  \n",
       "292  3.5355  40.20  \n",
       "293  3.3550  45.44  \n",
       "294  3.3550  45.20  \n",
       "295  3.6550  45.20  \n",
       "296  3.5550  43.20  \n",
       "297  3.3550  45.20  \n",
       "298  3.6550  45.20  \n",
       "299  3.5550  43.20  \n",
       "300  3.0550  41.20  \n",
       "301  3.5355  40.20  \n",
       "302  3.3550  45.44  \n",
       "303  3.3550  45.20  \n",
       "304  3.6550  45.20  \n",
       "305  3.5550  43.20  \n",
       "306  3.3550  45.20  \n",
       "307  3.6550  45.20  \n",
       "308  3.5550  43.20  \n",
       "309  3.0550  41.20  \n",
       "310  3.5355  40.20  \n",
       "311  3.3550  45.44  \n",
       "312  3.3550  45.20  \n",
       "313  3.6550  45.20  \n",
       "314  3.5550  43.20  \n",
       "315  3.3550  45.20  \n",
       "316  3.6550  45.20  \n",
       "317  3.5550  43.20  \n",
       "318  3.0550  41.20  \n",
       "319  3.5355  40.20  \n",
       "320  3.3550  45.44  \n",
       "\n",
       "[321 rows x 14 columns]"
      ]
     },
     "execution_count": 167,
     "metadata": {},
     "output_type": "execute_result"
    }
   ],
   "source": [
    "df = pd.read_csv('Boston_house.csv',engine='python',skipfooter=3)\n",
    "df"
   ]
  },
  {
   "cell_type": "code",
   "execution_count": 168,
   "metadata": {},
   "outputs": [
    {
     "data": {
      "text/plain": [
       "Index(['crim', 'zn', 'indus', 'chas', 'nox', 'rm', 'age', 'dis', 'rad', 'tax',\n",
       "       'ptratio', 'b', 'lstat', 'medv'],\n",
       "      dtype='object')"
      ]
     },
     "execution_count": 168,
     "metadata": {},
     "output_type": "execute_result"
    }
   ],
   "source": [
    "df.columns"
   ]
  },
  {
   "cell_type": "code",
   "execution_count": 169,
   "metadata": {},
   "outputs": [
    {
     "ename": "ValueError",
     "evalue": "Length mismatch: Expected axis has 14 elements, new values have 2 elements",
     "output_type": "error",
     "traceback": [
      "\u001b[1;31m---------------------------------------------------------------------------\u001b[0m",
      "\u001b[1;31mValueError\u001b[0m                                Traceback (most recent call last)",
      "\u001b[1;32m<ipython-input-169-5af25c851c74>\u001b[0m in \u001b[0;36m<module>\u001b[1;34m\u001b[0m\n\u001b[1;32m----> 1\u001b[1;33m \u001b[0mdf\u001b[0m\u001b[1;33m.\u001b[0m\u001b[0mcolumns\u001b[0m \u001b[1;33m=\u001b[0m \u001b[1;33m[\u001b[0m\u001b[1;34m\"crim\"\u001b[0m\u001b[1;33m,\u001b[0m\u001b[1;34m'zn'\u001b[0m\u001b[1;33m]\u001b[0m\u001b[1;33m\u001b[0m\u001b[1;33m\u001b[0m\u001b[0m\n\u001b[0m",
      "\u001b[1;32mE:\\anaconda\\lib\\site-packages\\pandas\\core\\generic.py\u001b[0m in \u001b[0;36m__setattr__\u001b[1;34m(self, name, value)\u001b[0m\n\u001b[0;32m   5078\u001b[0m         \u001b[1;32mtry\u001b[0m\u001b[1;33m:\u001b[0m\u001b[1;33m\u001b[0m\u001b[1;33m\u001b[0m\u001b[0m\n\u001b[0;32m   5079\u001b[0m             \u001b[0mobject\u001b[0m\u001b[1;33m.\u001b[0m\u001b[0m__getattribute__\u001b[0m\u001b[1;33m(\u001b[0m\u001b[0mself\u001b[0m\u001b[1;33m,\u001b[0m \u001b[0mname\u001b[0m\u001b[1;33m)\u001b[0m\u001b[1;33m\u001b[0m\u001b[1;33m\u001b[0m\u001b[0m\n\u001b[1;32m-> 5080\u001b[1;33m             \u001b[1;32mreturn\u001b[0m \u001b[0mobject\u001b[0m\u001b[1;33m.\u001b[0m\u001b[0m__setattr__\u001b[0m\u001b[1;33m(\u001b[0m\u001b[0mself\u001b[0m\u001b[1;33m,\u001b[0m \u001b[0mname\u001b[0m\u001b[1;33m,\u001b[0m \u001b[0mvalue\u001b[0m\u001b[1;33m)\u001b[0m\u001b[1;33m\u001b[0m\u001b[1;33m\u001b[0m\u001b[0m\n\u001b[0m\u001b[0;32m   5081\u001b[0m         \u001b[1;32mexcept\u001b[0m \u001b[0mAttributeError\u001b[0m\u001b[1;33m:\u001b[0m\u001b[1;33m\u001b[0m\u001b[1;33m\u001b[0m\u001b[0m\n\u001b[0;32m   5082\u001b[0m             \u001b[1;32mpass\u001b[0m\u001b[1;33m\u001b[0m\u001b[1;33m\u001b[0m\u001b[0m\n",
      "\u001b[1;32mpandas/_libs/properties.pyx\u001b[0m in \u001b[0;36mpandas._libs.properties.AxisProperty.__set__\u001b[1;34m()\u001b[0m\n",
      "\u001b[1;32mE:\\anaconda\\lib\\site-packages\\pandas\\core\\generic.py\u001b[0m in \u001b[0;36m_set_axis\u001b[1;34m(self, axis, labels)\u001b[0m\n\u001b[0;32m    636\u001b[0m \u001b[1;33m\u001b[0m\u001b[0m\n\u001b[0;32m    637\u001b[0m     \u001b[1;32mdef\u001b[0m \u001b[0m_set_axis\u001b[0m\u001b[1;33m(\u001b[0m\u001b[0mself\u001b[0m\u001b[1;33m,\u001b[0m \u001b[0maxis\u001b[0m\u001b[1;33m,\u001b[0m \u001b[0mlabels\u001b[0m\u001b[1;33m)\u001b[0m\u001b[1;33m:\u001b[0m\u001b[1;33m\u001b[0m\u001b[1;33m\u001b[0m\u001b[0m\n\u001b[1;32m--> 638\u001b[1;33m         \u001b[0mself\u001b[0m\u001b[1;33m.\u001b[0m\u001b[0m_data\u001b[0m\u001b[1;33m.\u001b[0m\u001b[0mset_axis\u001b[0m\u001b[1;33m(\u001b[0m\u001b[0maxis\u001b[0m\u001b[1;33m,\u001b[0m \u001b[0mlabels\u001b[0m\u001b[1;33m)\u001b[0m\u001b[1;33m\u001b[0m\u001b[1;33m\u001b[0m\u001b[0m\n\u001b[0m\u001b[0;32m    639\u001b[0m         \u001b[0mself\u001b[0m\u001b[1;33m.\u001b[0m\u001b[0m_clear_item_cache\u001b[0m\u001b[1;33m(\u001b[0m\u001b[1;33m)\u001b[0m\u001b[1;33m\u001b[0m\u001b[1;33m\u001b[0m\u001b[0m\n\u001b[0;32m    640\u001b[0m \u001b[1;33m\u001b[0m\u001b[0m\n",
      "\u001b[1;32mE:\\anaconda\\lib\\site-packages\\pandas\\core\\internals\\managers.py\u001b[0m in \u001b[0;36mset_axis\u001b[1;34m(self, axis, new_labels)\u001b[0m\n\u001b[0;32m    153\u001b[0m             raise ValueError(\n\u001b[0;32m    154\u001b[0m                 \u001b[1;34m'Length mismatch: Expected axis has {old} elements, new '\u001b[0m\u001b[1;33m\u001b[0m\u001b[1;33m\u001b[0m\u001b[0m\n\u001b[1;32m--> 155\u001b[1;33m                 'values have {new} elements'.format(old=old_len, new=new_len))\n\u001b[0m\u001b[0;32m    156\u001b[0m \u001b[1;33m\u001b[0m\u001b[0m\n\u001b[0;32m    157\u001b[0m         \u001b[0mself\u001b[0m\u001b[1;33m.\u001b[0m\u001b[0maxes\u001b[0m\u001b[1;33m[\u001b[0m\u001b[0maxis\u001b[0m\u001b[1;33m]\u001b[0m \u001b[1;33m=\u001b[0m \u001b[0mnew_labels\u001b[0m\u001b[1;33m\u001b[0m\u001b[1;33m\u001b[0m\u001b[0m\n",
      "\u001b[1;31mValueError\u001b[0m: Length mismatch: Expected axis has 14 elements, new values have 2 elements"
     ]
    }
   ],
   "source": [
    "df.columns = [\"crim\",'zn']"
   ]
  },
  {
   "cell_type": "code",
   "execution_count": 170,
   "metadata": {},
   "outputs": [
    {
     "data": {
      "text/plain": [
       "0      0.006650\n",
       "1      0.026650\n",
       "2      0.036650\n",
       "3      0.056650\n",
       "4      0.050665\n",
       "5      0.306650\n",
       "6      0.006650\n",
       "7      0.026650\n",
       "8      0.063665\n",
       "9      0.006650\n",
       "10     0.026650\n",
       "11     0.036650\n",
       "12     0.056650\n",
       "13     0.050665\n",
       "14     0.306650\n",
       "15     0.006650\n",
       "16     0.026650\n",
       "17     0.063665\n",
       "18     0.006650\n",
       "19     0.026650\n",
       "20     0.036650\n",
       "21     0.056650\n",
       "22     0.050665\n",
       "23     0.306650\n",
       "24     0.006650\n",
       "25     0.026650\n",
       "26     0.063665\n",
       "27     0.006650\n",
       "28     0.026650\n",
       "29     0.036650\n",
       "         ...   \n",
       "291    0.056650\n",
       "292    0.050665\n",
       "293    0.306650\n",
       "294    0.006650\n",
       "295    0.026650\n",
       "296    0.063665\n",
       "297    0.006650\n",
       "298    0.026650\n",
       "299    0.036650\n",
       "300    0.056650\n",
       "301    0.050665\n",
       "302    0.306650\n",
       "303    0.006650\n",
       "304    0.026650\n",
       "305    0.063665\n",
       "306    0.006650\n",
       "307    0.026650\n",
       "308    0.036650\n",
       "309    0.056650\n",
       "310    0.050665\n",
       "311    0.306650\n",
       "312    0.006650\n",
       "313    0.026650\n",
       "314    0.063665\n",
       "315    0.006650\n",
       "316    0.026650\n",
       "317    0.036650\n",
       "318    0.056650\n",
       "319    0.050665\n",
       "320    0.306650\n",
       "Name: crim, Length: 321, dtype: float64"
      ]
     },
     "execution_count": 170,
     "metadata": {},
     "output_type": "execute_result"
    }
   ],
   "source": [
    "df['crim']"
   ]
  },
  {
   "cell_type": "code",
   "execution_count": 171,
   "metadata": {},
   "outputs": [
    {
     "data": {
      "text/plain": [
       "0      18\n",
       "1      13\n",
       "2      14\n",
       "3      16\n",
       "4      17\n",
       "5      15\n",
       "6      18\n",
       "7      13\n",
       "8      16\n",
       "9      18\n",
       "10     13\n",
       "11     14\n",
       "12     16\n",
       "13     17\n",
       "14     15\n",
       "15     18\n",
       "16     13\n",
       "17     16\n",
       "18     18\n",
       "19     13\n",
       "20     14\n",
       "21     16\n",
       "22     17\n",
       "23     15\n",
       "24     18\n",
       "25     13\n",
       "26     16\n",
       "27     18\n",
       "28     13\n",
       "29     14\n",
       "       ..\n",
       "291    16\n",
       "292    17\n",
       "293    15\n",
       "294    18\n",
       "295    13\n",
       "296    16\n",
       "297    18\n",
       "298    13\n",
       "299    14\n",
       "300    16\n",
       "301    17\n",
       "302    15\n",
       "303    18\n",
       "304    13\n",
       "305    16\n",
       "306    18\n",
       "307    13\n",
       "308    14\n",
       "309    16\n",
       "310    17\n",
       "311    15\n",
       "312    18\n",
       "313    13\n",
       "314    16\n",
       "315    18\n",
       "316    13\n",
       "317    14\n",
       "318    16\n",
       "319    17\n",
       "320    15\n",
       "Name: zn, Length: 321, dtype: int64"
      ]
     },
     "execution_count": 171,
     "metadata": {},
     "output_type": "execute_result"
    }
   ],
   "source": [
    "df.zn"
   ]
  },
  {
   "cell_type": "code",
   "execution_count": 172,
   "metadata": {},
   "outputs": [
    {
     "data": {
      "text/html": [
       "<div>\n",
       "<style scoped>\n",
       "    .dataframe tbody tr th:only-of-type {\n",
       "        vertical-align: middle;\n",
       "    }\n",
       "\n",
       "    .dataframe tbody tr th {\n",
       "        vertical-align: top;\n",
       "    }\n",
       "\n",
       "    .dataframe thead th {\n",
       "        text-align: right;\n",
       "    }\n",
       "</style>\n",
       "<table border=\"1\" class=\"dataframe\">\n",
       "  <thead>\n",
       "    <tr style=\"text-align: right;\">\n",
       "      <th></th>\n",
       "      <th>crim</th>\n",
       "      <th>zn</th>\n",
       "      <th>indus</th>\n",
       "      <th>chas</th>\n",
       "      <th>nox</th>\n",
       "      <th>rm</th>\n",
       "      <th>age</th>\n",
       "      <th>dis</th>\n",
       "      <th>rad</th>\n",
       "      <th>tax</th>\n",
       "      <th>ptratio</th>\n",
       "      <th>b</th>\n",
       "      <th>lstat</th>\n",
       "      <th>medv</th>\n",
       "      <th>ones</th>\n",
       "    </tr>\n",
       "  </thead>\n",
       "  <tbody>\n",
       "    <tr>\n",
       "      <th>0</th>\n",
       "      <td>0.006650</td>\n",
       "      <td>18</td>\n",
       "      <td>71</td>\n",
       "      <td>0</td>\n",
       "      <td>44</td>\n",
       "      <td>3</td>\n",
       "      <td>33</td>\n",
       "      <td>3</td>\n",
       "      <td>4</td>\n",
       "      <td>0.144</td>\n",
       "      <td>443</td>\n",
       "      <td>937.3</td>\n",
       "      <td>3.3550</td>\n",
       "      <td>45.2</td>\n",
       "      <td>1</td>\n",
       "    </tr>\n",
       "    <tr>\n",
       "      <th>1</th>\n",
       "      <td>0.026650</td>\n",
       "      <td>13</td>\n",
       "      <td>75</td>\n",
       "      <td>0</td>\n",
       "      <td>24</td>\n",
       "      <td>4</td>\n",
       "      <td>34</td>\n",
       "      <td>8</td>\n",
       "      <td>6</td>\n",
       "      <td>0.444</td>\n",
       "      <td>243</td>\n",
       "      <td>637.3</td>\n",
       "      <td>3.6550</td>\n",
       "      <td>45.2</td>\n",
       "      <td>1</td>\n",
       "    </tr>\n",
       "    <tr>\n",
       "      <th>2</th>\n",
       "      <td>0.036650</td>\n",
       "      <td>14</td>\n",
       "      <td>70</td>\n",
       "      <td>0</td>\n",
       "      <td>14</td>\n",
       "      <td>5</td>\n",
       "      <td>31</td>\n",
       "      <td>8</td>\n",
       "      <td>7</td>\n",
       "      <td>0.444</td>\n",
       "      <td>433</td>\n",
       "      <td>927.3</td>\n",
       "      <td>3.5550</td>\n",
       "      <td>43.2</td>\n",
       "      <td>1</td>\n",
       "    </tr>\n",
       "    <tr>\n",
       "      <th>3</th>\n",
       "      <td>0.056650</td>\n",
       "      <td>16</td>\n",
       "      <td>74</td>\n",
       "      <td>0</td>\n",
       "      <td>24</td>\n",
       "      <td>6</td>\n",
       "      <td>36</td>\n",
       "      <td>7</td>\n",
       "      <td>8</td>\n",
       "      <td>0.344</td>\n",
       "      <td>403</td>\n",
       "      <td>937.3</td>\n",
       "      <td>3.0550</td>\n",
       "      <td>41.2</td>\n",
       "      <td>1</td>\n",
       "    </tr>\n",
       "    <tr>\n",
       "      <th>4</th>\n",
       "      <td>0.050665</td>\n",
       "      <td>17</td>\n",
       "      <td>45</td>\n",
       "      <td>0</td>\n",
       "      <td>54</td>\n",
       "      <td>7</td>\n",
       "      <td>53</td>\n",
       "      <td>6</td>\n",
       "      <td>0</td>\n",
       "      <td>0.244</td>\n",
       "      <td>473</td>\n",
       "      <td>137.3</td>\n",
       "      <td>3.5355</td>\n",
       "      <td>40.2</td>\n",
       "      <td>1</td>\n",
       "    </tr>\n",
       "  </tbody>\n",
       "</table>\n",
       "</div>"
      ],
      "text/plain": [
       "       crim  zn  indus  chas  nox  rm  age  dis  rad    tax  ptratio      b  \\\n",
       "0  0.006650  18     71     0   44   3   33    3    4  0.144      443  937.3   \n",
       "1  0.026650  13     75     0   24   4   34    8    6  0.444      243  637.3   \n",
       "2  0.036650  14     70     0   14   5   31    8    7  0.444      433  927.3   \n",
       "3  0.056650  16     74     0   24   6   36    7    8  0.344      403  937.3   \n",
       "4  0.050665  17     45     0   54   7   53    6    0  0.244      473  137.3   \n",
       "\n",
       "    lstat  medv  ones  \n",
       "0  3.3550  45.2     1  \n",
       "1  3.6550  45.2     1  \n",
       "2  3.5550  43.2     1  \n",
       "3  3.0550  41.2     1  \n",
       "4  3.5355  40.2     1  "
      ]
     },
     "execution_count": 172,
     "metadata": {},
     "output_type": "execute_result"
    }
   ],
   "source": [
    "df['ones'] = 1\n",
    "df.head()"
   ]
  },
  {
   "cell_type": "code",
   "execution_count": 174,
   "metadata": {},
   "outputs": [],
   "source": [
    "          # apply() function                  lecture 17"
   ]
  },
  {
   "cell_type": "code",
   "execution_count": 178,
   "metadata": {},
   "outputs": [
    {
     "ename": "ValueError",
     "evalue": "time data '13' does not match format '%y-%m'",
     "output_type": "error",
     "traceback": [
      "\u001b[1;31m---------------------------------------------------------------------------\u001b[0m",
      "\u001b[1;31mValueError\u001b[0m                                Traceback (most recent call last)",
      "\u001b[1;32m<ipython-input-178-d7e119b6ca97>\u001b[0m in \u001b[0;36m<module>\u001b[1;34m\u001b[0m\n\u001b[0;32m      1\u001b[0m \u001b[1;32mfrom\u001b[0m \u001b[0mdatetime\u001b[0m \u001b[1;32mimport\u001b[0m \u001b[0mdatetime\u001b[0m\u001b[1;33m\u001b[0m\u001b[1;33m\u001b[0m\u001b[0m\n\u001b[1;32m----> 2\u001b[1;33m \u001b[0mdatetime\u001b[0m\u001b[1;33m.\u001b[0m\u001b[0mstrptime\u001b[0m\u001b[1;33m(\u001b[0m\u001b[1;34m'13'\u001b[0m\u001b[1;33m,\u001b[0m\u001b[1;34m'%y-%m'\u001b[0m\u001b[1;33m)\u001b[0m\u001b[1;33m\u001b[0m\u001b[1;33m\u001b[0m\u001b[0m\n\u001b[0m",
      "\u001b[1;32mE:\\anaconda\\lib\\_strptime.py\u001b[0m in \u001b[0;36m_strptime_datetime\u001b[1;34m(cls, data_string, format)\u001b[0m\n\u001b[0;32m    575\u001b[0m     \"\"\"Return a class cls instance based on the input string and the\n\u001b[0;32m    576\u001b[0m     format string.\"\"\"\n\u001b[1;32m--> 577\u001b[1;33m     \u001b[0mtt\u001b[0m\u001b[1;33m,\u001b[0m \u001b[0mfraction\u001b[0m\u001b[1;33m,\u001b[0m \u001b[0mgmtoff_fraction\u001b[0m \u001b[1;33m=\u001b[0m \u001b[0m_strptime\u001b[0m\u001b[1;33m(\u001b[0m\u001b[0mdata_string\u001b[0m\u001b[1;33m,\u001b[0m \u001b[0mformat\u001b[0m\u001b[1;33m)\u001b[0m\u001b[1;33m\u001b[0m\u001b[1;33m\u001b[0m\u001b[0m\n\u001b[0m\u001b[0;32m    578\u001b[0m     \u001b[0mtzname\u001b[0m\u001b[1;33m,\u001b[0m \u001b[0mgmtoff\u001b[0m \u001b[1;33m=\u001b[0m \u001b[0mtt\u001b[0m\u001b[1;33m[\u001b[0m\u001b[1;33m-\u001b[0m\u001b[1;36m2\u001b[0m\u001b[1;33m:\u001b[0m\u001b[1;33m]\u001b[0m\u001b[1;33m\u001b[0m\u001b[1;33m\u001b[0m\u001b[0m\n\u001b[0;32m    579\u001b[0m     \u001b[0margs\u001b[0m \u001b[1;33m=\u001b[0m \u001b[0mtt\u001b[0m\u001b[1;33m[\u001b[0m\u001b[1;33m:\u001b[0m\u001b[1;36m6\u001b[0m\u001b[1;33m]\u001b[0m \u001b[1;33m+\u001b[0m \u001b[1;33m(\u001b[0m\u001b[0mfraction\u001b[0m\u001b[1;33m,\u001b[0m\u001b[1;33m)\u001b[0m\u001b[1;33m\u001b[0m\u001b[1;33m\u001b[0m\u001b[0m\n",
      "\u001b[1;32mE:\\anaconda\\lib\\_strptime.py\u001b[0m in \u001b[0;36m_strptime\u001b[1;34m(data_string, format)\u001b[0m\n\u001b[0;32m    357\u001b[0m     \u001b[1;32mif\u001b[0m \u001b[1;32mnot\u001b[0m \u001b[0mfound\u001b[0m\u001b[1;33m:\u001b[0m\u001b[1;33m\u001b[0m\u001b[1;33m\u001b[0m\u001b[0m\n\u001b[0;32m    358\u001b[0m         raise ValueError(\"time data %r does not match format %r\" %\n\u001b[1;32m--> 359\u001b[1;33m                          (data_string, format))\n\u001b[0m\u001b[0;32m    360\u001b[0m     \u001b[1;32mif\u001b[0m \u001b[0mlen\u001b[0m\u001b[1;33m(\u001b[0m\u001b[0mdata_string\u001b[0m\u001b[1;33m)\u001b[0m \u001b[1;33m!=\u001b[0m \u001b[0mfound\u001b[0m\u001b[1;33m.\u001b[0m\u001b[0mend\u001b[0m\u001b[1;33m(\u001b[0m\u001b[1;33m)\u001b[0m\u001b[1;33m:\u001b[0m\u001b[1;33m\u001b[0m\u001b[1;33m\u001b[0m\u001b[0m\n\u001b[0;32m    361\u001b[0m         raise ValueError(\"unconverted data remains: %s\" %\n",
      "\u001b[1;31mValueError\u001b[0m: time data '13' does not match format '%y-%m'"
     ]
    }
   ],
   "source": [
    "from datetime import datetime\n",
    "datetime.strptime('13','%y-%m')"
   ]
  },
  {
   "cell_type": "code",
   "execution_count": 180,
   "metadata": {},
   "outputs": [
    {
     "ename": "TypeError",
     "evalue": "('strptime() argument 1 must be str, not numpy.float64', 'occurred at index 0')",
     "output_type": "error",
     "traceback": [
      "\u001b[1;31m---------------------------------------------------------------------------\u001b[0m",
      "\u001b[1;31mTypeError\u001b[0m                                 Traceback (most recent call last)",
      "\u001b[1;32m<ipython-input-180-03b40080e940>\u001b[0m in \u001b[0;36m<module>\u001b[1;34m\u001b[0m\n\u001b[1;32m----> 1\u001b[1;33m \u001b[0mdf\u001b[0m\u001b[1;33m[\u001b[0m\u001b[1;34m'dt'\u001b[0m\u001b[1;33m]\u001b[0m \u001b[1;33m=\u001b[0m \u001b[0mdf\u001b[0m\u001b[1;33m.\u001b[0m\u001b[0mapply\u001b[0m\u001b[1;33m(\u001b[0m\u001b[1;32mlambda\u001b[0m \u001b[0mrow\u001b[0m\u001b[1;33m:\u001b[0m\u001b[0mdatetime\u001b[0m\u001b[1;33m.\u001b[0m\u001b[0mstrptime\u001b[0m\u001b[1;33m(\u001b[0m\u001b[0mrow\u001b[0m\u001b[1;33m[\u001b[0m\u001b[1;34m'zn'\u001b[0m\u001b[1;33m]\u001b[0m\u001b[1;33m,\u001b[0m\u001b[1;34m'%y-%m'\u001b[0m\u001b[1;33m)\u001b[0m\u001b[1;33m,\u001b[0m\u001b[0maxis\u001b[0m\u001b[1;33m=\u001b[0m\u001b[1;36m1\u001b[0m\u001b[1;33m)\u001b[0m\u001b[1;33m\u001b[0m\u001b[1;33m\u001b[0m\u001b[0m\n\u001b[0m",
      "\u001b[1;32mE:\\anaconda\\lib\\site-packages\\pandas\\core\\frame.py\u001b[0m in \u001b[0;36mapply\u001b[1;34m(self, func, axis, broadcast, raw, reduce, result_type, args, **kwds)\u001b[0m\n\u001b[0;32m   6485\u001b[0m                          \u001b[0margs\u001b[0m\u001b[1;33m=\u001b[0m\u001b[0margs\u001b[0m\u001b[1;33m,\u001b[0m\u001b[1;33m\u001b[0m\u001b[1;33m\u001b[0m\u001b[0m\n\u001b[0;32m   6486\u001b[0m                          kwds=kwds)\n\u001b[1;32m-> 6487\u001b[1;33m         \u001b[1;32mreturn\u001b[0m \u001b[0mop\u001b[0m\u001b[1;33m.\u001b[0m\u001b[0mget_result\u001b[0m\u001b[1;33m(\u001b[0m\u001b[1;33m)\u001b[0m\u001b[1;33m\u001b[0m\u001b[1;33m\u001b[0m\u001b[0m\n\u001b[0m\u001b[0;32m   6488\u001b[0m \u001b[1;33m\u001b[0m\u001b[0m\n\u001b[0;32m   6489\u001b[0m     \u001b[1;32mdef\u001b[0m \u001b[0mapplymap\u001b[0m\u001b[1;33m(\u001b[0m\u001b[0mself\u001b[0m\u001b[1;33m,\u001b[0m \u001b[0mfunc\u001b[0m\u001b[1;33m)\u001b[0m\u001b[1;33m:\u001b[0m\u001b[1;33m\u001b[0m\u001b[1;33m\u001b[0m\u001b[0m\n",
      "\u001b[1;32mE:\\anaconda\\lib\\site-packages\\pandas\\core\\apply.py\u001b[0m in \u001b[0;36mget_result\u001b[1;34m(self)\u001b[0m\n\u001b[0;32m    149\u001b[0m             \u001b[1;32mreturn\u001b[0m \u001b[0mself\u001b[0m\u001b[1;33m.\u001b[0m\u001b[0mapply_raw\u001b[0m\u001b[1;33m(\u001b[0m\u001b[1;33m)\u001b[0m\u001b[1;33m\u001b[0m\u001b[1;33m\u001b[0m\u001b[0m\n\u001b[0;32m    150\u001b[0m \u001b[1;33m\u001b[0m\u001b[0m\n\u001b[1;32m--> 151\u001b[1;33m         \u001b[1;32mreturn\u001b[0m \u001b[0mself\u001b[0m\u001b[1;33m.\u001b[0m\u001b[0mapply_standard\u001b[0m\u001b[1;33m(\u001b[0m\u001b[1;33m)\u001b[0m\u001b[1;33m\u001b[0m\u001b[1;33m\u001b[0m\u001b[0m\n\u001b[0m\u001b[0;32m    152\u001b[0m \u001b[1;33m\u001b[0m\u001b[0m\n\u001b[0;32m    153\u001b[0m     \u001b[1;32mdef\u001b[0m \u001b[0mapply_empty_result\u001b[0m\u001b[1;33m(\u001b[0m\u001b[0mself\u001b[0m\u001b[1;33m)\u001b[0m\u001b[1;33m:\u001b[0m\u001b[1;33m\u001b[0m\u001b[1;33m\u001b[0m\u001b[0m\n",
      "\u001b[1;32mE:\\anaconda\\lib\\site-packages\\pandas\\core\\apply.py\u001b[0m in \u001b[0;36mapply_standard\u001b[1;34m(self)\u001b[0m\n\u001b[0;32m    255\u001b[0m \u001b[1;33m\u001b[0m\u001b[0m\n\u001b[0;32m    256\u001b[0m         \u001b[1;31m# compute the result using the series generator\u001b[0m\u001b[1;33m\u001b[0m\u001b[1;33m\u001b[0m\u001b[1;33m\u001b[0m\u001b[0m\n\u001b[1;32m--> 257\u001b[1;33m         \u001b[0mself\u001b[0m\u001b[1;33m.\u001b[0m\u001b[0mapply_series_generator\u001b[0m\u001b[1;33m(\u001b[0m\u001b[1;33m)\u001b[0m\u001b[1;33m\u001b[0m\u001b[1;33m\u001b[0m\u001b[0m\n\u001b[0m\u001b[0;32m    258\u001b[0m \u001b[1;33m\u001b[0m\u001b[0m\n\u001b[0;32m    259\u001b[0m         \u001b[1;31m# wrap results\u001b[0m\u001b[1;33m\u001b[0m\u001b[1;33m\u001b[0m\u001b[1;33m\u001b[0m\u001b[0m\n",
      "\u001b[1;32mE:\\anaconda\\lib\\site-packages\\pandas\\core\\apply.py\u001b[0m in \u001b[0;36mapply_series_generator\u001b[1;34m(self)\u001b[0m\n\u001b[0;32m    284\u001b[0m             \u001b[1;32mtry\u001b[0m\u001b[1;33m:\u001b[0m\u001b[1;33m\u001b[0m\u001b[1;33m\u001b[0m\u001b[0m\n\u001b[0;32m    285\u001b[0m                 \u001b[1;32mfor\u001b[0m \u001b[0mi\u001b[0m\u001b[1;33m,\u001b[0m \u001b[0mv\u001b[0m \u001b[1;32min\u001b[0m \u001b[0menumerate\u001b[0m\u001b[1;33m(\u001b[0m\u001b[0mseries_gen\u001b[0m\u001b[1;33m)\u001b[0m\u001b[1;33m:\u001b[0m\u001b[1;33m\u001b[0m\u001b[1;33m\u001b[0m\u001b[0m\n\u001b[1;32m--> 286\u001b[1;33m                     \u001b[0mresults\u001b[0m\u001b[1;33m[\u001b[0m\u001b[0mi\u001b[0m\u001b[1;33m]\u001b[0m \u001b[1;33m=\u001b[0m \u001b[0mself\u001b[0m\u001b[1;33m.\u001b[0m\u001b[0mf\u001b[0m\u001b[1;33m(\u001b[0m\u001b[0mv\u001b[0m\u001b[1;33m)\u001b[0m\u001b[1;33m\u001b[0m\u001b[1;33m\u001b[0m\u001b[0m\n\u001b[0m\u001b[0;32m    287\u001b[0m                     \u001b[0mkeys\u001b[0m\u001b[1;33m.\u001b[0m\u001b[0mappend\u001b[0m\u001b[1;33m(\u001b[0m\u001b[0mv\u001b[0m\u001b[1;33m.\u001b[0m\u001b[0mname\u001b[0m\u001b[1;33m)\u001b[0m\u001b[1;33m\u001b[0m\u001b[1;33m\u001b[0m\u001b[0m\n\u001b[0;32m    288\u001b[0m             \u001b[1;32mexcept\u001b[0m \u001b[0mException\u001b[0m \u001b[1;32mas\u001b[0m \u001b[0me\u001b[0m\u001b[1;33m:\u001b[0m\u001b[1;33m\u001b[0m\u001b[1;33m\u001b[0m\u001b[0m\n",
      "\u001b[1;32m<ipython-input-180-03b40080e940>\u001b[0m in \u001b[0;36m<lambda>\u001b[1;34m(row)\u001b[0m\n\u001b[1;32m----> 1\u001b[1;33m \u001b[0mdf\u001b[0m\u001b[1;33m[\u001b[0m\u001b[1;34m'dt'\u001b[0m\u001b[1;33m]\u001b[0m \u001b[1;33m=\u001b[0m \u001b[0mdf\u001b[0m\u001b[1;33m.\u001b[0m\u001b[0mapply\u001b[0m\u001b[1;33m(\u001b[0m\u001b[1;32mlambda\u001b[0m \u001b[0mrow\u001b[0m\u001b[1;33m:\u001b[0m\u001b[0mdatetime\u001b[0m\u001b[1;33m.\u001b[0m\u001b[0mstrptime\u001b[0m\u001b[1;33m(\u001b[0m\u001b[0mrow\u001b[0m\u001b[1;33m[\u001b[0m\u001b[1;34m'zn'\u001b[0m\u001b[1;33m]\u001b[0m\u001b[1;33m,\u001b[0m\u001b[1;34m'%y-%m'\u001b[0m\u001b[1;33m)\u001b[0m\u001b[1;33m,\u001b[0m\u001b[0maxis\u001b[0m\u001b[1;33m=\u001b[0m\u001b[1;36m1\u001b[0m\u001b[1;33m)\u001b[0m\u001b[1;33m\u001b[0m\u001b[1;33m\u001b[0m\u001b[0m\n\u001b[0m",
      "\u001b[1;31mTypeError\u001b[0m: ('strptime() argument 1 must be str, not numpy.float64', 'occurred at index 0')"
     ]
    }
   ],
   "source": [
    "df['dt'] = df.apply(lambda row:datetime.strptime(row['zn'],'%y-%m'),axis=1)"
   ]
  },
  {
   "cell_type": "code",
   "execution_count": 181,
   "metadata": {},
   "outputs": [
    {
     "name": "stdout",
     "output_type": "stream",
     "text": [
      "<class 'pandas.core.frame.DataFrame'>\n",
      "RangeIndex: 321 entries, 0 to 320\n",
      "Data columns (total 15 columns):\n",
      "crim       321 non-null float64\n",
      "zn         321 non-null int64\n",
      "indus      321 non-null int64\n",
      "chas       321 non-null int64\n",
      "nox        321 non-null int64\n",
      "rm         321 non-null int64\n",
      "age        321 non-null int64\n",
      "dis        321 non-null int64\n",
      "rad        321 non-null int64\n",
      "tax        321 non-null float64\n",
      "ptratio    321 non-null int64\n",
      "b          321 non-null float64\n",
      "lstat      321 non-null float64\n",
      "medv       321 non-null float64\n",
      "ones       321 non-null int64\n",
      "dtypes: float64(5), int64(10)\n",
      "memory usage: 37.7 KB\n"
     ]
    }
   ],
   "source": [
    "df.info()"
   ]
  },
  {
   "cell_type": "code",
   "execution_count": 182,
   "metadata": {},
   "outputs": [],
   "source": [
    "                        # lecture 19    # join"
   ]
  },
  {
   "cell_type": "code",
   "execution_count": 183,
   "metadata": {},
   "outputs": [],
   "source": [
    "import numpy as np"
   ]
  },
  {
   "cell_type": "code",
   "execution_count": 185,
   "metadata": {},
   "outputs": [
    {
     "data": {
      "text/html": [
       "<div>\n",
       "<style scoped>\n",
       "    .dataframe tbody tr th:only-of-type {\n",
       "        vertical-align: middle;\n",
       "    }\n",
       "\n",
       "    .dataframe tbody tr th {\n",
       "        vertical-align: top;\n",
       "    }\n",
       "\n",
       "    .dataframe thead th {\n",
       "        text-align: right;\n",
       "    }\n",
       "</style>\n",
       "<table border=\"1\" class=\"dataframe\">\n",
       "  <thead>\n",
       "    <tr style=\"text-align: right;\">\n",
       "      <th></th>\n",
       "      <th>0</th>\n",
       "      <th>1</th>\n",
       "    </tr>\n",
       "  </thead>\n",
       "  <tbody>\n",
       "    <tr>\n",
       "      <th>0</th>\n",
       "      <td>1</td>\n",
       "      <td>2</td>\n",
       "    </tr>\n",
       "    <tr>\n",
       "      <th>1</th>\n",
       "      <td>3</td>\n",
       "      <td>4</td>\n",
       "    </tr>\n",
       "  </tbody>\n",
       "</table>\n",
       "</div>"
      ],
      "text/plain": [
       "   0  1\n",
       "0  1  2\n",
       "1  3  4"
      ]
     },
     "execution_count": 185,
     "metadata": {},
     "output_type": "execute_result"
    }
   ],
   "source": [
    "df =pd.DataFrame([[1,2],[3,4]])\n",
    "df"
   ]
  },
  {
   "cell_type": "code",
   "execution_count": 186,
   "metadata": {},
   "outputs": [
    {
     "name": "stderr",
     "output_type": "stream",
     "text": [
      "E:\\anaconda\\lib\\site-packages\\ipykernel_launcher.py:1: FutureWarning: Method .as_matrix will be removed in a future version. Use .values instead.\n",
      "  \"\"\"Entry point for launching an IPython kernel.\n"
     ]
    },
    {
     "data": {
      "text/plain": [
       "array([[1, 2],\n",
       "       [3, 4]], dtype=int64)"
      ]
     },
     "execution_count": 186,
     "metadata": {},
     "output_type": "execute_result"
    }
   ],
   "source": [
    "df.as_matrix()    # data frame to matrix con version"
   ]
  },
  {
   "cell_type": "code",
   "execution_count": 187,
   "metadata": {},
   "outputs": [
    {
     "data": {
      "text/plain": [
       "array([[1, 2],\n",
       "       [3, 4]], dtype=int64)"
      ]
     },
     "execution_count": 187,
     "metadata": {},
     "output_type": "execute_result"
    }
   ],
   "source": [
    "df.values"
   ]
  },
  {
   "cell_type": "code",
   "execution_count": 188,
   "metadata": {},
   "outputs": [],
   "source": [
    "                          # section 4 matplot"
   ]
  },
  {
   "cell_type": "code",
   "execution_count": 195,
   "metadata": {},
   "outputs": [
    {
     "data": {
      "image/png": "[encoded data removed]",
      "text/plain": [
       "<Figure size 432x288 with 1 Axes>"
      ]
     },
     "metadata": {
      "needs_background": "light"
     },
     "output_type": "display_data"
    }
   ],
   "source": [
    "import matplotlib.pyplot as plt\n",
    "x = np.linspace(0,10,10)\n",
    "y = np.sin(x)\n",
    "plt.plot(x,y,marker='v')\n",
    "plt.grid()\n",
    "plt.xlabel('<------x---->')\n",
    "plt.ylabel('<------y---->')\n",
    "plt.title('my cool chart')\n",
    "plt.show()"
   ]
  },
  {
   "cell_type": "code",
   "execution_count": 196,
   "metadata": {},
   "outputs": [],
   "source": [
    "x = np.linspace(0,10,100)\n",
    "y = np.sin(x)"
   ]
  },
  {
   "cell_type": "code",
   "execution_count": 200,
   "metadata": {},
   "outputs": [
    {
     "data": {
      "text/plain": [
       "[<matplotlib.lines.Line2D at 0x2057e2805c0>]"
      ]
     },
     "execution_count": 200,
     "metadata": {},
     "output_type": "execute_result"
    },
    {
     "data": {
      "image/png": "[encoded data removed]",
      "text/plain": [
       "<Figure size 432x288 with 1 Axes>"
      ]
     },
     "metadata": {
      "needs_background": "light"
     },
     "output_type": "display_data"
    }
   ],
   "source": [
    "plt.plot(x,y)\n",
    "#plt.show()"
   ]
  },
  {
   "cell_type": "code",
   "execution_count": 201,
   "metadata": {},
   "outputs": [
    {
     "name": "stderr",
     "output_type": "stream",
     "text": [
      "E:\\anaconda\\lib\\site-packages\\ipykernel_launcher.py:1: FutureWarning: Method .as_matrix will be removed in a future version. Use .values instead.\n",
      "  \"\"\"Entry point for launching an IPython kernel.\n"
     ]
    }
   ],
   "source": [
    "A = pd.read_csv('Boston_house.csv').as_matrix()"
   ]
  },
  {
   "cell_type": "code",
   "execution_count": 202,
   "metadata": {},
   "outputs": [
    {
     "name": "stdout",
     "output_type": "stream",
     "text": [
      "[[6.6500e-03 1.8000e+01 7.1000e+01 ... 9.3730e+02 3.3550e+00 4.5200e+01]\n",
      " [2.6650e-02 1.3000e+01 7.5000e+01 ... 6.3730e+02 3.6550e+00 4.5200e+01]\n",
      " [3.6650e-02 1.4000e+01 7.0000e+01 ... 9.2730e+02 3.5550e+00 4.3200e+01]\n",
      " ...\n",
      " [6.6500e-03 1.8000e+01 7.1000e+01 ... 9.3730e+02 3.3550e+00 4.5200e+01]\n",
      " [2.6650e-02 1.3000e+01 7.5000e+01 ... 6.3730e+02 3.6550e+00 4.5200e+01]\n",
      " [6.3665e-02 1.6000e+01 7.6000e+01 ... 9.2730e+02 3.5550e+00 4.3200e+01]]\n"
     ]
    }
   ],
   "source": [
    "print(A)"
   ]
  },
  {
   "cell_type": "code",
   "execution_count": 203,
   "metadata": {},
   "outputs": [],
   "source": [
    "X = A[:,0]\n",
    "Y = A[:,1]"
   ]
  },
  {
   "cell_type": "code",
   "execution_count": 204,
   "metadata": {},
   "outputs": [
    {
     "data": {
      "image/png": "[encoded data removed]",
      "text/plain": [
       "<Figure size 432x288 with 1 Axes>"
      ]
     },
     "metadata": {
      "needs_background": "light"
     },
     "output_type": "display_data"
    }
   ],
   "source": [
    "plt.scatter(X,Y)\n",
    "plt.show()"
   ]
  },
  {
   "cell_type": "code",
   "execution_count": 206,
   "metadata": {},
   "outputs": [],
   "source": [
    "X_line = np.linspace(0,100,100)\n",
    "Y_line = 2*X_line + 1"
   ]
  },
  {
   "cell_type": "code",
   "execution_count": 208,
   "metadata": {},
   "outputs": [
    {
     "data": {
      "image/png": "[encoded data removed]",
      "text/plain": [
       "<Figure size 432x288 with 1 Axes>"
      ]
     },
     "metadata": {
      "needs_background": "light"
     },
     "output_type": "display_data"
    }
   ],
   "source": [
    "\n",
    "plt.plot(X_line,Y_line)\n",
    "plt.scatter(X,Y)\n",
    "plt.show()"
   ]
  },
  {
   "cell_type": "code",
   "execution_count": 209,
   "metadata": {},
   "outputs": [
    {
     "data": {
      "image/png": "[encoded data removed]",
      "text/plain": [
       "<Figure size 432x288 with 1 Axes>"
      ]
     },
     "metadata": {
      "needs_background": "light"
     },
     "output_type": "display_data"
    }
   ],
   "source": [
    "plt.hist(X)\n",
    "plt.show()"
   ]
  },
  {
   "cell_type": "code",
   "execution_count": 210,
   "metadata": {},
   "outputs": [
    {
     "data": {
      "image/png": "[encoded data removed]",
      "text/plain": [
       "<Figure size 432x288 with 1 Axes>"
      ]
     },
     "metadata": {
      "needs_background": "light"
     },
     "output_type": "display_data"
    }
   ],
   "source": [
    "plt.hist(Y)\n",
    "plt.show()"
   ]
  },
  {
   "cell_type": "code",
   "execution_count": 215,
   "metadata": {},
   "outputs": [
    {
     "data": {
      "image/png": "[encoded data removed]",
      "text/plain": [
       "<Figure size 432x288 with 1 Axes>"
      ]
     },
     "metadata": {
      "needs_background": "light"
     },
     "output_type": "display_data"
    }
   ],
   "source": [
    "R = np.random.random(10000)\n",
    "plt.hist(R)\n",
    "plt.grid(True,color='black')\n",
    "plt.show()"
   ]
  },
  {
   "cell_type": "code",
   "execution_count": 216,
   "metadata": {},
   "outputs": [
    {
     "data": {
      "text/plain": [
       "(array([524., 538., 503., 474., 479., 553., 458., 515., 517., 454., 465.,\n",
       "        460., 536., 499., 491., 515., 524., 462., 504., 529.]),\n",
       " array([1.39978956e-04, 5.01322698e-02, 1.00124561e-01, 1.50116851e-01,\n",
       "        2.00109142e-01, 2.50101433e-01, 3.00093724e-01, 3.50086015e-01,\n",
       "        4.00078306e-01, 4.50070597e-01, 5.00062887e-01, 5.50055178e-01,\n",
       "        6.00047469e-01, 6.50039760e-01, 7.00032051e-01, 7.50024342e-01,\n",
       "        8.00016632e-01, 8.50008923e-01, 9.00001214e-01, 9.49993505e-01,\n",
       "        9.99985796e-01]),\n",
       " <a list of 20 Patch objects>)"
      ]
     },
     "execution_count": 216,
     "metadata": {},
     "output_type": "execute_result"
    },
    {
     "data": {
      "image/png": "[encoded data removed]",
      "text/plain": [
       "<Figure size 432x288 with 1 Axes>"
      ]
     },
     "metadata": {
      "needs_background": "light"
     },
     "output_type": "display_data"
    }
   ],
   "source": [
    "plt.hist(R,bins=20)\n"
   ]
  },
  {
   "cell_type": "code",
   "execution_count": 218,
   "metadata": {},
   "outputs": [
    {
     "data": {
      "image/png": "[encoded data removed]",
      "text/plain": [
       "<Figure size 432x288 with 1 Axes>"
      ]
     },
     "metadata": {
      "needs_background": "light"
     },
     "output_type": "display_data"
    }
   ],
   "source": [
    "plt.hist(R,bins=20)\n",
    "plt.grid(True,color=\"black\")\n",
    "plt.show()"
   ]
  },
  {
   "cell_type": "code",
   "execution_count": 221,
   "metadata": {},
   "outputs": [],
   "source": [
    "Y_actuals = 2*X + 1\n",
    "residuals = Y - Y_actuals\n"
   ]
  },
  {
   "cell_type": "code",
   "execution_count": 222,
   "metadata": {},
   "outputs": [
    {
     "data": {
      "text/plain": [
       "(array([72., 36., 36.,  0.,  0., 72.,  0., 36.,  0., 72.]),\n",
       " array([11.9467, 12.4507, 12.9547, 13.4587, 13.9627, 14.4667, 14.9707,\n",
       "        15.4747, 15.9787, 16.4827, 16.9867]),\n",
       " <a list of 10 Patch objects>)"
      ]
     },
     "execution_count": 222,
     "metadata": {},
     "output_type": "execute_result"
    },
    {
     "data": {
      "image/png": "[encoded data removed]",
      "text/plain": [
       "<Figure size 432x288 with 1 Axes>"
      ]
     },
     "metadata": {
      "needs_background": "light"
     },
     "output_type": "display_data"
    }
   ],
   "source": [
    "plt.hist(residuals)"
   ]
  },
  {
   "cell_type": "code",
   "execution_count": 223,
   "metadata": {},
   "outputs": [
    {
     "data": {
      "image/png": "[encoded data removed]",
      "text/plain": [
       "<Figure size 432x288 with 1 Axes>"
      ]
     },
     "metadata": {
      "needs_background": "light"
     },
     "output_type": "display_data"
    }
   ],
   "source": [
    "plt.hist(residuals)\n",
    "plt.show()"
   ]
  },
  {
   "cell_type": "code",
   "execution_count": 224,
   "metadata": {},
   "outputs": [],
   "source": [
    "  # session 5     Gaussian PDF and CDF"
   ]
  },
  {
   "cell_type": "code",
   "execution_count": 225,
   "metadata": {},
   "outputs": [],
   "source": [
    "from scipy.stats import norm"
   ]
  },
  {
   "cell_type": "code",
   "execution_count": 226,
   "metadata": {},
   "outputs": [
    {
     "data": {
      "text/plain": [
       "0.3989422804014327"
      ]
     },
     "execution_count": 226,
     "metadata": {},
     "output_type": "execute_result"
    }
   ],
   "source": [
    "norm.pdf(0)"
   ]
  },
  {
   "cell_type": "code",
   "execution_count": 227,
   "metadata": {},
   "outputs": [
    {
     "data": {
      "text/plain": [
       "0.03520653267642995"
      ]
     },
     "execution_count": 227,
     "metadata": {},
     "output_type": "execute_result"
    }
   ],
   "source": [
    "norm.pdf(0,loc=5,scale=10)   # mean = loc = 5 , std = scale = 10"
   ]
  },
  {
   "cell_type": "code",
   "execution_count": 233,
   "metadata": {},
   "outputs": [
    {
     "data": {
      "text/plain": [
       "array([-1.41122872,  1.43683448,  0.03687856,  0.34585395,  1.08726678,\n",
       "       -1.09618473,  1.48927339,  0.95586267,  1.32285637, -0.90856607])"
      ]
     },
     "execution_count": 233,
     "metadata": {},
     "output_type": "execute_result"
    }
   ],
   "source": [
    "r = np.random.randn(10)\n",
    "r"
   ]
  },
  {
   "cell_type": "code",
   "execution_count": 234,
   "metadata": {},
   "outputs": [
    {
     "data": {
      "text/plain": [
       "array([0.14738283, 0.14210555, 0.39867109, 0.37578203, 0.22090709,\n",
       "       0.21876679, 0.13161081, 0.25264366, 0.16630813, 0.26403208])"
      ]
     },
     "execution_count": 234,
     "metadata": {},
     "output_type": "execute_result"
    }
   ],
   "source": [
    "norm.pdf(r)"
   ]
  },
  {
   "cell_type": "code",
   "execution_count": 235,
   "metadata": {},
   "outputs": [
    {
     "data": {
      "text/plain": [
       "array([-1.91472178, -1.95118519, -0.91961855, -0.97874601, -1.51001306,\n",
       "       -1.51974902, -2.02790615, -1.37577526, -1.79391302, -1.33168468])"
      ]
     },
     "execution_count": 235,
     "metadata": {},
     "output_type": "execute_result"
    }
   ],
   "source": [
    "norm.logpdf(r)"
   ]
  },
  {
   "cell_type": "code",
   "execution_count": 236,
   "metadata": {},
   "outputs": [
    {
     "data": {
      "text/plain": [
       "array([0.07908859, 0.92461748, 0.51470908, 0.63527376, 0.86154054,\n",
       "       0.13649897, 0.9317923 , 0.83042919, 0.90705843, 0.18178961])"
      ]
     },
     "execution_count": 236,
     "metadata": {},
     "output_type": "execute_result"
    }
   ],
   "source": [
    "norm.cdf(r)"
   ]
  },
  {
   "cell_type": "code",
   "execution_count": 237,
   "metadata": {},
   "outputs": [
    {
     "data": {
      "text/plain": [
       "array([-2.53718663, -0.07837516, -0.66415343, -0.45369926, -0.14903317,\n",
       "       -1.99143821, -0.07064534, -0.18581261, -0.09754841, -1.70490524])"
      ]
     },
     "execution_count": 237,
     "metadata": {},
     "output_type": "execute_result"
    }
   ],
   "source": [
    "norm.logcdf(r)"
   ]
  },
  {
   "cell_type": "code",
   "execution_count": 239,
   "metadata": {},
   "outputs": [],
   "source": [
    "r  = np.random.randn(10000)"
   ]
  },
  {
   "cell_type": "code",
   "execution_count": 243,
   "metadata": {},
   "outputs": [
    {
     "data": {
      "text/plain": [
       "array([-0.58616494, -1.39921753,  0.60380182, ...,  0.51532579,\n",
       "       -0.74123083,  1.43527428])"
      ]
     },
     "execution_count": 243,
     "metadata": {},
     "output_type": "execute_result"
    }
   ],
   "source": [
    "r"
   ]
  },
  {
   "cell_type": "code",
   "execution_count": 244,
   "metadata": {},
   "outputs": [
    {
     "data": {
      "image/png": "[encoded data removed]",
      "text/plain": [
       "<Figure size 432x288 with 1 Axes>"
      ]
     },
     "metadata": {
      "needs_background": "light"
     },
     "output_type": "display_data"
    }
   ],
   "source": [
    "plt.hist(r,bins=10000)\n",
    "plt.show()"
   ]
  },
  {
   "cell_type": "code",
   "execution_count": 245,
   "metadata": {},
   "outputs": [],
   "source": [
    "   r = 10*np.random.randn(10000) + 5 # mean = 5  std = 10"
   ]
  },
  {
   "cell_type": "code",
   "execution_count": 246,
   "metadata": {},
   "outputs": [
    {
     "data": {
      "text/plain": [
       "(array([   5.,   58.,  311., 1172., 2476., 2971., 2038.,  761.,  180.,\n",
       "          28.]), array([-35.77292954, -28.07443845, -20.37594736, -12.67745626,\n",
       "         -4.97896517,   2.71952592,  10.41801701,  18.1165081 ,\n",
       "         25.81499919,  33.51349028,  41.21198137]), <a list of 10 Patch objects>)"
      ]
     },
     "execution_count": 246,
     "metadata": {},
     "output_type": "execute_result"
    },
    {
     "data": {
      "image/png": "[encoded data removed]",
      "text/plain": [
       "<Figure size 432x288 with 1 Axes>"
      ]
     },
     "metadata": {
      "needs_background": "light"
     },
     "output_type": "display_data"
    }
   ],
   "source": [
    "plt.hist(r)"
   ]
  },
  {
   "cell_type": "code",
   "execution_count": 247,
   "metadata": {
    "scrolled": true
   },
   "outputs": [
    {
     "data": {
      "image/png": "[encoded data removed]",
      "text/plain": [
       "<Figure size 432x288 with 1 Axes>"
      ]
     },
     "metadata": {
      "needs_background": "light"
     },
     "output_type": "display_data"
    }
   ],
   "source": [
    "plt.hist(r,bins=500)\n",
    "plt.show()"
   ]
  },
  {
   "cell_type": "code",
   "execution_count": 248,
   "metadata": {},
   "outputs": [],
   "source": [
    "   # sampeling from gaussian distribustion"
   ]
  },
  {
   "cell_type": "code",
   "execution_count": 249,
   "metadata": {},
   "outputs": [],
   "source": [
    "r = np.random.randn(10000,2)"
   ]
  },
  {
   "cell_type": "code",
   "execution_count": 255,
   "metadata": {},
   "outputs": [
    {
     "name": "stdout",
     "output_type": "stream",
     "text": [
      "[[ 6.49681842e-01  8.01727479e+02]\n",
      " [-1.62023403e+00  6.86176079e+02]\n",
      " [-1.40230402e+00 -5.90318098e+01]\n",
      " ...\n",
      " [-7.85890621e-01  8.93175326e+01]\n",
      " [-7.96567420e-01 -6.75353145e+02]\n",
      " [ 6.56732674e-02 -5.95781421e+02]]\n"
     ]
    }
   ],
   "source": [
    "print(r)"
   ]
  },
  {
   "cell_type": "code",
   "execution_count": 263,
   "metadata": {},
   "outputs": [
    {
     "data": {
      "image/png": "[encoded data removed]",
      "text/plain": [
       "<Figure size 432x288 with 1 Axes>"
      ]
     },
     "metadata": {
      "needs_background": "light"
     },
     "output_type": "display_data"
    }
   ],
   "source": [
    "plt.scatter(r[:,0],r[:,1],marker='v')\n",
    "plt.grid()\n",
    "\n",
    "plt.show()"
   ]
  },
  {
   "cell_type": "code",
   "execution_count": 254,
   "metadata": {},
   "outputs": [
    {
     "data": {
      "image/png": "[encoded data removed]",
      "text/plain": [
       "<Figure size 432x288 with 1 Axes>"
      ]
     },
     "metadata": {
      "needs_background": "light"
     },
     "output_type": "display_data"
    }
   ],
   "source": [
    "r[:,1] = 5*r[:,1] + 2   # std = 5 mean = 2\n",
    "plt.scatter(r[:,0],r[:,1])\n",
    "plt.grid(True,color='red')\n",
    "plt.show()"
   ]
  },
  {
   "cell_type": "code",
   "execution_count": 265,
   "metadata": {},
   "outputs": [
    {
     "data": {
      "image/png": "[encoded data removed]",
      "text/plain": [
       "<Figure size 432x288 with 1 Axes>"
      ]
     },
     "metadata": {
      "needs_background": "light"
     },
     "output_type": "display_data"
    }
   ],
   "source": [
    "plt.scatter(r[:,0],r[:,1])\n",
    "plt.axis('equal')\n",
    "plt.grid()\n",
    "plt.show()"
   ]
  },
  {
   "cell_type": "code",
   "execution_count": 266,
   "metadata": {},
   "outputs": [],
   "source": [
    " # samplening from a general multivariate normal distribustion"
   ]
  },
  {
   "cell_type": "code",
   "execution_count": 267,
   "metadata": {},
   "outputs": [],
   "source": [
    "cov = np.array([[1,0.8],[0.8,3]])"
   ]
  },
  {
   "cell_type": "code",
   "execution_count": 268,
   "metadata": {},
   "outputs": [
    {
     "data": {
      "text/plain": [
       "array([[1. , 0.8],\n",
       "       [0.8, 3. ]])"
      ]
     },
     "execution_count": 268,
     "metadata": {},
     "output_type": "execute_result"
    }
   ],
   "source": [
    "cov"
   ]
  },
  {
   "cell_type": "code",
   "execution_count": 270,
   "metadata": {},
   "outputs": [],
   "source": [
    "from scipy.stats import multivariate_normal as mvn"
   ]
  },
  {
   "cell_type": "code",
   "execution_count": 271,
   "metadata": {},
   "outputs": [],
   "source": [
    "mu = np.array([0,2])"
   ]
  },
  {
   "cell_type": "code",
   "execution_count": 272,
   "metadata": {},
   "outputs": [],
   "source": [
    "r = mvn.rvs(mean=mu,cov=cov,size=1000)"
   ]
  },
  {
   "cell_type": "code",
   "execution_count": 274,
   "metadata": {},
   "outputs": [
    {
     "data": {
      "image/png": "[encoded data removed]",
      "text/plain": [
       "<Figure size 432x288 with 1 Axes>"
      ]
     },
     "metadata": {
      "needs_background": "light"
     },
     "output_type": "display_data"
    }
   ],
   "source": [
    "plt.scatter(r[:,0],r[:,1])\n",
    "plt.axis('equal')\n",
    "plt.show()"
   ]
  },
  {
   "cell_type": "code",
   "execution_count": 275,
   "metadata": {},
   "outputs": [
    {
     "data": {
      "image/png": "[encoded data removed]",
      "text/plain": [
       "<Figure size 432x288 with 1 Axes>"
      ]
     },
     "metadata": {
      "needs_background": "light"
     },
     "output_type": "display_data"
    }
   ],
   "source": [
    "r = np.random.multivariate_normal(mean=mu,cov=cov,size=1000)\n",
    "plt.scatter(r[:,0],r[:,1])\n",
    "plt.axis('equal')\n",
    "plt.show()"
   ]
  },
  {
   "cell_type": "code",
   "execution_count": 276,
   "metadata": {},
   "outputs": [],
   "source": [
    "  # other interisting scipy function"
   ]
  },
  {
   "cell_type": "code",
   "execution_count": 277,
   "metadata": {},
   "outputs": [],
   "source": [
    "x = np.linspace(0,100,1000)\n",
    "y = np.sin(x) + np.sin(3*x) + np.sin(5*x) "
   ]
  },
  {
   "cell_type": "code",
   "execution_count": 278,
   "metadata": {},
   "outputs": [
    {
     "data": {
      "text/plain": [
       "[<matplotlib.lines.Line2D at 0x20508977f60>]"
      ]
     },
     "execution_count": 278,
     "metadata": {},
     "output_type": "execute_result"
    },
    {
     "data": {
      "image/png": "[encoded data removed]",
      "text/plain": [
       "<Figure size 432x288 with 1 Axes>"
      ]
     },
     "metadata": {
      "needs_background": "light"
     },
     "output_type": "display_data"
    }
   ],
   "source": [
    "plt.plot(y)"
   ]
  },
  {
   "cell_type": "code",
   "execution_count": 288,
   "metadata": {},
   "outputs": [
    {
     "data": {
      "image/png": "[encoded data removed]",
      "text/plain": [
       "<Figure size 432x288 with 1 Axes>"
      ]
     },
     "metadata": {
      "needs_background": "light"
     },
     "output_type": "display_data"
    }
   ],
   "source": [
    "Y = np.fft.fft(y)  # fourier transformation\n",
    "plt.plot(abs(Y))\n",
    "plt.show()"
   ]
  },
  {
   "cell_type": "code",
   "execution_count": 280,
   "metadata": {},
   "outputs": [
    {
     "data": {
      "text/plain": [
       "1.0053096491487339"
      ]
     },
     "execution_count": 280,
     "metadata": {},
     "output_type": "execute_result"
    }
   ],
   "source": [
    "2*np.pi*16/100"
   ]
  },
  {
   "cell_type": "code",
   "execution_count": 281,
   "metadata": {},
   "outputs": [
    {
     "data": {
      "text/plain": [
       "3.015928947446201"
      ]
     },
     "execution_count": 281,
     "metadata": {},
     "output_type": "execute_result"
    }
   ],
   "source": [
    "2*np.pi*48/100"
   ]
  },
  {
   "cell_type": "code",
   "execution_count": 282,
   "metadata": {},
   "outputs": [
    {
     "data": {
      "text/plain": [
       "5.026548245743669"
      ]
     },
     "execution_count": 282,
     "metadata": {},
     "output_type": "execute_result"
    }
   ],
   "source": [
    "2*np.pi*80/100"
   ]
  },
  {
   "cell_type": "code",
   "execution_count": 283,
   "metadata": {},
   "outputs": [],
   "source": [
    "     # session 6    Exercies"
   ]
  },
  {
   "cell_type": "code",
   "execution_count": 287,
   "metadata": {},
   "outputs": [
    {
     "ename": "ModuleNotFoundError",
     "evalue": "No module named 'tensorflow'",
     "output_type": "error",
     "traceback": [
      "\u001b[1;31m---------------------------------------------------------------------------\u001b[0m",
      "\u001b[1;31mModuleNotFoundError\u001b[0m                       Traceback (most recent call last)",
      "\u001b[1;32m<ipython-input-287-0f0b68371c12>\u001b[0m in \u001b[0;36m<module>\u001b[1;34m\u001b[0m\n\u001b[1;32m----> 1\u001b[1;33m \u001b[1;32mimport\u001b[0m \u001b[0mtensorflow\u001b[0m \u001b[1;32mas\u001b[0m \u001b[0mpf\u001b[0m\u001b[1;33m\u001b[0m\u001b[1;33m\u001b[0m\u001b[0m\n\u001b[0m",
      "\u001b[1;31mModuleNotFoundError\u001b[0m: No module named 'tensorflow'"
     ]
    }
   ],
   "source": [
    " import tensorflow as pf"
   ]
  },
  {
   "cell_type": "code",
   "execution_count": null,
   "metadata": {},
   "outputs": [],
   "source": []
  },
  {
   "cell_type": "code",
   "execution_count": null,
   "metadata": {},
   "outputs": [],
   "source": []
  },
  {
   "cell_type": "code",
   "execution_count": null,
   "metadata": {},
   "outputs": [],
   "source": []
  },
  {
   "cell_type": "code",
   "execution_count": null,
   "metadata": {},
   "outputs": [],
   "source": []
  },
  {
   "cell_type": "code",
   "execution_count": null,
   "metadata": {},
   "outputs": [],
   "source": []
  },
  {
   "cell_type": "code",
   "execution_count": null,
   "metadata": {},
   "outputs": [],
   "source": []
  },
  {
   "cell_type": "code",
   "execution_count": null,
   "metadata": {},
   "outputs": [],
   "source": []
  },
  {
   "cell_type": "code",
   "execution_count": null,
   "metadata": {},
   "outputs": [],
   "source": []
  },
  {
   "cell_type": "code",
   "execution_count": null,
   "metadata": {},
   "outputs": [],
   "source": []
  },
  {
   "cell_type": "code",
   "execution_count": null,
   "metadata": {},
   "outputs": [],
   "source": []
  }
 ],
 "metadata": {
  "kernelspec": {
   "display_name": "Python 3 (ipykernel)",
   "language": "python",
   "name": "python3"
  },
  "language_info": {
   "codemirror_mode": {
    "name": "ipython",
    "version": 3
   },
   "file_extension": ".py",
   "mimetype": "text/x-python",
   "name": "python",
   "nbconvert_exporter": "python",
   "pygments_lexer": "ipython3",
   "version": "3.9.7"
  }
 },
 "nbformat": 4,
 "nbformat_minor": 2
}
